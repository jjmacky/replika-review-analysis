{
 "cells": [
  {
   "cell_type": "code",
   "execution_count": 23,
   "metadata": {},
   "outputs": [
    {
     "name": "stdout",
     "output_type": "stream",
     "text": [
      "Number of Android reviews: (9214, 41)\n",
      "Number of iOS reviews: (8528, 41)\n",
      "Number of total reviews: (17742, 41)\n"
     ]
    }
   ],
   "source": [
    "import pandas as pd\n",
    "\n",
    "android_reviews = pd.read_csv('../Android/combined_reviews_final.csv', keep_default_na=False)\n",
    "iOS_reviews = pd.read_csv('../iOS/combined_reviews_final.csv', keep_default_na=False)\n",
    "\n",
    "columns_to_keep = ['User Name', 'Review Date', 'Star Rating', 'Review Text',\n",
    "       'coherence_and_clarity_of_review', 'gender_of_user',\n",
    "       'gender_of_ai', 'name_user_gave_ai', 'age_of_user', 'duration_of_app_usage',\n",
    "       'frequency_of_app_usage', 'relationship_status_of_user',\n",
    "       'empathy_of_ai', 'behavior_of_ai', 'inappropriate_frequency',\n",
    "       'inappropriate_nature', 'ai_support_level',\n",
    "       'user_mental_state_before_ai', 'effect_of_ai_on_user_mental_state',\n",
    "       'stress_before_ai', 'effect_of_ai_on_stress', 'loneliness_before_ai',\n",
    "       'effect_of_ai_on_loneliness', 'depression_or_anxiety_before_ai',\n",
    "       'effect_of_ai_on_depression_or_anxiety', 'suicidal_thoughts_presence',\n",
    "       'effect_of_ai_on_suicidal_thoughts', 'effect_of_ai_on_other_despair',\n",
    "       'user_dependence', 'real_life_relationship_impact', 'technical_issues',\n",
    "       'privacy_concerns', 'feature_restriction_impact',\n",
    "       'cost_impact_on_accessibility', 'impact_of_ai_updates',\n",
    "       'user_satisfaction_with_policy_decisions',\n",
    "       'overall_mental_health_impact_of_company_decisions', 'support_types',\n",
    "       'other_despair_types', 'limitations_of_ai']\n",
    "\n",
    "# The two sources of reviews are in slightly different formats and have some unique artificats that need to be updated\n",
    "android_reviews = android_reviews[columns_to_keep]\n",
    "android_reviews.rename(columns = {'User Name':'user_name', 'Review Date': 'review_date', 'Star Rating': 'star_rating', 'Review Text': 'review_text'}, inplace=True)\n",
    "android_reviews['word_count'] = android_reviews['review_text'].apply(lambda text: len(text.split()))\n",
    "android_reviews = android_reviews.astype({'star_rating': 'int64'})\n",
    "android_reviews['review_date'] = pd.to_datetime(android_reviews['review_date']).dt.normalize()\n",
    "\n",
    "iOS_reviews.rename(columns = {'user':'user_name', 'date': 'review_date', 'stars': 'star_rating', 'text': 'review_text'}, inplace=True)\n",
    "iOS_reviews['review_date'] = pd.to_datetime(iOS_reviews['review_date']).dt.normalize()\n",
    "\n",
    "combined_reviews = pd.concat([iOS_reviews, android_reviews], ignore_index=True)\n",
    "\n",
    "combined_reviews.to_csv('combined_reviews.csv', index=False)\n",
    "\n",
    "print(f'Number of Android reviews: {android_reviews.shape}')\n",
    "print(f'Number of iOS reviews: {iOS_reviews.shape}')\n",
    "print(f'Number of total reviews: {combined_reviews.shape}')"
   ]
  }
 ],
 "metadata": {
  "kernelspec": {
   "display_name": "Python 3",
   "language": "python",
   "name": "python3"
  },
  "language_info": {
   "codemirror_mode": {
    "name": "ipython",
    "version": 3
   },
   "file_extension": ".py",
   "mimetype": "text/x-python",
   "name": "python",
   "nbconvert_exporter": "python",
   "pygments_lexer": "ipython3",
   "version": "3.11.4"
  }
 },
 "nbformat": 4,
 "nbformat_minor": 2
}
