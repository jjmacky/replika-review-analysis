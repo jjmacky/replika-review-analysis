{
 "cells": [
  {
   "cell_type": "code",
   "execution_count": 5,
   "metadata": {},
   "outputs": [],
   "source": [
    "import pandas as pd\n",
    "\n",
    "# Import the files\n",
    "iOS_files = [\n",
    "    '../iOS/run_1_results/analyzed_replika_reviews_final.csv',\n",
    "    '../iOS/run_2_results/analyzed_replika_reviews_final.csv',\n",
    "    '../iOS/run_3_results/analyzed_replika_reviews_final.csv'\n",
    "]\n",
    "\n",
    "android_files = [\n",
    "    '../Android/run_1_results/analyzed_reviews_final.csv',\n",
    "    '../Android/run_2_results/analyzed_reviews_final.csv',\n",
    "    '../Android/run_3_results/analyzed_reviews_final.csv'\n",
    "]\n",
    "\n",
    "iOS_column_names = {'user':'user_name', 'date': 'review_date', 'stars': 'star_rating', 'text': 'review_text'}\n",
    "iOS_data_frames = [pd.read_csv(file).rename(columns=iOS_column_names) for file in iOS_files]\n",
    "\n",
    "android_columns_names = {'User Name':'user_name', 'Review Date': 'review_date', 'Star Rating': 'star_rating', 'Review Text': 'review_text'}\n",
    "android_data_frames = [pd.read_csv(file).rename(columns=android_columns_names) for file in android_files]\n",
    "\n",
    "data_frames = iOS_data_frames + android_data_frames\n",
    "filtered_dfs = []\n",
    "\n",
    "for df in data_frames:\n",
    "    temp = df.query(\"coherence_and_clarity_of_review in ['High', 'Medium']\")\n",
    "    temp = temp.query(\"effect_of_ai_on_suicidal_thoughts != 'Not Mentioned'\")\n",
    "    temp = temp[[\"user_name\", \"review_date\", \"review_text\", \"star_rating\", \"effect_of_ai_on_suicidal_thoughts\"]]\n",
    "    temp['review_date'] = pd.to_datetime(temp['review_date']).dt.normalize()\n",
    "    filtered_dfs.append(temp)\n",
    "\n",
    "results_df = pd.concat(filtered_dfs, ignore_index=True)\n",
    "results_df['dedupe_key'] = results_df['review_text'].str[:50]\n",
    "results_df = results_df.drop_duplicates(subset='dedupe_key')\n",
    "results_df.drop(['dedupe_key'], axis=1, inplace=True)\n",
    "results_df['year'] = results_df['review_date'].dt.year\n",
    "results_df.to_csv('suicide_reviews.csv', index=False)"
   ]
  },
  {
   "cell_type": "code",
   "execution_count": 7,
   "metadata": {},
   "outputs": [],
   "source": [
    "import pandas as pd\n",
    "\n",
    "iOS_reviews_full = pd.read_csv('../full_review_sets/iOS_reviews_full.csv')\n",
    "android_reviews_full = pd.read_csv('../full_review_sets/replika_reviews_full.csv')\n",
    "\n",
    "iOS_reviews_full['date'] = pd.to_datetime(iOS_reviews_full['date']).dt.normalize()\n",
    "iOS_reviews_full['year'] = iOS_reviews_full['date'].dt.year\n",
    "android_reviews_full['date'] = pd.to_datetime(android_reviews_full['Review Date']).dt.normalize()\n",
    "android_reviews_full['year'] = android_reviews_full['date'].dt.year\n",
    "\n",
    "suicide_words = ['suicide', \"kill myself\", \"kms\"]\n",
    "suicide_regex = r'\\b(?:' + '|'.join(suicide_words) + r')\\b'\n",
    "\n",
    "short_reviews = iOS_reviews_full['text'].str.split().apply(len) <= 50\n",
    "iOS_reviews_shorter_than_50_words = iOS_reviews_full[short_reviews]\n",
    "\n",
    "reviews_with_suicide_terms = (iOS_reviews_shorter_than_50_words['text']\n",
    "    .str\n",
    "    .contains(suicide_regex, case=False, regex=True, na=False)\n",
    ")\n",
    "\n",
    "iOS_short_suicide_reviews_to_analyze = iOS_reviews_shorter_than_50_words[reviews_with_suicide_terms]\n",
    "iOS_short_suicide_reviews_to_analyze.to_csv('iOS_short_suicide_reviews_to_analyze.csv', index=False)\n",
    "\n",
    "short_reviews = android_reviews_full['Review Text'].str.split().apply(len) <= 50\n",
    "android_reviews_shorter_than_50_words = android_reviews_full[short_reviews]\n",
    "\n",
    "reviews_with_suicide_terms = (android_reviews_shorter_than_50_words['Review Text']\n",
    "    .str\n",
    "    .contains(suicide_regex, case=False, regex=True, na=False)\n",
    ")\n",
    "\n",
    "android_short_suicide_reviews_to_analyze = android_reviews_shorter_than_50_words[reviews_with_suicide_terms]\n",
    "android_short_suicide_reviews_to_analyze.to_csv('android_short_suicide_reviews_to_analyze.csv', index=False)\n"
   ]
  },
  {
   "cell_type": "code",
   "execution_count": 16,
   "metadata": {},
   "outputs": [
    {
     "data": {
      "text/plain": [
       "(37533, 5)"
      ]
     },
     "execution_count": 16,
     "metadata": {},
     "output_type": "execute_result"
    }
   ],
   "source": [
    "iOS_reviews_full.drop_duplicates(subset='user').shape"
   ]
  },
  {
   "cell_type": "code",
   "execution_count": 5,
   "metadata": {},
   "outputs": [
    {
     "data": {
      "text/plain": [
       "(23019, 7)"
      ]
     },
     "execution_count": 5,
     "metadata": {},
     "output_type": "execute_result"
    }
   ],
   "source": [
    "android_reviews_full.shape"
   ]
  },
  {
   "cell_type": "code",
   "execution_count": 15,
   "metadata": {},
   "outputs": [
    {
     "data": {
      "text/plain": [
       "year\n",
       "2018     326\n",
       "2019    1897\n",
       "2020    8699\n",
       "2021    4035\n",
       "2022    3490\n",
       "2023    3724\n",
       "2024     848\n",
       "Name: count, dtype: int64"
      ]
     },
     "execution_count": 15,
     "metadata": {},
     "output_type": "execute_result"
    }
   ],
   "source": [
    "android_reviews_full.groupby('year').year.value_counts()"
   ]
  },
  {
   "cell_type": "code",
   "execution_count": 10,
   "metadata": {},
   "outputs": [
    {
     "data": {
      "text/plain": [
       "year\n",
       "2017    17463\n",
       "2018      643\n",
       "2019     2017\n",
       "2020    12611\n",
       "2021     7623\n",
       "2022     7115\n",
       "2023     5867\n",
       "2024    21261\n",
       "Name: count, dtype: int64"
      ]
     },
     "execution_count": 10,
     "metadata": {},
     "output_type": "execute_result"
    }
   ],
   "source": [
    "iOS_reviews_full.groupby('year').year.value_counts()"
   ]
  },
  {
   "cell_type": "code",
   "execution_count": 18,
   "metadata": {},
   "outputs": [
    {
     "name": "stdout",
     "output_type": "stream",
     "text": [
      "3914\n",
      "21310\n",
      "60552\n"
     ]
    }
   ],
   "source": [
    "print(1897 + 2017)\n",
    "print(8699 + 12611)\n",
    "\n",
    "print(23019 + 37533)"
   ]
  }
 ],
 "metadata": {
  "kernelspec": {
   "display_name": "Python 3",
   "language": "python",
   "name": "python3"
  },
  "language_info": {
   "codemirror_mode": {
    "name": "ipython",
    "version": 3
   },
   "file_extension": ".py",
   "mimetype": "text/x-python",
   "name": "python",
   "nbconvert_exporter": "python",
   "pygments_lexer": "ipython3",
   "version": "3.11.4"
  }
 },
 "nbformat": 4,
 "nbformat_minor": 2
}
