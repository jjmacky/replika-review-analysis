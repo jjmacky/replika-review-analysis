{
 "cells": [
  {
   "cell_type": "markdown",
   "metadata": {},
   "source": [
    "### Let's read in the files."
   ]
  },
  {
   "cell_type": "code",
   "execution_count": 4,
   "metadata": {},
   "outputs": [
    {
     "name": "stdout",
     "output_type": "stream",
     "text": [
      "iOS review column names are: Index(['date', 'user', 'stars', 'text'], dtype='object')\n",
      "android review column names are: Index(['User Name', 'Review Date', 'Star Rating', 'Review Text',\n",
      "       'Response Date', 'Response Text'],\n",
      "      dtype='object')\n"
     ]
    }
   ],
   "source": [
    "import pandas as pd\n",
    "\n",
    "ios_reviews = pd.read_csv('iOS/reviews_74600.csv')\n",
    "android_reviews = pd.read_csv('android/replika_reviews_checkpoint_46.csv')\n",
    "\n",
    "# What are the column names?\n",
    "print(f\"iOS review column names are: {ios_reviews.columns}\")\n",
    "print(f\"android review column names are: {android_reviews.columns}\")\n",
    "\n",
    "# ios_reviews included some duplicates so let's drop them. User name is uniuqe enough for this descriptive analysis.\n",
    "ios_reviews  = ios_reviews.drop_duplicates(subset='user')"
   ]
  },
  {
   "cell_type": "markdown",
   "metadata": {},
   "source": [
    "### Let's combine the datasets so we can analyze them together"
   ]
  },
  {
   "cell_type": "code",
   "execution_count": 5,
   "metadata": {},
   "outputs": [],
   "source": [
    "# Drop the response from Luka customer service in Android reviews as iOS reviews don't have these columns.\n",
    "android_reviews.drop(['Response Date', 'Response Text'], axis=1) \n",
    "\n",
    "# Rename columns so the two dfs can be combined.\n",
    "android_reviews.rename(columns = {'User Name':'user_name', 'Review Date': 'review_date', 'Star Rating': 'star_rating', 'Review Text': 'review_text'}, inplace=True)\n",
    "ios_reviews.rename(columns = {'user':'user_name', 'date': 'review_date', 'stars': 'star_rating', 'text': 'review_text'}, inplace=True)\n",
    "\n",
    "# Format date columns to be in the same format.\n",
    "android_reviews['review_date'] = pd.to_datetime(android_reviews['review_date']).dt.normalize()\n",
    "ios_reviews['review_date'] = pd.to_datetime(ios_reviews['review_date']).dt.normalize()\n",
    "\n",
    "# Combine dfs\n",
    "combined_reviews = pd.concat([ios_reviews, android_reviews], ignore_index=True)\n",
    "\n",
    "# Add word count\n",
    "combined_reviews['word_count'] = combined_reviews['review_text'].apply(lambda text: len(str(text).split()))\n",
    "combined_reviews.to_csv('combined_reviews.csv')"
   ]
  }
 ],
 "metadata": {
  "kernelspec": {
   "display_name": "Python 3",
   "language": "python",
   "name": "python3"
  },
  "language_info": {
   "codemirror_mode": {
    "name": "ipython",
    "version": 3
   },
   "file_extension": ".py",
   "mimetype": "text/x-python",
   "name": "python",
   "nbconvert_exporter": "python",
   "pygments_lexer": "ipython3",
   "version": "3.11.4"
  }
 },
 "nbformat": 4,
 "nbformat_minor": 2
}
