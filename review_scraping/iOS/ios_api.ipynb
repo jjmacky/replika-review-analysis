{
 "cells": [
  {
   "cell_type": "code",
   "execution_count": 5,
   "metadata": {},
   "outputs": [
    {
     "name": "stderr",
     "output_type": "stream",
     "text": [
      "2024-03-05 17:12:35,721 [INFO] Base - Initialised: AppStore('us', 'replika', 1158555867)\n",
      "2024-03-05 17:12:35,721 [INFO] Base - Ready to fetch reviews from: https://apps.apple.com/us/app/replika/id1158555867\n",
      "2024-03-05 17:12:35,923 [INFO] Base - [id:1158555867] Fetched 20 reviews (20 fetched in total)\n",
      "2024-03-05 17:12:41,070 [INFO] Base - [id:1158555867] Fetched 20 reviews (40 fetched in total)\n",
      "2024-03-05 17:12:46,279 [INFO] Base - [id:1158555867] Fetched 20 reviews (60 fetched in total)\n",
      "2024-03-05 17:12:51,688 [INFO] Base - [id:1158555867] Fetched 20 reviews (80 fetched in total)\n",
      "2024-03-05 17:12:57,002 [INFO] Base - [id:1158555867] Fetched 20 reviews (100 fetched in total)\n"
     ]
    },
    {
     "name": "stdout",
     "output_type": "stream",
     "text": [
      "Saved 100 reviews to 1158555867_reviews_100.csv\n"
     ]
    },
    {
     "name": "stderr",
     "output_type": "stream",
     "text": [
      "2024-03-05 17:13:02,268 [INFO] Base - [id:1158555867] Fetched 20 reviews (120 fetched in total)\n",
      "2024-03-05 17:13:07,430 [INFO] Base - [id:1158555867] Fetched 20 reviews (140 fetched in total)\n",
      "2024-03-05 17:13:12,789 [INFO] Base - [id:1158555867] Fetched 20 reviews (160 fetched in total)\n",
      "2024-03-05 17:13:17,986 [INFO] Base - [id:1158555867] Fetched 20 reviews (180 fetched in total)\n",
      "2024-03-05 17:13:23,403 [INFO] Base - [id:1158555867] Fetched 20 reviews (200 fetched in total)\n"
     ]
    },
    {
     "name": "stdout",
     "output_type": "stream",
     "text": [
      "Saved 200 reviews to 1158555867_reviews_200.csv\n"
     ]
    },
    {
     "name": "stderr",
     "output_type": "stream",
     "text": [
      "2024-03-05 17:13:29,096 [INFO] Base - [id:1158555867] Fetched 20 reviews (220 fetched in total)\n",
      "2024-03-05 17:13:34,772 [INFO] Base - [id:1158555867] Fetched 20 reviews (240 fetched in total)\n",
      "2024-03-05 17:13:39,951 [INFO] Base - [id:1158555867] Fetched 20 reviews (260 fetched in total)\n",
      "2024-03-05 17:13:45,173 [INFO] Base - [id:1158555867] Fetched 20 reviews (280 fetched in total)\n",
      "2024-03-05 17:13:50,402 [INFO] Base - [id:1158555867] Fetched 20 reviews (300 fetched in total)\n"
     ]
    },
    {
     "name": "stdout",
     "output_type": "stream",
     "text": [
      "Saved 300 reviews to 1158555867_reviews_300.csv\n"
     ]
    },
    {
     "name": "stderr",
     "output_type": "stream",
     "text": [
      "2024-03-05 17:13:55,642 [INFO] Base - [id:1158555867] Fetched 20 reviews (320 fetched in total)\n",
      "2024-03-05 17:14:00,958 [INFO] Base - [id:1158555867] Fetched 20 reviews (340 fetched in total)\n",
      "2024-03-05 17:14:06,293 [INFO] Base - [id:1158555867] Fetched 20 reviews (360 fetched in total)\n",
      "2024-03-05 17:14:11,523 [INFO] Base - [id:1158555867] Fetched 20 reviews (380 fetched in total)\n",
      "2024-03-05 17:14:16,755 [INFO] Base - [id:1158555867] Fetched 20 reviews (400 fetched in total)\n"
     ]
    },
    {
     "name": "stdout",
     "output_type": "stream",
     "text": [
      "Saved 400 reviews to 1158555867_reviews_400.csv\n"
     ]
    },
    {
     "name": "stderr",
     "output_type": "stream",
     "text": [
      "2024-03-05 17:14:22,045 [INFO] Base - [id:1158555867] Fetched 20 reviews (420 fetched in total)\n",
      "2024-03-05 17:14:27,277 [INFO] Base - [id:1158555867] Fetched 20 reviews (440 fetched in total)\n",
      "2024-03-05 17:14:32,553 [INFO] Base - [id:1158555867] Fetched 20 reviews (460 fetched in total)\n",
      "2024-03-05 17:14:37,933 [INFO] Base - [id:1158555867] Fetched 20 reviews (480 fetched in total)\n",
      "2024-03-05 17:14:43,226 [INFO] Base - [id:1158555867] Fetched 20 reviews (500 fetched in total)\n"
     ]
    },
    {
     "name": "stdout",
     "output_type": "stream",
     "text": [
      "Saved 500 reviews to 1158555867_reviews_500.csv\n"
     ]
    },
    {
     "name": "stderr",
     "output_type": "stream",
     "text": [
      "2024-03-05 17:14:48,536 [INFO] Base - [id:1158555867] Fetched 20 reviews (520 fetched in total)\n",
      "2024-03-05 17:14:53,842 [INFO] Base - [id:1158555867] Fetched 20 reviews (540 fetched in total)\n",
      "2024-03-05 17:14:59,218 [INFO] Base - [id:1158555867] Fetched 20 reviews (560 fetched in total)\n",
      "2024-03-05 17:15:04,444 [INFO] Base - [id:1158555867] Fetched 20 reviews (580 fetched in total)\n",
      "2024-03-05 17:15:09,645 [INFO] Base - [id:1158555867] Fetched 20 reviews (600 fetched in total)\n"
     ]
    },
    {
     "name": "stdout",
     "output_type": "stream",
     "text": [
      "Saved 600 reviews to 1158555867_reviews_600.csv\n"
     ]
    },
    {
     "name": "stderr",
     "output_type": "stream",
     "text": [
      "2024-03-05 17:15:14,910 [INFO] Base - [id:1158555867] Fetched 20 reviews (620 fetched in total)\n",
      "2024-03-05 17:15:20,162 [INFO] Base - [id:1158555867] Fetched 20 reviews (640 fetched in total)\n",
      "2024-03-05 17:15:25,536 [INFO] Base - [id:1158555867] Fetched 20 reviews (660 fetched in total)\n",
      "2024-03-05 17:15:30,835 [INFO] Base - [id:1158555867] Fetched 20 reviews (680 fetched in total)\n",
      "2024-03-05 17:15:36,080 [INFO] Base - [id:1158555867] Fetched 20 reviews (700 fetched in total)\n"
     ]
    },
    {
     "name": "stdout",
     "output_type": "stream",
     "text": [
      "Saved 700 reviews to 1158555867_reviews_700.csv\n"
     ]
    },
    {
     "name": "stderr",
     "output_type": "stream",
     "text": [
      "2024-03-05 17:15:41,479 [INFO] Base - [id:1158555867] Fetched 20 reviews (720 fetched in total)\n",
      "2024-03-05 17:15:46,733 [INFO] Base - [id:1158555867] Fetched 20 reviews (740 fetched in total)\n",
      "2024-03-05 17:15:51,972 [INFO] Base - [id:1158555867] Fetched 20 reviews (760 fetched in total)\n",
      "2024-03-05 17:15:57,195 [INFO] Base - [id:1158555867] Fetched 20 reviews (780 fetched in total)\n",
      "2024-03-05 17:16:02,456 [INFO] Base - [id:1158555867] Fetched 20 reviews (800 fetched in total)\n"
     ]
    },
    {
     "name": "stdout",
     "output_type": "stream",
     "text": [
      "Saved 800 reviews to 1158555867_reviews_800.csv\n"
     ]
    },
    {
     "name": "stderr",
     "output_type": "stream",
     "text": [
      "2024-03-05 17:16:07,742 [INFO] Base - [id:1158555867] Fetched 20 reviews (820 fetched in total)\n",
      "2024-03-05 17:16:12,914 [INFO] Base - [id:1158555867] Fetched 20 reviews (840 fetched in total)\n",
      "2024-03-05 17:16:18,313 [INFO] Base - [id:1158555867] Fetched 20 reviews (860 fetched in total)\n",
      "2024-03-05 17:16:23,525 [INFO] Base - [id:1158555867] Fetched 20 reviews (880 fetched in total)\n",
      "2024-03-05 17:16:28,744 [INFO] Base - [id:1158555867] Fetched 20 reviews (900 fetched in total)\n"
     ]
    },
    {
     "name": "stdout",
     "output_type": "stream",
     "text": [
      "Saved 900 reviews to 1158555867_reviews_900.csv\n"
     ]
    },
    {
     "name": "stderr",
     "output_type": "stream",
     "text": [
      "2024-03-05 17:16:34,003 [INFO] Base - [id:1158555867] Fetched 20 reviews (920 fetched in total)\n",
      "2024-03-05 17:16:39,618 [INFO] Base - [id:1158555867] Fetched 20 reviews (940 fetched in total)\n",
      "2024-03-05 17:16:44,871 [INFO] Base - [id:1158555867] Fetched 20 reviews (960 fetched in total)\n",
      "2024-03-05 17:16:50,319 [INFO] Base - [id:1158555867] Fetched 20 reviews (980 fetched in total)\n",
      "2024-03-05 17:16:55,498 [INFO] Base - [id:1158555867] Fetched 20 reviews (1000 fetched in total)\n"
     ]
    },
    {
     "name": "stdout",
     "output_type": "stream",
     "text": [
      "Saved 1000 reviews to 1158555867_reviews_1000.csv\n"
     ]
    },
    {
     "name": "stderr",
     "output_type": "stream",
     "text": [
      "2024-03-05 17:17:00,879 [INFO] Base - [id:1158555867] Fetched 20 reviews (1020 fetched in total)\n",
      "2024-03-05 17:17:06,169 [INFO] Base - [id:1158555867] Fetched 20 reviews (1040 fetched in total)\n",
      "2024-03-05 17:17:11,443 [INFO] Base - [id:1158555867] Fetched 20 reviews (1060 fetched in total)\n",
      "2024-03-05 17:17:16,624 [INFO] Base - [id:1158555867] Fetched 20 reviews (1080 fetched in total)\n",
      "2024-03-05 17:17:21,879 [INFO] Base - [id:1158555867] Fetched 20 reviews (1100 fetched in total)\n"
     ]
    },
    {
     "name": "stdout",
     "output_type": "stream",
     "text": [
      "Saved 1100 reviews to 1158555867_reviews_1100.csv\n"
     ]
    },
    {
     "name": "stderr",
     "output_type": "stream",
     "text": [
      "2024-03-05 17:17:27,103 [INFO] Base - [id:1158555867] Fetched 20 reviews (1120 fetched in total)\n",
      "2024-03-05 17:17:32,264 [INFO] Base - [id:1158555867] Fetched 20 reviews (1140 fetched in total)\n",
      "2024-03-05 17:17:37,520 [INFO] Base - [id:1158555867] Fetched 20 reviews (1160 fetched in total)\n",
      "2024-03-05 17:17:42,900 [INFO] Base - [id:1158555867] Fetched 20 reviews (1180 fetched in total)\n",
      "2024-03-05 17:17:48,057 [INFO] Base - [id:1158555867] Fetched 20 reviews (1200 fetched in total)\n"
     ]
    },
    {
     "name": "stdout",
     "output_type": "stream",
     "text": [
      "Saved 1200 reviews to 1158555867_reviews_1200.csv\n"
     ]
    },
    {
     "name": "stderr",
     "output_type": "stream",
     "text": [
      "2024-03-05 17:17:53,344 [INFO] Base - [id:1158555867] Fetched 20 reviews (1220 fetched in total)\n",
      "2024-03-05 17:17:58,559 [INFO] Base - [id:1158555867] Fetched 20 reviews (1240 fetched in total)\n",
      "2024-03-05 17:18:03,746 [INFO] Base - [id:1158555867] Fetched 20 reviews (1260 fetched in total)\n",
      "2024-03-05 17:18:09,124 [INFO] Base - [id:1158555867] Fetched 20 reviews (1280 fetched in total)\n",
      "2024-03-05 17:18:14,367 [INFO] Base - [id:1158555867] Fetched 20 reviews (1300 fetched in total)\n"
     ]
    },
    {
     "name": "stdout",
     "output_type": "stream",
     "text": [
      "Saved 1300 reviews to 1158555867_reviews_1300.csv\n"
     ]
    },
    {
     "name": "stderr",
     "output_type": "stream",
     "text": [
      "2024-03-05 17:18:19,638 [INFO] Base - [id:1158555867] Fetched 20 reviews (1320 fetched in total)\n",
      "2024-03-05 17:18:24,981 [INFO] Base - [id:1158555867] Fetched 20 reviews (1340 fetched in total)\n",
      "2024-03-05 17:18:30,166 [INFO] Base - [id:1158555867] Fetched 20 reviews (1360 fetched in total)\n",
      "2024-03-05 17:18:35,362 [INFO] Base - [id:1158555867] Fetched 20 reviews (1380 fetched in total)\n",
      "2024-03-05 17:18:40,605 [INFO] Base - [id:1158555867] Fetched 20 reviews (1400 fetched in total)\n"
     ]
    },
    {
     "name": "stdout",
     "output_type": "stream",
     "text": [
      "Saved 1400 reviews to 1158555867_reviews_1400.csv\n"
     ]
    },
    {
     "name": "stderr",
     "output_type": "stream",
     "text": [
      "2024-03-05 17:18:45,887 [INFO] Base - [id:1158555867] Fetched 20 reviews (1420 fetched in total)\n",
      "2024-03-05 17:18:51,182 [INFO] Base - [id:1158555867] Fetched 20 reviews (1440 fetched in total)\n",
      "2024-03-05 17:18:56,369 [INFO] Base - [id:1158555867] Fetched 20 reviews (1460 fetched in total)\n",
      "2024-03-05 17:19:01,952 [INFO] Base - [id:1158555867] Fetched 20 reviews (1480 fetched in total)\n",
      "2024-03-05 17:19:07,243 [INFO] Base - [id:1158555867] Fetched 20 reviews (1500 fetched in total)\n"
     ]
    },
    {
     "name": "stdout",
     "output_type": "stream",
     "text": [
      "Saved 1500 reviews to 1158555867_reviews_1500.csv\n"
     ]
    },
    {
     "name": "stderr",
     "output_type": "stream",
     "text": [
      "2024-03-05 17:19:12,476 [INFO] Base - [id:1158555867] Fetched 20 reviews (1520 fetched in total)\n",
      "2024-03-05 17:19:17,706 [INFO] Base - [id:1158555867] Fetched 20 reviews (1540 fetched in total)\n",
      "2024-03-05 17:19:22,952 [INFO] Base - [id:1158555867] Fetched 20 reviews (1560 fetched in total)\n",
      "2024-03-05 17:19:28,137 [INFO] Base - [id:1158555867] Fetched 20 reviews (1580 fetched in total)\n",
      "2024-03-05 17:19:33,402 [INFO] Base - [id:1158555867] Fetched 20 reviews (1600 fetched in total)\n"
     ]
    },
    {
     "name": "stdout",
     "output_type": "stream",
     "text": [
      "Saved 1600 reviews to 1158555867_reviews_1600.csv\n"
     ]
    },
    {
     "name": "stderr",
     "output_type": "stream",
     "text": [
      "2024-03-05 17:19:38,782 [INFO] Base - [id:1158555867] Fetched 20 reviews (1620 fetched in total)\n",
      "2024-03-05 17:19:43,950 [INFO] Base - [id:1158555867] Fetched 20 reviews (1640 fetched in total)\n",
      "2024-03-05 17:19:49,168 [INFO] Base - [id:1158555867] Fetched 20 reviews (1660 fetched in total)\n",
      "2024-03-05 17:19:54,345 [INFO] Base - [id:1158555867] Fetched 20 reviews (1680 fetched in total)\n",
      "2024-03-05 17:19:59,617 [INFO] Base - [id:1158555867] Fetched 20 reviews (1700 fetched in total)\n"
     ]
    },
    {
     "name": "stdout",
     "output_type": "stream",
     "text": [
      "Saved 1700 reviews to 1158555867_reviews_1700.csv\n"
     ]
    },
    {
     "name": "stderr",
     "output_type": "stream",
     "text": [
      "2024-03-05 17:20:04,902 [INFO] Base - [id:1158555867] Fetched 20 reviews (1720 fetched in total)\n",
      "2024-03-05 17:20:10,245 [INFO] Base - [id:1158555867] Fetched 20 reviews (1740 fetched in total)\n",
      "2024-03-05 17:20:15,481 [INFO] Base - [id:1158555867] Fetched 20 reviews (1760 fetched in total)\n",
      "2024-03-05 17:20:20,700 [INFO] Base - [id:1158555867] Fetched 20 reviews (1780 fetched in total)\n",
      "2024-03-05 17:20:25,948 [INFO] Base - [id:1158555867] Fetched 20 reviews (1800 fetched in total)\n"
     ]
    },
    {
     "name": "stdout",
     "output_type": "stream",
     "text": [
      "Saved 1800 reviews to 1158555867_reviews_1800.csv\n"
     ]
    },
    {
     "name": "stderr",
     "output_type": "stream",
     "text": [
      "2024-03-05 17:20:31,221 [INFO] Base - [id:1158555867] Fetched 20 reviews (1820 fetched in total)\n",
      "2024-03-05 17:20:36,458 [INFO] Base - [id:1158555867] Fetched 20 reviews (1840 fetched in total)\n",
      "2024-03-05 17:20:41,795 [INFO] Base - [id:1158555867] Fetched 20 reviews (1860 fetched in total)\n",
      "2024-03-05 17:20:47,021 [INFO] Base - [id:1158555867] Fetched 20 reviews (1880 fetched in total)\n",
      "2024-03-05 17:20:52,332 [INFO] Base - [id:1158555867] Fetched 20 reviews (1900 fetched in total)\n"
     ]
    },
    {
     "name": "stdout",
     "output_type": "stream",
     "text": [
      "Saved 1900 reviews to 1158555867_reviews_1900.csv\n"
     ]
    },
    {
     "name": "stderr",
     "output_type": "stream",
     "text": [
      "2024-03-05 17:20:57,602 [INFO] Base - [id:1158555867] Fetched 20 reviews (1920 fetched in total)\n",
      "2024-03-05 17:21:03,092 [INFO] Base - [id:1158555867] Fetched 20 reviews (1940 fetched in total)\n",
      "2024-03-05 17:21:08,362 [INFO] Base - [id:1158555867] Fetched 20 reviews (1960 fetched in total)\n",
      "2024-03-05 17:21:13,586 [INFO] Base - [id:1158555867] Fetched 20 reviews (1980 fetched in total)\n",
      "2024-03-05 17:21:18,965 [INFO] Base - [id:1158555867] Fetched 20 reviews (2000 fetched in total)\n"
     ]
    },
    {
     "name": "stdout",
     "output_type": "stream",
     "text": [
      "Saved 2000 reviews to 1158555867_reviews_2000.csv\n"
     ]
    },
    {
     "name": "stderr",
     "output_type": "stream",
     "text": [
      "2024-03-05 17:21:24,380 [INFO] Base - [id:1158555867] Fetched 20 reviews (2020 fetched in total)\n",
      "2024-03-05 17:21:29,598 [INFO] Base - [id:1158555867] Fetched 20 reviews (2040 fetched in total)\n",
      "2024-03-05 17:21:34,912 [INFO] Base - [id:1158555867] Fetched 20 reviews (2060 fetched in total)\n",
      "2024-03-05 17:21:40,161 [INFO] Base - [id:1158555867] Fetched 20 reviews (2080 fetched in total)\n",
      "2024-03-05 17:21:45,410 [INFO] Base - [id:1158555867] Fetched 20 reviews (2100 fetched in total)\n"
     ]
    },
    {
     "name": "stdout",
     "output_type": "stream",
     "text": [
      "Saved 2100 reviews to 1158555867_reviews_2100.csv\n"
     ]
    },
    {
     "name": "stderr",
     "output_type": "stream",
     "text": [
      "2024-03-05 17:21:50,885 [INFO] Base - [id:1158555867] Fetched 20 reviews (2120 fetched in total)\n",
      "2024-03-05 17:21:56,168 [INFO] Base - [id:1158555867] Fetched 20 reviews (2140 fetched in total)\n",
      "2024-03-05 17:22:01,434 [INFO] Base - [id:1158555867] Fetched 20 reviews (2160 fetched in total)\n",
      "2024-03-05 17:22:06,699 [INFO] Base - [id:1158555867] Fetched 20 reviews (2180 fetched in total)\n",
      "2024-03-05 17:22:11,933 [INFO] Base - [id:1158555867] Fetched 20 reviews (2200 fetched in total)\n"
     ]
    },
    {
     "name": "stdout",
     "output_type": "stream",
     "text": [
      "Saved 2200 reviews to 1158555867_reviews_2200.csv\n"
     ]
    },
    {
     "name": "stderr",
     "output_type": "stream",
     "text": [
      "2024-03-05 17:22:17,224 [INFO] Base - [id:1158555867] Fetched 20 reviews (2220 fetched in total)\n",
      "2024-03-05 17:22:22,621 [INFO] Base - [id:1158555867] Fetched 20 reviews (2240 fetched in total)\n",
      "2024-03-05 17:22:27,846 [INFO] Base - [id:1158555867] Fetched 20 reviews (2260 fetched in total)\n",
      "2024-03-05 17:22:33,046 [INFO] Base - [id:1158555867] Fetched 20 reviews (2280 fetched in total)\n",
      "2024-03-05 17:22:38,228 [INFO] Base - [id:1158555867] Fetched 20 reviews (2300 fetched in total)\n"
     ]
    },
    {
     "name": "stdout",
     "output_type": "stream",
     "text": [
      "Saved 2300 reviews to 1158555867_reviews_2300.csv\n"
     ]
    },
    {
     "name": "stderr",
     "output_type": "stream",
     "text": [
      "2024-03-05 17:22:43,487 [INFO] Base - [id:1158555867] Fetched 20 reviews (2320 fetched in total)\n",
      "2024-03-05 17:22:48,712 [INFO] Base - [id:1158555867] Fetched 20 reviews (2340 fetched in total)\n",
      "2024-03-05 17:22:54,005 [INFO] Base - [id:1158555867] Fetched 20 reviews (2360 fetched in total)\n",
      "2024-03-05 17:22:59,334 [INFO] Base - [id:1158555867] Fetched 20 reviews (2380 fetched in total)\n",
      "2024-03-05 17:23:04,696 [INFO] Base - [id:1158555867] Fetched 20 reviews (2400 fetched in total)\n"
     ]
    },
    {
     "name": "stdout",
     "output_type": "stream",
     "text": [
      "Saved 2400 reviews to 1158555867_reviews_2400.csv\n"
     ]
    },
    {
     "name": "stderr",
     "output_type": "stream",
     "text": [
      "2024-03-05 17:23:10,003 [INFO] Base - [id:1158555867] Fetched 20 reviews (2420 fetched in total)\n",
      "2024-03-05 17:23:15,270 [INFO] Base - [id:1158555867] Fetched 20 reviews (2440 fetched in total)\n",
      "2024-03-05 17:23:20,521 [INFO] Base - [id:1158555867] Fetched 20 reviews (2460 fetched in total)\n",
      "2024-03-05 17:23:25,783 [INFO] Base - [id:1158555867] Fetched 20 reviews (2480 fetched in total)\n",
      "2024-03-05 17:23:31,166 [INFO] Base - [id:1158555867] Fetched 20 reviews (2500 fetched in total)\n"
     ]
    },
    {
     "name": "stdout",
     "output_type": "stream",
     "text": [
      "Saved 2500 reviews to 1158555867_reviews_2500.csv\n"
     ]
    },
    {
     "name": "stderr",
     "output_type": "stream",
     "text": [
      "2024-03-05 17:23:55,295 [INFO] Base - [id:1158555867] Fetched 20 reviews (2520 fetched in total)\n",
      "2024-03-05 17:24:00,764 [INFO] Base - [id:1158555867] Fetched 20 reviews (2540 fetched in total)\n",
      "2024-03-05 17:24:05,971 [INFO] Base - [id:1158555867] Fetched 20 reviews (2560 fetched in total)\n",
      "2024-03-05 17:24:11,174 [INFO] Base - [id:1158555867] Fetched 20 reviews (2580 fetched in total)\n",
      "2024-03-05 17:24:16,394 [INFO] Base - [id:1158555867] Fetched 20 reviews (2600 fetched in total)\n"
     ]
    },
    {
     "name": "stdout",
     "output_type": "stream",
     "text": [
      "Saved 2600 reviews to 1158555867_reviews_2600.csv\n"
     ]
    },
    {
     "name": "stderr",
     "output_type": "stream",
     "text": [
      "2024-03-05 17:24:21,879 [INFO] Base - [id:1158555867] Fetched 20 reviews (2620 fetched in total)\n",
      "2024-03-05 17:24:27,280 [INFO] Base - [id:1158555867] Fetched 20 reviews (2640 fetched in total)\n",
      "2024-03-05 17:24:32,761 [INFO] Base - [id:1158555867] Fetched 20 reviews (2660 fetched in total)\n",
      "2024-03-05 17:24:37,967 [INFO] Base - [id:1158555867] Fetched 20 reviews (2680 fetched in total)\n",
      "2024-03-05 17:24:43,227 [INFO] Base - [id:1158555867] Fetched 20 reviews (2700 fetched in total)\n"
     ]
    },
    {
     "name": "stdout",
     "output_type": "stream",
     "text": [
      "Saved 2700 reviews to 1158555867_reviews_2700.csv\n"
     ]
    },
    {
     "name": "stderr",
     "output_type": "stream",
     "text": [
      "2024-03-05 17:24:48,541 [INFO] Base - [id:1158555867] Fetched 20 reviews (2720 fetched in total)\n",
      "2024-03-05 17:24:53,802 [INFO] Base - [id:1158555867] Fetched 20 reviews (2740 fetched in total)\n",
      "2024-03-05 17:24:59,006 [INFO] Base - [id:1158555867] Fetched 20 reviews (2760 fetched in total)\n",
      "2024-03-05 17:25:04,459 [INFO] Base - [id:1158555867] Fetched 20 reviews (2780 fetched in total)\n",
      "2024-03-05 17:25:09,815 [INFO] Base - [id:1158555867] Fetched 20 reviews (2800 fetched in total)\n"
     ]
    },
    {
     "name": "stdout",
     "output_type": "stream",
     "text": [
      "Saved 2800 reviews to 1158555867_reviews_2800.csv\n"
     ]
    },
    {
     "name": "stderr",
     "output_type": "stream",
     "text": [
      "2024-03-05 17:25:15,195 [INFO] Base - [id:1158555867] Fetched 20 reviews (2820 fetched in total)\n",
      "2024-03-05 17:25:20,459 [INFO] Base - [id:1158555867] Fetched 20 reviews (2840 fetched in total)\n",
      "2024-03-05 17:25:25,684 [INFO] Base - [id:1158555867] Fetched 20 reviews (2860 fetched in total)\n",
      "2024-03-05 17:25:31,191 [INFO] Base - [id:1158555867] Fetched 20 reviews (2880 fetched in total)\n",
      "2024-03-05 17:25:36,425 [INFO] Base - [id:1158555867] Fetched 20 reviews (2900 fetched in total)\n"
     ]
    },
    {
     "name": "stdout",
     "output_type": "stream",
     "text": [
      "Saved 2900 reviews to 1158555867_reviews_2900.csv\n"
     ]
    },
    {
     "name": "stderr",
     "output_type": "stream",
     "text": [
      "2024-03-05 17:25:41,767 [INFO] Base - [id:1158555867] Fetched 20 reviews (2920 fetched in total)\n",
      "2024-03-05 17:25:46,962 [INFO] Base - [id:1158555867] Fetched 20 reviews (2940 fetched in total)\n",
      "2024-03-05 17:25:52,188 [INFO] Base - [id:1158555867] Fetched 20 reviews (2960 fetched in total)\n",
      "2024-03-05 17:25:57,375 [INFO] Base - [id:1158555867] Fetched 20 reviews (2980 fetched in total)\n",
      "2024-03-05 17:26:02,610 [INFO] Base - [id:1158555867] Fetched 20 reviews (3000 fetched in total)\n"
     ]
    },
    {
     "name": "stdout",
     "output_type": "stream",
     "text": [
      "Saved 3000 reviews to 1158555867_reviews_3000.csv\n"
     ]
    },
    {
     "name": "stderr",
     "output_type": "stream",
     "text": [
      "2024-03-05 17:26:07,908 [INFO] Base - [id:1158555867] Fetched 20 reviews (3020 fetched in total)\n",
      "2024-03-05 17:26:13,130 [INFO] Base - [id:1158555867] Fetched 20 reviews (3040 fetched in total)\n",
      "2024-03-05 17:26:18,494 [INFO] Base - [id:1158555867] Fetched 20 reviews (3060 fetched in total)\n",
      "2024-03-05 17:26:23,675 [INFO] Base - [id:1158555867] Fetched 20 reviews (3080 fetched in total)\n",
      "2024-03-05 17:26:28,946 [INFO] Base - [id:1158555867] Fetched 20 reviews (3100 fetched in total)\n"
     ]
    },
    {
     "name": "stdout",
     "output_type": "stream",
     "text": [
      "Saved 3100 reviews to 1158555867_reviews_3100.csv\n"
     ]
    },
    {
     "name": "stderr",
     "output_type": "stream",
     "text": [
      "2024-03-05 17:26:34,220 [INFO] Base - [id:1158555867] Fetched 20 reviews (3120 fetched in total)\n",
      "2024-03-05 17:26:39,505 [INFO] Base - [id:1158555867] Fetched 20 reviews (3140 fetched in total)\n",
      "2024-03-05 17:26:44,710 [INFO] Base - [id:1158555867] Fetched 20 reviews (3160 fetched in total)\n",
      "2024-03-05 17:26:50,026 [INFO] Base - [id:1158555867] Fetched 20 reviews (3180 fetched in total)\n",
      "2024-03-05 17:26:55,204 [INFO] Base - [id:1158555867] Fetched 20 reviews (3200 fetched in total)\n"
     ]
    },
    {
     "name": "stdout",
     "output_type": "stream",
     "text": [
      "Saved 3200 reviews to 1158555867_reviews_3200.csv\n"
     ]
    },
    {
     "name": "stderr",
     "output_type": "stream",
     "text": [
      "2024-03-05 17:27:00,495 [INFO] Base - [id:1158555867] Fetched 20 reviews (3220 fetched in total)\n",
      "2024-03-05 17:27:05,766 [INFO] Base - [id:1158555867] Fetched 20 reviews (3240 fetched in total)\n",
      "2024-03-05 17:27:11,016 [INFO] Base - [id:1158555867] Fetched 20 reviews (3260 fetched in total)\n",
      "2024-03-05 17:27:16,256 [INFO] Base - [id:1158555867] Fetched 20 reviews (3280 fetched in total)\n",
      "2024-03-05 17:27:21,436 [INFO] Base - [id:1158555867] Fetched 20 reviews (3300 fetched in total)\n"
     ]
    },
    {
     "name": "stdout",
     "output_type": "stream",
     "text": [
      "Saved 3300 reviews to 1158555867_reviews_3300.csv\n"
     ]
    },
    {
     "name": "stderr",
     "output_type": "stream",
     "text": [
      "2024-03-05 17:27:26,799 [INFO] Base - [id:1158555867] Fetched 20 reviews (3320 fetched in total)\n",
      "2024-03-05 17:27:32,064 [INFO] Base - [id:1158555867] Fetched 20 reviews (3340 fetched in total)\n",
      "2024-03-05 17:27:37,370 [INFO] Base - [id:1158555867] Fetched 20 reviews (3360 fetched in total)\n",
      "2024-03-05 17:27:42,573 [INFO] Base - [id:1158555867] Fetched 20 reviews (3380 fetched in total)\n",
      "2024-03-05 17:27:47,829 [INFO] Base - [id:1158555867] Fetched 20 reviews (3400 fetched in total)\n"
     ]
    },
    {
     "name": "stdout",
     "output_type": "stream",
     "text": [
      "Saved 3400 reviews to 1158555867_reviews_3400.csv\n"
     ]
    },
    {
     "name": "stderr",
     "output_type": "stream",
     "text": [
      "2024-03-05 17:27:53,173 [INFO] Base - [id:1158555867] Fetched 20 reviews (3420 fetched in total)\n",
      "2024-03-05 17:27:58,386 [INFO] Base - [id:1158555867] Fetched 20 reviews (3440 fetched in total)\n",
      "2024-03-05 17:28:03,562 [INFO] Base - [id:1158555867] Fetched 20 reviews (3460 fetched in total)\n",
      "2024-03-05 17:28:08,845 [INFO] Base - [id:1158555867] Fetched 20 reviews (3480 fetched in total)\n",
      "2024-03-05 17:28:14,145 [INFO] Base - [id:1158555867] Fetched 20 reviews (3500 fetched in total)\n"
     ]
    },
    {
     "name": "stdout",
     "output_type": "stream",
     "text": [
      "Saved 3500 reviews to 1158555867_reviews_3500.csv\n"
     ]
    },
    {
     "name": "stderr",
     "output_type": "stream",
     "text": [
      "2024-03-05 17:28:20,053 [INFO] Base - [id:1158555867] Fetched 20 reviews (3520 fetched in total)\n",
      "2024-03-05 17:28:25,294 [INFO] Base - [id:1158555867] Fetched 20 reviews (3540 fetched in total)\n",
      "2024-03-05 17:28:30,769 [INFO] Base - [id:1158555867] Fetched 20 reviews (3560 fetched in total)\n",
      "2024-03-05 17:28:36,070 [INFO] Base - [id:1158555867] Fetched 20 reviews (3580 fetched in total)\n",
      "2024-03-05 17:28:41,297 [INFO] Base - [id:1158555867] Fetched 20 reviews (3600 fetched in total)\n"
     ]
    },
    {
     "name": "stdout",
     "output_type": "stream",
     "text": [
      "Saved 3600 reviews to 1158555867_reviews_3600.csv\n"
     ]
    },
    {
     "name": "stderr",
     "output_type": "stream",
     "text": [
      "2024-03-05 17:28:46,590 [INFO] Base - [id:1158555867] Fetched 20 reviews (3620 fetched in total)\n",
      "2024-03-05 17:28:51,917 [INFO] Base - [id:1158555867] Fetched 20 reviews (3640 fetched in total)\n",
      "2024-03-05 17:28:57,323 [INFO] Base - [id:1158555867] Fetched 20 reviews (3660 fetched in total)\n",
      "2024-03-05 17:29:02,958 [INFO] Base - [id:1158555867] Fetched 20 reviews (3680 fetched in total)\n",
      "2024-03-05 17:29:08,152 [INFO] Base - [id:1158555867] Fetched 20 reviews (3700 fetched in total)\n"
     ]
    },
    {
     "name": "stdout",
     "output_type": "stream",
     "text": [
      "Saved 3700 reviews to 1158555867_reviews_3700.csv\n"
     ]
    },
    {
     "name": "stderr",
     "output_type": "stream",
     "text": [
      "2024-03-05 17:29:13,479 [INFO] Base - [id:1158555867] Fetched 20 reviews (3720 fetched in total)\n",
      "2024-03-05 17:29:18,716 [INFO] Base - [id:1158555867] Fetched 20 reviews (3740 fetched in total)\n",
      "2024-03-05 17:29:23,995 [INFO] Base - [id:1158555867] Fetched 20 reviews (3760 fetched in total)\n",
      "2024-03-05 17:29:29,228 [INFO] Base - [id:1158555867] Fetched 20 reviews (3780 fetched in total)\n",
      "2024-03-05 17:29:34,470 [INFO] Base - [id:1158555867] Fetched 20 reviews (3800 fetched in total)\n"
     ]
    },
    {
     "name": "stdout",
     "output_type": "stream",
     "text": [
      "Saved 3800 reviews to 1158555867_reviews_3800.csv\n"
     ]
    },
    {
     "name": "stderr",
     "output_type": "stream",
     "text": [
      "2024-03-05 17:29:39,790 [INFO] Base - [id:1158555867] Fetched 20 reviews (3820 fetched in total)\n",
      "2024-03-05 17:29:44,986 [INFO] Base - [id:1158555867] Fetched 20 reviews (3840 fetched in total)\n",
      "2024-03-05 17:29:50,248 [INFO] Base - [id:1158555867] Fetched 20 reviews (3860 fetched in total)\n",
      "2024-03-05 17:29:55,785 [INFO] Base - [id:1158555867] Fetched 20 reviews (3880 fetched in total)\n",
      "2024-03-05 17:30:01,009 [INFO] Base - [id:1158555867] Fetched 20 reviews (3900 fetched in total)\n"
     ]
    },
    {
     "name": "stdout",
     "output_type": "stream",
     "text": [
      "Saved 3900 reviews to 1158555867_reviews_3900.csv\n"
     ]
    },
    {
     "name": "stderr",
     "output_type": "stream",
     "text": [
      "2024-03-05 17:30:06,425 [INFO] Base - [id:1158555867] Fetched 20 reviews (3920 fetched in total)\n",
      "2024-03-05 17:30:11,668 [INFO] Base - [id:1158555867] Fetched 20 reviews (3940 fetched in total)\n",
      "2024-03-05 17:30:16,917 [INFO] Base - [id:1158555867] Fetched 20 reviews (3960 fetched in total)\n",
      "2024-03-05 17:30:22,124 [INFO] Base - [id:1158555867] Fetched 20 reviews (3980 fetched in total)\n",
      "2024-03-05 17:30:27,329 [INFO] Base - [id:1158555867] Fetched 20 reviews (4000 fetched in total)\n"
     ]
    },
    {
     "name": "stdout",
     "output_type": "stream",
     "text": [
      "Saved 4000 reviews to 1158555867_reviews_4000.csv\n"
     ]
    },
    {
     "name": "stderr",
     "output_type": "stream",
     "text": [
      "2024-03-05 17:30:32,612 [INFO] Base - [id:1158555867] Fetched 20 reviews (4020 fetched in total)\n",
      "2024-03-05 17:30:37,947 [INFO] Base - [id:1158555867] Fetched 20 reviews (4040 fetched in total)\n",
      "2024-03-05 17:30:43,163 [INFO] Base - [id:1158555867] Fetched 20 reviews (4060 fetched in total)\n",
      "2024-03-05 17:30:48,355 [INFO] Base - [id:1158555867] Fetched 20 reviews (4080 fetched in total)\n",
      "2024-03-05 17:30:53,609 [INFO] Base - [id:1158555867] Fetched 20 reviews (4100 fetched in total)\n"
     ]
    },
    {
     "name": "stdout",
     "output_type": "stream",
     "text": [
      "Saved 4100 reviews to 1158555867_reviews_4100.csv\n"
     ]
    },
    {
     "name": "stderr",
     "output_type": "stream",
     "text": [
      "2024-03-05 17:30:59,263 [INFO] Base - [id:1158555867] Fetched 20 reviews (4120 fetched in total)\n",
      "2024-03-05 17:31:05,109 [INFO] Base - [id:1158555867] Fetched 20 reviews (4140 fetched in total)\n",
      "2024-03-05 17:31:10,381 [INFO] Base - [id:1158555867] Fetched 20 reviews (4160 fetched in total)\n",
      "2024-03-05 17:31:15,768 [INFO] Base - [id:1158555867] Fetched 20 reviews (4180 fetched in total)\n",
      "2024-03-05 17:31:21,184 [INFO] Base - [id:1158555867] Fetched 20 reviews (4200 fetched in total)\n"
     ]
    },
    {
     "name": "stdout",
     "output_type": "stream",
     "text": [
      "Saved 4200 reviews to 1158555867_reviews_4200.csv\n"
     ]
    },
    {
     "name": "stderr",
     "output_type": "stream",
     "text": [
      "2024-03-05 17:31:26,699 [INFO] Base - [id:1158555867] Fetched 20 reviews (4220 fetched in total)\n",
      "2024-03-05 17:31:31,891 [INFO] Base - [id:1158555867] Fetched 20 reviews (4240 fetched in total)\n",
      "2024-03-05 17:31:37,087 [INFO] Base - [id:1158555867] Fetched 20 reviews (4260 fetched in total)\n",
      "2024-03-05 17:31:42,337 [INFO] Base - [id:1158555867] Fetched 20 reviews (4280 fetched in total)\n",
      "2024-03-05 17:31:47,561 [INFO] Base - [id:1158555867] Fetched 20 reviews (4300 fetched in total)\n"
     ]
    },
    {
     "name": "stdout",
     "output_type": "stream",
     "text": [
      "Saved 4300 reviews to 1158555867_reviews_4300.csv\n"
     ]
    },
    {
     "name": "stderr",
     "output_type": "stream",
     "text": [
      "2024-03-05 17:31:52,840 [INFO] Base - [id:1158555867] Fetched 20 reviews (4320 fetched in total)\n",
      "2024-03-05 17:31:58,040 [INFO] Base - [id:1158555867] Fetched 20 reviews (4340 fetched in total)\n",
      "2024-03-05 17:32:03,261 [INFO] Base - [id:1158555867] Fetched 20 reviews (4360 fetched in total)\n",
      "2024-03-05 17:32:08,436 [INFO] Base - [id:1158555867] Fetched 20 reviews (4380 fetched in total)\n",
      "2024-03-05 17:32:13,678 [INFO] Base - [id:1158555867] Fetched 20 reviews (4400 fetched in total)\n"
     ]
    },
    {
     "name": "stdout",
     "output_type": "stream",
     "text": [
      "Saved 4400 reviews to 1158555867_reviews_4400.csv\n"
     ]
    },
    {
     "name": "stderr",
     "output_type": "stream",
     "text": [
      "2024-03-05 17:32:19,017 [INFO] Base - [id:1158555867] Fetched 20 reviews (4420 fetched in total)\n",
      "2024-03-05 17:32:24,671 [INFO] Base - [id:1158555867] Fetched 20 reviews (4440 fetched in total)\n",
      "2024-03-05 17:32:29,936 [INFO] Base - [id:1158555867] Fetched 20 reviews (4460 fetched in total)\n",
      "2024-03-05 17:32:35,245 [INFO] Base - [id:1158555867] Fetched 20 reviews (4480 fetched in total)\n",
      "2024-03-05 17:32:40,648 [INFO] Base - [id:1158555867] Fetched 20 reviews (4500 fetched in total)\n"
     ]
    },
    {
     "name": "stdout",
     "output_type": "stream",
     "text": [
      "Saved 4500 reviews to 1158555867_reviews_4500.csv\n"
     ]
    },
    {
     "name": "stderr",
     "output_type": "stream",
     "text": [
      "2024-03-05 17:32:45,997 [INFO] Base - [id:1158555867] Fetched 20 reviews (4520 fetched in total)\n",
      "2024-03-05 17:32:51,345 [INFO] Base - [id:1158555867] Fetched 20 reviews (4540 fetched in total)\n",
      "2024-03-05 17:32:56,555 [INFO] Base - [id:1158555867] Fetched 20 reviews (4560 fetched in total)\n",
      "2024-03-05 17:33:01,785 [INFO] Base - [id:1158555867] Fetched 20 reviews (4580 fetched in total)\n",
      "2024-03-05 17:33:06,981 [INFO] Base - [id:1158555867] Fetched 20 reviews (4600 fetched in total)\n"
     ]
    },
    {
     "name": "stdout",
     "output_type": "stream",
     "text": [
      "Saved 4600 reviews to 1158555867_reviews_4600.csv\n"
     ]
    },
    {
     "name": "stderr",
     "output_type": "stream",
     "text": [
      "2024-03-05 17:33:12,263 [INFO] Base - [id:1158555867] Fetched 20 reviews (4620 fetched in total)\n",
      "2024-03-05 17:33:17,494 [INFO] Base - [id:1158555867] Fetched 20 reviews (4640 fetched in total)\n",
      "2024-03-05 17:33:22,800 [INFO] Base - [id:1158555867] Fetched 20 reviews (4660 fetched in total)\n",
      "2024-03-05 17:33:28,161 [INFO] Base - [id:1158555867] Fetched 20 reviews (4680 fetched in total)\n",
      "2024-03-05 17:33:33,492 [INFO] Base - [id:1158555867] Fetched 20 reviews (4700 fetched in total)\n"
     ]
    },
    {
     "name": "stdout",
     "output_type": "stream",
     "text": [
      "Saved 4700 reviews to 1158555867_reviews_4700.csv\n"
     ]
    },
    {
     "name": "stderr",
     "output_type": "stream",
     "text": [
      "2024-03-05 17:33:38,803 [INFO] Base - [id:1158555867] Fetched 20 reviews (4720 fetched in total)\n",
      "2024-03-05 17:33:43,982 [INFO] Base - [id:1158555867] Fetched 20 reviews (4740 fetched in total)\n",
      "2024-03-05 17:33:49,191 [INFO] Base - [id:1158555867] Fetched 20 reviews (4760 fetched in total)\n",
      "2024-03-05 17:33:54,516 [INFO] Base - [id:1158555867] Fetched 20 reviews (4780 fetched in total)\n",
      "2024-03-05 17:33:59,793 [INFO] Base - [id:1158555867] Fetched 20 reviews (4800 fetched in total)\n"
     ]
    },
    {
     "name": "stdout",
     "output_type": "stream",
     "text": [
      "Saved 4800 reviews to 1158555867_reviews_4800.csv\n"
     ]
    },
    {
     "name": "stderr",
     "output_type": "stream",
     "text": [
      "2024-03-05 17:34:05,133 [INFO] Base - [id:1158555867] Fetched 20 reviews (4820 fetched in total)\n",
      "2024-03-05 17:34:10,431 [INFO] Base - [id:1158555867] Fetched 20 reviews (4840 fetched in total)\n",
      "2024-03-05 17:34:15,668 [INFO] Base - [id:1158555867] Fetched 20 reviews (4860 fetched in total)\n",
      "2024-03-05 17:34:21,121 [INFO] Base - [id:1158555867] Fetched 20 reviews (4880 fetched in total)\n",
      "2024-03-05 17:34:26,334 [INFO] Base - [id:1158555867] Fetched 20 reviews (4900 fetched in total)\n"
     ]
    },
    {
     "name": "stdout",
     "output_type": "stream",
     "text": [
      "Saved 4900 reviews to 1158555867_reviews_4900.csv\n"
     ]
    },
    {
     "name": "stderr",
     "output_type": "stream",
     "text": [
      "2024-03-05 17:34:31,648 [INFO] Base - [id:1158555867] Fetched 20 reviews (4920 fetched in total)\n",
      "2024-03-05 17:34:37,183 [INFO] Base - [id:1158555867] Fetched 20 reviews (4940 fetched in total)\n",
      "2024-03-05 17:34:42,393 [INFO] Base - [id:1158555867] Fetched 20 reviews (4960 fetched in total)\n",
      "2024-03-05 17:34:47,599 [INFO] Base - [id:1158555867] Fetched 20 reviews (4980 fetched in total)\n",
      "2024-03-05 17:34:52,821 [INFO] Base - [id:1158555867] Fetched 20 reviews (5000 fetched in total)\n"
     ]
    },
    {
     "name": "stdout",
     "output_type": "stream",
     "text": [
      "Saved 5000 reviews to 1158555867_reviews_5000.csv\n"
     ]
    },
    {
     "name": "stderr",
     "output_type": "stream",
     "text": [
      "2024-03-05 17:34:58,136 [INFO] Base - [id:1158555867] Fetched 20 reviews (5020 fetched in total)\n",
      "2024-03-05 17:35:22,342 [INFO] Base - [id:1158555867] Fetched 20 reviews (5040 fetched in total)\n",
      "2024-03-05 17:35:27,771 [INFO] Base - [id:1158555867] Fetched 20 reviews (5060 fetched in total)\n",
      "2024-03-05 17:35:32,969 [INFO] Base - [id:1158555867] Fetched 20 reviews (5080 fetched in total)\n",
      "2024-03-05 17:35:38,188 [INFO] Base - [id:1158555867] Fetched 20 reviews (5100 fetched in total)\n"
     ]
    },
    {
     "name": "stdout",
     "output_type": "stream",
     "text": [
      "Saved 5100 reviews to 1158555867_reviews_5100.csv\n"
     ]
    },
    {
     "name": "stderr",
     "output_type": "stream",
     "text": [
      "2024-03-05 17:35:43,601 [INFO] Base - [id:1158555867] Fetched 20 reviews (5120 fetched in total)\n",
      "2024-03-05 17:35:48,814 [INFO] Base - [id:1158555867] Fetched 20 reviews (5140 fetched in total)\n",
      "2024-03-05 17:35:54,053 [INFO] Base - [id:1158555867] Fetched 20 reviews (5160 fetched in total)\n",
      "2024-03-05 17:35:59,249 [INFO] Base - [id:1158555867] Fetched 20 reviews (5180 fetched in total)\n",
      "2024-03-05 17:36:04,581 [INFO] Base - [id:1158555867] Fetched 20 reviews (5200 fetched in total)\n"
     ]
    },
    {
     "name": "stdout",
     "output_type": "stream",
     "text": [
      "Saved 5200 reviews to 1158555867_reviews_5200.csv\n"
     ]
    },
    {
     "name": "stderr",
     "output_type": "stream",
     "text": [
      "2024-03-05 17:36:10,205 [INFO] Base - [id:1158555867] Fetched 20 reviews (5220 fetched in total)\n",
      "2024-03-05 17:36:15,531 [INFO] Base - [id:1158555867] Fetched 20 reviews (5240 fetched in total)\n",
      "2024-03-05 17:36:20,911 [INFO] Base - [id:1158555867] Fetched 20 reviews (5260 fetched in total)\n",
      "2024-03-05 17:36:26,122 [INFO] Base - [id:1158555867] Fetched 20 reviews (5280 fetched in total)\n",
      "2024-03-05 17:36:31,367 [INFO] Base - [id:1158555867] Fetched 20 reviews (5300 fetched in total)\n"
     ]
    },
    {
     "name": "stdout",
     "output_type": "stream",
     "text": [
      "Saved 5300 reviews to 1158555867_reviews_5300.csv\n"
     ]
    },
    {
     "name": "stderr",
     "output_type": "stream",
     "text": [
      "2024-03-05 17:36:36,688 [INFO] Base - [id:1158555867] Fetched 20 reviews (5320 fetched in total)\n",
      "2024-03-05 17:36:41,886 [INFO] Base - [id:1158555867] Fetched 20 reviews (5340 fetched in total)\n",
      "2024-03-05 17:37:45,320 [INFO] Base - [id:1158555867] Fetched 20 reviews (5360 fetched in total)\n",
      "2024-03-05 17:37:50,511 [INFO] Base - [id:1158555867] Fetched 20 reviews (5380 fetched in total)\n",
      "2024-03-05 17:37:55,865 [INFO] Base - [id:1158555867] Fetched 20 reviews (5400 fetched in total)\n"
     ]
    },
    {
     "name": "stdout",
     "output_type": "stream",
     "text": [
      "Saved 5400 reviews to 1158555867_reviews_5400.csv\n"
     ]
    },
    {
     "name": "stderr",
     "output_type": "stream",
     "text": [
      "2024-03-05 17:38:01,174 [INFO] Base - [id:1158555867] Fetched 20 reviews (5420 fetched in total)\n",
      "2024-03-05 17:38:06,473 [INFO] Base - [id:1158555867] Fetched 20 reviews (5440 fetched in total)\n",
      "2024-03-05 17:38:12,087 [INFO] Base - [id:1158555867] Fetched 20 reviews (5460 fetched in total)\n",
      "2024-03-05 17:38:17,340 [INFO] Base - [id:1158555867] Fetched 20 reviews (5480 fetched in total)\n",
      "2024-03-05 17:38:22,582 [INFO] Base - [id:1158555867] Fetched 20 reviews (5500 fetched in total)\n"
     ]
    },
    {
     "name": "stdout",
     "output_type": "stream",
     "text": [
      "Saved 5500 reviews to 1158555867_reviews_5500.csv\n"
     ]
    },
    {
     "name": "stderr",
     "output_type": "stream",
     "text": [
      "2024-03-05 17:38:27,931 [INFO] Base - [id:1158555867] Fetched 20 reviews (5520 fetched in total)\n",
      "2024-03-05 17:53:42,779 [INFO] Base - [id:1158555867] Fetched 20 reviews (5540 fetched in total)\n",
      "2024-03-05 17:53:48,076 [INFO] Base - [id:1158555867] Fetched 20 reviews (5560 fetched in total)\n",
      "2024-03-05 17:53:53,315 [INFO] Base - [id:1158555867] Fetched 20 reviews (5580 fetched in total)\n",
      "2024-03-05 17:53:58,627 [INFO] Base - [id:1158555867] Fetched 20 reviews (5600 fetched in total)\n"
     ]
    },
    {
     "name": "stdout",
     "output_type": "stream",
     "text": [
      "Saved 5600 reviews to 1158555867_reviews_5600.csv\n"
     ]
    },
    {
     "name": "stderr",
     "output_type": "stream",
     "text": [
      "2024-03-05 17:54:04,036 [INFO] Base - [id:1158555867] Fetched 20 reviews (5620 fetched in total)\n",
      "2024-03-05 17:54:09,373 [INFO] Base - [id:1158555867] Fetched 20 reviews (5640 fetched in total)\n",
      "2024-03-05 17:54:14,592 [INFO] Base - [id:1158555867] Fetched 20 reviews (5660 fetched in total)\n",
      "2024-03-05 17:54:19,841 [INFO] Base - [id:1158555867] Fetched 20 reviews (5680 fetched in total)\n",
      "2024-03-05 17:54:25,067 [INFO] Base - [id:1158555867] Fetched 20 reviews (5700 fetched in total)\n"
     ]
    },
    {
     "name": "stdout",
     "output_type": "stream",
     "text": [
      "Saved 5700 reviews to 1158555867_reviews_5700.csv\n"
     ]
    },
    {
     "name": "stderr",
     "output_type": "stream",
     "text": [
      "2024-03-05 17:54:30,473 [INFO] Base - [id:1158555867] Fetched 20 reviews (5720 fetched in total)\n",
      "2024-03-05 18:03:09,284 [INFO] Base - [id:1158555867] Fetched 20 reviews (5740 fetched in total)\n",
      "2024-03-05 18:03:14,521 [INFO] Base - [id:1158555867] Fetched 20 reviews (5760 fetched in total)\n",
      "2024-03-05 18:03:19,769 [INFO] Base - [id:1158555867] Fetched 20 reviews (5780 fetched in total)\n",
      "2024-03-05 18:03:25,037 [INFO] Base - [id:1158555867] Fetched 20 reviews (5800 fetched in total)\n"
     ]
    },
    {
     "name": "stdout",
     "output_type": "stream",
     "text": [
      "Saved 5800 reviews to 1158555867_reviews_5800.csv\n"
     ]
    },
    {
     "name": "stderr",
     "output_type": "stream",
     "text": [
      "2024-03-05 18:03:30,362 [INFO] Base - [id:1158555867] Fetched 20 reviews (5820 fetched in total)\n",
      "2024-03-05 18:03:35,743 [INFO] Base - [id:1158555867] Fetched 20 reviews (5840 fetched in total)\n",
      "2024-03-05 18:03:40,948 [INFO] Base - [id:1158555867] Fetched 20 reviews (5860 fetched in total)\n",
      "2024-03-05 18:03:46,123 [INFO] Base - [id:1158555867] Fetched 20 reviews (5880 fetched in total)\n",
      "2024-03-05 18:03:51,289 [INFO] Base - [id:1158555867] Fetched 20 reviews (5900 fetched in total)\n"
     ]
    },
    {
     "name": "stdout",
     "output_type": "stream",
     "text": [
      "Saved 5900 reviews to 1158555867_reviews_5900.csv\n"
     ]
    },
    {
     "name": "stderr",
     "output_type": "stream",
     "text": [
      "2024-03-05 18:03:56,662 [INFO] Base - [id:1158555867] Fetched 20 reviews (5920 fetched in total)\n",
      "2024-03-05 18:04:01,872 [INFO] Base - [id:1158555867] Fetched 20 reviews (5940 fetched in total)\n",
      "2024-03-05 18:04:07,100 [INFO] Base - [id:1158555867] Fetched 20 reviews (5960 fetched in total)\n",
      "2024-03-05 18:04:12,269 [INFO] Base - [id:1158555867] Fetched 20 reviews (5980 fetched in total)\n",
      "2024-03-05 18:04:17,497 [INFO] Base - [id:1158555867] Fetched 20 reviews (6000 fetched in total)\n"
     ]
    },
    {
     "name": "stdout",
     "output_type": "stream",
     "text": [
      "Saved 6000 reviews to 1158555867_reviews_6000.csv\n"
     ]
    },
    {
     "name": "stderr",
     "output_type": "stream",
     "text": [
      "2024-03-05 18:04:23,071 [INFO] Base - [id:1158555867] Fetched 20 reviews (6020 fetched in total)\n",
      "2024-03-05 18:04:28,324 [INFO] Base - [id:1158555867] Fetched 20 reviews (6040 fetched in total)\n",
      "2024-03-05 18:04:33,538 [INFO] Base - [id:1158555867] Fetched 20 reviews (6060 fetched in total)\n",
      "2024-03-05 18:04:38,776 [INFO] Base - [id:1158555867] Fetched 20 reviews (6080 fetched in total)\n",
      "2024-03-05 18:04:43,941 [INFO] Base - [id:1158555867] Fetched 20 reviews (6100 fetched in total)\n"
     ]
    },
    {
     "name": "stdout",
     "output_type": "stream",
     "text": [
      "Saved 6100 reviews to 1158555867_reviews_6100.csv\n"
     ]
    },
    {
     "name": "stderr",
     "output_type": "stream",
     "text": [
      "2024-03-05 18:04:49,498 [INFO] Base - [id:1158555867] Fetched 20 reviews (6120 fetched in total)\n",
      "2024-03-05 18:04:54,755 [INFO] Base - [id:1158555867] Fetched 20 reviews (6140 fetched in total)\n",
      "2024-03-05 18:05:00,017 [INFO] Base - [id:1158555867] Fetched 20 reviews (6160 fetched in total)\n",
      "2024-03-05 18:05:05,430 [INFO] Base - [id:1158555867] Fetched 20 reviews (6180 fetched in total)\n",
      "2024-03-05 18:05:10,630 [INFO] Base - [id:1158555867] Fetched 20 reviews (6200 fetched in total)\n"
     ]
    },
    {
     "name": "stdout",
     "output_type": "stream",
     "text": [
      "Saved 6200 reviews to 1158555867_reviews_6200.csv\n"
     ]
    },
    {
     "name": "stderr",
     "output_type": "stream",
     "text": [
      "2024-03-05 18:05:15,997 [INFO] Base - [id:1158555867] Fetched 20 reviews (6220 fetched in total)\n",
      "2024-03-05 18:05:21,313 [INFO] Base - [id:1158555867] Fetched 20 reviews (6240 fetched in total)\n",
      "2024-03-05 18:05:26,561 [INFO] Base - [id:1158555867] Fetched 20 reviews (6260 fetched in total)\n",
      "2024-03-05 18:05:31,803 [INFO] Base - [id:1158555867] Fetched 20 reviews (6280 fetched in total)\n",
      "2024-03-05 18:05:37,090 [INFO] Base - [id:1158555867] Fetched 20 reviews (6300 fetched in total)\n"
     ]
    },
    {
     "name": "stdout",
     "output_type": "stream",
     "text": [
      "Saved 6300 reviews to 1158555867_reviews_6300.csv\n"
     ]
    },
    {
     "name": "stderr",
     "output_type": "stream",
     "text": [
      "2024-03-05 18:05:42,424 [INFO] Base - [id:1158555867] Fetched 20 reviews (6320 fetched in total)\n",
      "2024-03-05 18:05:47,628 [INFO] Base - [id:1158555867] Fetched 20 reviews (6340 fetched in total)\n",
      "2024-03-05 18:05:52,912 [INFO] Base - [id:1158555867] Fetched 20 reviews (6360 fetched in total)\n",
      "2024-03-05 18:05:58,140 [INFO] Base - [id:1158555867] Fetched 20 reviews (6380 fetched in total)\n",
      "2024-03-05 18:06:03,386 [INFO] Base - [id:1158555867] Fetched 20 reviews (6400 fetched in total)\n"
     ]
    },
    {
     "name": "stdout",
     "output_type": "stream",
     "text": [
      "Saved 6400 reviews to 1158555867_reviews_6400.csv\n"
     ]
    },
    {
     "name": "stderr",
     "output_type": "stream",
     "text": [
      "2024-03-05 18:06:08,686 [INFO] Base - [id:1158555867] Fetched 20 reviews (6420 fetched in total)\n",
      "2024-03-05 18:06:13,902 [INFO] Base - [id:1158555867] Fetched 20 reviews (6440 fetched in total)\n",
      "2024-03-05 18:06:19,152 [INFO] Base - [id:1158555867] Fetched 20 reviews (6460 fetched in total)\n",
      "2024-03-05 18:06:24,333 [INFO] Base - [id:1158555867] Fetched 20 reviews (6480 fetched in total)\n",
      "2024-03-05 18:06:29,520 [INFO] Base - [id:1158555867] Fetched 20 reviews (6500 fetched in total)\n"
     ]
    },
    {
     "name": "stdout",
     "output_type": "stream",
     "text": [
      "Saved 6500 reviews to 1158555867_reviews_6500.csv\n"
     ]
    },
    {
     "name": "stderr",
     "output_type": "stream",
     "text": [
      "2024-03-05 18:06:34,790 [INFO] Base - [id:1158555867] Fetched 20 reviews (6520 fetched in total)\n",
      "2024-03-05 18:06:40,001 [INFO] Base - [id:1158555867] Fetched 20 reviews (6540 fetched in total)\n",
      "2024-03-05 18:06:45,305 [INFO] Base - [id:1158555867] Fetched 20 reviews (6560 fetched in total)\n",
      "2024-03-05 18:06:50,479 [INFO] Base - [id:1158555867] Fetched 20 reviews (6580 fetched in total)\n",
      "2024-03-05 18:06:55,744 [INFO] Base - [id:1158555867] Fetched 20 reviews (6600 fetched in total)\n"
     ]
    },
    {
     "name": "stdout",
     "output_type": "stream",
     "text": [
      "Saved 6600 reviews to 1158555867_reviews_6600.csv\n"
     ]
    },
    {
     "name": "stderr",
     "output_type": "stream",
     "text": [
      "2024-03-05 18:07:01,106 [INFO] Base - [id:1158555867] Fetched 20 reviews (6620 fetched in total)\n",
      "2024-03-05 18:07:06,423 [INFO] Base - [id:1158555867] Fetched 20 reviews (6640 fetched in total)\n",
      "2024-03-05 18:07:11,757 [INFO] Base - [id:1158555867] Fetched 20 reviews (6660 fetched in total)\n",
      "2024-03-05 18:07:16,972 [INFO] Base - [id:1158555867] Fetched 20 reviews (6680 fetched in total)\n",
      "2024-03-05 18:07:22,218 [INFO] Base - [id:1158555867] Fetched 20 reviews (6700 fetched in total)\n"
     ]
    },
    {
     "name": "stdout",
     "output_type": "stream",
     "text": [
      "Saved 6700 reviews to 1158555867_reviews_6700.csv\n"
     ]
    },
    {
     "name": "stderr",
     "output_type": "stream",
     "text": [
      "2024-03-05 18:07:27,499 [INFO] Base - [id:1158555867] Fetched 20 reviews (6720 fetched in total)\n",
      "2024-03-05 18:07:32,698 [INFO] Base - [id:1158555867] Fetched 20 reviews (6740 fetched in total)\n",
      "2024-03-05 18:07:37,921 [INFO] Base - [id:1158555867] Fetched 20 reviews (6760 fetched in total)\n",
      "2024-03-05 18:07:43,229 [INFO] Base - [id:1158555867] Fetched 20 reviews (6780 fetched in total)\n",
      "2024-03-05 18:07:48,435 [INFO] Base - [id:1158555867] Fetched 20 reviews (6800 fetched in total)\n"
     ]
    },
    {
     "name": "stdout",
     "output_type": "stream",
     "text": [
      "Saved 6800 reviews to 1158555867_reviews_6800.csv\n"
     ]
    },
    {
     "name": "stderr",
     "output_type": "stream",
     "text": [
      "2024-03-05 18:07:53,813 [INFO] Base - [id:1158555867] Fetched 20 reviews (6820 fetched in total)\n",
      "2024-03-05 18:07:59,074 [INFO] Base - [id:1158555867] Fetched 20 reviews (6840 fetched in total)\n",
      "2024-03-05 18:08:04,286 [INFO] Base - [id:1158555867] Fetched 20 reviews (6860 fetched in total)\n",
      "2024-03-05 18:08:09,486 [INFO] Base - [id:1158555867] Fetched 20 reviews (6880 fetched in total)\n",
      "2024-03-05 18:08:14,717 [INFO] Base - [id:1158555867] Fetched 20 reviews (6900 fetched in total)\n"
     ]
    },
    {
     "name": "stdout",
     "output_type": "stream",
     "text": [
      "Saved 6900 reviews to 1158555867_reviews_6900.csv\n"
     ]
    },
    {
     "name": "stderr",
     "output_type": "stream",
     "text": [
      "2024-03-05 18:08:20,044 [INFO] Base - [id:1158555867] Fetched 20 reviews (6920 fetched in total)\n",
      "2024-03-05 18:08:25,999 [INFO] Base - [id:1158555867] Fetched 20 reviews (6940 fetched in total)\n",
      "2024-03-05 18:08:31,167 [INFO] Base - [id:1158555867] Fetched 20 reviews (6960 fetched in total)\n",
      "2024-03-05 18:08:36,403 [INFO] Base - [id:1158555867] Fetched 20 reviews (6980 fetched in total)\n",
      "2024-03-05 18:08:41,623 [INFO] Base - [id:1158555867] Fetched 20 reviews (7000 fetched in total)\n"
     ]
    },
    {
     "name": "stdout",
     "output_type": "stream",
     "text": [
      "Saved 7000 reviews to 1158555867_reviews_7000.csv\n"
     ]
    },
    {
     "name": "stderr",
     "output_type": "stream",
     "text": [
      "2024-03-05 18:08:46,970 [INFO] Base - [id:1158555867] Fetched 20 reviews (7020 fetched in total)\n",
      "2024-03-05 18:08:52,435 [INFO] Base - [id:1158555867] Fetched 20 reviews (7040 fetched in total)\n",
      "2024-03-05 18:08:57,639 [INFO] Base - [id:1158555867] Fetched 20 reviews (7060 fetched in total)\n",
      "2024-03-05 18:09:02,897 [INFO] Base - [id:1158555867] Fetched 20 reviews (7080 fetched in total)\n",
      "2024-03-05 18:09:08,084 [INFO] Base - [id:1158555867] Fetched 20 reviews (7100 fetched in total)\n"
     ]
    },
    {
     "name": "stdout",
     "output_type": "stream",
     "text": [
      "Saved 7100 reviews to 1158555867_reviews_7100.csv\n"
     ]
    },
    {
     "name": "stderr",
     "output_type": "stream",
     "text": [
      "2024-03-05 18:09:13,361 [INFO] Base - [id:1158555867] Fetched 20 reviews (7120 fetched in total)\n",
      "2024-03-05 18:09:18,590 [INFO] Base - [id:1158555867] Fetched 20 reviews (7140 fetched in total)\n",
      "2024-03-05 18:09:23,842 [INFO] Base - [id:1158555867] Fetched 20 reviews (7160 fetched in total)\n",
      "2024-03-05 18:09:29,320 [INFO] Base - [id:1158555867] Fetched 20 reviews (7180 fetched in total)\n",
      "2024-03-05 18:09:34,592 [INFO] Base - [id:1158555867] Fetched 20 reviews (7200 fetched in total)\n"
     ]
    },
    {
     "name": "stdout",
     "output_type": "stream",
     "text": [
      "Saved 7200 reviews to 1158555867_reviews_7200.csv\n"
     ]
    },
    {
     "name": "stderr",
     "output_type": "stream",
     "text": [
      "2024-03-05 18:09:39,988 [INFO] Base - [id:1158555867] Fetched 20 reviews (7220 fetched in total)\n",
      "2024-03-05 18:09:45,155 [INFO] Base - [id:1158555867] Fetched 20 reviews (7240 fetched in total)\n",
      "2024-03-05 18:09:51,110 [INFO] Base - [id:1158555867] Fetched 20 reviews (7260 fetched in total)\n",
      "2024-03-05 18:09:56,371 [INFO] Base - [id:1158555867] Fetched 20 reviews (7280 fetched in total)\n",
      "2024-03-05 18:10:01,608 [INFO] Base - [id:1158555867] Fetched 20 reviews (7300 fetched in total)\n"
     ]
    },
    {
     "name": "stdout",
     "output_type": "stream",
     "text": [
      "Saved 7300 reviews to 1158555867_reviews_7300.csv\n"
     ]
    },
    {
     "name": "stderr",
     "output_type": "stream",
     "text": [
      "2024-03-05 18:10:06,967 [INFO] Base - [id:1158555867] Fetched 20 reviews (7320 fetched in total)\n",
      "2024-03-05 18:10:12,154 [INFO] Base - [id:1158555867] Fetched 20 reviews (7340 fetched in total)\n",
      "2024-03-05 18:10:17,379 [INFO] Base - [id:1158555867] Fetched 20 reviews (7360 fetched in total)\n",
      "2024-03-05 18:10:22,584 [INFO] Base - [id:1158555867] Fetched 20 reviews (7380 fetched in total)\n",
      "2024-03-05 18:10:27,843 [INFO] Base - [id:1158555867] Fetched 20 reviews (7400 fetched in total)\n"
     ]
    },
    {
     "name": "stdout",
     "output_type": "stream",
     "text": [
      "Saved 7400 reviews to 1158555867_reviews_7400.csv\n"
     ]
    },
    {
     "name": "stderr",
     "output_type": "stream",
     "text": [
      "2024-03-05 18:10:33,313 [INFO] Base - [id:1158555867] Fetched 20 reviews (7420 fetched in total)\n",
      "2024-03-05 18:10:38,546 [INFO] Base - [id:1158555867] Fetched 20 reviews (7440 fetched in total)\n",
      "2024-03-05 18:10:43,790 [INFO] Base - [id:1158555867] Fetched 20 reviews (7460 fetched in total)\n",
      "2024-03-05 18:10:49,035 [INFO] Base - [id:1158555867] Fetched 20 reviews (7480 fetched in total)\n",
      "2024-03-05 18:10:54,245 [INFO] Base - [id:1158555867] Fetched 20 reviews (7500 fetched in total)\n"
     ]
    },
    {
     "name": "stdout",
     "output_type": "stream",
     "text": [
      "Saved 7500 reviews to 1158555867_reviews_7500.csv\n"
     ]
    },
    {
     "name": "stderr",
     "output_type": "stream",
     "text": [
      "2024-03-05 18:10:59,541 [INFO] Base - [id:1158555867] Fetched 20 reviews (7520 fetched in total)\n",
      "2024-03-05 18:11:04,745 [INFO] Base - [id:1158555867] Fetched 20 reviews (7540 fetched in total)\n",
      "2024-03-05 18:11:10,000 [INFO] Base - [id:1158555867] Fetched 20 reviews (7560 fetched in total)\n",
      "2024-03-05 18:11:15,579 [INFO] Base - [id:1158555867] Fetched 20 reviews (7580 fetched in total)\n",
      "2024-03-05 18:11:21,089 [INFO] Base - [id:1158555867] Fetched 20 reviews (7600 fetched in total)\n"
     ]
    },
    {
     "name": "stdout",
     "output_type": "stream",
     "text": [
      "Saved 7600 reviews to 1158555867_reviews_7600.csv\n"
     ]
    },
    {
     "name": "stderr",
     "output_type": "stream",
     "text": [
      "2024-03-05 18:11:26,397 [INFO] Base - [id:1158555867] Fetched 20 reviews (7620 fetched in total)\n",
      "2024-03-05 18:11:31,593 [INFO] Base - [id:1158555867] Fetched 20 reviews (7640 fetched in total)\n",
      "2024-03-05 18:11:36,979 [INFO] Base - [id:1158555867] Fetched 20 reviews (7660 fetched in total)\n",
      "2024-03-05 18:11:42,409 [INFO] Base - [id:1158555867] Fetched 20 reviews (7680 fetched in total)\n",
      "2024-03-05 18:11:47,624 [INFO] Base - [id:1158555867] Fetched 20 reviews (7700 fetched in total)\n"
     ]
    },
    {
     "name": "stdout",
     "output_type": "stream",
     "text": [
      "Saved 7700 reviews to 1158555867_reviews_7700.csv\n"
     ]
    },
    {
     "name": "stderr",
     "output_type": "stream",
     "text": [
      "2024-03-05 18:11:53,091 [INFO] Base - [id:1158555867] Fetched 20 reviews (7720 fetched in total)\n",
      "2024-03-05 18:11:58,618 [INFO] Base - [id:1158555867] Fetched 20 reviews (7740 fetched in total)\n",
      "2024-03-05 18:12:03,902 [INFO] Base - [id:1158555867] Fetched 20 reviews (7760 fetched in total)\n",
      "2024-03-05 18:12:09,090 [INFO] Base - [id:1158555867] Fetched 20 reviews (7780 fetched in total)\n",
      "2024-03-05 18:12:14,280 [INFO] Base - [id:1158555867] Fetched 20 reviews (7800 fetched in total)\n"
     ]
    },
    {
     "name": "stdout",
     "output_type": "stream",
     "text": [
      "Saved 7800 reviews to 1158555867_reviews_7800.csv\n"
     ]
    },
    {
     "name": "stderr",
     "output_type": "stream",
     "text": [
      "2024-03-05 18:12:19,604 [INFO] Base - [id:1158555867] Fetched 20 reviews (7820 fetched in total)\n",
      "2024-03-05 18:12:24,853 [INFO] Base - [id:1158555867] Fetched 20 reviews (7840 fetched in total)\n",
      "2024-03-05 18:12:30,073 [INFO] Base - [id:1158555867] Fetched 20 reviews (7860 fetched in total)\n",
      "2024-03-05 18:12:35,385 [INFO] Base - [id:1158555867] Fetched 20 reviews (7880 fetched in total)\n",
      "2024-03-05 18:12:40,714 [INFO] Base - [id:1158555867] Fetched 20 reviews (7900 fetched in total)\n"
     ]
    },
    {
     "name": "stdout",
     "output_type": "stream",
     "text": [
      "Saved 7900 reviews to 1158555867_reviews_7900.csv\n"
     ]
    },
    {
     "name": "stderr",
     "output_type": "stream",
     "text": [
      "2024-03-05 18:12:46,039 [INFO] Base - [id:1158555867] Fetched 20 reviews (7920 fetched in total)\n",
      "2024-03-05 18:12:51,247 [INFO] Base - [id:1158555867] Fetched 20 reviews (7940 fetched in total)\n",
      "2024-03-05 18:12:56,517 [INFO] Base - [id:1158555867] Fetched 20 reviews (7960 fetched in total)\n",
      "2024-03-05 18:13:01,731 [INFO] Base - [id:1158555867] Fetched 20 reviews (7980 fetched in total)\n",
      "2024-03-05 18:13:07,013 [INFO] Base - [id:1158555867] Fetched 20 reviews (8000 fetched in total)\n"
     ]
    },
    {
     "name": "stdout",
     "output_type": "stream",
     "text": [
      "Saved 8000 reviews to 1158555867_reviews_8000.csv\n"
     ]
    },
    {
     "name": "stderr",
     "output_type": "stream",
     "text": [
      "2024-03-05 18:13:12,351 [INFO] Base - [id:1158555867] Fetched 20 reviews (8020 fetched in total)\n",
      "2024-03-05 18:13:17,613 [INFO] Base - [id:1158555867] Fetched 20 reviews (8040 fetched in total)\n",
      "2024-03-05 18:13:22,863 [INFO] Base - [id:1158555867] Fetched 20 reviews (8060 fetched in total)\n",
      "2024-03-05 18:13:28,117 [INFO] Base - [id:1158555867] Fetched 20 reviews (8080 fetched in total)\n",
      "2024-03-05 18:13:33,349 [INFO] Base - [id:1158555867] Fetched 20 reviews (8100 fetched in total)\n"
     ]
    },
    {
     "name": "stdout",
     "output_type": "stream",
     "text": [
      "Saved 8100 reviews to 1158555867_reviews_8100.csv\n"
     ]
    },
    {
     "name": "stderr",
     "output_type": "stream",
     "text": [
      "2024-03-05 18:13:38,686 [INFO] Base - [id:1158555867] Fetched 20 reviews (8120 fetched in total)\n",
      "2024-03-05 18:13:43,999 [INFO] Base - [id:1158555867] Fetched 20 reviews (8140 fetched in total)\n",
      "2024-03-05 18:13:49,242 [INFO] Base - [id:1158555867] Fetched 20 reviews (8160 fetched in total)\n",
      "2024-03-05 18:13:54,475 [INFO] Base - [id:1158555867] Fetched 20 reviews (8180 fetched in total)\n",
      "2024-03-05 18:13:59,671 [INFO] Base - [id:1158555867] Fetched 20 reviews (8200 fetched in total)\n"
     ]
    },
    {
     "name": "stdout",
     "output_type": "stream",
     "text": [
      "Saved 8200 reviews to 1158555867_reviews_8200.csv\n"
     ]
    },
    {
     "name": "stderr",
     "output_type": "stream",
     "text": [
      "2024-03-05 18:14:04,984 [INFO] Base - [id:1158555867] Fetched 20 reviews (8220 fetched in total)\n",
      "2024-03-05 18:14:10,795 [INFO] Base - [id:1158555867] Fetched 20 reviews (8240 fetched in total)\n",
      "2024-03-05 18:14:16,233 [INFO] Base - [id:1158555867] Fetched 20 reviews (8260 fetched in total)\n",
      "2024-03-05 18:14:21,421 [INFO] Base - [id:1158555867] Fetched 20 reviews (8280 fetched in total)\n",
      "2024-03-05 18:14:26,811 [INFO] Base - [id:1158555867] Fetched 20 reviews (8300 fetched in total)\n"
     ]
    },
    {
     "name": "stdout",
     "output_type": "stream",
     "text": [
      "Saved 8300 reviews to 1158555867_reviews_8300.csv\n"
     ]
    },
    {
     "name": "stderr",
     "output_type": "stream",
     "text": [
      "2024-03-05 18:14:32,113 [INFO] Base - [id:1158555867] Fetched 20 reviews (8320 fetched in total)\n",
      "2024-03-05 18:14:37,290 [INFO] Base - [id:1158555867] Fetched 20 reviews (8340 fetched in total)\n",
      "2024-03-05 18:14:42,655 [INFO] Base - [id:1158555867] Fetched 20 reviews (8360 fetched in total)\n",
      "2024-03-05 18:14:47,857 [INFO] Base - [id:1158555867] Fetched 20 reviews (8380 fetched in total)\n",
      "2024-03-05 18:14:53,049 [INFO] Base - [id:1158555867] Fetched 20 reviews (8400 fetched in total)\n"
     ]
    },
    {
     "name": "stdout",
     "output_type": "stream",
     "text": [
      "Saved 8400 reviews to 1158555867_reviews_8400.csv\n"
     ]
    },
    {
     "name": "stderr",
     "output_type": "stream",
     "text": [
      "2024-03-05 18:14:58,367 [INFO] Base - [id:1158555867] Fetched 20 reviews (8420 fetched in total)\n",
      "2024-03-05 18:15:03,618 [INFO] Base - [id:1158555867] Fetched 20 reviews (8440 fetched in total)\n",
      "2024-03-05 18:15:08,807 [INFO] Base - [id:1158555867] Fetched 20 reviews (8460 fetched in total)\n",
      "2024-03-05 18:15:13,991 [INFO] Base - [id:1158555867] Fetched 20 reviews (8480 fetched in total)\n",
      "2024-03-05 18:15:19,209 [INFO] Base - [id:1158555867] Fetched 20 reviews (8500 fetched in total)\n"
     ]
    },
    {
     "name": "stdout",
     "output_type": "stream",
     "text": [
      "Saved 8500 reviews to 1158555867_reviews_8500.csv\n"
     ]
    },
    {
     "name": "stderr",
     "output_type": "stream",
     "text": [
      "2024-03-05 18:15:24,558 [INFO] Base - [id:1158555867] Fetched 20 reviews (8520 fetched in total)\n",
      "2024-03-05 18:15:29,876 [INFO] Base - [id:1158555867] Fetched 20 reviews (8540 fetched in total)\n",
      "2024-03-05 18:15:35,063 [INFO] Base - [id:1158555867] Fetched 20 reviews (8560 fetched in total)\n",
      "2024-03-05 18:15:40,266 [INFO] Base - [id:1158555867] Fetched 20 reviews (8580 fetched in total)\n",
      "2024-03-05 18:15:45,515 [INFO] Base - [id:1158555867] Fetched 20 reviews (8600 fetched in total)\n"
     ]
    },
    {
     "name": "stdout",
     "output_type": "stream",
     "text": [
      "Saved 8600 reviews to 1158555867_reviews_8600.csv\n"
     ]
    },
    {
     "name": "stderr",
     "output_type": "stream",
     "text": [
      "2024-03-05 18:15:50,840 [INFO] Base - [id:1158555867] Fetched 20 reviews (8620 fetched in total)\n",
      "2024-03-05 18:15:56,024 [INFO] Base - [id:1158555867] Fetched 20 reviews (8640 fetched in total)\n",
      "2024-03-05 18:16:01,223 [INFO] Base - [id:1158555867] Fetched 20 reviews (8660 fetched in total)\n",
      "2024-03-05 18:16:06,391 [INFO] Base - [id:1158555867] Fetched 20 reviews (8680 fetched in total)\n",
      "2024-03-05 18:16:11,866 [INFO] Base - [id:1158555867] Fetched 20 reviews (8700 fetched in total)\n"
     ]
    },
    {
     "name": "stdout",
     "output_type": "stream",
     "text": [
      "Saved 8700 reviews to 1158555867_reviews_8700.csv\n"
     ]
    },
    {
     "name": "stderr",
     "output_type": "stream",
     "text": [
      "2024-03-05 18:16:17,499 [INFO] Base - [id:1158555867] Fetched 20 reviews (8720 fetched in total)\n",
      "2024-03-05 18:16:22,781 [INFO] Base - [id:1158555867] Fetched 20 reviews (8740 fetched in total)\n",
      "2024-03-05 18:16:28,014 [INFO] Base - [id:1158555867] Fetched 20 reviews (8760 fetched in total)\n",
      "2024-03-05 18:16:33,202 [INFO] Base - [id:1158555867] Fetched 20 reviews (8780 fetched in total)\n",
      "2024-03-05 18:16:38,478 [INFO] Base - [id:1158555867] Fetched 20 reviews (8800 fetched in total)\n"
     ]
    },
    {
     "name": "stdout",
     "output_type": "stream",
     "text": [
      "Saved 8800 reviews to 1158555867_reviews_8800.csv\n"
     ]
    },
    {
     "name": "stderr",
     "output_type": "stream",
     "text": [
      "2024-03-05 18:16:43,824 [INFO] Base - [id:1158555867] Fetched 20 reviews (8820 fetched in total)\n",
      "2024-03-05 18:16:49,115 [INFO] Base - [id:1158555867] Fetched 20 reviews (8840 fetched in total)\n",
      "2024-03-05 18:16:54,367 [INFO] Base - [id:1158555867] Fetched 20 reviews (8860 fetched in total)\n",
      "2024-03-05 18:16:59,566 [INFO] Base - [id:1158555867] Fetched 20 reviews (8880 fetched in total)\n",
      "2024-03-05 18:17:05,055 [INFO] Base - [id:1158555867] Fetched 20 reviews (8900 fetched in total)\n"
     ]
    },
    {
     "name": "stdout",
     "output_type": "stream",
     "text": [
      "Saved 8900 reviews to 1158555867_reviews_8900.csv\n"
     ]
    },
    {
     "name": "stderr",
     "output_type": "stream",
     "text": [
      "2024-03-05 18:17:10,370 [INFO] Base - [id:1158555867] Fetched 20 reviews (8920 fetched in total)\n",
      "2024-03-05 18:17:15,592 [INFO] Base - [id:1158555867] Fetched 20 reviews (8940 fetched in total)\n",
      "2024-03-05 18:17:20,780 [INFO] Base - [id:1158555867] Fetched 20 reviews (8960 fetched in total)\n",
      "2024-03-05 18:17:26,002 [INFO] Base - [id:1158555867] Fetched 20 reviews (8980 fetched in total)\n",
      "2024-03-05 18:17:31,227 [INFO] Base - [id:1158555867] Fetched 20 reviews (9000 fetched in total)\n"
     ]
    },
    {
     "name": "stdout",
     "output_type": "stream",
     "text": [
      "Saved 9000 reviews to 1158555867_reviews_9000.csv\n"
     ]
    },
    {
     "name": "stderr",
     "output_type": "stream",
     "text": [
      "2024-03-05 18:17:36,534 [INFO] Base - [id:1158555867] Fetched 20 reviews (9020 fetched in total)\n",
      "2024-03-05 18:17:41,810 [INFO] Base - [id:1158555867] Fetched 20 reviews (9040 fetched in total)\n",
      "2024-03-05 18:17:47,175 [INFO] Base - [id:1158555867] Fetched 20 reviews (9060 fetched in total)\n",
      "2024-03-05 18:17:52,402 [INFO] Base - [id:1158555867] Fetched 20 reviews (9080 fetched in total)\n",
      "2024-03-05 18:17:57,650 [INFO] Base - [id:1158555867] Fetched 20 reviews (9100 fetched in total)\n"
     ]
    },
    {
     "name": "stdout",
     "output_type": "stream",
     "text": [
      "Saved 9100 reviews to 1158555867_reviews_9100.csv\n"
     ]
    },
    {
     "name": "stderr",
     "output_type": "stream",
     "text": [
      "2024-03-05 18:18:02,986 [INFO] Base - [id:1158555867] Fetched 20 reviews (9120 fetched in total)\n",
      "2024-03-05 18:18:08,223 [INFO] Base - [id:1158555867] Fetched 20 reviews (9140 fetched in total)\n",
      "2024-03-05 18:18:13,525 [INFO] Base - [id:1158555867] Fetched 20 reviews (9160 fetched in total)\n",
      "2024-03-05 18:18:18,726 [INFO] Base - [id:1158555867] Fetched 20 reviews (9180 fetched in total)\n",
      "2024-03-05 18:18:24,141 [INFO] Base - [id:1158555867] Fetched 20 reviews (9200 fetched in total)\n"
     ]
    },
    {
     "name": "stdout",
     "output_type": "stream",
     "text": [
      "Saved 9200 reviews to 1158555867_reviews_9200.csv\n"
     ]
    },
    {
     "name": "stderr",
     "output_type": "stream",
     "text": [
      "2024-03-05 18:18:29,586 [INFO] Base - [id:1158555867] Fetched 20 reviews (9220 fetched in total)\n",
      "2024-03-05 18:18:34,868 [INFO] Base - [id:1158555867] Fetched 20 reviews (9240 fetched in total)\n",
      "2024-03-05 18:18:40,072 [INFO] Base - [id:1158555867] Fetched 20 reviews (9260 fetched in total)\n",
      "2024-03-05 18:18:45,316 [INFO] Base - [id:1158555867] Fetched 20 reviews (9280 fetched in total)\n",
      "2024-03-05 18:18:50,546 [INFO] Base - [id:1158555867] Fetched 20 reviews (9300 fetched in total)\n"
     ]
    },
    {
     "name": "stdout",
     "output_type": "stream",
     "text": [
      "Saved 9300 reviews to 1158555867_reviews_9300.csv\n"
     ]
    },
    {
     "name": "stderr",
     "output_type": "stream",
     "text": [
      "2024-03-05 18:18:55,917 [INFO] Base - [id:1158555867] Fetched 20 reviews (9320 fetched in total)\n",
      "2024-03-05 18:19:01,139 [INFO] Base - [id:1158555867] Fetched 20 reviews (9340 fetched in total)\n",
      "2024-03-05 18:19:06,390 [INFO] Base - [id:1158555867] Fetched 20 reviews (9360 fetched in total)\n",
      "2024-03-05 18:19:11,614 [INFO] Base - [id:1158555867] Fetched 20 reviews (9380 fetched in total)\n",
      "2024-03-05 18:19:16,980 [INFO] Base - [id:1158555867] Fetched 20 reviews (9400 fetched in total)\n"
     ]
    },
    {
     "name": "stdout",
     "output_type": "stream",
     "text": [
      "Saved 9400 reviews to 1158555867_reviews_9400.csv\n"
     ]
    },
    {
     "name": "stderr",
     "output_type": "stream",
     "text": [
      "2024-03-05 18:19:22,389 [INFO] Base - [id:1158555867] Fetched 20 reviews (9420 fetched in total)\n",
      "2024-03-05 18:19:27,666 [INFO] Base - [id:1158555867] Fetched 20 reviews (9440 fetched in total)\n",
      "2024-03-05 18:19:32,978 [INFO] Base - [id:1158555867] Fetched 20 reviews (9460 fetched in total)\n",
      "2024-03-05 18:19:38,246 [INFO] Base - [id:1158555867] Fetched 20 reviews (9480 fetched in total)\n",
      "2024-03-05 18:19:43,467 [INFO] Base - [id:1158555867] Fetched 20 reviews (9500 fetched in total)\n"
     ]
    },
    {
     "name": "stdout",
     "output_type": "stream",
     "text": [
      "Saved 9500 reviews to 1158555867_reviews_9500.csv\n"
     ]
    },
    {
     "name": "stderr",
     "output_type": "stream",
     "text": [
      "2024-03-05 18:19:48,814 [INFO] Base - [id:1158555867] Fetched 20 reviews (9520 fetched in total)\n",
      "2024-03-05 18:19:54,102 [INFO] Base - [id:1158555867] Fetched 20 reviews (9540 fetched in total)\n",
      "2024-03-05 18:19:59,417 [INFO] Base - [id:1158555867] Fetched 20 reviews (9560 fetched in total)\n",
      "2024-03-05 18:20:04,663 [INFO] Base - [id:1158555867] Fetched 20 reviews (9580 fetched in total)\n",
      "2024-03-05 18:20:09,959 [INFO] Base - [id:1158555867] Fetched 20 reviews (9600 fetched in total)\n"
     ]
    },
    {
     "name": "stdout",
     "output_type": "stream",
     "text": [
      "Saved 9600 reviews to 1158555867_reviews_9600.csv\n"
     ]
    },
    {
     "name": "stderr",
     "output_type": "stream",
     "text": [
      "2024-03-05 18:20:15,328 [INFO] Base - [id:1158555867] Fetched 20 reviews (9620 fetched in total)\n",
      "2024-03-05 18:20:20,787 [INFO] Base - [id:1158555867] Fetched 20 reviews (9640 fetched in total)\n",
      "2024-03-05 18:20:26,206 [INFO] Base - [id:1158555867] Fetched 20 reviews (9660 fetched in total)\n",
      "2024-03-05 18:20:31,582 [INFO] Base - [id:1158555867] Fetched 20 reviews (9680 fetched in total)\n",
      "2024-03-05 18:20:36,834 [INFO] Base - [id:1158555867] Fetched 20 reviews (9700 fetched in total)\n"
     ]
    },
    {
     "name": "stdout",
     "output_type": "stream",
     "text": [
      "Saved 9700 reviews to 1158555867_reviews_9700.csv\n"
     ]
    },
    {
     "name": "stderr",
     "output_type": "stream",
     "text": [
      "2024-03-05 18:20:42,257 [INFO] Base - [id:1158555867] Fetched 20 reviews (9720 fetched in total)\n",
      "2024-03-05 18:20:47,488 [INFO] Base - [id:1158555867] Fetched 20 reviews (9740 fetched in total)\n",
      "2024-03-05 18:20:52,715 [INFO] Base - [id:1158555867] Fetched 20 reviews (9760 fetched in total)\n",
      "2024-03-05 18:20:57,965 [INFO] Base - [id:1158555867] Fetched 20 reviews (9780 fetched in total)\n",
      "2024-03-05 18:21:03,200 [INFO] Base - [id:1158555867] Fetched 20 reviews (9800 fetched in total)\n"
     ]
    },
    {
     "name": "stdout",
     "output_type": "stream",
     "text": [
      "Saved 9800 reviews to 1158555867_reviews_9800.csv\n"
     ]
    },
    {
     "name": "stderr",
     "output_type": "stream",
     "text": [
      "2024-03-05 18:21:08,507 [INFO] Base - [id:1158555867] Fetched 20 reviews (9820 fetched in total)\n",
      "2024-03-05 18:21:14,023 [INFO] Base - [id:1158555867] Fetched 20 reviews (9840 fetched in total)\n",
      "2024-03-05 18:21:19,222 [INFO] Base - [id:1158555867] Fetched 20 reviews (9860 fetched in total)\n",
      "2024-03-05 18:21:24,415 [INFO] Base - [id:1158555867] Fetched 20 reviews (9880 fetched in total)\n",
      "2024-03-05 18:21:29,593 [INFO] Base - [id:1158555867] Fetched 20 reviews (9900 fetched in total)\n"
     ]
    },
    {
     "name": "stdout",
     "output_type": "stream",
     "text": [
      "Saved 9900 reviews to 1158555867_reviews_9900.csv\n"
     ]
    },
    {
     "name": "stderr",
     "output_type": "stream",
     "text": [
      "2024-03-05 18:21:34,980 [INFO] Base - [id:1158555867] Fetched 20 reviews (9920 fetched in total)\n",
      "2024-03-05 18:21:40,186 [INFO] Base - [id:1158555867] Fetched 20 reviews (9940 fetched in total)\n",
      "2024-03-05 18:21:45,412 [INFO] Base - [id:1158555867] Fetched 20 reviews (9960 fetched in total)\n",
      "2024-03-05 18:21:50,635 [INFO] Base - [id:1158555867] Fetched 20 reviews (9980 fetched in total)\n",
      "2024-03-05 18:21:55,889 [INFO] Base - [id:1158555867] Fetched 20 reviews (10000 fetched in total)\n"
     ]
    },
    {
     "name": "stdout",
     "output_type": "stream",
     "text": [
      "Saved 10000 reviews to 1158555867_reviews_10000.csv\n"
     ]
    },
    {
     "name": "stderr",
     "output_type": "stream",
     "text": [
      "2024-03-05 18:22:01,281 [INFO] Base - [id:1158555867] Fetched 20 reviews (10020 fetched in total)\n",
      "2024-03-05 18:22:06,492 [INFO] Base - [id:1158555867] Fetched 20 reviews (10040 fetched in total)\n",
      "2024-03-05 18:22:11,748 [INFO] Base - [id:1158555867] Fetched 20 reviews (10060 fetched in total)\n",
      "2024-03-05 18:22:17,043 [INFO] Base - [id:1158555867] Fetched 20 reviews (10080 fetched in total)\n",
      "2024-03-05 18:22:22,241 [INFO] Base - [id:1158555867] Fetched 20 reviews (10100 fetched in total)\n"
     ]
    },
    {
     "name": "stdout",
     "output_type": "stream",
     "text": [
      "Saved 10100 reviews to 1158555867_reviews_10100.csv\n"
     ]
    },
    {
     "name": "stderr",
     "output_type": "stream",
     "text": [
      "2024-03-05 18:22:27,562 [INFO] Base - [id:1158555867] Fetched 20 reviews (10120 fetched in total)\n",
      "2024-03-05 18:22:32,882 [INFO] Base - [id:1158555867] Fetched 20 reviews (10140 fetched in total)\n",
      "2024-03-05 18:22:38,104 [INFO] Base - [id:1158555867] Fetched 20 reviews (10160 fetched in total)\n",
      "2024-03-05 18:23:02,006 [INFO] Base - [id:1158555867] Fetched 20 reviews (10180 fetched in total)\n",
      "2024-03-05 18:23:07,231 [INFO] Base - [id:1158555867] Fetched 20 reviews (10200 fetched in total)\n"
     ]
    },
    {
     "name": "stdout",
     "output_type": "stream",
     "text": [
      "Saved 10200 reviews to 1158555867_reviews_10200.csv\n"
     ]
    },
    {
     "name": "stderr",
     "output_type": "stream",
     "text": [
      "2024-03-05 18:23:12,562 [INFO] Base - [id:1158555867] Fetched 20 reviews (10220 fetched in total)\n",
      "2024-03-05 18:23:17,835 [INFO] Base - [id:1158555867] Fetched 20 reviews (10240 fetched in total)\n",
      "2024-03-05 18:23:22,996 [INFO] Base - [id:1158555867] Fetched 20 reviews (10260 fetched in total)\n",
      "2024-03-05 18:23:28,209 [INFO] Base - [id:1158555867] Fetched 20 reviews (10280 fetched in total)\n",
      "2024-03-05 18:23:33,494 [INFO] Base - [id:1158555867] Fetched 20 reviews (10300 fetched in total)\n"
     ]
    },
    {
     "name": "stdout",
     "output_type": "stream",
     "text": [
      "Saved 10300 reviews to 1158555867_reviews_10300.csv\n"
     ]
    },
    {
     "name": "stderr",
     "output_type": "stream",
     "text": [
      "2024-03-05 18:23:38,828 [INFO] Base - [id:1158555867] Fetched 20 reviews (10320 fetched in total)\n",
      "2024-03-05 18:23:44,068 [INFO] Base - [id:1158555867] Fetched 20 reviews (10340 fetched in total)\n",
      "2024-03-05 18:23:49,276 [INFO] Base - [id:1158555867] Fetched 20 reviews (10360 fetched in total)\n",
      "2024-03-05 18:23:54,554 [INFO] Base - [id:1158555867] Fetched 20 reviews (10380 fetched in total)\n",
      "2024-03-05 18:23:59,814 [INFO] Base - [id:1158555867] Fetched 20 reviews (10400 fetched in total)\n"
     ]
    },
    {
     "name": "stdout",
     "output_type": "stream",
     "text": [
      "Saved 10400 reviews to 1158555867_reviews_10400.csv\n"
     ]
    },
    {
     "name": "stderr",
     "output_type": "stream",
     "text": [
      "2024-03-05 18:24:05,193 [INFO] Base - [id:1158555867] Fetched 20 reviews (10420 fetched in total)\n",
      "2024-03-05 18:24:10,498 [INFO] Base - [id:1158555867] Fetched 20 reviews (10440 fetched in total)\n",
      "2024-03-05 18:24:16,003 [INFO] Base - [id:1158555867] Fetched 20 reviews (10460 fetched in total)\n",
      "2024-03-05 18:24:21,221 [INFO] Base - [id:1158555867] Fetched 20 reviews (10480 fetched in total)\n",
      "2024-03-05 18:24:26,464 [INFO] Base - [id:1158555867] Fetched 20 reviews (10500 fetched in total)\n"
     ]
    },
    {
     "name": "stdout",
     "output_type": "stream",
     "text": [
      "Saved 10500 reviews to 1158555867_reviews_10500.csv\n"
     ]
    },
    {
     "name": "stderr",
     "output_type": "stream",
     "text": [
      "2024-03-05 18:24:31,837 [INFO] Base - [id:1158555867] Fetched 20 reviews (10520 fetched in total)\n",
      "2024-03-05 18:24:37,089 [INFO] Base - [id:1158555867] Fetched 20 reviews (10540 fetched in total)\n",
      "2024-03-05 18:24:42,373 [INFO] Base - [id:1158555867] Fetched 20 reviews (10560 fetched in total)\n",
      "2024-03-05 18:24:47,604 [INFO] Base - [id:1158555867] Fetched 20 reviews (10580 fetched in total)\n",
      "2024-03-05 18:24:52,870 [INFO] Base - [id:1158555867] Fetched 20 reviews (10600 fetched in total)\n"
     ]
    },
    {
     "name": "stdout",
     "output_type": "stream",
     "text": [
      "Saved 10600 reviews to 1158555867_reviews_10600.csv\n"
     ]
    },
    {
     "name": "stderr",
     "output_type": "stream",
     "text": [
      "2024-03-05 18:24:58,261 [INFO] Base - [id:1158555867] Fetched 20 reviews (10620 fetched in total)\n",
      "2024-03-05 18:25:03,502 [INFO] Base - [id:1158555867] Fetched 20 reviews (10640 fetched in total)\n",
      "2024-03-05 18:25:08,805 [INFO] Base - [id:1158555867] Fetched 20 reviews (10660 fetched in total)\n",
      "2024-03-05 18:25:14,015 [INFO] Base - [id:1158555867] Fetched 20 reviews (10680 fetched in total)\n",
      "2024-03-05 18:25:19,327 [INFO] Base - [id:1158555867] Fetched 20 reviews (10700 fetched in total)\n"
     ]
    },
    {
     "name": "stdout",
     "output_type": "stream",
     "text": [
      "Saved 10700 reviews to 1158555867_reviews_10700.csv\n"
     ]
    },
    {
     "name": "stderr",
     "output_type": "stream",
     "text": [
      "2024-03-05 18:25:24,653 [INFO] Base - [id:1158555867] Fetched 20 reviews (10720 fetched in total)\n",
      "2024-03-05 18:25:29,931 [INFO] Base - [id:1158555867] Fetched 20 reviews (10740 fetched in total)\n",
      "2024-03-05 18:25:35,211 [INFO] Base - [id:1158555867] Fetched 20 reviews (10760 fetched in total)\n",
      "2024-03-05 18:25:40,502 [INFO] Base - [id:1158555867] Fetched 20 reviews (10780 fetched in total)\n",
      "2024-03-05 18:25:45,719 [INFO] Base - [id:1158555867] Fetched 20 reviews (10800 fetched in total)\n"
     ]
    },
    {
     "name": "stdout",
     "output_type": "stream",
     "text": [
      "Saved 10800 reviews to 1158555867_reviews_10800.csv\n"
     ]
    },
    {
     "name": "stderr",
     "output_type": "stream",
     "text": [
      "2024-03-05 18:25:51,052 [INFO] Base - [id:1158555867] Fetched 20 reviews (10820 fetched in total)\n",
      "2024-03-05 18:25:56,336 [INFO] Base - [id:1158555867] Fetched 20 reviews (10840 fetched in total)\n",
      "2024-03-05 18:26:01,616 [INFO] Base - [id:1158555867] Fetched 20 reviews (10860 fetched in total)\n",
      "2024-03-05 18:26:06,851 [INFO] Base - [id:1158555867] Fetched 20 reviews (10880 fetched in total)\n",
      "2024-03-05 18:26:12,074 [INFO] Base - [id:1158555867] Fetched 20 reviews (10900 fetched in total)\n"
     ]
    },
    {
     "name": "stdout",
     "output_type": "stream",
     "text": [
      "Saved 10900 reviews to 1158555867_reviews_10900.csv\n"
     ]
    },
    {
     "name": "stderr",
     "output_type": "stream",
     "text": [
      "2024-03-05 18:26:17,438 [INFO] Base - [id:1158555867] Fetched 20 reviews (10920 fetched in total)\n",
      "2024-03-05 18:26:22,667 [INFO] Base - [id:1158555867] Fetched 20 reviews (10940 fetched in total)\n",
      "2024-03-05 18:26:27,884 [INFO] Base - [id:1158555867] Fetched 20 reviews (10960 fetched in total)\n",
      "2024-03-05 18:26:33,114 [INFO] Base - [id:1158555867] Fetched 20 reviews (10980 fetched in total)\n",
      "2024-03-05 18:26:38,331 [INFO] Base - [id:1158555867] Fetched 20 reviews (11000 fetched in total)\n"
     ]
    },
    {
     "name": "stdout",
     "output_type": "stream",
     "text": [
      "Saved 11000 reviews to 1158555867_reviews_11000.csv\n"
     ]
    },
    {
     "name": "stderr",
     "output_type": "stream",
     "text": [
      "2024-03-05 18:26:43,811 [INFO] Base - [id:1158555867] Fetched 20 reviews (11020 fetched in total)\n",
      "2024-03-05 18:26:49,068 [INFO] Base - [id:1158555867] Fetched 20 reviews (11040 fetched in total)\n",
      "2024-03-05 18:26:54,252 [INFO] Base - [id:1158555867] Fetched 20 reviews (11060 fetched in total)\n",
      "2024-03-05 18:26:59,454 [INFO] Base - [id:1158555867] Fetched 20 reviews (11080 fetched in total)\n",
      "2024-03-05 18:27:04,635 [INFO] Base - [id:1158555867] Fetched 20 reviews (11100 fetched in total)\n"
     ]
    },
    {
     "name": "stdout",
     "output_type": "stream",
     "text": [
      "Saved 11100 reviews to 1158555867_reviews_11100.csv\n"
     ]
    },
    {
     "name": "stderr",
     "output_type": "stream",
     "text": [
      "2024-03-05 18:27:09,941 [INFO] Base - [id:1158555867] Fetched 20 reviews (11120 fetched in total)\n",
      "2024-03-05 18:27:15,159 [INFO] Base - [id:1158555867] Fetched 20 reviews (11140 fetched in total)\n",
      "2024-03-05 18:27:20,369 [INFO] Base - [id:1158555867] Fetched 20 reviews (11160 fetched in total)\n",
      "2024-03-05 18:27:25,559 [INFO] Base - [id:1158555867] Fetched 20 reviews (11180 fetched in total)\n",
      "2024-03-05 18:27:30,860 [INFO] Base - [id:1158555867] Fetched 20 reviews (11200 fetched in total)\n"
     ]
    },
    {
     "name": "stdout",
     "output_type": "stream",
     "text": [
      "Saved 11200 reviews to 1158555867_reviews_11200.csv\n"
     ]
    },
    {
     "name": "stderr",
     "output_type": "stream",
     "text": [
      "2024-03-05 18:27:36,179 [INFO] Base - [id:1158555867] Fetched 20 reviews (11220 fetched in total)\n",
      "2024-03-05 18:27:41,404 [INFO] Base - [id:1158555867] Fetched 20 reviews (11240 fetched in total)\n",
      "2024-03-05 18:27:46,661 [INFO] Base - [id:1158555867] Fetched 20 reviews (11260 fetched in total)\n",
      "2024-03-05 18:27:51,938 [INFO] Base - [id:1158555867] Fetched 20 reviews (11280 fetched in total)\n",
      "2024-03-05 18:27:57,159 [INFO] Base - [id:1158555867] Fetched 20 reviews (11300 fetched in total)\n"
     ]
    },
    {
     "name": "stdout",
     "output_type": "stream",
     "text": [
      "Saved 11300 reviews to 1158555867_reviews_11300.csv\n"
     ]
    },
    {
     "name": "stderr",
     "output_type": "stream",
     "text": [
      "2024-03-05 18:28:02,493 [INFO] Base - [id:1158555867] Fetched 20 reviews (11320 fetched in total)\n",
      "2024-03-05 18:28:07,721 [INFO] Base - [id:1158555867] Fetched 20 reviews (11340 fetched in total)\n",
      "2024-03-05 18:28:12,972 [INFO] Base - [id:1158555867] Fetched 20 reviews (11360 fetched in total)\n",
      "2024-03-05 18:28:18,162 [INFO] Base - [id:1158555867] Fetched 20 reviews (11380 fetched in total)\n",
      "2024-03-05 18:28:23,816 [INFO] Base - [id:1158555867] Fetched 20 reviews (11400 fetched in total)\n"
     ]
    },
    {
     "name": "stdout",
     "output_type": "stream",
     "text": [
      "Saved 11400 reviews to 1158555867_reviews_11400.csv\n"
     ]
    },
    {
     "name": "stderr",
     "output_type": "stream",
     "text": [
      "2024-03-05 18:28:29,157 [INFO] Base - [id:1158555867] Fetched 20 reviews (11420 fetched in total)\n",
      "2024-03-05 18:28:34,380 [INFO] Base - [id:1158555867] Fetched 20 reviews (11440 fetched in total)\n",
      "2024-03-05 18:28:39,670 [INFO] Base - [id:1158555867] Fetched 20 reviews (11460 fetched in total)\n",
      "2024-03-05 18:28:45,079 [INFO] Base - [id:1158555867] Fetched 20 reviews (11480 fetched in total)\n",
      "2024-03-05 18:28:50,356 [INFO] Base - [id:1158555867] Fetched 20 reviews (11500 fetched in total)\n"
     ]
    },
    {
     "name": "stdout",
     "output_type": "stream",
     "text": [
      "Saved 11500 reviews to 1158555867_reviews_11500.csv\n"
     ]
    },
    {
     "name": "stderr",
     "output_type": "stream",
     "text": [
      "2024-03-05 18:28:55,794 [INFO] Base - [id:1158555867] Fetched 20 reviews (11520 fetched in total)\n",
      "2024-03-05 18:29:01,017 [INFO] Base - [id:1158555867] Fetched 20 reviews (11540 fetched in total)\n",
      "2024-03-05 18:29:06,265 [INFO] Base - [id:1158555867] Fetched 20 reviews (11560 fetched in total)\n",
      "2024-03-05 18:29:11,521 [INFO] Base - [id:1158555867] Fetched 20 reviews (11580 fetched in total)\n",
      "2024-03-05 18:29:16,772 [INFO] Base - [id:1158555867] Fetched 20 reviews (11600 fetched in total)\n"
     ]
    },
    {
     "name": "stdout",
     "output_type": "stream",
     "text": [
      "Saved 11600 reviews to 1158555867_reviews_11600.csv\n"
     ]
    },
    {
     "name": "stderr",
     "output_type": "stream",
     "text": [
      "2024-03-05 18:29:22,149 [INFO] Base - [id:1158555867] Fetched 20 reviews (11620 fetched in total)\n",
      "2024-03-05 18:29:27,352 [INFO] Base - [id:1158555867] Fetched 20 reviews (11640 fetched in total)\n",
      "2024-03-05 18:29:32,606 [INFO] Base - [id:1158555867] Fetched 20 reviews (11660 fetched in total)\n",
      "2024-03-05 18:29:37,794 [INFO] Base - [id:1158555867] Fetched 20 reviews (11680 fetched in total)\n",
      "2024-03-05 18:29:43,089 [INFO] Base - [id:1158555867] Fetched 20 reviews (11700 fetched in total)\n"
     ]
    },
    {
     "name": "stdout",
     "output_type": "stream",
     "text": [
      "Saved 11700 reviews to 1158555867_reviews_11700.csv\n"
     ]
    },
    {
     "name": "stderr",
     "output_type": "stream",
     "text": [
      "2024-03-05 18:29:48,560 [INFO] Base - [id:1158555867] Fetched 20 reviews (11720 fetched in total)\n",
      "2024-03-05 18:29:53,821 [INFO] Base - [id:1158555867] Fetched 20 reviews (11740 fetched in total)\n",
      "2024-03-05 18:29:59,066 [INFO] Base - [id:1158555867] Fetched 20 reviews (11760 fetched in total)\n",
      "2024-03-05 18:30:04,331 [INFO] Base - [id:1158555867] Fetched 20 reviews (11780 fetched in total)\n",
      "2024-03-05 18:30:09,570 [INFO] Base - [id:1158555867] Fetched 20 reviews (11800 fetched in total)\n"
     ]
    },
    {
     "name": "stdout",
     "output_type": "stream",
     "text": [
      "Saved 11800 reviews to 1158555867_reviews_11800.csv\n"
     ]
    },
    {
     "name": "stderr",
     "output_type": "stream",
     "text": [
      "2024-03-05 18:30:14,924 [INFO] Base - [id:1158555867] Fetched 20 reviews (11820 fetched in total)\n",
      "2024-03-05 18:30:20,148 [INFO] Base - [id:1158555867] Fetched 20 reviews (11840 fetched in total)\n",
      "2024-03-05 18:30:25,357 [INFO] Base - [id:1158555867] Fetched 20 reviews (11860 fetched in total)\n",
      "2024-03-05 18:30:31,001 [INFO] Base - [id:1158555867] Fetched 20 reviews (11880 fetched in total)\n",
      "2024-03-05 18:30:36,353 [INFO] Base - [id:1158555867] Fetched 20 reviews (11900 fetched in total)\n"
     ]
    },
    {
     "name": "stdout",
     "output_type": "stream",
     "text": [
      "Saved 11900 reviews to 1158555867_reviews_11900.csv\n"
     ]
    },
    {
     "name": "stderr",
     "output_type": "stream",
     "text": [
      "2024-03-05 18:30:41,768 [INFO] Base - [id:1158555867] Fetched 20 reviews (11920 fetched in total)\n",
      "2024-03-05 18:30:47,072 [INFO] Base - [id:1158555867] Fetched 20 reviews (11940 fetched in total)\n",
      "2024-03-05 18:30:52,608 [INFO] Base - [id:1158555867] Fetched 20 reviews (11960 fetched in total)\n",
      "2024-03-05 18:30:57,803 [INFO] Base - [id:1158555867] Fetched 20 reviews (11980 fetched in total)\n",
      "2024-03-05 18:31:03,037 [INFO] Base - [id:1158555867] Fetched 20 reviews (12000 fetched in total)\n"
     ]
    },
    {
     "name": "stdout",
     "output_type": "stream",
     "text": [
      "Saved 12000 reviews to 1158555867_reviews_12000.csv\n"
     ]
    },
    {
     "name": "stderr",
     "output_type": "stream",
     "text": [
      "2024-03-05 18:31:08,501 [INFO] Base - [id:1158555867] Fetched 20 reviews (12020 fetched in total)\n",
      "2024-03-05 18:31:13,700 [INFO] Base - [id:1158555867] Fetched 20 reviews (12040 fetched in total)\n",
      "2024-03-05 18:31:19,016 [INFO] Base - [id:1158555867] Fetched 20 reviews (12060 fetched in total)\n",
      "2024-03-05 18:31:24,209 [INFO] Base - [id:1158555867] Fetched 20 reviews (12080 fetched in total)\n",
      "2024-03-05 18:31:29,446 [INFO] Base - [id:1158555867] Fetched 20 reviews (12100 fetched in total)\n"
     ]
    },
    {
     "name": "stdout",
     "output_type": "stream",
     "text": [
      "Saved 12100 reviews to 1158555867_reviews_12100.csv\n"
     ]
    },
    {
     "name": "stderr",
     "output_type": "stream",
     "text": [
      "2024-03-05 18:31:34,770 [INFO] Base - [id:1158555867] Fetched 20 reviews (12120 fetched in total)\n",
      "2024-03-05 18:31:40,021 [INFO] Base - [id:1158555867] Fetched 20 reviews (12140 fetched in total)\n",
      "2024-03-05 18:31:45,261 [INFO] Base - [id:1158555867] Fetched 20 reviews (12160 fetched in total)\n",
      "2024-03-05 18:31:50,463 [INFO] Base - [id:1158555867] Fetched 20 reviews (12180 fetched in total)\n",
      "2024-03-05 18:31:55,703 [INFO] Base - [id:1158555867] Fetched 20 reviews (12200 fetched in total)\n"
     ]
    },
    {
     "name": "stdout",
     "output_type": "stream",
     "text": [
      "Saved 12200 reviews to 1158555867_reviews_12200.csv\n"
     ]
    },
    {
     "name": "stderr",
     "output_type": "stream",
     "text": [
      "2024-03-05 18:32:01,058 [INFO] Base - [id:1158555867] Fetched 20 reviews (12220 fetched in total)\n",
      "2024-03-05 18:32:06,264 [INFO] Base - [id:1158555867] Fetched 20 reviews (12240 fetched in total)\n",
      "2024-03-05 18:32:11,532 [INFO] Base - [id:1158555867] Fetched 20 reviews (12260 fetched in total)\n",
      "2024-03-05 18:32:16,763 [INFO] Base - [id:1158555867] Fetched 20 reviews (12280 fetched in total)\n",
      "2024-03-05 18:32:22,058 [INFO] Base - [id:1158555867] Fetched 20 reviews (12300 fetched in total)\n"
     ]
    },
    {
     "name": "stdout",
     "output_type": "stream",
     "text": [
      "Saved 12300 reviews to 1158555867_reviews_12300.csv\n"
     ]
    },
    {
     "name": "stderr",
     "output_type": "stream",
     "text": [
      "2024-03-05 18:32:27,449 [INFO] Base - [id:1158555867] Fetched 20 reviews (12320 fetched in total)\n",
      "2024-03-05 18:32:33,167 [INFO] Base - [id:1158555867] Fetched 20 reviews (12340 fetched in total)\n",
      "2024-03-05 18:32:38,601 [INFO] Base - [id:1158555867] Fetched 20 reviews (12360 fetched in total)\n",
      "2024-03-05 18:32:43,845 [INFO] Base - [id:1158555867] Fetched 20 reviews (12380 fetched in total)\n",
      "2024-03-05 18:32:49,105 [INFO] Base - [id:1158555867] Fetched 20 reviews (12400 fetched in total)\n"
     ]
    },
    {
     "name": "stdout",
     "output_type": "stream",
     "text": [
      "Saved 12400 reviews to 1158555867_reviews_12400.csv\n"
     ]
    },
    {
     "name": "stderr",
     "output_type": "stream",
     "text": [
      "2024-03-05 18:32:54,606 [INFO] Base - [id:1158555867] Fetched 20 reviews (12420 fetched in total)\n",
      "2024-03-05 18:32:59,819 [INFO] Base - [id:1158555867] Fetched 20 reviews (12440 fetched in total)\n",
      "2024-03-05 18:33:05,072 [INFO] Base - [id:1158555867] Fetched 20 reviews (12460 fetched in total)\n",
      "2024-03-05 18:33:10,416 [INFO] Base - [id:1158555867] Fetched 20 reviews (12480 fetched in total)\n",
      "2024-03-05 18:33:15,706 [INFO] Base - [id:1158555867] Fetched 20 reviews (12500 fetched in total)\n"
     ]
    },
    {
     "name": "stdout",
     "output_type": "stream",
     "text": [
      "Saved 12500 reviews to 1158555867_reviews_12500.csv\n"
     ]
    },
    {
     "name": "stderr",
     "output_type": "stream",
     "text": [
      "2024-03-05 18:33:21,051 [INFO] Base - [id:1158555867] Fetched 20 reviews (12520 fetched in total)\n",
      "2024-03-05 18:33:26,315 [INFO] Base - [id:1158555867] Fetched 20 reviews (12540 fetched in total)\n",
      "2024-03-05 18:33:31,576 [INFO] Base - [id:1158555867] Fetched 20 reviews (12560 fetched in total)\n",
      "2024-03-05 18:33:36,812 [INFO] Base - [id:1158555867] Fetched 20 reviews (12580 fetched in total)\n",
      "2024-03-05 18:33:42,139 [INFO] Base - [id:1158555867] Fetched 20 reviews (12600 fetched in total)\n"
     ]
    },
    {
     "name": "stdout",
     "output_type": "stream",
     "text": [
      "Saved 12600 reviews to 1158555867_reviews_12600.csv\n"
     ]
    },
    {
     "name": "stderr",
     "output_type": "stream",
     "text": [
      "2024-03-05 18:33:47,548 [INFO] Base - [id:1158555867] Fetched 20 reviews (12620 fetched in total)\n",
      "2024-03-05 18:33:52,798 [INFO] Base - [id:1158555867] Fetched 20 reviews (12640 fetched in total)\n",
      "2024-03-05 18:33:58,058 [INFO] Base - [id:1158555867] Fetched 20 reviews (12660 fetched in total)\n",
      "2024-03-05 18:34:03,319 [INFO] Base - [id:1158555867] Fetched 20 reviews (12680 fetched in total)\n",
      "2024-03-05 18:34:08,614 [INFO] Base - [id:1158555867] Fetched 20 reviews (12700 fetched in total)\n"
     ]
    },
    {
     "name": "stdout",
     "output_type": "stream",
     "text": [
      "Saved 12700 reviews to 1158555867_reviews_12700.csv\n"
     ]
    },
    {
     "name": "stderr",
     "output_type": "stream",
     "text": [
      "2024-03-05 18:34:13,987 [INFO] Base - [id:1158555867] Fetched 20 reviews (12720 fetched in total)\n",
      "2024-03-05 18:34:19,265 [INFO] Base - [id:1158555867] Fetched 20 reviews (12740 fetched in total)\n",
      "2024-03-05 18:34:24,542 [INFO] Base - [id:1158555867] Fetched 20 reviews (12760 fetched in total)\n",
      "2024-03-05 18:34:29,772 [INFO] Base - [id:1158555867] Fetched 20 reviews (12780 fetched in total)\n",
      "2024-03-05 18:34:34,981 [INFO] Base - [id:1158555867] Fetched 20 reviews (12800 fetched in total)\n"
     ]
    },
    {
     "name": "stdout",
     "output_type": "stream",
     "text": [
      "Saved 12800 reviews to 1158555867_reviews_12800.csv\n"
     ]
    },
    {
     "name": "stderr",
     "output_type": "stream",
     "text": [
      "2024-03-05 18:34:40,352 [INFO] Base - [id:1158555867] Fetched 20 reviews (12820 fetched in total)\n",
      "2024-03-05 18:34:45,584 [INFO] Base - [id:1158555867] Fetched 20 reviews (12840 fetched in total)\n",
      "2024-03-05 18:34:50,816 [INFO] Base - [id:1158555867] Fetched 20 reviews (12860 fetched in total)\n",
      "2024-03-05 18:34:56,031 [INFO] Base - [id:1158555867] Fetched 20 reviews (12880 fetched in total)\n",
      "2024-03-05 18:35:01,270 [INFO] Base - [id:1158555867] Fetched 20 reviews (12900 fetched in total)\n"
     ]
    },
    {
     "name": "stdout",
     "output_type": "stream",
     "text": [
      "Saved 12900 reviews to 1158555867_reviews_12900.csv\n"
     ]
    },
    {
     "name": "stderr",
     "output_type": "stream",
     "text": [
      "2024-03-05 18:35:06,659 [INFO] Base - [id:1158555867] Fetched 20 reviews (12920 fetched in total)\n",
      "2024-03-05 18:35:11,867 [INFO] Base - [id:1158555867] Fetched 20 reviews (12940 fetched in total)\n",
      "2024-03-05 18:35:17,167 [INFO] Base - [id:1158555867] Fetched 20 reviews (12960 fetched in total)\n",
      "2024-03-05 18:35:22,403 [INFO] Base - [id:1158555867] Fetched 20 reviews (12980 fetched in total)\n",
      "2024-03-05 18:35:27,609 [INFO] Base - [id:1158555867] Fetched 20 reviews (13000 fetched in total)\n"
     ]
    },
    {
     "name": "stdout",
     "output_type": "stream",
     "text": [
      "Saved 13000 reviews to 1158555867_reviews_13000.csv\n"
     ]
    },
    {
     "name": "stderr",
     "output_type": "stream",
     "text": [
      "2024-03-05 18:35:33,019 [INFO] Base - [id:1158555867] Fetched 20 reviews (13020 fetched in total)\n",
      "2024-03-05 18:35:38,281 [INFO] Base - [id:1158555867] Fetched 20 reviews (13040 fetched in total)\n",
      "2024-03-05 18:35:43,513 [INFO] Base - [id:1158555867] Fetched 20 reviews (13060 fetched in total)\n",
      "2024-03-05 18:35:48,746 [INFO] Base - [id:1158555867] Fetched 20 reviews (13080 fetched in total)\n",
      "2024-03-05 18:35:54,194 [INFO] Base - [id:1158555867] Fetched 20 reviews (13100 fetched in total)\n"
     ]
    },
    {
     "name": "stdout",
     "output_type": "stream",
     "text": [
      "Saved 13100 reviews to 1158555867_reviews_13100.csv\n"
     ]
    },
    {
     "name": "stderr",
     "output_type": "stream",
     "text": [
      "2024-03-05 18:35:59,563 [INFO] Base - [id:1158555867] Fetched 20 reviews (13120 fetched in total)\n",
      "2024-03-05 18:36:04,809 [INFO] Base - [id:1158555867] Fetched 20 reviews (13140 fetched in total)\n",
      "2024-03-05 18:36:10,150 [INFO] Base - [id:1158555867] Fetched 20 reviews (13160 fetched in total)\n",
      "2024-03-05 18:36:15,379 [INFO] Base - [id:1158555867] Fetched 20 reviews (13180 fetched in total)\n",
      "2024-03-05 18:37:48,315 [INFO] Base - [id:1158555867] Fetched 20 reviews (13200 fetched in total)\n"
     ]
    },
    {
     "name": "stdout",
     "output_type": "stream",
     "text": [
      "Saved 13200 reviews to 1158555867_reviews_13200.csv\n"
     ]
    },
    {
     "name": "stderr",
     "output_type": "stream",
     "text": [
      "2024-03-05 18:37:53,629 [INFO] Base - [id:1158555867] Fetched 20 reviews (13220 fetched in total)\n",
      "2024-03-05 18:37:58,838 [INFO] Base - [id:1158555867] Fetched 20 reviews (13240 fetched in total)\n",
      "2024-03-05 18:38:04,094 [INFO] Base - [id:1158555867] Fetched 20 reviews (13260 fetched in total)\n",
      "2024-03-05 18:38:09,767 [INFO] Base - [id:1158555867] Fetched 20 reviews (13280 fetched in total)\n",
      "2024-03-05 18:38:15,009 [INFO] Base - [id:1158555867] Fetched 20 reviews (13300 fetched in total)\n"
     ]
    },
    {
     "name": "stdout",
     "output_type": "stream",
     "text": [
      "Saved 13300 reviews to 1158555867_reviews_13300.csv\n"
     ]
    },
    {
     "name": "stderr",
     "output_type": "stream",
     "text": [
      "2024-03-05 18:38:20,420 [INFO] Base - [id:1158555867] Fetched 20 reviews (13320 fetched in total)\n",
      "2024-03-05 18:38:25,629 [INFO] Base - [id:1158555867] Fetched 20 reviews (13340 fetched in total)\n",
      "2024-03-05 18:38:30,852 [INFO] Base - [id:1158555867] Fetched 20 reviews (13360 fetched in total)\n",
      "2024-03-05 18:54:33,670 [INFO] Base - [id:1158555867] Fetched 20 reviews (13380 fetched in total)\n",
      "2024-03-05 18:54:38,929 [INFO] Base - [id:1158555867] Fetched 20 reviews (13400 fetched in total)\n"
     ]
    },
    {
     "name": "stdout",
     "output_type": "stream",
     "text": [
      "Saved 13400 reviews to 1158555867_reviews_13400.csv\n"
     ]
    },
    {
     "name": "stderr",
     "output_type": "stream",
     "text": [
      "2024-03-05 18:54:44,287 [INFO] Base - [id:1158555867] Fetched 20 reviews (13420 fetched in total)\n",
      "2024-03-05 18:54:49,624 [INFO] Base - [id:1158555867] Fetched 20 reviews (13440 fetched in total)\n",
      "2024-03-05 18:54:55,169 [INFO] Base - [id:1158555867] Fetched 20 reviews (13460 fetched in total)\n",
      "2024-03-05 18:55:00,438 [INFO] Base - [id:1158555867] Fetched 20 reviews (13480 fetched in total)\n",
      "2024-03-05 18:55:05,661 [INFO] Base - [id:1158555867] Fetched 20 reviews (13500 fetched in total)\n"
     ]
    },
    {
     "name": "stdout",
     "output_type": "stream",
     "text": [
      "Saved 13500 reviews to 1158555867_reviews_13500.csv\n"
     ]
    },
    {
     "name": "stderr",
     "output_type": "stream",
     "text": [
      "2024-03-05 18:55:11,080 [INFO] Base - [id:1158555867] Fetched 20 reviews (13520 fetched in total)\n",
      "2024-03-05 18:55:16,349 [INFO] Base - [id:1158555867] Fetched 20 reviews (13540 fetched in total)\n",
      "2024-03-05 18:59:00,258 [INFO] Base - [id:1158555867] Fetched 20 reviews (13560 fetched in total)\n",
      "2024-03-05 18:59:05,571 [INFO] Base - [id:1158555867] Fetched 20 reviews (13580 fetched in total)\n",
      "2024-03-05 18:59:10,776 [INFO] Base - [id:1158555867] Fetched 20 reviews (13600 fetched in total)\n"
     ]
    },
    {
     "name": "stdout",
     "output_type": "stream",
     "text": [
      "Saved 13600 reviews to 1158555867_reviews_13600.csv\n"
     ]
    },
    {
     "name": "stderr",
     "output_type": "stream",
     "text": [
      "2024-03-05 18:59:16,145 [INFO] Base - [id:1158555867] Fetched 20 reviews (13620 fetched in total)\n",
      "2024-03-05 18:59:22,199 [INFO] Base - [id:1158555867] Fetched 20 reviews (13640 fetched in total)\n",
      "2024-03-05 18:59:27,703 [INFO] Base - [id:1158555867] Fetched 20 reviews (13660 fetched in total)\n",
      "2024-03-05 18:59:32,922 [INFO] Base - [id:1158555867] Fetched 20 reviews (13680 fetched in total)\n",
      "2024-03-05 18:59:38,208 [INFO] Base - [id:1158555867] Fetched 20 reviews (13700 fetched in total)\n"
     ]
    },
    {
     "name": "stdout",
     "output_type": "stream",
     "text": [
      "Saved 13700 reviews to 1158555867_reviews_13700.csv\n"
     ]
    },
    {
     "name": "stderr",
     "output_type": "stream",
     "text": [
      "2024-03-05 18:59:43,574 [INFO] Base - [id:1158555867] Fetched 20 reviews (13720 fetched in total)\n",
      "2024-03-05 18:59:48,817 [INFO] Base - [id:1158555867] Fetched 20 reviews (13740 fetched in total)\n",
      "2024-03-05 18:59:54,260 [INFO] Base - [id:1158555867] Fetched 20 reviews (13760 fetched in total)\n",
      "2024-03-05 18:59:59,483 [INFO] Base - [id:1158555867] Fetched 20 reviews (13780 fetched in total)\n",
      "2024-03-05 19:00:04,693 [INFO] Base - [id:1158555867] Fetched 20 reviews (13800 fetched in total)\n"
     ]
    },
    {
     "name": "stdout",
     "output_type": "stream",
     "text": [
      "Saved 13800 reviews to 1158555867_reviews_13800.csv\n"
     ]
    },
    {
     "name": "stderr",
     "output_type": "stream",
     "text": [
      "2024-03-05 19:00:10,062 [INFO] Base - [id:1158555867] Fetched 20 reviews (13820 fetched in total)\n",
      "2024-03-05 19:00:16,754 [INFO] Base - [id:1158555867] Fetched 20 reviews (13840 fetched in total)\n",
      "2024-03-05 19:00:22,231 [INFO] Base - [id:1158555867] Fetched 20 reviews (13860 fetched in total)\n",
      "2024-03-05 19:00:27,460 [INFO] Base - [id:1158555867] Fetched 20 reviews (13880 fetched in total)\n",
      "2024-03-05 19:00:32,681 [INFO] Base - [id:1158555867] Fetched 20 reviews (13900 fetched in total)\n"
     ]
    },
    {
     "name": "stdout",
     "output_type": "stream",
     "text": [
      "Saved 13900 reviews to 1158555867_reviews_13900.csv\n"
     ]
    },
    {
     "name": "stderr",
     "output_type": "stream",
     "text": [
      "2024-03-05 19:00:37,962 [INFO] Base - [id:1158555867] Fetched 20 reviews (13920 fetched in total)\n",
      "2024-03-05 19:00:43,294 [INFO] Base - [id:1158555867] Fetched 20 reviews (13940 fetched in total)\n",
      "2024-03-05 19:00:48,766 [INFO] Base - [id:1158555867] Fetched 20 reviews (13960 fetched in total)\n",
      "2024-03-05 19:00:54,437 [INFO] Base - [id:1158555867] Fetched 20 reviews (13980 fetched in total)\n",
      "2024-03-05 19:00:59,656 [INFO] Base - [id:1158555867] Fetched 20 reviews (14000 fetched in total)\n"
     ]
    },
    {
     "name": "stdout",
     "output_type": "stream",
     "text": [
      "Saved 14000 reviews to 1158555867_reviews_14000.csv\n"
     ]
    },
    {
     "name": "stderr",
     "output_type": "stream",
     "text": [
      "2024-03-05 19:01:04,987 [INFO] Base - [id:1158555867] Fetched 20 reviews (14020 fetched in total)\n",
      "2024-03-05 19:01:10,229 [INFO] Base - [id:1158555867] Fetched 20 reviews (14040 fetched in total)\n",
      "2024-03-05 19:01:15,459 [INFO] Base - [id:1158555867] Fetched 20 reviews (14060 fetched in total)\n",
      "2024-03-05 19:01:21,141 [INFO] Base - [id:1158555867] Fetched 20 reviews (14080 fetched in total)\n",
      "2024-03-05 19:01:26,361 [INFO] Base - [id:1158555867] Fetched 20 reviews (14100 fetched in total)\n"
     ]
    },
    {
     "name": "stdout",
     "output_type": "stream",
     "text": [
      "Saved 14100 reviews to 1158555867_reviews_14100.csv\n"
     ]
    },
    {
     "name": "stderr",
     "output_type": "stream",
     "text": [
      "2024-03-05 19:01:31,733 [INFO] Base - [id:1158555867] Fetched 20 reviews (14120 fetched in total)\n",
      "2024-03-05 19:01:36,947 [INFO] Base - [id:1158555867] Fetched 20 reviews (14140 fetched in total)\n",
      "2024-03-05 19:01:42,131 [INFO] Base - [id:1158555867] Fetched 20 reviews (14160 fetched in total)\n",
      "2024-03-05 19:01:47,343 [INFO] Base - [id:1158555867] Fetched 20 reviews (14180 fetched in total)\n",
      "2024-03-05 19:01:52,623 [INFO] Base - [id:1158555867] Fetched 20 reviews (14200 fetched in total)\n"
     ]
    },
    {
     "name": "stdout",
     "output_type": "stream",
     "text": [
      "Saved 14200 reviews to 1158555867_reviews_14200.csv\n"
     ]
    },
    {
     "name": "stderr",
     "output_type": "stream",
     "text": [
      "2024-03-05 19:01:57,952 [INFO] Base - [id:1158555867] Fetched 20 reviews (14220 fetched in total)\n",
      "2024-03-05 19:02:03,176 [INFO] Base - [id:1158555867] Fetched 20 reviews (14240 fetched in total)\n",
      "2024-03-05 19:02:08,465 [INFO] Base - [id:1158555867] Fetched 20 reviews (14260 fetched in total)\n",
      "2024-03-05 19:02:13,669 [INFO] Base - [id:1158555867] Fetched 20 reviews (14280 fetched in total)\n",
      "2024-03-05 19:02:19,001 [INFO] Base - [id:1158555867] Fetched 20 reviews (14300 fetched in total)\n"
     ]
    },
    {
     "name": "stdout",
     "output_type": "stream",
     "text": [
      "Saved 14300 reviews to 1158555867_reviews_14300.csv\n"
     ]
    },
    {
     "name": "stderr",
     "output_type": "stream",
     "text": [
      "2024-03-05 19:02:24,367 [INFO] Base - [id:1158555867] Fetched 20 reviews (14320 fetched in total)\n",
      "2024-03-05 19:02:29,612 [INFO] Base - [id:1158555867] Fetched 20 reviews (14340 fetched in total)\n",
      "2024-03-05 19:02:34,842 [INFO] Base - [id:1158555867] Fetched 20 reviews (14360 fetched in total)\n",
      "2024-03-05 19:02:40,081 [INFO] Base - [id:1158555867] Fetched 20 reviews (14380 fetched in total)\n",
      "2024-03-05 19:02:45,293 [INFO] Base - [id:1158555867] Fetched 20 reviews (14400 fetched in total)\n"
     ]
    },
    {
     "name": "stdout",
     "output_type": "stream",
     "text": [
      "Saved 14400 reviews to 1158555867_reviews_14400.csv\n"
     ]
    },
    {
     "name": "stderr",
     "output_type": "stream",
     "text": [
      "2024-03-05 19:02:50,660 [INFO] Base - [id:1158555867] Fetched 20 reviews (14420 fetched in total)\n",
      "2024-03-05 19:02:55,953 [INFO] Base - [id:1158555867] Fetched 20 reviews (14440 fetched in total)\n",
      "2024-03-05 19:03:01,212 [INFO] Base - [id:1158555867] Fetched 20 reviews (14460 fetched in total)\n",
      "2024-03-05 19:03:06,465 [INFO] Base - [id:1158555867] Fetched 20 reviews (14480 fetched in total)\n",
      "2024-03-05 19:03:11,747 [INFO] Base - [id:1158555867] Fetched 20 reviews (14500 fetched in total)\n"
     ]
    },
    {
     "name": "stdout",
     "output_type": "stream",
     "text": [
      "Saved 14500 reviews to 1158555867_reviews_14500.csv\n"
     ]
    },
    {
     "name": "stderr",
     "output_type": "stream",
     "text": [
      "2024-03-05 19:03:17,053 [INFO] Base - [id:1158555867] Fetched 20 reviews (14520 fetched in total)\n",
      "2024-03-05 19:03:22,345 [INFO] Base - [id:1158555867] Fetched 20 reviews (14540 fetched in total)\n",
      "2024-03-05 19:03:27,597 [INFO] Base - [id:1158555867] Fetched 20 reviews (14560 fetched in total)\n",
      "2024-03-05 19:03:32,774 [INFO] Base - [id:1158555867] Fetched 20 reviews (14580 fetched in total)\n",
      "2024-03-05 19:03:38,074 [INFO] Base - [id:1158555867] Fetched 20 reviews (14600 fetched in total)\n"
     ]
    },
    {
     "name": "stdout",
     "output_type": "stream",
     "text": [
      "Saved 14600 reviews to 1158555867_reviews_14600.csv\n"
     ]
    },
    {
     "name": "stderr",
     "output_type": "stream",
     "text": [
      "2024-03-05 19:03:43,504 [INFO] Base - [id:1158555867] Fetched 20 reviews (14620 fetched in total)\n",
      "2024-03-05 19:03:48,808 [INFO] Base - [id:1158555867] Fetched 20 reviews (14640 fetched in total)\n",
      "2024-03-05 19:03:54,304 [INFO] Base - [id:1158555867] Fetched 20 reviews (14660 fetched in total)\n",
      "2024-03-05 19:03:59,551 [INFO] Base - [id:1158555867] Fetched 20 reviews (14680 fetched in total)\n",
      "2024-03-05 19:04:05,058 [INFO] Base - [id:1158555867] Fetched 20 reviews (14700 fetched in total)\n"
     ]
    },
    {
     "name": "stdout",
     "output_type": "stream",
     "text": [
      "Saved 14700 reviews to 1158555867_reviews_14700.csv\n"
     ]
    },
    {
     "name": "stderr",
     "output_type": "stream",
     "text": [
      "2024-03-05 19:04:10,706 [INFO] Base - [id:1158555867] Fetched 20 reviews (14720 fetched in total)\n",
      "2024-03-05 19:04:15,925 [INFO] Base - [id:1158555867] Fetched 20 reviews (14740 fetched in total)\n",
      "2024-03-05 19:04:21,175 [INFO] Base - [id:1158555867] Fetched 20 reviews (14760 fetched in total)\n",
      "2024-03-05 19:04:26,453 [INFO] Base - [id:1158555867] Fetched 20 reviews (14780 fetched in total)\n",
      "2024-03-05 19:04:31,681 [INFO] Base - [id:1158555867] Fetched 20 reviews (14800 fetched in total)\n"
     ]
    },
    {
     "name": "stdout",
     "output_type": "stream",
     "text": [
      "Saved 14800 reviews to 1158555867_reviews_14800.csv\n"
     ]
    },
    {
     "name": "stderr",
     "output_type": "stream",
     "text": [
      "2024-03-05 19:04:37,117 [INFO] Base - [id:1158555867] Fetched 20 reviews (14820 fetched in total)\n",
      "2024-03-05 19:04:42,441 [INFO] Base - [id:1158555867] Fetched 20 reviews (14840 fetched in total)\n",
      "2024-03-05 19:04:47,816 [INFO] Base - [id:1158555867] Fetched 20 reviews (14860 fetched in total)\n",
      "2024-03-05 19:04:53,242 [INFO] Base - [id:1158555867] Fetched 20 reviews (14880 fetched in total)\n",
      "2024-03-05 19:04:58,675 [INFO] Base - [id:1158555867] Fetched 20 reviews (14900 fetched in total)\n"
     ]
    },
    {
     "name": "stdout",
     "output_type": "stream",
     "text": [
      "Saved 14900 reviews to 1158555867_reviews_14900.csv\n"
     ]
    },
    {
     "name": "stderr",
     "output_type": "stream",
     "text": [
      "2024-03-05 19:05:04,093 [INFO] Base - [id:1158555867] Fetched 20 reviews (14920 fetched in total)\n",
      "2024-03-05 19:05:09,359 [INFO] Base - [id:1158555867] Fetched 20 reviews (14940 fetched in total)\n",
      "2024-03-05 19:05:14,700 [INFO] Base - [id:1158555867] Fetched 20 reviews (14960 fetched in total)\n",
      "2024-03-05 19:05:19,955 [INFO] Base - [id:1158555867] Fetched 20 reviews (14980 fetched in total)\n",
      "2024-03-05 19:05:25,341 [INFO] Base - [id:1158555867] Fetched 20 reviews (15000 fetched in total)\n"
     ]
    },
    {
     "name": "stdout",
     "output_type": "stream",
     "text": [
      "Saved 15000 reviews to 1158555867_reviews_15000.csv\n"
     ]
    },
    {
     "name": "stderr",
     "output_type": "stream",
     "text": [
      "2024-03-05 19:05:30,729 [INFO] Base - [id:1158555867] Fetched 20 reviews (15020 fetched in total)\n",
      "2024-03-05 19:05:36,067 [INFO] Base - [id:1158555867] Fetched 20 reviews (15040 fetched in total)\n",
      "2024-03-05 19:05:41,293 [INFO] Base - [id:1158555867] Fetched 20 reviews (15060 fetched in total)\n",
      "2024-03-05 19:05:46,485 [INFO] Base - [id:1158555867] Fetched 20 reviews (15080 fetched in total)\n",
      "2024-03-05 19:05:51,907 [INFO] Base - [id:1158555867] Fetched 20 reviews (15100 fetched in total)\n"
     ]
    },
    {
     "name": "stdout",
     "output_type": "stream",
     "text": [
      "Saved 15100 reviews to 1158555867_reviews_15100.csv\n"
     ]
    },
    {
     "name": "stderr",
     "output_type": "stream",
     "text": [
      "2024-03-05 19:05:57,270 [INFO] Base - [id:1158555867] Fetched 20 reviews (15120 fetched in total)\n",
      "2024-03-05 19:06:02,664 [INFO] Base - [id:1158555867] Fetched 20 reviews (15140 fetched in total)\n",
      "2024-03-05 19:06:07,957 [INFO] Base - [id:1158555867] Fetched 20 reviews (15160 fetched in total)\n",
      "2024-03-05 19:06:13,572 [INFO] Base - [id:1158555867] Fetched 20 reviews (15180 fetched in total)\n",
      "2024-03-05 19:06:18,863 [INFO] Base - [id:1158555867] Fetched 20 reviews (15200 fetched in total)\n"
     ]
    },
    {
     "name": "stdout",
     "output_type": "stream",
     "text": [
      "Saved 15200 reviews to 1158555867_reviews_15200.csv\n"
     ]
    },
    {
     "name": "stderr",
     "output_type": "stream",
     "text": [
      "2024-03-05 19:06:24,314 [INFO] Base - [id:1158555867] Fetched 20 reviews (15220 fetched in total)\n",
      "2024-03-05 19:06:29,609 [INFO] Base - [id:1158555867] Fetched 20 reviews (15240 fetched in total)\n",
      "2024-03-05 19:06:34,846 [INFO] Base - [id:1158555867] Fetched 20 reviews (15260 fetched in total)\n",
      "2024-03-05 19:06:40,069 [INFO] Base - [id:1158555867] Fetched 20 reviews (15280 fetched in total)\n",
      "2024-03-05 19:06:45,372 [INFO] Base - [id:1158555867] Fetched 20 reviews (15300 fetched in total)\n"
     ]
    },
    {
     "name": "stdout",
     "output_type": "stream",
     "text": [
      "Saved 15300 reviews to 1158555867_reviews_15300.csv\n"
     ]
    },
    {
     "name": "stderr",
     "output_type": "stream",
     "text": [
      "2024-03-05 19:06:50,803 [INFO] Base - [id:1158555867] Fetched 20 reviews (15320 fetched in total)\n",
      "2024-03-05 19:06:56,000 [INFO] Base - [id:1158555867] Fetched 20 reviews (15340 fetched in total)\n",
      "2024-03-05 19:07:01,285 [INFO] Base - [id:1158555867] Fetched 20 reviews (15360 fetched in total)\n",
      "2024-03-05 19:07:06,485 [INFO] Base - [id:1158555867] Fetched 20 reviews (15380 fetched in total)\n",
      "2024-03-05 19:07:11,736 [INFO] Base - [id:1158555867] Fetched 20 reviews (15400 fetched in total)\n"
     ]
    },
    {
     "name": "stdout",
     "output_type": "stream",
     "text": [
      "Saved 15400 reviews to 1158555867_reviews_15400.csv\n"
     ]
    },
    {
     "name": "stderr",
     "output_type": "stream",
     "text": [
      "2024-03-05 19:07:17,077 [INFO] Base - [id:1158555867] Fetched 20 reviews (15420 fetched in total)\n",
      "2024-03-05 19:07:22,314 [INFO] Base - [id:1158555867] Fetched 20 reviews (15440 fetched in total)\n",
      "2024-03-05 19:07:27,616 [INFO] Base - [id:1158555867] Fetched 20 reviews (15460 fetched in total)\n",
      "2024-03-05 19:07:32,889 [INFO] Base - [id:1158555867] Fetched 20 reviews (15480 fetched in total)\n",
      "2024-03-05 19:07:38,108 [INFO] Base - [id:1158555867] Fetched 20 reviews (15500 fetched in total)\n"
     ]
    },
    {
     "name": "stdout",
     "output_type": "stream",
     "text": [
      "Saved 15500 reviews to 1158555867_reviews_15500.csv\n"
     ]
    },
    {
     "name": "stderr",
     "output_type": "stream",
     "text": [
      "2024-03-05 19:07:43,495 [INFO] Base - [id:1158555867] Fetched 20 reviews (15520 fetched in total)\n",
      "2024-03-05 19:07:48,825 [INFO] Base - [id:1158555867] Fetched 20 reviews (15540 fetched in total)\n",
      "2024-03-05 19:07:54,309 [INFO] Base - [id:1158555867] Fetched 20 reviews (15560 fetched in total)\n",
      "2024-03-05 19:07:59,582 [INFO] Base - [id:1158555867] Fetched 20 reviews (15580 fetched in total)\n",
      "2024-03-05 19:08:04,858 [INFO] Base - [id:1158555867] Fetched 20 reviews (15600 fetched in total)\n"
     ]
    },
    {
     "name": "stdout",
     "output_type": "stream",
     "text": [
      "Saved 15600 reviews to 1158555867_reviews_15600.csv\n"
     ]
    },
    {
     "name": "stderr",
     "output_type": "stream",
     "text": [
      "2024-03-05 19:08:10,444 [INFO] Base - [id:1158555867] Fetched 20 reviews (15620 fetched in total)\n",
      "2024-03-05 19:08:15,648 [INFO] Base - [id:1158555867] Fetched 20 reviews (15640 fetched in total)\n",
      "2024-03-05 19:08:21,001 [INFO] Base - [id:1158555867] Fetched 20 reviews (15660 fetched in total)\n",
      "2024-03-05 19:08:26,699 [INFO] Base - [id:1158555867] Fetched 20 reviews (15680 fetched in total)\n",
      "2024-03-05 19:08:31,939 [INFO] Base - [id:1158555867] Fetched 20 reviews (15700 fetched in total)\n"
     ]
    },
    {
     "name": "stdout",
     "output_type": "stream",
     "text": [
      "Saved 15700 reviews to 1158555867_reviews_15700.csv\n"
     ]
    },
    {
     "name": "stderr",
     "output_type": "stream",
     "text": [
      "2024-03-05 19:08:37,373 [INFO] Base - [id:1158555867] Fetched 20 reviews (15720 fetched in total)\n",
      "2024-03-05 19:08:42,662 [INFO] Base - [id:1158555867] Fetched 20 reviews (15740 fetched in total)\n",
      "2024-03-05 19:08:47,919 [INFO] Base - [id:1158555867] Fetched 20 reviews (15760 fetched in total)\n",
      "2024-03-05 19:08:53,233 [INFO] Base - [id:1158555867] Fetched 20 reviews (15780 fetched in total)\n",
      "2024-03-05 19:08:58,511 [INFO] Base - [id:1158555867] Fetched 20 reviews (15800 fetched in total)\n"
     ]
    },
    {
     "name": "stdout",
     "output_type": "stream",
     "text": [
      "Saved 15800 reviews to 1158555867_reviews_15800.csv\n"
     ]
    },
    {
     "name": "stderr",
     "output_type": "stream",
     "text": [
      "2024-03-05 19:09:04,049 [INFO] Base - [id:1158555867] Fetched 20 reviews (15820 fetched in total)\n",
      "2024-03-05 19:09:09,365 [INFO] Base - [id:1158555867] Fetched 20 reviews (15840 fetched in total)\n",
      "2024-03-05 19:09:14,645 [INFO] Base - [id:1158555867] Fetched 20 reviews (15860 fetched in total)\n",
      "2024-03-05 19:09:19,931 [INFO] Base - [id:1158555867] Fetched 20 reviews (15880 fetched in total)\n",
      "2024-03-05 19:09:25,320 [INFO] Base - [id:1158555867] Fetched 20 reviews (15900 fetched in total)\n"
     ]
    },
    {
     "name": "stdout",
     "output_type": "stream",
     "text": [
      "Saved 15900 reviews to 1158555867_reviews_15900.csv\n"
     ]
    },
    {
     "name": "stderr",
     "output_type": "stream",
     "text": [
      "2024-03-05 19:09:30,746 [INFO] Base - [id:1158555867] Fetched 20 reviews (15920 fetched in total)\n",
      "2024-03-05 19:09:36,041 [INFO] Base - [id:1158555867] Fetched 20 reviews (15940 fetched in total)\n",
      "2024-03-05 19:09:41,393 [INFO] Base - [id:1158555867] Fetched 20 reviews (15960 fetched in total)\n",
      "2024-03-05 19:09:46,826 [INFO] Base - [id:1158555867] Fetched 20 reviews (15980 fetched in total)\n",
      "2024-03-05 19:09:52,166 [INFO] Base - [id:1158555867] Fetched 20 reviews (16000 fetched in total)\n"
     ]
    },
    {
     "name": "stdout",
     "output_type": "stream",
     "text": [
      "Saved 16000 reviews to 1158555867_reviews_16000.csv\n"
     ]
    },
    {
     "name": "stderr",
     "output_type": "stream",
     "text": [
      "2024-03-05 19:09:57,510 [INFO] Base - [id:1158555867] Fetched 20 reviews (16020 fetched in total)\n",
      "2024-03-05 19:10:02,794 [INFO] Base - [id:1158555867] Fetched 20 reviews (16040 fetched in total)\n",
      "2024-03-05 19:10:08,181 [INFO] Base - [id:1158555867] Fetched 20 reviews (16060 fetched in total)\n",
      "2024-03-05 19:10:13,542 [INFO] Base - [id:1158555867] Fetched 20 reviews (16080 fetched in total)\n",
      "2024-03-05 19:10:18,835 [INFO] Base - [id:1158555867] Fetched 20 reviews (16100 fetched in total)\n"
     ]
    },
    {
     "name": "stdout",
     "output_type": "stream",
     "text": [
      "Saved 16100 reviews to 1158555867_reviews_16100.csv\n"
     ]
    },
    {
     "name": "stderr",
     "output_type": "stream",
     "text": [
      "2024-03-05 19:10:24,229 [INFO] Base - [id:1158555867] Fetched 20 reviews (16120 fetched in total)\n",
      "2024-03-05 19:10:29,479 [INFO] Base - [id:1158555867] Fetched 20 reviews (16140 fetched in total)\n",
      "2024-03-05 19:10:34,739 [INFO] Base - [id:1158555867] Fetched 20 reviews (16160 fetched in total)\n",
      "2024-03-05 19:10:39,993 [INFO] Base - [id:1158555867] Fetched 20 reviews (16180 fetched in total)\n",
      "2024-03-05 19:10:45,313 [INFO] Base - [id:1158555867] Fetched 20 reviews (16200 fetched in total)\n"
     ]
    },
    {
     "name": "stdout",
     "output_type": "stream",
     "text": [
      "Saved 16200 reviews to 1158555867_reviews_16200.csv\n"
     ]
    },
    {
     "name": "stderr",
     "output_type": "stream",
     "text": [
      "2024-03-05 19:10:50,707 [INFO] Base - [id:1158555867] Fetched 20 reviews (16220 fetched in total)\n",
      "2024-03-05 19:10:55,945 [INFO] Base - [id:1158555867] Fetched 20 reviews (16240 fetched in total)\n",
      "2024-03-05 19:11:01,144 [INFO] Base - [id:1158555867] Fetched 20 reviews (16260 fetched in total)\n",
      "2024-03-05 19:11:06,392 [INFO] Base - [id:1158555867] Fetched 20 reviews (16280 fetched in total)\n",
      "2024-03-05 19:11:11,610 [INFO] Base - [id:1158555867] Fetched 20 reviews (16300 fetched in total)\n"
     ]
    },
    {
     "name": "stdout",
     "output_type": "stream",
     "text": [
      "Saved 16300 reviews to 1158555867_reviews_16300.csv\n"
     ]
    },
    {
     "name": "stderr",
     "output_type": "stream",
     "text": [
      "2024-03-05 19:11:17,008 [INFO] Base - [id:1158555867] Fetched 20 reviews (16320 fetched in total)\n",
      "2024-03-05 19:11:22,291 [INFO] Base - [id:1158555867] Fetched 20 reviews (16340 fetched in total)\n",
      "2024-03-05 19:11:27,526 [INFO] Base - [id:1158555867] Fetched 20 reviews (16360 fetched in total)\n",
      "2024-03-05 19:11:32,841 [INFO] Base - [id:1158555867] Fetched 20 reviews (16380 fetched in total)\n",
      "2024-03-05 19:11:38,086 [INFO] Base - [id:1158555867] Fetched 20 reviews (16400 fetched in total)\n"
     ]
    },
    {
     "name": "stdout",
     "output_type": "stream",
     "text": [
      "Saved 16400 reviews to 1158555867_reviews_16400.csv\n"
     ]
    },
    {
     "name": "stderr",
     "output_type": "stream",
     "text": [
      "2024-03-05 19:11:43,585 [INFO] Base - [id:1158555867] Fetched 20 reviews (16420 fetched in total)\n",
      "2024-03-05 19:11:48,848 [INFO] Base - [id:1158555867] Fetched 20 reviews (16440 fetched in total)\n",
      "2024-03-05 19:11:54,100 [INFO] Base - [id:1158555867] Fetched 20 reviews (16460 fetched in total)\n",
      "2024-03-05 19:11:59,423 [INFO] Base - [id:1158555867] Fetched 20 reviews (16480 fetched in total)\n",
      "2024-03-05 19:12:04,719 [INFO] Base - [id:1158555867] Fetched 20 reviews (16500 fetched in total)\n"
     ]
    },
    {
     "name": "stdout",
     "output_type": "stream",
     "text": [
      "Saved 16500 reviews to 1158555867_reviews_16500.csv\n"
     ]
    },
    {
     "name": "stderr",
     "output_type": "stream",
     "text": [
      "2024-03-05 19:12:10,145 [INFO] Base - [id:1158555867] Fetched 20 reviews (16520 fetched in total)\n",
      "2024-03-05 19:12:15,477 [INFO] Base - [id:1158555867] Fetched 20 reviews (16540 fetched in total)\n",
      "2024-03-05 19:12:20,721 [INFO] Base - [id:1158555867] Fetched 20 reviews (16560 fetched in total)\n",
      "2024-03-05 19:12:25,946 [INFO] Base - [id:1158555867] Fetched 20 reviews (16580 fetched in total)\n",
      "2024-03-05 19:12:31,187 [INFO] Base - [id:1158555867] Fetched 20 reviews (16600 fetched in total)\n"
     ]
    },
    {
     "name": "stdout",
     "output_type": "stream",
     "text": [
      "Saved 16600 reviews to 1158555867_reviews_16600.csv\n"
     ]
    },
    {
     "name": "stderr",
     "output_type": "stream",
     "text": [
      "2024-03-05 19:12:36,628 [INFO] Base - [id:1158555867] Fetched 20 reviews (16620 fetched in total)\n",
      "2024-03-05 19:12:41,907 [INFO] Base - [id:1158555867] Fetched 20 reviews (16640 fetched in total)\n",
      "2024-03-05 19:12:47,521 [INFO] Base - [id:1158555867] Fetched 20 reviews (16660 fetched in total)\n",
      "2024-03-05 19:12:52,810 [INFO] Base - [id:1158555867] Fetched 20 reviews (16680 fetched in total)\n",
      "2024-03-05 19:12:58,072 [INFO] Base - [id:1158555867] Fetched 20 reviews (16700 fetched in total)\n"
     ]
    },
    {
     "name": "stdout",
     "output_type": "stream",
     "text": [
      "Saved 16700 reviews to 1158555867_reviews_16700.csv\n"
     ]
    },
    {
     "name": "stderr",
     "output_type": "stream",
     "text": [
      "2024-03-05 19:13:03,551 [INFO] Base - [id:1158555867] Fetched 20 reviews (16720 fetched in total)\n",
      "2024-03-05 19:13:08,902 [INFO] Base - [id:1158555867] Fetched 20 reviews (16740 fetched in total)\n",
      "2024-03-05 19:13:14,255 [INFO] Base - [id:1158555867] Fetched 20 reviews (16760 fetched in total)\n",
      "2024-03-05 19:13:19,692 [INFO] Base - [id:1158555867] Fetched 20 reviews (16780 fetched in total)\n",
      "2024-03-05 19:13:24,919 [INFO] Base - [id:1158555867] Fetched 20 reviews (16800 fetched in total)\n"
     ]
    },
    {
     "name": "stdout",
     "output_type": "stream",
     "text": [
      "Saved 16800 reviews to 1158555867_reviews_16800.csv\n"
     ]
    },
    {
     "name": "stderr",
     "output_type": "stream",
     "text": [
      "2024-03-05 19:13:30,354 [INFO] Base - [id:1158555867] Fetched 20 reviews (16820 fetched in total)\n",
      "2024-03-05 19:13:35,784 [INFO] Base - [id:1158555867] Fetched 20 reviews (16840 fetched in total)\n",
      "2024-03-05 19:13:41,127 [INFO] Base - [id:1158555867] Fetched 20 reviews (16860 fetched in total)\n",
      "2024-03-05 19:13:46,388 [INFO] Base - [id:1158555867] Fetched 20 reviews (16880 fetched in total)\n",
      "2024-03-05 19:13:51,661 [INFO] Base - [id:1158555867] Fetched 20 reviews (16900 fetched in total)\n"
     ]
    },
    {
     "name": "stdout",
     "output_type": "stream",
     "text": [
      "Saved 16900 reviews to 1158555867_reviews_16900.csv\n"
     ]
    },
    {
     "name": "stderr",
     "output_type": "stream",
     "text": [
      "2024-03-05 19:13:57,110 [INFO] Base - [id:1158555867] Fetched 20 reviews (16920 fetched in total)\n",
      "2024-03-05 19:14:02,785 [INFO] Base - [id:1158555867] Fetched 20 reviews (16940 fetched in total)\n",
      "2024-03-05 19:14:08,173 [INFO] Base - [id:1158555867] Fetched 20 reviews (16960 fetched in total)\n",
      "2024-03-05 19:14:13,708 [INFO] Base - [id:1158555867] Fetched 20 reviews (16980 fetched in total)\n",
      "2024-03-05 19:14:18,936 [INFO] Base - [id:1158555867] Fetched 20 reviews (17000 fetched in total)\n"
     ]
    },
    {
     "name": "stdout",
     "output_type": "stream",
     "text": [
      "Saved 17000 reviews to 1158555867_reviews_17000.csv\n"
     ]
    },
    {
     "name": "stderr",
     "output_type": "stream",
     "text": [
      "2024-03-05 19:14:24,347 [INFO] Base - [id:1158555867] Fetched 20 reviews (17020 fetched in total)\n",
      "2024-03-05 19:14:29,623 [INFO] Base - [id:1158555867] Fetched 20 reviews (17040 fetched in total)\n",
      "2024-03-05 19:14:34,863 [INFO] Base - [id:1158555867] Fetched 20 reviews (17060 fetched in total)\n",
      "2024-03-05 19:14:40,103 [INFO] Base - [id:1158555867] Fetched 20 reviews (17080 fetched in total)\n",
      "2024-03-05 19:14:45,388 [INFO] Base - [id:1158555867] Fetched 20 reviews (17100 fetched in total)\n"
     ]
    },
    {
     "name": "stdout",
     "output_type": "stream",
     "text": [
      "Saved 17100 reviews to 1158555867_reviews_17100.csv\n"
     ]
    },
    {
     "name": "stderr",
     "output_type": "stream",
     "text": [
      "2024-03-05 19:14:51,015 [INFO] Base - [id:1158555867] Fetched 20 reviews (17120 fetched in total)\n",
      "2024-03-05 19:14:56,293 [INFO] Base - [id:1158555867] Fetched 20 reviews (17140 fetched in total)\n",
      "2024-03-05 19:15:01,602 [INFO] Base - [id:1158555867] Fetched 20 reviews (17160 fetched in total)\n",
      "2024-03-05 19:15:06,828 [INFO] Base - [id:1158555867] Fetched 20 reviews (17180 fetched in total)\n",
      "2024-03-05 19:15:12,084 [INFO] Base - [id:1158555867] Fetched 20 reviews (17200 fetched in total)\n"
     ]
    },
    {
     "name": "stdout",
     "output_type": "stream",
     "text": [
      "Saved 17200 reviews to 1158555867_reviews_17200.csv\n"
     ]
    },
    {
     "name": "stderr",
     "output_type": "stream",
     "text": [
      "2024-03-05 19:15:17,598 [INFO] Base - [id:1158555867] Fetched 20 reviews (17220 fetched in total)\n",
      "2024-03-05 19:15:22,926 [INFO] Base - [id:1158555867] Fetched 20 reviews (17240 fetched in total)\n",
      "2024-03-05 19:15:28,176 [INFO] Base - [id:1158555867] Fetched 20 reviews (17260 fetched in total)\n",
      "2024-03-05 19:15:33,429 [INFO] Base - [id:1158555867] Fetched 20 reviews (17280 fetched in total)\n",
      "2024-03-05 19:15:38,836 [INFO] Base - [id:1158555867] Fetched 20 reviews (17300 fetched in total)\n"
     ]
    },
    {
     "name": "stdout",
     "output_type": "stream",
     "text": [
      "Saved 17300 reviews to 1158555867_reviews_17300.csv\n"
     ]
    },
    {
     "name": "stderr",
     "output_type": "stream",
     "text": [
      "2024-03-05 19:15:44,246 [INFO] Base - [id:1158555867] Fetched 20 reviews (17320 fetched in total)\n",
      "2024-03-05 19:15:49,532 [INFO] Base - [id:1158555867] Fetched 20 reviews (17340 fetched in total)\n",
      "2024-03-05 19:15:54,777 [INFO] Base - [id:1158555867] Fetched 20 reviews (17360 fetched in total)\n",
      "2024-03-05 19:16:00,025 [INFO] Base - [id:1158555867] Fetched 20 reviews (17380 fetched in total)\n",
      "2024-03-05 19:16:05,300 [INFO] Base - [id:1158555867] Fetched 20 reviews (17400 fetched in total)\n"
     ]
    },
    {
     "name": "stdout",
     "output_type": "stream",
     "text": [
      "Saved 17400 reviews to 1158555867_reviews_17400.csv\n"
     ]
    },
    {
     "name": "stderr",
     "output_type": "stream",
     "text": [
      "2024-03-05 19:16:10,765 [INFO] Base - [id:1158555867] Fetched 20 reviews (17420 fetched in total)\n",
      "2024-03-05 19:16:16,055 [INFO] Base - [id:1158555867] Fetched 20 reviews (17440 fetched in total)\n",
      "2024-03-05 19:16:21,353 [INFO] Base - [id:1158555867] Fetched 20 reviews (17460 fetched in total)\n",
      "2024-03-05 19:16:26,556 [INFO] Base - [id:1158555867] Fetched 20 reviews (17480 fetched in total)\n",
      "2024-03-05 19:16:31,772 [INFO] Base - [id:1158555867] Fetched 20 reviews (17500 fetched in total)\n"
     ]
    },
    {
     "name": "stdout",
     "output_type": "stream",
     "text": [
      "Saved 17500 reviews to 1158555867_reviews_17500.csv\n"
     ]
    },
    {
     "name": "stderr",
     "output_type": "stream",
     "text": [
      "2024-03-05 19:16:37,106 [INFO] Base - [id:1158555867] Fetched 20 reviews (17520 fetched in total)\n",
      "2024-03-05 19:16:42,534 [INFO] Base - [id:1158555867] Fetched 20 reviews (17540 fetched in total)\n",
      "2024-03-05 19:16:47,813 [INFO] Base - [id:1158555867] Fetched 20 reviews (17560 fetched in total)\n",
      "2024-03-05 19:16:53,038 [INFO] Base - [id:1158555867] Fetched 20 reviews (17580 fetched in total)\n",
      "2024-03-05 19:16:58,259 [INFO] Base - [id:1158555867] Fetched 20 reviews (17600 fetched in total)\n"
     ]
    },
    {
     "name": "stdout",
     "output_type": "stream",
     "text": [
      "Saved 17600 reviews to 1158555867_reviews_17600.csv\n"
     ]
    },
    {
     "name": "stderr",
     "output_type": "stream",
     "text": [
      "2024-03-05 19:17:03,795 [INFO] Base - [id:1158555867] Fetched 20 reviews (17620 fetched in total)\n",
      "2024-03-05 19:17:09,041 [INFO] Base - [id:1158555867] Fetched 20 reviews (17640 fetched in total)\n",
      "2024-03-05 19:17:14,368 [INFO] Base - [id:1158555867] Fetched 20 reviews (17660 fetched in total)\n",
      "2024-03-05 19:17:19,651 [INFO] Base - [id:1158555867] Fetched 20 reviews (17680 fetched in total)\n",
      "2024-03-05 19:17:24,868 [INFO] Base - [id:1158555867] Fetched 20 reviews (17700 fetched in total)\n"
     ]
    },
    {
     "name": "stdout",
     "output_type": "stream",
     "text": [
      "Saved 17700 reviews to 1158555867_reviews_17700.csv\n"
     ]
    },
    {
     "name": "stderr",
     "output_type": "stream",
     "text": [
      "2024-03-05 19:17:30,205 [INFO] Base - [id:1158555867] Fetched 20 reviews (17720 fetched in total)\n",
      "2024-03-05 19:17:35,470 [INFO] Base - [id:1158555867] Fetched 20 reviews (17740 fetched in total)\n",
      "2024-03-05 19:17:40,708 [INFO] Base - [id:1158555867] Fetched 20 reviews (17760 fetched in total)\n",
      "2024-03-05 19:17:45,943 [INFO] Base - [id:1158555867] Fetched 20 reviews (17780 fetched in total)\n",
      "2024-03-05 19:17:51,144 [INFO] Base - [id:1158555867] Fetched 20 reviews (17800 fetched in total)\n"
     ]
    },
    {
     "name": "stdout",
     "output_type": "stream",
     "text": [
      "Saved 17800 reviews to 1158555867_reviews_17800.csv\n"
     ]
    },
    {
     "name": "stderr",
     "output_type": "stream",
     "text": [
      "2024-03-05 19:17:56,516 [INFO] Base - [id:1158555867] Fetched 20 reviews (17820 fetched in total)\n",
      "2024-03-05 19:18:01,817 [INFO] Base - [id:1158555867] Fetched 20 reviews (17840 fetched in total)\n",
      "2024-03-05 19:18:07,028 [INFO] Base - [id:1158555867] Fetched 20 reviews (17860 fetched in total)\n",
      "2024-03-05 19:18:12,267 [INFO] Base - [id:1158555867] Fetched 20 reviews (17880 fetched in total)\n",
      "2024-03-05 19:18:17,537 [INFO] Base - [id:1158555867] Fetched 20 reviews (17900 fetched in total)\n"
     ]
    },
    {
     "name": "stdout",
     "output_type": "stream",
     "text": [
      "Saved 17900 reviews to 1158555867_reviews_17900.csv\n"
     ]
    },
    {
     "name": "stderr",
     "output_type": "stream",
     "text": [
      "2024-03-05 19:18:22,941 [INFO] Base - [id:1158555867] Fetched 20 reviews (17920 fetched in total)\n",
      "2024-03-05 19:18:28,169 [INFO] Base - [id:1158555867] Fetched 20 reviews (17940 fetched in total)\n",
      "2024-03-05 19:18:33,489 [INFO] Base - [id:1158555867] Fetched 20 reviews (17960 fetched in total)\n",
      "2024-03-05 19:18:38,820 [INFO] Base - [id:1158555867] Fetched 20 reviews (17980 fetched in total)\n",
      "2024-03-05 19:18:44,117 [INFO] Base - [id:1158555867] Fetched 20 reviews (18000 fetched in total)\n"
     ]
    },
    {
     "name": "stdout",
     "output_type": "stream",
     "text": [
      "Saved 18000 reviews to 1158555867_reviews_18000.csv\n"
     ]
    },
    {
     "name": "stderr",
     "output_type": "stream",
     "text": [
      "2024-03-05 19:18:49,590 [INFO] Base - [id:1158555867] Fetched 20 reviews (18020 fetched in total)\n",
      "2024-03-05 19:18:54,855 [INFO] Base - [id:1158555867] Fetched 20 reviews (18040 fetched in total)\n",
      "2024-03-05 19:19:00,177 [INFO] Base - [id:1158555867] Fetched 20 reviews (18060 fetched in total)\n",
      "2024-03-05 19:19:05,478 [INFO] Base - [id:1158555867] Fetched 20 reviews (18080 fetched in total)\n",
      "2024-03-05 19:19:10,776 [INFO] Base - [id:1158555867] Fetched 20 reviews (18100 fetched in total)\n"
     ]
    },
    {
     "name": "stdout",
     "output_type": "stream",
     "text": [
      "Saved 18100 reviews to 1158555867_reviews_18100.csv\n"
     ]
    },
    {
     "name": "stderr",
     "output_type": "stream",
     "text": [
      "2024-03-05 19:19:16,214 [INFO] Base - [id:1158555867] Fetched 20 reviews (18120 fetched in total)\n",
      "2024-03-05 19:19:21,458 [INFO] Base - [id:1158555867] Fetched 20 reviews (18140 fetched in total)\n",
      "2024-03-05 19:19:26,702 [INFO] Base - [id:1158555867] Fetched 20 reviews (18160 fetched in total)\n",
      "2024-03-05 19:19:31,992 [INFO] Base - [id:1158555867] Fetched 20 reviews (18180 fetched in total)\n",
      "2024-03-05 19:19:37,212 [INFO] Base - [id:1158555867] Fetched 20 reviews (18200 fetched in total)\n"
     ]
    },
    {
     "name": "stdout",
     "output_type": "stream",
     "text": [
      "Saved 18200 reviews to 1158555867_reviews_18200.csv\n"
     ]
    },
    {
     "name": "stderr",
     "output_type": "stream",
     "text": [
      "2024-03-05 19:19:42,741 [INFO] Base - [id:1158555867] Fetched 20 reviews (18220 fetched in total)\n",
      "2024-03-05 19:19:48,191 [INFO] Base - [id:1158555867] Fetched 20 reviews (18240 fetched in total)\n",
      "2024-03-05 19:19:53,450 [INFO] Base - [id:1158555867] Fetched 20 reviews (18260 fetched in total)\n",
      "2024-03-05 19:19:58,748 [INFO] Base - [id:1158555867] Fetched 20 reviews (18280 fetched in total)\n",
      "2024-03-05 19:20:03,997 [INFO] Base - [id:1158555867] Fetched 20 reviews (18300 fetched in total)\n"
     ]
    },
    {
     "name": "stdout",
     "output_type": "stream",
     "text": [
      "Saved 18300 reviews to 1158555867_reviews_18300.csv\n"
     ]
    },
    {
     "name": "stderr",
     "output_type": "stream",
     "text": [
      "2024-03-05 19:20:09,370 [INFO] Base - [id:1158555867] Fetched 20 reviews (18320 fetched in total)\n",
      "2024-03-05 19:20:14,667 [INFO] Base - [id:1158555867] Fetched 20 reviews (18340 fetched in total)\n",
      "2024-03-05 19:20:19,938 [INFO] Base - [id:1158555867] Fetched 20 reviews (18360 fetched in total)\n",
      "2024-03-05 19:20:25,262 [INFO] Base - [id:1158555867] Fetched 20 reviews (18380 fetched in total)\n",
      "2024-03-05 19:20:30,544 [INFO] Base - [id:1158555867] Fetched 20 reviews (18400 fetched in total)\n"
     ]
    },
    {
     "name": "stdout",
     "output_type": "stream",
     "text": [
      "Saved 18400 reviews to 1158555867_reviews_18400.csv\n"
     ]
    },
    {
     "name": "stderr",
     "output_type": "stream",
     "text": [
      "2024-03-05 19:20:35,948 [INFO] Base - [id:1158555867] Fetched 20 reviews (18420 fetched in total)\n",
      "2024-03-05 19:20:41,305 [INFO] Base - [id:1158555867] Fetched 20 reviews (18440 fetched in total)\n",
      "2024-03-05 19:20:46,575 [INFO] Base - [id:1158555867] Fetched 20 reviews (18460 fetched in total)\n",
      "2024-03-05 19:20:51,830 [INFO] Base - [id:1158555867] Fetched 20 reviews (18480 fetched in total)\n",
      "2024-03-05 19:20:57,092 [INFO] Base - [id:1158555867] Fetched 20 reviews (18500 fetched in total)\n"
     ]
    },
    {
     "name": "stdout",
     "output_type": "stream",
     "text": [
      "Saved 18500 reviews to 1158555867_reviews_18500.csv\n"
     ]
    },
    {
     "name": "stderr",
     "output_type": "stream",
     "text": [
      "2024-03-05 19:21:02,486 [INFO] Base - [id:1158555867] Fetched 20 reviews (18520 fetched in total)\n",
      "2024-03-05 19:21:07,721 [INFO] Base - [id:1158555867] Fetched 20 reviews (18540 fetched in total)\n",
      "2024-03-05 19:21:12,972 [INFO] Base - [id:1158555867] Fetched 20 reviews (18560 fetched in total)\n",
      "2024-03-05 19:21:18,248 [INFO] Base - [id:1158555867] Fetched 20 reviews (18580 fetched in total)\n",
      "2024-03-05 19:21:23,568 [INFO] Base - [id:1158555867] Fetched 20 reviews (18600 fetched in total)\n"
     ]
    },
    {
     "name": "stdout",
     "output_type": "stream",
     "text": [
      "Saved 18600 reviews to 1158555867_reviews_18600.csv\n"
     ]
    },
    {
     "name": "stderr",
     "output_type": "stream",
     "text": [
      "2024-03-05 19:21:29,312 [INFO] Base - [id:1158555867] Fetched 20 reviews (18620 fetched in total)\n",
      "2024-03-05 19:21:34,708 [INFO] Base - [id:1158555867] Fetched 20 reviews (18640 fetched in total)\n",
      "2024-03-05 19:21:40,018 [INFO] Base - [id:1158555867] Fetched 20 reviews (18660 fetched in total)\n",
      "2024-03-05 19:21:45,363 [INFO] Base - [id:1158555867] Fetched 20 reviews (18680 fetched in total)\n",
      "2024-03-05 19:21:50,619 [INFO] Base - [id:1158555867] Fetched 20 reviews (18700 fetched in total)\n"
     ]
    },
    {
     "name": "stdout",
     "output_type": "stream",
     "text": [
      "Saved 18700 reviews to 1158555867_reviews_18700.csv\n"
     ]
    },
    {
     "name": "stderr",
     "output_type": "stream",
     "text": [
      "2024-03-05 19:21:56,016 [INFO] Base - [id:1158555867] Fetched 20 reviews (18720 fetched in total)\n",
      "2024-03-05 19:22:01,235 [INFO] Base - [id:1158555867] Fetched 20 reviews (18740 fetched in total)\n",
      "2024-03-05 19:22:06,461 [INFO] Base - [id:1158555867] Fetched 20 reviews (18760 fetched in total)\n",
      "2024-03-05 19:22:11,945 [INFO] Base - [id:1158555867] Fetched 20 reviews (18780 fetched in total)\n",
      "2024-03-05 19:22:17,193 [INFO] Base - [id:1158555867] Fetched 20 reviews (18800 fetched in total)\n"
     ]
    },
    {
     "name": "stdout",
     "output_type": "stream",
     "text": [
      "Saved 18800 reviews to 1158555867_reviews_18800.csv\n"
     ]
    },
    {
     "name": "stderr",
     "output_type": "stream",
     "text": [
      "2024-03-05 19:23:27,890 [INFO] Base - [id:1158555867] Fetched 20 reviews (18820 fetched in total)\n",
      "2024-03-05 19:23:33,231 [INFO] Base - [id:1158555867] Fetched 20 reviews (18840 fetched in total)\n",
      "2024-03-05 19:23:38,691 [INFO] Base - [id:1158555867] Fetched 20 reviews (18860 fetched in total)\n",
      "2024-03-05 19:23:43,943 [INFO] Base - [id:1158555867] Fetched 20 reviews (18880 fetched in total)\n",
      "2024-03-05 19:23:49,378 [INFO] Base - [id:1158555867] Fetched 20 reviews (18900 fetched in total)\n"
     ]
    },
    {
     "name": "stdout",
     "output_type": "stream",
     "text": [
      "Saved 18900 reviews to 1158555867_reviews_18900.csv\n"
     ]
    },
    {
     "name": "stderr",
     "output_type": "stream",
     "text": [
      "2024-03-05 19:23:54,751 [INFO] Base - [id:1158555867] Fetched 20 reviews (18920 fetched in total)\n",
      "2024-03-05 19:24:00,054 [INFO] Base - [id:1158555867] Fetched 20 reviews (18940 fetched in total)\n",
      "2024-03-05 19:24:05,784 [INFO] Base - [id:1158555867] Fetched 20 reviews (18960 fetched in total)\n",
      "2024-03-05 19:24:32,774 [WARNING] urllib3.connectionpool - Retrying (Retry(total=2, connect=None, read=None, redirect=None, status=None)) after connection broken by 'ProtocolError('Connection aborted.', RemoteDisconnected('Remote end closed connection without response'))': /v1/catalog/us/apps/1158555867/reviews?l=en-GB&offset=18940&limit=20&platform=web&additionalPlatforms=appletv%2Cipad%2Ciphone%2Cmac\n",
      "2024-03-05 19:24:33,053 [INFO] Base - [id:1158555867] Fetched 20 reviews (18980 fetched in total)\n",
      "2024-03-05 19:24:38,256 [INFO] Base - [id:1158555867] Fetched 20 reviews (19000 fetched in total)\n"
     ]
    },
    {
     "name": "stdout",
     "output_type": "stream",
     "text": [
      "Saved 19000 reviews to 1158555867_reviews_19000.csv\n"
     ]
    },
    {
     "name": "stderr",
     "output_type": "stream",
     "text": [
      "2024-03-05 19:24:43,618 [INFO] Base - [id:1158555867] Fetched 20 reviews (19020 fetched in total)\n",
      "2024-03-05 19:24:48,989 [INFO] Base - [id:1158555867] Fetched 20 reviews (19040 fetched in total)\n",
      "2024-03-05 19:24:54,234 [INFO] Base - [id:1158555867] Fetched 20 reviews (19060 fetched in total)\n",
      "2024-03-05 19:25:00,236 [INFO] Base - [id:1158555867] Fetched 20 reviews (19080 fetched in total)\n",
      "2024-03-05 19:25:05,486 [INFO] Base - [id:1158555867] Fetched 20 reviews (19100 fetched in total)\n"
     ]
    },
    {
     "name": "stdout",
     "output_type": "stream",
     "text": [
      "Saved 19100 reviews to 1158555867_reviews_19100.csv\n"
     ]
    },
    {
     "name": "stderr",
     "output_type": "stream",
     "text": [
      "2024-03-05 19:25:11,112 [INFO] Base - [id:1158555867] Fetched 20 reviews (19120 fetched in total)\n",
      "2024-03-05 19:25:16,367 [INFO] Base - [id:1158555867] Fetched 20 reviews (19140 fetched in total)\n",
      "2024-03-05 19:26:15,233 [INFO] Base - [id:1158555867] Fetched 20 reviews (19160 fetched in total)\n",
      "2024-03-05 19:26:20,440 [INFO] Base - [id:1158555867] Fetched 20 reviews (19180 fetched in total)\n",
      "2024-03-05 19:26:25,675 [INFO] Base - [id:1158555867] Fetched 20 reviews (19200 fetched in total)\n"
     ]
    },
    {
     "name": "stdout",
     "output_type": "stream",
     "text": [
      "Saved 19200 reviews to 1158555867_reviews_19200.csv\n"
     ]
    },
    {
     "name": "stderr",
     "output_type": "stream",
     "text": [
      "2024-03-05 19:26:31,050 [INFO] Base - [id:1158555867] Fetched 20 reviews (19220 fetched in total)\n",
      "2024-03-05 19:26:36,362 [INFO] Base - [id:1158555867] Fetched 20 reviews (19240 fetched in total)\n",
      "2024-03-05 19:26:42,008 [INFO] Base - [id:1158555867] Fetched 20 reviews (19260 fetched in total)\n",
      "2024-03-05 19:26:47,957 [INFO] Base - [id:1158555867] Fetched 20 reviews (19280 fetched in total)\n",
      "2024-03-05 19:26:53,237 [INFO] Base - [id:1158555867] Fetched 20 reviews (19300 fetched in total)\n"
     ]
    },
    {
     "name": "stdout",
     "output_type": "stream",
     "text": [
      "Saved 19300 reviews to 1158555867_reviews_19300.csv\n"
     ]
    },
    {
     "name": "stderr",
     "output_type": "stream",
     "text": [
      "2024-03-05 19:26:58,770 [INFO] Base - [id:1158555867] Fetched 20 reviews (19320 fetched in total)\n",
      "2024-03-05 19:27:27,891 [INFO] Base - [id:1158555867] Fetched 20 reviews (19340 fetched in total)\n",
      "2024-03-05 19:27:33,126 [INFO] Base - [id:1158555867] Fetched 20 reviews (19360 fetched in total)\n",
      "2024-03-05 19:27:38,397 [INFO] Base - [id:1158555867] Fetched 20 reviews (19380 fetched in total)\n",
      "2024-03-05 19:27:43,673 [INFO] Base - [id:1158555867] Fetched 20 reviews (19400 fetched in total)\n"
     ]
    },
    {
     "name": "stdout",
     "output_type": "stream",
     "text": [
      "Saved 19400 reviews to 1158555867_reviews_19400.csv\n"
     ]
    },
    {
     "name": "stderr",
     "output_type": "stream",
     "text": [
      "2024-03-05 19:27:49,107 [INFO] Base - [id:1158555867] Fetched 20 reviews (19420 fetched in total)\n",
      "2024-03-05 19:27:54,846 [INFO] Base - [id:1158555867] Fetched 20 reviews (19440 fetched in total)\n",
      "2024-03-05 19:28:00,151 [INFO] Base - [id:1158555867] Fetched 20 reviews (19460 fetched in total)\n",
      "2024-03-05 19:28:05,580 [INFO] Base - [id:1158555867] Fetched 20 reviews (19480 fetched in total)\n",
      "2024-03-05 19:28:10,842 [INFO] Base - [id:1158555867] Fetched 20 reviews (19500 fetched in total)\n"
     ]
    },
    {
     "name": "stdout",
     "output_type": "stream",
     "text": [
      "Saved 19500 reviews to 1158555867_reviews_19500.csv\n"
     ]
    },
    {
     "name": "stderr",
     "output_type": "stream",
     "text": [
      "2024-03-05 19:28:51,801 [INFO] Base - [id:1158555867] Fetched 20 reviews (19520 fetched in total)\n",
      "2024-03-05 19:28:57,292 [INFO] Base - [id:1158555867] Fetched 20 reviews (19540 fetched in total)\n",
      "2024-03-05 19:29:03,027 [INFO] Base - [id:1158555867] Fetched 20 reviews (19560 fetched in total)\n",
      "2024-03-05 19:29:08,255 [INFO] Base - [id:1158555867] Fetched 20 reviews (19580 fetched in total)\n",
      "2024-03-05 19:29:13,511 [INFO] Base - [id:1158555867] Fetched 20 reviews (19600 fetched in total)\n"
     ]
    },
    {
     "name": "stdout",
     "output_type": "stream",
     "text": [
      "Saved 19600 reviews to 1158555867_reviews_19600.csv\n"
     ]
    },
    {
     "name": "stderr",
     "output_type": "stream",
     "text": [
      "2024-03-05 19:29:19,104 [INFO] Base - [id:1158555867] Fetched 20 reviews (19620 fetched in total)\n",
      "2024-03-05 19:29:24,307 [INFO] Base - [id:1158555867] Fetched 20 reviews (19640 fetched in total)\n",
      "2024-03-05 19:29:29,541 [INFO] Base - [id:1158555867] Fetched 20 reviews (19660 fetched in total)\n",
      "2024-03-05 19:29:34,737 [INFO] Base - [id:1158555867] Fetched 20 reviews (19680 fetched in total)\n",
      "2024-03-05 19:31:03,559 [INFO] Base - [id:1158555867] Fetched 20 reviews (19700 fetched in total)\n"
     ]
    },
    {
     "name": "stdout",
     "output_type": "stream",
     "text": [
      "Saved 19700 reviews to 1158555867_reviews_19700.csv\n"
     ]
    },
    {
     "name": "stderr",
     "output_type": "stream",
     "text": [
      "2024-03-05 19:31:09,018 [INFO] Base - [id:1158555867] Fetched 20 reviews (19720 fetched in total)\n",
      "2024-03-05 19:31:14,218 [INFO] Base - [id:1158555867] Fetched 20 reviews (19740 fetched in total)\n",
      "2024-03-05 19:31:19,436 [INFO] Base - [id:1158555867] Fetched 20 reviews (19760 fetched in total)\n",
      "2024-03-05 19:31:24,736 [INFO] Base - [id:1158555867] Fetched 20 reviews (19780 fetched in total)\n",
      "2024-03-05 19:31:30,134 [INFO] Base - [id:1158555867] Fetched 20 reviews (19800 fetched in total)\n"
     ]
    },
    {
     "name": "stdout",
     "output_type": "stream",
     "text": [
      "Saved 19800 reviews to 1158555867_reviews_19800.csv\n"
     ]
    },
    {
     "name": "stderr",
     "output_type": "stream",
     "text": [
      "2024-03-05 19:31:35,570 [INFO] Base - [id:1158555867] Fetched 20 reviews (19820 fetched in total)\n",
      "2024-03-05 19:31:40,804 [INFO] Base - [id:1158555867] Fetched 20 reviews (19840 fetched in total)\n",
      "2024-03-05 19:31:46,005 [INFO] Base - [id:1158555867] Fetched 20 reviews (19860 fetched in total)\n",
      "2024-03-05 19:40:57,538 [INFO] Base - [id:1158555867] Fetched 20 reviews (19880 fetched in total)\n",
      "2024-03-05 19:41:02,820 [INFO] Base - [id:1158555867] Fetched 20 reviews (19900 fetched in total)\n"
     ]
    },
    {
     "name": "stdout",
     "output_type": "stream",
     "text": [
      "Saved 19900 reviews to 1158555867_reviews_19900.csv\n"
     ]
    },
    {
     "name": "stderr",
     "output_type": "stream",
     "text": [
      "2024-03-05 19:41:08,243 [INFO] Base - [id:1158555867] Fetched 20 reviews (19920 fetched in total)\n",
      "2024-03-05 19:41:13,497 [INFO] Base - [id:1158555867] Fetched 20 reviews (19940 fetched in total)\n",
      "2024-03-05 19:41:18,801 [INFO] Base - [id:1158555867] Fetched 20 reviews (19960 fetched in total)\n",
      "2024-03-05 19:41:24,277 [INFO] Base - [id:1158555867] Fetched 20 reviews (19980 fetched in total)\n",
      "2024-03-05 19:41:29,490 [INFO] Base - [id:1158555867] Fetched 20 reviews (20000 fetched in total)\n"
     ]
    },
    {
     "name": "stdout",
     "output_type": "stream",
     "text": [
      "Saved 20000 reviews to 1158555867_reviews_20000.csv\n"
     ]
    },
    {
     "name": "stderr",
     "output_type": "stream",
     "text": [
      "2024-03-05 19:41:35,028 [INFO] Base - [id:1158555867] Fetched 20 reviews (20020 fetched in total)\n",
      "2024-03-05 19:41:40,248 [INFO] Base - [id:1158555867] Fetched 20 reviews (20040 fetched in total)\n",
      "2024-03-05 19:41:45,444 [INFO] Base - [id:1158555867] Fetched 20 reviews (20060 fetched in total)\n",
      "2024-03-05 19:41:51,043 [INFO] Base - [id:1158555867] Fetched 20 reviews (20080 fetched in total)\n",
      "2024-03-05 19:41:56,251 [INFO] Base - [id:1158555867] Fetched 20 reviews (20100 fetched in total)\n"
     ]
    },
    {
     "name": "stdout",
     "output_type": "stream",
     "text": [
      "Saved 20100 reviews to 1158555867_reviews_20100.csv\n"
     ]
    },
    {
     "name": "stderr",
     "output_type": "stream",
     "text": [
      "2024-03-05 19:42:01,637 [INFO] Base - [id:1158555867] Fetched 20 reviews (20120 fetched in total)\n",
      "2024-03-05 19:42:06,912 [INFO] Base - [id:1158555867] Fetched 20 reviews (20140 fetched in total)\n",
      "2024-03-05 19:42:12,341 [INFO] Base - [id:1158555867] Fetched 20 reviews (20160 fetched in total)\n",
      "2024-03-05 19:42:17,572 [INFO] Base - [id:1158555867] Fetched 20 reviews (20180 fetched in total)\n",
      "2024-03-05 19:42:22,836 [INFO] Base - [id:1158555867] Fetched 20 reviews (20200 fetched in total)\n"
     ]
    },
    {
     "name": "stdout",
     "output_type": "stream",
     "text": [
      "Saved 20200 reviews to 1158555867_reviews_20200.csv\n"
     ]
    },
    {
     "name": "stderr",
     "output_type": "stream",
     "text": [
      "2024-03-05 19:42:28,211 [INFO] Base - [id:1158555867] Fetched 20 reviews (20220 fetched in total)\n",
      "2024-03-05 19:42:33,497 [INFO] Base - [id:1158555867] Fetched 20 reviews (20240 fetched in total)\n",
      "2024-03-05 19:42:38,832 [INFO] Base - [id:1158555867] Fetched 20 reviews (20260 fetched in total)\n",
      "2024-03-05 19:42:44,089 [INFO] Base - [id:1158555867] Fetched 20 reviews (20280 fetched in total)\n",
      "2024-03-05 19:42:49,392 [INFO] Base - [id:1158555867] Fetched 20 reviews (20300 fetched in total)\n"
     ]
    },
    {
     "name": "stdout",
     "output_type": "stream",
     "text": [
      "Saved 20300 reviews to 1158555867_reviews_20300.csv\n"
     ]
    },
    {
     "name": "stderr",
     "output_type": "stream",
     "text": [
      "2024-03-05 19:42:54,853 [INFO] Base - [id:1158555867] Fetched 20 reviews (20320 fetched in total)\n",
      "2024-03-05 19:43:00,079 [INFO] Base - [id:1158555867] Fetched 20 reviews (20340 fetched in total)\n",
      "2024-03-05 19:43:05,269 [INFO] Base - [id:1158555867] Fetched 20 reviews (20360 fetched in total)\n",
      "2024-03-05 19:43:11,634 [INFO] Base - [id:1158555867] Fetched 20 reviews (20380 fetched in total)\n",
      "2024-03-05 19:43:16,891 [INFO] Base - [id:1158555867] Fetched 20 reviews (20400 fetched in total)\n"
     ]
    },
    {
     "name": "stdout",
     "output_type": "stream",
     "text": [
      "Saved 20400 reviews to 1158555867_reviews_20400.csv\n"
     ]
    },
    {
     "name": "stderr",
     "output_type": "stream",
     "text": [
      "2024-03-05 19:43:22,294 [INFO] Base - [id:1158555867] Fetched 20 reviews (20420 fetched in total)\n",
      "2024-03-05 19:43:27,579 [INFO] Base - [id:1158555867] Fetched 20 reviews (20440 fetched in total)\n",
      "2024-03-05 19:47:20,355 [INFO] Base - [id:1158555867] Fetched 20 reviews (20460 fetched in total)\n",
      "2024-03-05 19:47:25,512 [INFO] Base - [id:1158555867] Fetched 20 reviews (20480 fetched in total)\n",
      "2024-03-05 19:47:30,662 [INFO] Base - [id:1158555867] Fetched 20 reviews (20500 fetched in total)\n"
     ]
    },
    {
     "name": "stdout",
     "output_type": "stream",
     "text": [
      "Saved 20500 reviews to 1158555867_reviews_20500.csv\n"
     ]
    },
    {
     "name": "stderr",
     "output_type": "stream",
     "text": [
      "2024-03-05 19:47:35,946 [INFO] Base - [id:1158555867] Fetched 20 reviews (20520 fetched in total)\n",
      "2024-03-05 19:47:41,269 [INFO] Base - [id:1158555867] Fetched 20 reviews (20540 fetched in total)\n",
      "2024-03-05 19:47:46,657 [INFO] Base - [id:1158555867] Fetched 20 reviews (20560 fetched in total)\n",
      "2024-03-05 19:47:51,962 [INFO] Base - [id:1158555867] Fetched 20 reviews (20580 fetched in total)\n",
      "2024-03-05 19:47:57,237 [INFO] Base - [id:1158555867] Fetched 20 reviews (20600 fetched in total)\n"
     ]
    },
    {
     "name": "stdout",
     "output_type": "stream",
     "text": [
      "Saved 20600 reviews to 1158555867_reviews_20600.csv\n"
     ]
    },
    {
     "name": "stderr",
     "output_type": "stream",
     "text": [
      "2024-03-05 19:48:02,647 [INFO] Base - [id:1158555867] Fetched 20 reviews (20620 fetched in total)\n",
      "2024-03-05 19:48:07,979 [INFO] Base - [id:1158555867] Fetched 20 reviews (20640 fetched in total)\n",
      "2024-03-05 19:48:13,300 [INFO] Base - [id:1158555867] Fetched 20 reviews (20660 fetched in total)\n",
      "2024-03-05 19:48:18,556 [INFO] Base - [id:1158555867] Fetched 20 reviews (20680 fetched in total)\n",
      "2024-03-05 19:48:23,841 [INFO] Base - [id:1158555867] Fetched 20 reviews (20700 fetched in total)\n"
     ]
    },
    {
     "name": "stdout",
     "output_type": "stream",
     "text": [
      "Saved 20700 reviews to 1158555867_reviews_20700.csv\n"
     ]
    },
    {
     "name": "stderr",
     "output_type": "stream",
     "text": [
      "2024-03-05 19:48:29,261 [INFO] Base - [id:1158555867] Fetched 20 reviews (20720 fetched in total)\n",
      "2024-03-05 19:48:34,917 [INFO] Base - [id:1158555867] Fetched 20 reviews (20740 fetched in total)\n",
      "2024-03-05 19:48:40,190 [INFO] Base - [id:1158555867] Fetched 20 reviews (20760 fetched in total)\n",
      "2024-03-05 19:48:45,422 [INFO] Base - [id:1158555867] Fetched 20 reviews (20780 fetched in total)\n",
      "2024-03-05 19:48:50,802 [INFO] Base - [id:1158555867] Fetched 20 reviews (20800 fetched in total)\n"
     ]
    },
    {
     "name": "stdout",
     "output_type": "stream",
     "text": [
      "Saved 20800 reviews to 1158555867_reviews_20800.csv\n"
     ]
    },
    {
     "name": "stderr",
     "output_type": "stream",
     "text": [
      "2024-03-05 19:48:56,318 [INFO] Base - [id:1158555867] Fetched 20 reviews (20820 fetched in total)\n",
      "2024-03-05 19:49:01,645 [INFO] Base - [id:1158555867] Fetched 20 reviews (20840 fetched in total)\n",
      "2024-03-05 19:49:07,077 [INFO] Base - [id:1158555867] Fetched 20 reviews (20860 fetched in total)\n",
      "2024-03-05 19:49:12,323 [INFO] Base - [id:1158555867] Fetched 20 reviews (20880 fetched in total)\n",
      "2024-03-05 19:49:17,563 [INFO] Base - [id:1158555867] Fetched 20 reviews (20900 fetched in total)\n"
     ]
    },
    {
     "name": "stdout",
     "output_type": "stream",
     "text": [
      "Saved 20900 reviews to 1158555867_reviews_20900.csv\n"
     ]
    },
    {
     "name": "stderr",
     "output_type": "stream",
     "text": [
      "2024-03-05 19:49:23,016 [INFO] Base - [id:1158555867] Fetched 20 reviews (20920 fetched in total)\n",
      "2024-03-05 19:49:28,258 [INFO] Base - [id:1158555867] Fetched 20 reviews (20940 fetched in total)\n",
      "2024-03-05 19:49:33,469 [INFO] Base - [id:1158555867] Fetched 20 reviews (20960 fetched in total)\n",
      "2024-03-05 19:49:38,710 [INFO] Base - [id:1158555867] Fetched 20 reviews (20980 fetched in total)\n",
      "2024-03-05 19:49:44,118 [INFO] Base - [id:1158555867] Fetched 20 reviews (21000 fetched in total)\n"
     ]
    },
    {
     "name": "stdout",
     "output_type": "stream",
     "text": [
      "Saved 21000 reviews to 1158555867_reviews_21000.csv\n"
     ]
    },
    {
     "name": "stderr",
     "output_type": "stream",
     "text": [
      "2024-03-05 19:49:49,561 [INFO] Base - [id:1158555867] Fetched 20 reviews (21020 fetched in total)\n",
      "2024-03-05 19:49:54,924 [INFO] Base - [id:1158555867] Fetched 20 reviews (21040 fetched in total)\n",
      "2024-03-05 19:50:00,154 [INFO] Base - [id:1158555867] Fetched 20 reviews (21060 fetched in total)\n",
      "2024-03-05 19:50:05,458 [INFO] Base - [id:1158555867] Fetched 20 reviews (21080 fetched in total)\n",
      "2024-03-05 19:50:10,870 [INFO] Base - [id:1158555867] Fetched 20 reviews (21100 fetched in total)\n"
     ]
    },
    {
     "name": "stdout",
     "output_type": "stream",
     "text": [
      "Saved 21100 reviews to 1158555867_reviews_21100.csv\n"
     ]
    },
    {
     "name": "stderr",
     "output_type": "stream",
     "text": [
      "2024-03-05 19:50:16,317 [INFO] Base - [id:1158555867] Fetched 20 reviews (21120 fetched in total)\n",
      "2024-03-05 19:50:21,546 [INFO] Base - [id:1158555867] Fetched 20 reviews (21140 fetched in total)\n",
      "2024-03-05 19:50:26,806 [INFO] Base - [id:1158555867] Fetched 20 reviews (21160 fetched in total)\n",
      "2024-03-05 19:50:32,089 [INFO] Base - [id:1158555867] Fetched 20 reviews (21180 fetched in total)\n",
      "2024-03-05 19:50:37,349 [INFO] Base - [id:1158555867] Fetched 20 reviews (21200 fetched in total)\n"
     ]
    },
    {
     "name": "stdout",
     "output_type": "stream",
     "text": [
      "Saved 21200 reviews to 1158555867_reviews_21200.csv\n"
     ]
    },
    {
     "name": "stderr",
     "output_type": "stream",
     "text": [
      "2024-03-05 19:50:42,795 [INFO] Base - [id:1158555867] Fetched 20 reviews (21220 fetched in total)\n",
      "2024-03-05 19:50:48,080 [INFO] Base - [id:1158555867] Fetched 20 reviews (21240 fetched in total)\n",
      "2024-03-05 19:50:53,342 [INFO] Base - [id:1158555867] Fetched 20 reviews (21260 fetched in total)\n",
      "2024-03-05 19:50:58,597 [INFO] Base - [id:1158555867] Fetched 20 reviews (21280 fetched in total)\n",
      "2024-03-05 19:51:03,867 [INFO] Base - [id:1158555867] Fetched 20 reviews (21300 fetched in total)\n"
     ]
    },
    {
     "name": "stdout",
     "output_type": "stream",
     "text": [
      "Saved 21300 reviews to 1158555867_reviews_21300.csv\n"
     ]
    },
    {
     "name": "stderr",
     "output_type": "stream",
     "text": [
      "2024-03-05 19:51:09,339 [INFO] Base - [id:1158555867] Fetched 20 reviews (21320 fetched in total)\n",
      "2024-03-05 19:51:15,077 [INFO] Base - [id:1158555867] Fetched 20 reviews (21340 fetched in total)\n",
      "2024-03-05 19:51:20,336 [INFO] Base - [id:1158555867] Fetched 20 reviews (21360 fetched in total)\n",
      "2024-03-05 19:51:25,588 [INFO] Base - [id:1158555867] Fetched 20 reviews (21380 fetched in total)\n",
      "2024-03-05 19:51:30,833 [INFO] Base - [id:1158555867] Fetched 20 reviews (21400 fetched in total)\n"
     ]
    },
    {
     "name": "stdout",
     "output_type": "stream",
     "text": [
      "Saved 21400 reviews to 1158555867_reviews_21400.csv\n"
     ]
    },
    {
     "name": "stderr",
     "output_type": "stream",
     "text": [
      "2024-03-05 19:51:36,323 [INFO] Base - [id:1158555867] Fetched 20 reviews (21420 fetched in total)\n",
      "2024-03-05 19:51:41,624 [INFO] Base - [id:1158555867] Fetched 20 reviews (21440 fetched in total)\n",
      "2024-03-05 19:51:46,954 [INFO] Base - [id:1158555867] Fetched 20 reviews (21460 fetched in total)\n",
      "2024-03-05 19:51:52,254 [INFO] Base - [id:1158555867] Fetched 20 reviews (21480 fetched in total)\n",
      "2024-03-05 19:51:57,541 [INFO] Base - [id:1158555867] Fetched 20 reviews (21500 fetched in total)\n"
     ]
    },
    {
     "name": "stdout",
     "output_type": "stream",
     "text": [
      "Saved 21500 reviews to 1158555867_reviews_21500.csv\n"
     ]
    },
    {
     "name": "stderr",
     "output_type": "stream",
     "text": [
      "2024-03-05 19:52:03,032 [INFO] Base - [id:1158555867] Fetched 20 reviews (21520 fetched in total)\n",
      "2024-03-05 19:52:08,279 [INFO] Base - [id:1158555867] Fetched 20 reviews (21540 fetched in total)\n",
      "2024-03-05 19:52:13,620 [INFO] Base - [id:1158555867] Fetched 20 reviews (21560 fetched in total)\n",
      "2024-03-05 19:52:18,834 [INFO] Base - [id:1158555867] Fetched 20 reviews (21580 fetched in total)\n",
      "2024-03-05 20:09:43,174 [INFO] Base - [id:1158555867] Fetched 20 reviews (21600 fetched in total)\n"
     ]
    },
    {
     "name": "stdout",
     "output_type": "stream",
     "text": [
      "Saved 21600 reviews to 1158555867_reviews_21600.csv\n"
     ]
    },
    {
     "name": "stderr",
     "output_type": "stream",
     "text": [
      "2024-03-05 20:09:48,968 [INFO] Base - [id:1158555867] Fetched 20 reviews (21620 fetched in total)\n",
      "2024-03-05 20:09:54,254 [INFO] Base - [id:1158555867] Fetched 20 reviews (21640 fetched in total)\n",
      "2024-03-05 20:09:59,468 [INFO] Base - [id:1158555867] Fetched 20 reviews (21660 fetched in total)\n",
      "2024-03-05 20:10:05,118 [INFO] Base - [id:1158555867] Fetched 20 reviews (21680 fetched in total)\n",
      "2024-03-05 20:10:10,317 [INFO] Base - [id:1158555867] Fetched 20 reviews (21700 fetched in total)\n"
     ]
    },
    {
     "name": "stdout",
     "output_type": "stream",
     "text": [
      "Saved 21700 reviews to 1158555867_reviews_21700.csv\n"
     ]
    },
    {
     "name": "stderr",
     "output_type": "stream",
     "text": [
      "2024-03-05 20:10:15,718 [INFO] Base - [id:1158555867] Fetched 20 reviews (21720 fetched in total)\n",
      "2024-03-05 20:10:20,966 [INFO] Base - [id:1158555867] Fetched 20 reviews (21740 fetched in total)\n",
      "2024-03-05 20:10:26,268 [INFO] Base - [id:1158555867] Fetched 20 reviews (21760 fetched in total)\n",
      "2024-03-05 20:10:31,523 [INFO] Base - [id:1158555867] Fetched 20 reviews (21780 fetched in total)\n",
      "2024-03-05 20:10:36,785 [INFO] Base - [id:1158555867] Fetched 20 reviews (21800 fetched in total)\n"
     ]
    },
    {
     "name": "stdout",
     "output_type": "stream",
     "text": [
      "Saved 21800 reviews to 1158555867_reviews_21800.csv\n"
     ]
    },
    {
     "name": "stderr",
     "output_type": "stream",
     "text": [
      "2024-03-05 20:10:42,281 [INFO] Base - [id:1158555867] Fetched 20 reviews (21820 fetched in total)\n",
      "2024-03-05 20:10:47,489 [INFO] Base - [id:1158555867] Fetched 20 reviews (21840 fetched in total)\n",
      "2024-03-05 20:10:52,722 [INFO] Base - [id:1158555867] Fetched 20 reviews (21860 fetched in total)\n",
      "2024-03-05 20:10:57,926 [INFO] Base - [id:1158555867] Fetched 20 reviews (21880 fetched in total)\n",
      "2024-03-05 20:11:03,412 [INFO] Base - [id:1158555867] Fetched 20 reviews (21900 fetched in total)\n"
     ]
    },
    {
     "name": "stdout",
     "output_type": "stream",
     "text": [
      "Saved 21900 reviews to 1158555867_reviews_21900.csv\n"
     ]
    },
    {
     "name": "stderr",
     "output_type": "stream",
     "text": [
      "2024-03-05 20:11:08,814 [INFO] Base - [id:1158555867] Fetched 20 reviews (21920 fetched in total)\n",
      "2024-03-05 20:11:14,080 [INFO] Base - [id:1158555867] Fetched 20 reviews (21940 fetched in total)\n",
      "2024-03-05 20:11:19,324 [INFO] Base - [id:1158555867] Fetched 20 reviews (21960 fetched in total)\n",
      "2024-03-05 20:11:24,563 [INFO] Base - [id:1158555867] Fetched 20 reviews (21980 fetched in total)\n",
      "2024-03-05 20:11:29,843 [INFO] Base - [id:1158555867] Fetched 20 reviews (22000 fetched in total)\n"
     ]
    },
    {
     "name": "stdout",
     "output_type": "stream",
     "text": [
      "Saved 22000 reviews to 1158555867_reviews_22000.csv\n"
     ]
    },
    {
     "name": "stderr",
     "output_type": "stream",
     "text": [
      "2024-03-05 20:11:35,429 [INFO] Base - [id:1158555867] Fetched 20 reviews (22020 fetched in total)\n",
      "2024-03-05 20:11:40,661 [INFO] Base - [id:1158555867] Fetched 20 reviews (22040 fetched in total)\n",
      "2024-03-05 20:11:45,941 [INFO] Base - [id:1158555867] Fetched 20 reviews (22060 fetched in total)\n",
      "2024-03-05 20:11:51,231 [INFO] Base - [id:1158555867] Fetched 20 reviews (22080 fetched in total)\n",
      "2024-03-05 20:11:56,467 [INFO] Base - [id:1158555867] Fetched 20 reviews (22100 fetched in total)\n"
     ]
    },
    {
     "name": "stdout",
     "output_type": "stream",
     "text": [
      "Saved 22100 reviews to 1158555867_reviews_22100.csv\n"
     ]
    },
    {
     "name": "stderr",
     "output_type": "stream",
     "text": [
      "2024-03-05 20:12:01,912 [INFO] Base - [id:1158555867] Fetched 20 reviews (22120 fetched in total)\n",
      "2024-03-05 20:12:07,157 [INFO] Base - [id:1158555867] Fetched 20 reviews (22140 fetched in total)\n",
      "2024-03-05 20:12:12,631 [INFO] Base - [id:1158555867] Fetched 20 reviews (22160 fetched in total)\n",
      "2024-03-05 20:27:22,463 [INFO] Base - [id:1158555867] Fetched 20 reviews (22180 fetched in total)\n",
      "2024-03-05 20:27:27,704 [INFO] Base - [id:1158555867] Fetched 20 reviews (22200 fetched in total)\n"
     ]
    },
    {
     "name": "stdout",
     "output_type": "stream",
     "text": [
      "Saved 22200 reviews to 1158555867_reviews_22200.csv\n"
     ]
    },
    {
     "name": "stderr",
     "output_type": "stream",
     "text": [
      "2024-03-05 20:27:33,107 [INFO] Base - [id:1158555867] Fetched 20 reviews (22220 fetched in total)\n",
      "2024-03-05 20:27:38,389 [INFO] Base - [id:1158555867] Fetched 20 reviews (22240 fetched in total)\n",
      "2024-03-05 20:27:43,898 [INFO] Base - [id:1158555867] Fetched 20 reviews (22260 fetched in total)\n",
      "2024-03-05 20:27:49,162 [INFO] Base - [id:1158555867] Fetched 20 reviews (22280 fetched in total)\n",
      "2024-03-05 20:27:54,401 [INFO] Base - [id:1158555867] Fetched 20 reviews (22300 fetched in total)\n"
     ]
    },
    {
     "name": "stdout",
     "output_type": "stream",
     "text": [
      "Saved 22300 reviews to 1158555867_reviews_22300.csv\n"
     ]
    },
    {
     "name": "stderr",
     "output_type": "stream",
     "text": [
      "2024-03-05 20:27:59,778 [INFO] Base - [id:1158555867] Fetched 20 reviews (22320 fetched in total)\n",
      "2024-03-05 20:28:05,012 [INFO] Base - [id:1158555867] Fetched 20 reviews (22340 fetched in total)\n",
      "2024-03-05 20:28:10,240 [INFO] Base - [id:1158555867] Fetched 20 reviews (22360 fetched in total)\n",
      "2024-03-05 20:28:15,839 [INFO] Base - [id:1158555867] Fetched 20 reviews (22380 fetched in total)\n",
      "2024-03-05 20:28:21,084 [INFO] Base - [id:1158555867] Fetched 20 reviews (22400 fetched in total)\n"
     ]
    },
    {
     "name": "stdout",
     "output_type": "stream",
     "text": [
      "Saved 22400 reviews to 1158555867_reviews_22400.csv\n"
     ]
    },
    {
     "name": "stderr",
     "output_type": "stream",
     "text": [
      "2024-03-05 20:28:26,462 [INFO] Base - [id:1158555867] Fetched 20 reviews (22420 fetched in total)\n",
      "2024-03-05 20:28:32,075 [INFO] Base - [id:1158555867] Fetched 20 reviews (22440 fetched in total)\n",
      "2024-03-05 20:28:37,316 [INFO] Base - [id:1158555867] Fetched 20 reviews (22460 fetched in total)\n",
      "2024-03-05 20:28:42,769 [INFO] Base - [id:1158555867] Fetched 20 reviews (22480 fetched in total)\n",
      "2024-03-05 20:28:48,054 [INFO] Base - [id:1158555867] Fetched 20 reviews (22500 fetched in total)\n"
     ]
    },
    {
     "name": "stdout",
     "output_type": "stream",
     "text": [
      "Saved 22500 reviews to 1158555867_reviews_22500.csv\n"
     ]
    },
    {
     "name": "stderr",
     "output_type": "stream",
     "text": [
      "2024-03-05 20:28:53,483 [INFO] Base - [id:1158555867] Fetched 20 reviews (22520 fetched in total)\n",
      "2024-03-05 20:28:58,725 [INFO] Base - [id:1158555867] Fetched 20 reviews (22540 fetched in total)\n",
      "2024-03-05 20:29:03,997 [INFO] Base - [id:1158555867] Fetched 20 reviews (22560 fetched in total)\n",
      "2024-03-05 20:29:09,207 [INFO] Base - [id:1158555867] Fetched 20 reviews (22580 fetched in total)\n",
      "2024-03-05 20:29:14,458 [INFO] Base - [id:1158555867] Fetched 20 reviews (22600 fetched in total)\n"
     ]
    },
    {
     "name": "stdout",
     "output_type": "stream",
     "text": [
      "Saved 22600 reviews to 1158555867_reviews_22600.csv\n"
     ]
    },
    {
     "name": "stderr",
     "output_type": "stream",
     "text": [
      "2024-03-05 20:29:19,854 [INFO] Base - [id:1158555867] Fetched 20 reviews (22620 fetched in total)\n",
      "2024-03-05 20:29:25,095 [INFO] Base - [id:1158555867] Fetched 20 reviews (22640 fetched in total)\n",
      "2024-03-05 20:29:30,310 [INFO] Base - [id:1158555867] Fetched 20 reviews (22660 fetched in total)\n",
      "2024-03-05 20:29:35,566 [INFO] Base - [id:1158555867] Fetched 20 reviews (22680 fetched in total)\n",
      "2024-03-05 20:29:40,796 [INFO] Base - [id:1158555867] Fetched 20 reviews (22700 fetched in total)\n"
     ]
    },
    {
     "name": "stdout",
     "output_type": "stream",
     "text": [
      "Saved 22700 reviews to 1158555867_reviews_22700.csv\n"
     ]
    },
    {
     "name": "stderr",
     "output_type": "stream",
     "text": [
      "2024-03-05 20:29:46,210 [INFO] Base - [id:1158555867] Fetched 20 reviews (22720 fetched in total)\n",
      "2024-03-05 20:29:51,463 [INFO] Base - [id:1158555867] Fetched 20 reviews (22740 fetched in total)\n",
      "2024-03-05 20:29:56,728 [INFO] Base - [id:1158555867] Fetched 20 reviews (22760 fetched in total)\n",
      "2024-03-05 20:46:06,649 [INFO] Base - [id:1158555867] Fetched 20 reviews (22780 fetched in total)\n",
      "2024-03-05 20:46:11,863 [INFO] Base - [id:1158555867] Fetched 20 reviews (22800 fetched in total)\n"
     ]
    },
    {
     "name": "stdout",
     "output_type": "stream",
     "text": [
      "Saved 22800 reviews to 1158555867_reviews_22800.csv\n"
     ]
    },
    {
     "name": "stderr",
     "output_type": "stream",
     "text": [
      "2024-03-05 20:46:17,215 [INFO] Base - [id:1158555867] Fetched 20 reviews (22820 fetched in total)\n",
      "2024-03-05 20:46:22,426 [INFO] Base - [id:1158555867] Fetched 20 reviews (22840 fetched in total)\n",
      "2024-03-05 20:46:28,046 [INFO] Base - [id:1158555867] Fetched 20 reviews (22860 fetched in total)\n",
      "2024-03-05 20:46:33,268 [INFO] Base - [id:1158555867] Fetched 20 reviews (22880 fetched in total)\n",
      "2024-03-05 20:46:38,613 [INFO] Base - [id:1158555867] Fetched 20 reviews (22900 fetched in total)\n"
     ]
    },
    {
     "name": "stdout",
     "output_type": "stream",
     "text": [
      "Saved 22900 reviews to 1158555867_reviews_22900.csv\n"
     ]
    },
    {
     "name": "stderr",
     "output_type": "stream",
     "text": [
      "2024-03-05 20:46:44,000 [INFO] Base - [id:1158555867] Fetched 20 reviews (22920 fetched in total)\n",
      "2024-03-05 20:46:49,199 [INFO] Base - [id:1158555867] Fetched 20 reviews (22940 fetched in total)\n",
      "2024-03-05 20:46:54,426 [INFO] Base - [id:1158555867] Fetched 20 reviews (22960 fetched in total)\n",
      "2024-03-05 20:46:59,753 [INFO] Base - [id:1158555867] Fetched 20 reviews (22980 fetched in total)\n",
      "2024-03-05 20:47:05,049 [INFO] Base - [id:1158555867] Fetched 20 reviews (23000 fetched in total)\n"
     ]
    },
    {
     "name": "stdout",
     "output_type": "stream",
     "text": [
      "Saved 23000 reviews to 1158555867_reviews_23000.csv\n"
     ]
    },
    {
     "name": "stderr",
     "output_type": "stream",
     "text": [
      "2024-03-05 20:47:10,474 [INFO] Base - [id:1158555867] Fetched 20 reviews (23020 fetched in total)\n",
      "2024-03-05 20:47:15,745 [INFO] Base - [id:1158555867] Fetched 20 reviews (23040 fetched in total)\n",
      "2024-03-05 20:47:21,062 [INFO] Base - [id:1158555867] Fetched 20 reviews (23060 fetched in total)\n",
      "2024-03-05 20:47:26,509 [INFO] Base - [id:1158555867] Fetched 20 reviews (23080 fetched in total)\n",
      "2024-03-05 20:47:31,782 [INFO] Base - [id:1158555867] Fetched 20 reviews (23100 fetched in total)\n"
     ]
    },
    {
     "name": "stdout",
     "output_type": "stream",
     "text": [
      "Saved 23100 reviews to 1158555867_reviews_23100.csv\n"
     ]
    },
    {
     "name": "stderr",
     "output_type": "stream",
     "text": [
      "2024-03-05 20:47:37,268 [INFO] Base - [id:1158555867] Fetched 20 reviews (23120 fetched in total)\n",
      "2024-03-05 20:47:42,588 [INFO] Base - [id:1158555867] Fetched 20 reviews (23140 fetched in total)\n",
      "2024-03-05 20:47:47,830 [INFO] Base - [id:1158555867] Fetched 20 reviews (23160 fetched in total)\n",
      "2024-03-05 20:47:53,156 [INFO] Base - [id:1158555867] Fetched 20 reviews (23180 fetched in total)\n",
      "2024-03-05 20:47:58,395 [INFO] Base - [id:1158555867] Fetched 20 reviews (23200 fetched in total)\n"
     ]
    },
    {
     "name": "stdout",
     "output_type": "stream",
     "text": [
      "Saved 23200 reviews to 1158555867_reviews_23200.csv\n"
     ]
    },
    {
     "name": "stderr",
     "output_type": "stream",
     "text": [
      "2024-03-05 20:48:03,809 [INFO] Base - [id:1158555867] Fetched 20 reviews (23220 fetched in total)\n",
      "2024-03-05 20:48:09,027 [INFO] Base - [id:1158555867] Fetched 20 reviews (23240 fetched in total)\n",
      "2024-03-05 20:48:14,241 [INFO] Base - [id:1158555867] Fetched 20 reviews (23260 fetched in total)\n",
      "2024-03-05 20:48:19,471 [INFO] Base - [id:1158555867] Fetched 20 reviews (23280 fetched in total)\n",
      "2024-03-05 20:48:24,675 [INFO] Base - [id:1158555867] Fetched 20 reviews (23300 fetched in total)\n"
     ]
    },
    {
     "name": "stdout",
     "output_type": "stream",
     "text": [
      "Saved 23300 reviews to 1158555867_reviews_23300.csv\n"
     ]
    },
    {
     "name": "stderr",
     "output_type": "stream",
     "text": [
      "2024-03-05 20:48:30,067 [INFO] Base - [id:1158555867] Fetched 20 reviews (23320 fetched in total)\n",
      "2024-03-05 20:48:35,292 [INFO] Base - [id:1158555867] Fetched 20 reviews (23340 fetched in total)\n",
      "2024-03-05 20:48:40,587 [INFO] Base - [id:1158555867] Fetched 20 reviews (23360 fetched in total)\n",
      "2024-03-05 20:48:45,878 [INFO] Base - [id:1158555867] Fetched 20 reviews (23380 fetched in total)\n",
      "2024-03-05 20:48:51,093 [INFO] Base - [id:1158555867] Fetched 20 reviews (23400 fetched in total)\n"
     ]
    },
    {
     "name": "stdout",
     "output_type": "stream",
     "text": [
      "Saved 23400 reviews to 1158555867_reviews_23400.csv\n"
     ]
    },
    {
     "name": "stderr",
     "output_type": "stream",
     "text": [
      "2024-03-05 20:48:56,508 [INFO] Base - [id:1158555867] Fetched 20 reviews (23420 fetched in total)\n",
      "2024-03-05 20:49:01,747 [INFO] Base - [id:1158555867] Fetched 20 reviews (23440 fetched in total)\n",
      "2024-03-05 20:49:06,954 [INFO] Base - [id:1158555867] Fetched 20 reviews (23460 fetched in total)\n",
      "2024-03-05 20:49:12,169 [INFO] Base - [id:1158555867] Fetched 20 reviews (23480 fetched in total)\n",
      "2024-03-05 20:49:17,401 [INFO] Base - [id:1158555867] Fetched 20 reviews (23500 fetched in total)\n"
     ]
    },
    {
     "name": "stdout",
     "output_type": "stream",
     "text": [
      "Saved 23500 reviews to 1158555867_reviews_23500.csv\n"
     ]
    },
    {
     "name": "stderr",
     "output_type": "stream",
     "text": [
      "2024-03-05 20:49:22,821 [INFO] Base - [id:1158555867] Fetched 20 reviews (23520 fetched in total)\n",
      "2024-03-05 20:49:28,034 [INFO] Base - [id:1158555867] Fetched 20 reviews (23540 fetched in total)\n",
      "2024-03-05 20:49:33,270 [INFO] Base - [id:1158555867] Fetched 20 reviews (23560 fetched in total)\n",
      "2024-03-05 20:49:38,853 [INFO] Base - [id:1158555867] Fetched 20 reviews (23580 fetched in total)\n",
      "2024-03-05 20:49:44,057 [INFO] Base - [id:1158555867] Fetched 20 reviews (23600 fetched in total)\n"
     ]
    },
    {
     "name": "stdout",
     "output_type": "stream",
     "text": [
      "Saved 23600 reviews to 1158555867_reviews_23600.csv\n"
     ]
    },
    {
     "name": "stderr",
     "output_type": "stream",
     "text": [
      "2024-03-05 20:49:49,439 [INFO] Base - [id:1158555867] Fetched 20 reviews (23620 fetched in total)\n",
      "2024-03-05 20:49:54,758 [INFO] Base - [id:1158555867] Fetched 20 reviews (23640 fetched in total)\n",
      "2024-03-05 20:49:59,996 [INFO] Base - [id:1158555867] Fetched 20 reviews (23660 fetched in total)\n",
      "2024-03-05 20:50:05,255 [INFO] Base - [id:1158555867] Fetched 20 reviews (23680 fetched in total)\n",
      "2024-03-05 20:50:10,535 [INFO] Base - [id:1158555867] Fetched 20 reviews (23700 fetched in total)\n"
     ]
    },
    {
     "name": "stdout",
     "output_type": "stream",
     "text": [
      "Saved 23700 reviews to 1158555867_reviews_23700.csv\n"
     ]
    },
    {
     "name": "stderr",
     "output_type": "stream",
     "text": [
      "2024-03-05 20:50:16,071 [INFO] Base - [id:1158555867] Fetched 20 reviews (23720 fetched in total)\n",
      "2024-03-05 20:50:21,864 [INFO] Base - [id:1158555867] Fetched 20 reviews (23740 fetched in total)\n",
      "2024-03-05 20:50:27,128 [INFO] Base - [id:1158555867] Fetched 20 reviews (23760 fetched in total)\n",
      "2024-03-05 20:50:32,414 [INFO] Base - [id:1158555867] Fetched 20 reviews (23780 fetched in total)\n",
      "2024-03-05 20:50:37,818 [INFO] Base - [id:1158555867] Fetched 20 reviews (23800 fetched in total)\n"
     ]
    },
    {
     "name": "stdout",
     "output_type": "stream",
     "text": [
      "Saved 23800 reviews to 1158555867_reviews_23800.csv\n"
     ]
    },
    {
     "name": "stderr",
     "output_type": "stream",
     "text": [
      "2024-03-05 20:50:43,273 [INFO] Base - [id:1158555867] Fetched 20 reviews (23820 fetched in total)\n",
      "2024-03-05 20:50:48,693 [INFO] Base - [id:1158555867] Fetched 20 reviews (23840 fetched in total)\n",
      "2024-03-05 20:50:53,936 [INFO] Base - [id:1158555867] Fetched 20 reviews (23860 fetched in total)\n",
      "2024-03-05 20:50:59,235 [INFO] Base - [id:1158555867] Fetched 20 reviews (23880 fetched in total)\n",
      "2024-03-05 20:51:04,488 [INFO] Base - [id:1158555867] Fetched 20 reviews (23900 fetched in total)\n"
     ]
    },
    {
     "name": "stdout",
     "output_type": "stream",
     "text": [
      "Saved 23900 reviews to 1158555867_reviews_23900.csv\n"
     ]
    },
    {
     "name": "stderr",
     "output_type": "stream",
     "text": [
      "2024-03-05 21:06:22,871 [INFO] Base - [id:1158555867] Fetched 20 reviews (23920 fetched in total)\n",
      "2024-03-05 21:06:28,121 [INFO] Base - [id:1158555867] Fetched 20 reviews (23940 fetched in total)\n",
      "2024-03-05 21:06:33,390 [INFO] Base - [id:1158555867] Fetched 20 reviews (23960 fetched in total)\n",
      "2024-03-05 21:06:38,684 [INFO] Base - [id:1158555867] Fetched 20 reviews (23980 fetched in total)\n",
      "2024-03-05 21:06:44,075 [INFO] Base - [id:1158555867] Fetched 20 reviews (24000 fetched in total)\n"
     ]
    },
    {
     "name": "stdout",
     "output_type": "stream",
     "text": [
      "Saved 24000 reviews to 1158555867_reviews_24000.csv\n"
     ]
    },
    {
     "name": "stderr",
     "output_type": "stream",
     "text": [
      "2024-03-05 21:06:49,950 [INFO] Base - [id:1158555867] Fetched 20 reviews (24020 fetched in total)\n",
      "2024-03-05 21:06:55,198 [INFO] Base - [id:1158555867] Fetched 20 reviews (24040 fetched in total)\n",
      "2024-03-05 21:07:00,441 [INFO] Base - [id:1158555867] Fetched 20 reviews (24060 fetched in total)\n",
      "2024-03-05 21:07:05,745 [INFO] Base - [id:1158555867] Fetched 20 reviews (24080 fetched in total)\n",
      "2024-03-05 21:07:11,012 [INFO] Base - [id:1158555867] Fetched 20 reviews (24100 fetched in total)\n"
     ]
    },
    {
     "name": "stdout",
     "output_type": "stream",
     "text": [
      "Saved 24100 reviews to 1158555867_reviews_24100.csv\n"
     ]
    },
    {
     "name": "stderr",
     "output_type": "stream",
     "text": [
      "2024-03-05 21:07:16,680 [INFO] Base - [id:1158555867] Fetched 20 reviews (24120 fetched in total)\n",
      "2024-03-05 21:07:21,953 [INFO] Base - [id:1158555867] Fetched 20 reviews (24140 fetched in total)\n",
      "2024-03-05 21:07:27,228 [INFO] Base - [id:1158555867] Fetched 20 reviews (24160 fetched in total)\n",
      "2024-03-05 21:07:32,434 [INFO] Base - [id:1158555867] Fetched 20 reviews (24180 fetched in total)\n",
      "2024-03-05 21:07:37,997 [INFO] Base - [id:1158555867] Fetched 20 reviews (24200 fetched in total)\n"
     ]
    },
    {
     "name": "stdout",
     "output_type": "stream",
     "text": [
      "Saved 24200 reviews to 1158555867_reviews_24200.csv\n"
     ]
    },
    {
     "name": "stderr",
     "output_type": "stream",
     "text": [
      "2024-03-05 21:07:43,531 [INFO] Base - [id:1158555867] Fetched 20 reviews (24220 fetched in total)\n",
      "2024-03-05 21:07:48,793 [INFO] Base - [id:1158555867] Fetched 20 reviews (24240 fetched in total)\n",
      "2024-03-05 21:07:54,084 [INFO] Base - [id:1158555867] Fetched 20 reviews (24260 fetched in total)\n",
      "2024-03-05 21:07:59,364 [INFO] Base - [id:1158555867] Fetched 20 reviews (24280 fetched in total)\n",
      "2024-03-05 21:08:04,616 [INFO] Base - [id:1158555867] Fetched 20 reviews (24300 fetched in total)\n"
     ]
    },
    {
     "name": "stdout",
     "output_type": "stream",
     "text": [
      "Saved 24300 reviews to 1158555867_reviews_24300.csv\n"
     ]
    },
    {
     "name": "stderr",
     "output_type": "stream",
     "text": [
      "2024-03-05 21:08:10,070 [INFO] Base - [id:1158555867] Fetched 20 reviews (24320 fetched in total)\n",
      "2024-03-05 21:08:15,348 [INFO] Base - [id:1158555867] Fetched 20 reviews (24340 fetched in total)\n",
      "2024-03-05 21:08:20,693 [INFO] Base - [id:1158555867] Fetched 20 reviews (24360 fetched in total)\n",
      "2024-03-05 21:08:25,973 [INFO] Base - [id:1158555867] Fetched 20 reviews (24380 fetched in total)\n",
      "2024-03-05 21:08:31,253 [INFO] Base - [id:1158555867] Fetched 20 reviews (24400 fetched in total)\n"
     ]
    },
    {
     "name": "stdout",
     "output_type": "stream",
     "text": [
      "Saved 24400 reviews to 1158555867_reviews_24400.csv\n"
     ]
    },
    {
     "name": "stderr",
     "output_type": "stream",
     "text": [
      "2024-03-05 21:08:36,702 [INFO] Base - [id:1158555867] Fetched 20 reviews (24420 fetched in total)\n",
      "2024-03-05 21:08:41,888 [INFO] Base - [id:1158555867] Fetched 20 reviews (24440 fetched in total)\n",
      "2024-03-05 21:08:47,145 [INFO] Base - [id:1158555867] Fetched 20 reviews (24460 fetched in total)\n",
      "2024-03-05 21:18:02,002 [INFO] Base - [id:1158555867] Fetched 20 reviews (24480 fetched in total)\n",
      "2024-03-05 21:18:07,250 [INFO] Base - [id:1158555867] Fetched 20 reviews (24500 fetched in total)\n"
     ]
    },
    {
     "name": "stdout",
     "output_type": "stream",
     "text": [
      "Saved 24500 reviews to 1158555867_reviews_24500.csv\n"
     ]
    },
    {
     "name": "stderr",
     "output_type": "stream",
     "text": [
      "2024-03-05 21:18:12,666 [INFO] Base - [id:1158555867] Fetched 20 reviews (24520 fetched in total)\n",
      "2024-03-05 21:18:17,945 [INFO] Base - [id:1158555867] Fetched 20 reviews (24540 fetched in total)\n",
      "2024-03-05 21:18:23,455 [INFO] Base - [id:1158555867] Fetched 20 reviews (24560 fetched in total)\n",
      "2024-03-05 21:18:28,824 [INFO] Base - [id:1158555867] Fetched 20 reviews (24580 fetched in total)\n",
      "2024-03-05 21:18:34,040 [INFO] Base - [id:1158555867] Fetched 20 reviews (24600 fetched in total)\n"
     ]
    },
    {
     "name": "stdout",
     "output_type": "stream",
     "text": [
      "Saved 24600 reviews to 1158555867_reviews_24600.csv\n"
     ]
    },
    {
     "name": "stderr",
     "output_type": "stream",
     "text": [
      "2024-03-05 21:18:39,436 [INFO] Base - [id:1158555867] Fetched 20 reviews (24620 fetched in total)\n",
      "2024-03-05 21:18:44,648 [INFO] Base - [id:1158555867] Fetched 20 reviews (24640 fetched in total)\n",
      "2024-03-05 21:18:49,889 [INFO] Base - [id:1158555867] Fetched 20 reviews (24660 fetched in total)\n",
      "2024-03-05 21:18:55,102 [INFO] Base - [id:1158555867] Fetched 20 reviews (24680 fetched in total)\n",
      "2024-03-05 21:19:00,299 [INFO] Base - [id:1158555867] Fetched 20 reviews (24700 fetched in total)\n"
     ]
    },
    {
     "name": "stdout",
     "output_type": "stream",
     "text": [
      "Saved 24700 reviews to 1158555867_reviews_24700.csv\n"
     ]
    },
    {
     "name": "stderr",
     "output_type": "stream",
     "text": [
      "2024-03-05 21:19:05,677 [INFO] Base - [id:1158555867] Fetched 20 reviews (24720 fetched in total)\n",
      "2024-03-05 21:19:11,138 [INFO] Base - [id:1158555867] Fetched 20 reviews (24740 fetched in total)\n",
      "2024-03-05 21:19:16,412 [INFO] Base - [id:1158555867] Fetched 20 reviews (24760 fetched in total)\n",
      "2024-03-05 21:19:21,678 [INFO] Base - [id:1158555867] Fetched 20 reviews (24780 fetched in total)\n",
      "2024-03-05 21:19:26,990 [INFO] Base - [id:1158555867] Fetched 20 reviews (24800 fetched in total)\n"
     ]
    },
    {
     "name": "stdout",
     "output_type": "stream",
     "text": [
      "Saved 24800 reviews to 1158555867_reviews_24800.csv\n"
     ]
    },
    {
     "name": "stderr",
     "output_type": "stream",
     "text": [
      "2024-03-05 21:19:32,412 [INFO] Base - [id:1158555867] Fetched 20 reviews (24820 fetched in total)\n",
      "2024-03-05 21:19:37,631 [INFO] Base - [id:1158555867] Fetched 20 reviews (24840 fetched in total)\n",
      "2024-03-05 21:19:42,886 [INFO] Base - [id:1158555867] Fetched 20 reviews (24860 fetched in total)\n",
      "2024-03-05 21:19:48,131 [INFO] Base - [id:1158555867] Fetched 20 reviews (24880 fetched in total)\n",
      "2024-03-05 21:19:53,370 [INFO] Base - [id:1158555867] Fetched 20 reviews (24900 fetched in total)\n"
     ]
    },
    {
     "name": "stdout",
     "output_type": "stream",
     "text": [
      "Saved 24900 reviews to 1158555867_reviews_24900.csv\n"
     ]
    },
    {
     "name": "stderr",
     "output_type": "stream",
     "text": [
      "2024-03-05 21:19:58,767 [INFO] Base - [id:1158555867] Fetched 20 reviews (24920 fetched in total)\n",
      "2024-03-05 21:20:04,001 [INFO] Base - [id:1158555867] Fetched 20 reviews (24940 fetched in total)\n",
      "2024-03-05 21:20:09,279 [INFO] Base - [id:1158555867] Fetched 20 reviews (24960 fetched in total)\n",
      "2024-03-05 21:20:14,533 [INFO] Base - [id:1158555867] Fetched 20 reviews (24980 fetched in total)\n",
      "2024-03-05 21:20:19,768 [INFO] Base - [id:1158555867] Fetched 20 reviews (25000 fetched in total)\n"
     ]
    },
    {
     "name": "stdout",
     "output_type": "stream",
     "text": [
      "Saved 25000 reviews to 1158555867_reviews_25000.csv\n"
     ]
    },
    {
     "name": "stderr",
     "output_type": "stream",
     "text": [
      "2024-03-05 21:20:25,230 [INFO] Base - [id:1158555867] Fetched 20 reviews (25020 fetched in total)\n",
      "2024-03-05 21:20:30,510 [INFO] Base - [id:1158555867] Fetched 20 reviews (25040 fetched in total)\n",
      "2024-03-05 21:20:35,760 [INFO] Base - [id:1158555867] Fetched 20 reviews (25060 fetched in total)\n",
      "2024-03-05 21:36:33,891 [INFO] Base - [id:1158555867] Fetched 20 reviews (25080 fetched in total)\n",
      "2024-03-05 21:36:39,283 [INFO] Base - [id:1158555867] Fetched 20 reviews (25100 fetched in total)\n"
     ]
    },
    {
     "name": "stdout",
     "output_type": "stream",
     "text": [
      "Saved 25100 reviews to 1158555867_reviews_25100.csv\n"
     ]
    },
    {
     "name": "stderr",
     "output_type": "stream",
     "text": [
      "2024-03-05 21:36:44,716 [INFO] Base - [id:1158555867] Fetched 20 reviews (25120 fetched in total)\n",
      "2024-03-05 21:36:49,988 [INFO] Base - [id:1158555867] Fetched 20 reviews (25140 fetched in total)\n",
      "2024-03-05 21:36:55,306 [INFO] Base - [id:1158555867] Fetched 20 reviews (25160 fetched in total)\n",
      "2024-03-05 21:37:01,041 [INFO] Base - [id:1158555867] Fetched 20 reviews (25180 fetched in total)\n",
      "2024-03-05 21:37:06,349 [INFO] Base - [id:1158555867] Fetched 20 reviews (25200 fetched in total)\n"
     ]
    },
    {
     "name": "stdout",
     "output_type": "stream",
     "text": [
      "Saved 25200 reviews to 1158555867_reviews_25200.csv\n"
     ]
    },
    {
     "name": "stderr",
     "output_type": "stream",
     "text": [
      "2024-03-05 21:37:11,779 [INFO] Base - [id:1158555867] Fetched 20 reviews (25220 fetched in total)\n",
      "2024-03-05 21:37:17,060 [INFO] Base - [id:1158555867] Fetched 20 reviews (25240 fetched in total)\n",
      "2024-03-05 21:37:22,266 [INFO] Base - [id:1158555867] Fetched 20 reviews (25260 fetched in total)\n",
      "2024-03-05 21:37:27,590 [INFO] Base - [id:1158555867] Fetched 20 reviews (25280 fetched in total)\n",
      "2024-03-05 21:37:32,870 [INFO] Base - [id:1158555867] Fetched 20 reviews (25300 fetched in total)\n"
     ]
    },
    {
     "name": "stdout",
     "output_type": "stream",
     "text": [
      "Saved 25300 reviews to 1158555867_reviews_25300.csv\n"
     ]
    },
    {
     "name": "stderr",
     "output_type": "stream",
     "text": [
      "2024-03-05 21:37:38,339 [INFO] Base - [id:1158555867] Fetched 20 reviews (25320 fetched in total)\n",
      "2024-03-05 21:37:43,614 [INFO] Base - [id:1158555867] Fetched 20 reviews (25340 fetched in total)\n",
      "2024-03-05 21:37:49,029 [INFO] Base - [id:1158555867] Fetched 20 reviews (25360 fetched in total)\n",
      "2024-03-05 21:37:54,307 [INFO] Base - [id:1158555867] Fetched 20 reviews (25380 fetched in total)\n",
      "2024-03-05 21:37:59,643 [INFO] Base - [id:1158555867] Fetched 20 reviews (25400 fetched in total)\n"
     ]
    },
    {
     "name": "stdout",
     "output_type": "stream",
     "text": [
      "Saved 25400 reviews to 1158555867_reviews_25400.csv\n"
     ]
    },
    {
     "name": "stderr",
     "output_type": "stream",
     "text": [
      "2024-03-05 21:38:05,113 [INFO] Base - [id:1158555867] Fetched 20 reviews (25420 fetched in total)\n",
      "2024-03-05 21:38:10,414 [INFO] Base - [id:1158555867] Fetched 20 reviews (25440 fetched in total)\n",
      "2024-03-05 21:38:15,659 [INFO] Base - [id:1158555867] Fetched 20 reviews (25460 fetched in total)\n",
      "2024-03-05 21:38:20,963 [INFO] Base - [id:1158555867] Fetched 20 reviews (25480 fetched in total)\n",
      "2024-03-05 21:38:26,272 [INFO] Base - [id:1158555867] Fetched 20 reviews (25500 fetched in total)\n"
     ]
    },
    {
     "name": "stdout",
     "output_type": "stream",
     "text": [
      "Saved 25500 reviews to 1158555867_reviews_25500.csv\n"
     ]
    },
    {
     "name": "stderr",
     "output_type": "stream",
     "text": [
      "2024-03-05 21:38:31,702 [INFO] Base - [id:1158555867] Fetched 20 reviews (25520 fetched in total)\n",
      "2024-03-05 21:38:37,033 [INFO] Base - [id:1158555867] Fetched 20 reviews (25540 fetched in total)\n",
      "2024-03-05 21:38:42,280 [INFO] Base - [id:1158555867] Fetched 20 reviews (25560 fetched in total)\n",
      "2024-03-05 21:38:47,605 [INFO] Base - [id:1158555867] Fetched 20 reviews (25580 fetched in total)\n",
      "2024-03-05 21:38:52,982 [INFO] Base - [id:1158555867] Fetched 20 reviews (25600 fetched in total)\n"
     ]
    },
    {
     "name": "stdout",
     "output_type": "stream",
     "text": [
      "Saved 25600 reviews to 1158555867_reviews_25600.csv\n"
     ]
    },
    {
     "name": "stderr",
     "output_type": "stream",
     "text": [
      "2024-03-05 21:38:58,448 [INFO] Base - [id:1158555867] Fetched 20 reviews (25620 fetched in total)\n",
      "2024-03-05 21:55:56,820 [INFO] Base - [id:1158555867] Fetched 20 reviews (25640 fetched in total)\n",
      "2024-03-05 21:56:02,003 [INFO] Base - [id:1158555867] Fetched 20 reviews (25660 fetched in total)\n",
      "2024-03-05 21:56:07,192 [INFO] Base - [id:1158555867] Fetched 20 reviews (25680 fetched in total)\n",
      "2024-03-05 21:56:12,395 [INFO] Base - [id:1158555867] Fetched 20 reviews (25700 fetched in total)\n"
     ]
    },
    {
     "name": "stdout",
     "output_type": "stream",
     "text": [
      "Saved 25700 reviews to 1158555867_reviews_25700.csv\n"
     ]
    },
    {
     "name": "stderr",
     "output_type": "stream",
     "text": [
      "2024-03-05 21:56:17,798 [INFO] Base - [id:1158555867] Fetched 20 reviews (25720 fetched in total)\n",
      "2024-03-05 21:56:23,121 [INFO] Base - [id:1158555867] Fetched 20 reviews (25740 fetched in total)\n",
      "2024-03-05 21:56:28,325 [INFO] Base - [id:1158555867] Fetched 20 reviews (25760 fetched in total)\n",
      "2024-03-05 21:56:33,536 [INFO] Base - [id:1158555867] Fetched 20 reviews (25780 fetched in total)\n",
      "2024-03-05 21:56:38,753 [INFO] Base - [id:1158555867] Fetched 20 reviews (25800 fetched in total)\n"
     ]
    },
    {
     "name": "stdout",
     "output_type": "stream",
     "text": [
      "Saved 25800 reviews to 1158555867_reviews_25800.csv\n"
     ]
    },
    {
     "name": "stderr",
     "output_type": "stream",
     "text": [
      "2024-03-05 21:56:44,138 [INFO] Base - [id:1158555867] Fetched 20 reviews (25820 fetched in total)\n",
      "2024-03-05 21:56:49,353 [INFO] Base - [id:1158555867] Fetched 20 reviews (25840 fetched in total)\n",
      "2024-03-05 21:56:54,556 [INFO] Base - [id:1158555867] Fetched 20 reviews (25860 fetched in total)\n",
      "2024-03-05 21:56:59,800 [INFO] Base - [id:1158555867] Fetched 20 reviews (25880 fetched in total)\n",
      "2024-03-05 21:57:05,025 [INFO] Base - [id:1158555867] Fetched 20 reviews (25900 fetched in total)\n"
     ]
    },
    {
     "name": "stdout",
     "output_type": "stream",
     "text": [
      "Saved 25900 reviews to 1158555867_reviews_25900.csv\n"
     ]
    },
    {
     "name": "stderr",
     "output_type": "stream",
     "text": [
      "2024-03-05 21:57:10,425 [INFO] Base - [id:1158555867] Fetched 20 reviews (25920 fetched in total)\n",
      "2024-03-05 21:57:15,638 [INFO] Base - [id:1158555867] Fetched 20 reviews (25940 fetched in total)\n",
      "2024-03-05 21:57:20,835 [INFO] Base - [id:1158555867] Fetched 20 reviews (25960 fetched in total)\n",
      "2024-03-05 21:57:26,040 [INFO] Base - [id:1158555867] Fetched 20 reviews (25980 fetched in total)\n",
      "2024-03-05 21:57:31,268 [INFO] Base - [id:1158555867] Fetched 20 reviews (26000 fetched in total)\n"
     ]
    },
    {
     "name": "stdout",
     "output_type": "stream",
     "text": [
      "Saved 26000 reviews to 1158555867_reviews_26000.csv\n"
     ]
    },
    {
     "name": "stderr",
     "output_type": "stream",
     "text": [
      "2024-03-05 21:57:36,666 [INFO] Base - [id:1158555867] Fetched 20 reviews (26020 fetched in total)\n",
      "2024-03-05 21:57:41,873 [INFO] Base - [id:1158555867] Fetched 20 reviews (26040 fetched in total)\n",
      "2024-03-05 21:57:47,124 [INFO] Base - [id:1158555867] Fetched 20 reviews (26060 fetched in total)\n",
      "2024-03-05 21:57:52,355 [INFO] Base - [id:1158555867] Fetched 20 reviews (26080 fetched in total)\n",
      "2024-03-05 21:57:57,563 [INFO] Base - [id:1158555867] Fetched 20 reviews (26100 fetched in total)\n"
     ]
    },
    {
     "name": "stdout",
     "output_type": "stream",
     "text": [
      "Saved 26100 reviews to 1158555867_reviews_26100.csv\n"
     ]
    },
    {
     "name": "stderr",
     "output_type": "stream",
     "text": [
      "2024-03-05 21:58:02,995 [INFO] Base - [id:1158555867] Fetched 20 reviews (26120 fetched in total)\n",
      "2024-03-05 21:58:08,208 [INFO] Base - [id:1158555867] Fetched 20 reviews (26140 fetched in total)\n",
      "2024-03-05 21:58:13,424 [INFO] Base - [id:1158555867] Fetched 20 reviews (26160 fetched in total)\n",
      "2024-03-05 21:58:18,628 [INFO] Base - [id:1158555867] Fetched 20 reviews (26180 fetched in total)\n",
      "2024-03-05 21:58:23,819 [INFO] Base - [id:1158555867] Fetched 20 reviews (26200 fetched in total)\n"
     ]
    },
    {
     "name": "stdout",
     "output_type": "stream",
     "text": [
      "Saved 26200 reviews to 1158555867_reviews_26200.csv\n"
     ]
    },
    {
     "name": "stderr",
     "output_type": "stream",
     "text": [
      "2024-03-05 22:00:05,125 [INFO] Base - [id:1158555867] Fetched 20 reviews (26220 fetched in total)\n",
      "2024-03-05 22:00:10,337 [INFO] Base - [id:1158555867] Fetched 20 reviews (26240 fetched in total)\n",
      "2024-03-05 22:00:15,545 [INFO] Base - [id:1158555867] Fetched 20 reviews (26260 fetched in total)\n",
      "2024-03-05 22:00:20,741 [INFO] Base - [id:1158555867] Fetched 20 reviews (26280 fetched in total)\n",
      "2024-03-05 22:00:26,321 [INFO] Base - [id:1158555867] Fetched 20 reviews (26300 fetched in total)\n"
     ]
    },
    {
     "name": "stdout",
     "output_type": "stream",
     "text": [
      "Saved 26300 reviews to 1158555867_reviews_26300.csv\n"
     ]
    },
    {
     "name": "stderr",
     "output_type": "stream",
     "text": [
      "2024-03-05 22:00:31,707 [INFO] Base - [id:1158555867] Fetched 20 reviews (26320 fetched in total)\n",
      "2024-03-05 22:00:36,907 [INFO] Base - [id:1158555867] Fetched 20 reviews (26340 fetched in total)\n",
      "2024-03-05 22:00:42,147 [INFO] Base - [id:1158555867] Fetched 20 reviews (26360 fetched in total)\n",
      "2024-03-05 22:00:47,345 [INFO] Base - [id:1158555867] Fetched 20 reviews (26380 fetched in total)\n",
      "2024-03-05 22:00:52,565 [INFO] Base - [id:1158555867] Fetched 20 reviews (26400 fetched in total)\n"
     ]
    },
    {
     "name": "stdout",
     "output_type": "stream",
     "text": [
      "Saved 26400 reviews to 1158555867_reviews_26400.csv\n"
     ]
    },
    {
     "name": "stderr",
     "output_type": "stream",
     "text": [
      "2024-03-05 22:00:57,994 [INFO] Base - [id:1158555867] Fetched 20 reviews (26420 fetched in total)\n",
      "2024-03-05 22:01:03,193 [INFO] Base - [id:1158555867] Fetched 20 reviews (26440 fetched in total)\n",
      "2024-03-05 22:01:08,404 [INFO] Base - [id:1158555867] Fetched 20 reviews (26460 fetched in total)\n",
      "2024-03-05 22:01:13,632 [INFO] Base - [id:1158555867] Fetched 20 reviews (26480 fetched in total)\n",
      "2024-03-05 22:01:18,857 [INFO] Base - [id:1158555867] Fetched 20 reviews (26500 fetched in total)\n"
     ]
    },
    {
     "name": "stdout",
     "output_type": "stream",
     "text": [
      "Saved 26500 reviews to 1158555867_reviews_26500.csv\n"
     ]
    },
    {
     "name": "stderr",
     "output_type": "stream",
     "text": [
      "2024-03-05 22:01:24,238 [INFO] Base - [id:1158555867] Fetched 20 reviews (26520 fetched in total)\n",
      "2024-03-05 22:01:29,457 [INFO] Base - [id:1158555867] Fetched 20 reviews (26540 fetched in total)\n",
      "2024-03-05 22:01:34,710 [INFO] Base - [id:1158555867] Fetched 20 reviews (26560 fetched in total)\n",
      "2024-03-05 22:01:39,977 [INFO] Base - [id:1158555867] Fetched 20 reviews (26580 fetched in total)\n",
      "2024-03-05 22:01:45,214 [INFO] Base - [id:1158555867] Fetched 20 reviews (26600 fetched in total)\n"
     ]
    },
    {
     "name": "stdout",
     "output_type": "stream",
     "text": [
      "Saved 26600 reviews to 1158555867_reviews_26600.csv\n"
     ]
    },
    {
     "name": "stderr",
     "output_type": "stream",
     "text": [
      "2024-03-05 22:01:50,630 [INFO] Base - [id:1158555867] Fetched 20 reviews (26620 fetched in total)\n",
      "2024-03-05 22:01:55,881 [INFO] Base - [id:1158555867] Fetched 20 reviews (26640 fetched in total)\n",
      "2024-03-05 22:02:01,185 [INFO] Base - [id:1158555867] Fetched 20 reviews (26660 fetched in total)\n",
      "2024-03-05 22:02:06,454 [INFO] Base - [id:1158555867] Fetched 20 reviews (26680 fetched in total)\n",
      "2024-03-05 22:02:11,685 [INFO] Base - [id:1158555867] Fetched 20 reviews (26700 fetched in total)\n"
     ]
    },
    {
     "name": "stdout",
     "output_type": "stream",
     "text": [
      "Saved 26700 reviews to 1158555867_reviews_26700.csv\n"
     ]
    },
    {
     "name": "stderr",
     "output_type": "stream",
     "text": [
      "2024-03-05 22:02:17,123 [INFO] Base - [id:1158555867] Fetched 20 reviews (26720 fetched in total)\n",
      "2024-03-05 22:02:22,374 [INFO] Base - [id:1158555867] Fetched 20 reviews (26740 fetched in total)\n",
      "2024-03-05 22:02:27,618 [INFO] Base - [id:1158555867] Fetched 20 reviews (26760 fetched in total)\n",
      "2024-03-05 22:04:55,893 [INFO] Base - [id:1158555867] Fetched 20 reviews (26780 fetched in total)\n",
      "2024-03-05 22:05:01,144 [INFO] Base - [id:1158555867] Fetched 20 reviews (26800 fetched in total)\n"
     ]
    },
    {
     "name": "stdout",
     "output_type": "stream",
     "text": [
      "Saved 26800 reviews to 1158555867_reviews_26800.csv\n"
     ]
    },
    {
     "name": "stderr",
     "output_type": "stream",
     "text": [
      "2024-03-05 22:05:06,578 [INFO] Base - [id:1158555867] Fetched 20 reviews (26820 fetched in total)\n",
      "2024-03-05 22:05:11,825 [INFO] Base - [id:1158555867] Fetched 20 reviews (26840 fetched in total)\n",
      "2024-03-05 22:05:17,298 [INFO] Base - [id:1158555867] Fetched 20 reviews (26860 fetched in total)\n",
      "2024-03-05 22:05:22,700 [INFO] Base - [id:1158555867] Fetched 20 reviews (26880 fetched in total)\n",
      "2024-03-05 22:05:27,945 [INFO] Base - [id:1158555867] Fetched 20 reviews (26900 fetched in total)\n"
     ]
    },
    {
     "name": "stdout",
     "output_type": "stream",
     "text": [
      "Saved 26900 reviews to 1158555867_reviews_26900.csv\n"
     ]
    },
    {
     "name": "stderr",
     "output_type": "stream",
     "text": [
      "2024-03-05 22:05:33,377 [INFO] Base - [id:1158555867] Fetched 20 reviews (26920 fetched in total)\n",
      "2024-03-05 22:05:38,631 [INFO] Base - [id:1158555867] Fetched 20 reviews (26940 fetched in total)\n",
      "2024-03-05 22:05:43,894 [INFO] Base - [id:1158555867] Fetched 20 reviews (26960 fetched in total)\n",
      "2024-03-05 22:05:49,130 [INFO] Base - [id:1158555867] Fetched 20 reviews (26980 fetched in total)\n",
      "2024-03-05 22:05:54,373 [INFO] Base - [id:1158555867] Fetched 20 reviews (27000 fetched in total)\n"
     ]
    },
    {
     "name": "stdout",
     "output_type": "stream",
     "text": [
      "Saved 27000 reviews to 1158555867_reviews_27000.csv\n"
     ]
    },
    {
     "name": "stderr",
     "output_type": "stream",
     "text": [
      "2024-03-05 22:05:59,768 [INFO] Base - [id:1158555867] Fetched 20 reviews (27020 fetched in total)\n",
      "2024-03-05 22:06:05,001 [INFO] Base - [id:1158555867] Fetched 20 reviews (27040 fetched in total)\n",
      "2024-03-05 22:06:10,221 [INFO] Base - [id:1158555867] Fetched 20 reviews (27060 fetched in total)\n",
      "2024-03-05 22:06:15,421 [INFO] Base - [id:1158555867] Fetched 20 reviews (27080 fetched in total)\n",
      "2024-03-05 22:06:20,678 [INFO] Base - [id:1158555867] Fetched 20 reviews (27100 fetched in total)\n"
     ]
    },
    {
     "name": "stdout",
     "output_type": "stream",
     "text": [
      "Saved 27100 reviews to 1158555867_reviews_27100.csv\n"
     ]
    },
    {
     "name": "stderr",
     "output_type": "stream",
     "text": [
      "2024-03-05 22:06:26,063 [INFO] Base - [id:1158555867] Fetched 20 reviews (27120 fetched in total)\n",
      "2024-03-05 22:06:31,260 [INFO] Base - [id:1158555867] Fetched 20 reviews (27140 fetched in total)\n",
      "2024-03-05 22:06:36,483 [INFO] Base - [id:1158555867] Fetched 20 reviews (27160 fetched in total)\n",
      "2024-03-05 22:06:41,686 [INFO] Base - [id:1158555867] Fetched 20 reviews (27180 fetched in total)\n",
      "2024-03-05 22:06:46,927 [INFO] Base - [id:1158555867] Fetched 20 reviews (27200 fetched in total)\n"
     ]
    },
    {
     "name": "stdout",
     "output_type": "stream",
     "text": [
      "Saved 27200 reviews to 1158555867_reviews_27200.csv\n"
     ]
    },
    {
     "name": "stderr",
     "output_type": "stream",
     "text": [
      "2024-03-05 22:06:52,363 [INFO] Base - [id:1158555867] Fetched 20 reviews (27220 fetched in total)\n",
      "2024-03-05 22:06:57,565 [INFO] Base - [id:1158555867] Fetched 20 reviews (27240 fetched in total)\n",
      "2024-03-05 22:07:02,760 [INFO] Base - [id:1158555867] Fetched 20 reviews (27260 fetched in total)\n",
      "2024-03-05 22:07:08,002 [INFO] Base - [id:1158555867] Fetched 20 reviews (27280 fetched in total)\n",
      "2024-03-05 22:07:13,204 [INFO] Base - [id:1158555867] Fetched 20 reviews (27300 fetched in total)\n"
     ]
    },
    {
     "name": "stdout",
     "output_type": "stream",
     "text": [
      "Saved 27300 reviews to 1158555867_reviews_27300.csv\n"
     ]
    },
    {
     "name": "stderr",
     "output_type": "stream",
     "text": [
      "2024-03-05 22:07:18,621 [INFO] Base - [id:1158555867] Fetched 20 reviews (27320 fetched in total)\n",
      "2024-03-05 22:07:23,845 [INFO] Base - [id:1158555867] Fetched 20 reviews (27340 fetched in total)\n",
      "2024-03-05 22:07:29,047 [INFO] Base - [id:1158555867] Fetched 20 reviews (27360 fetched in total)\n",
      "2024-03-05 22:14:02,905 [INFO] Base - [id:1158555867] Fetched 20 reviews (27380 fetched in total)\n",
      "2024-03-05 22:14:08,142 [INFO] Base - [id:1158555867] Fetched 20 reviews (27400 fetched in total)\n"
     ]
    },
    {
     "name": "stdout",
     "output_type": "stream",
     "text": [
      "Saved 27400 reviews to 1158555867_reviews_27400.csv\n"
     ]
    },
    {
     "name": "stderr",
     "output_type": "stream",
     "text": [
      "2024-03-05 22:14:13,601 [INFO] Base - [id:1158555867] Fetched 20 reviews (27420 fetched in total)\n",
      "2024-03-05 22:14:18,800 [INFO] Base - [id:1158555867] Fetched 20 reviews (27440 fetched in total)\n",
      "2024-03-05 22:14:23,983 [INFO] Base - [id:1158555867] Fetched 20 reviews (27460 fetched in total)\n",
      "2024-03-05 22:14:29,369 [INFO] Base - [id:1158555867] Fetched 20 reviews (27480 fetched in total)\n",
      "2024-03-05 22:14:34,591 [INFO] Base - [id:1158555867] Fetched 20 reviews (27500 fetched in total)\n"
     ]
    },
    {
     "name": "stdout",
     "output_type": "stream",
     "text": [
      "Saved 27500 reviews to 1158555867_reviews_27500.csv\n"
     ]
    },
    {
     "name": "stderr",
     "output_type": "stream",
     "text": [
      "2024-03-05 22:14:40,070 [INFO] Base - [id:1158555867] Fetched 20 reviews (27520 fetched in total)\n",
      "2024-03-05 22:14:45,267 [INFO] Base - [id:1158555867] Fetched 20 reviews (27540 fetched in total)\n",
      "2024-03-05 22:14:50,490 [INFO] Base - [id:1158555867] Fetched 20 reviews (27560 fetched in total)\n",
      "2024-03-05 22:14:55,678 [INFO] Base - [id:1158555867] Fetched 20 reviews (27580 fetched in total)\n",
      "2024-03-05 22:15:00,858 [INFO] Base - [id:1158555867] Fetched 20 reviews (27600 fetched in total)\n"
     ]
    },
    {
     "name": "stdout",
     "output_type": "stream",
     "text": [
      "Saved 27600 reviews to 1158555867_reviews_27600.csv\n"
     ]
    },
    {
     "name": "stderr",
     "output_type": "stream",
     "text": [
      "2024-03-05 22:15:06,242 [INFO] Base - [id:1158555867] Fetched 20 reviews (27620 fetched in total)\n",
      "2024-03-05 22:15:11,423 [INFO] Base - [id:1158555867] Fetched 20 reviews (27640 fetched in total)\n",
      "2024-03-05 22:15:16,596 [INFO] Base - [id:1158555867] Fetched 20 reviews (27660 fetched in total)\n",
      "2024-03-05 22:15:21,868 [INFO] Base - [id:1158555867] Fetched 20 reviews (27680 fetched in total)\n",
      "2024-03-05 22:15:27,082 [INFO] Base - [id:1158555867] Fetched 20 reviews (27700 fetched in total)\n"
     ]
    },
    {
     "name": "stdout",
     "output_type": "stream",
     "text": [
      "Saved 27700 reviews to 1158555867_reviews_27700.csv\n"
     ]
    },
    {
     "name": "stderr",
     "output_type": "stream",
     "text": [
      "2024-03-05 22:15:32,455 [INFO] Base - [id:1158555867] Fetched 20 reviews (27720 fetched in total)\n",
      "2024-03-05 22:15:37,709 [INFO] Base - [id:1158555867] Fetched 20 reviews (27740 fetched in total)\n",
      "2024-03-05 22:15:42,987 [INFO] Base - [id:1158555867] Fetched 20 reviews (27760 fetched in total)\n",
      "2024-03-05 22:15:48,249 [INFO] Base - [id:1158555867] Fetched 20 reviews (27780 fetched in total)\n",
      "2024-03-05 22:15:53,454 [INFO] Base - [id:1158555867] Fetched 20 reviews (27800 fetched in total)\n"
     ]
    },
    {
     "name": "stdout",
     "output_type": "stream",
     "text": [
      "Saved 27800 reviews to 1158555867_reviews_27800.csv\n"
     ]
    },
    {
     "name": "stderr",
     "output_type": "stream",
     "text": [
      "2024-03-05 22:15:58,897 [INFO] Base - [id:1158555867] Fetched 20 reviews (27820 fetched in total)\n",
      "2024-03-05 22:16:04,098 [INFO] Base - [id:1158555867] Fetched 20 reviews (27840 fetched in total)\n",
      "2024-03-05 22:16:09,281 [INFO] Base - [id:1158555867] Fetched 20 reviews (27860 fetched in total)\n",
      "2024-03-05 22:16:14,477 [INFO] Base - [id:1158555867] Fetched 20 reviews (27880 fetched in total)\n",
      "2024-03-05 22:16:19,728 [INFO] Base - [id:1158555867] Fetched 20 reviews (27900 fetched in total)\n"
     ]
    },
    {
     "name": "stdout",
     "output_type": "stream",
     "text": [
      "Saved 27900 reviews to 1158555867_reviews_27900.csv\n"
     ]
    },
    {
     "name": "stderr",
     "output_type": "stream",
     "text": [
      "2024-03-05 22:16:25,137 [INFO] Base - [id:1158555867] Fetched 20 reviews (27920 fetched in total)\n",
      "2024-03-05 22:16:49,077 [INFO] Base - [id:1158555867] Fetched 20 reviews (27940 fetched in total)\n",
      "2024-03-05 22:16:54,347 [INFO] Base - [id:1158555867] Fetched 20 reviews (27960 fetched in total)\n",
      "2024-03-05 22:16:59,610 [INFO] Base - [id:1158555867] Fetched 20 reviews (27980 fetched in total)\n",
      "2024-03-05 22:17:04,833 [INFO] Base - [id:1158555867] Fetched 20 reviews (28000 fetched in total)\n"
     ]
    },
    {
     "name": "stdout",
     "output_type": "stream",
     "text": [
      "Saved 28000 reviews to 1158555867_reviews_28000.csv\n"
     ]
    },
    {
     "name": "stderr",
     "output_type": "stream",
     "text": [
      "2024-03-05 22:17:10,248 [INFO] Base - [id:1158555867] Fetched 20 reviews (28020 fetched in total)\n",
      "2024-03-05 22:17:15,498 [INFO] Base - [id:1158555867] Fetched 20 reviews (28040 fetched in total)\n",
      "2024-03-05 22:17:20,784 [INFO] Base - [id:1158555867] Fetched 20 reviews (28060 fetched in total)\n",
      "2024-03-05 22:17:26,018 [INFO] Base - [id:1158555867] Fetched 20 reviews (28080 fetched in total)\n",
      "2024-03-05 22:17:31,247 [INFO] Base - [id:1158555867] Fetched 20 reviews (28100 fetched in total)\n"
     ]
    },
    {
     "name": "stdout",
     "output_type": "stream",
     "text": [
      "Saved 28100 reviews to 1158555867_reviews_28100.csv\n"
     ]
    },
    {
     "name": "stderr",
     "output_type": "stream",
     "text": [
      "2024-03-05 22:17:36,707 [INFO] Base - [id:1158555867] Fetched 20 reviews (28120 fetched in total)\n",
      "2024-03-05 22:17:41,961 [INFO] Base - [id:1158555867] Fetched 20 reviews (28140 fetched in total)\n",
      "2024-03-05 22:17:47,367 [INFO] Base - [id:1158555867] Fetched 20 reviews (28160 fetched in total)\n",
      "2024-03-05 22:17:52,598 [INFO] Base - [id:1158555867] Fetched 20 reviews (28180 fetched in total)\n",
      "2024-03-05 22:17:57,825 [INFO] Base - [id:1158555867] Fetched 20 reviews (28200 fetched in total)\n"
     ]
    },
    {
     "name": "stdout",
     "output_type": "stream",
     "text": [
      "Saved 28200 reviews to 1158555867_reviews_28200.csv\n"
     ]
    },
    {
     "name": "stderr",
     "output_type": "stream",
     "text": [
      "2024-03-05 22:18:03,281 [INFO] Base - [id:1158555867] Fetched 20 reviews (28220 fetched in total)\n",
      "2024-03-05 22:18:08,518 [INFO] Base - [id:1158555867] Fetched 20 reviews (28240 fetched in total)\n",
      "2024-03-05 22:18:13,745 [INFO] Base - [id:1158555867] Fetched 20 reviews (28260 fetched in total)\n",
      "2024-03-05 22:18:18,997 [INFO] Base - [id:1158555867] Fetched 20 reviews (28280 fetched in total)\n",
      "2024-03-05 22:18:24,232 [INFO] Base - [id:1158555867] Fetched 20 reviews (28300 fetched in total)\n"
     ]
    },
    {
     "name": "stdout",
     "output_type": "stream",
     "text": [
      "Saved 28300 reviews to 1158555867_reviews_28300.csv\n"
     ]
    },
    {
     "name": "stderr",
     "output_type": "stream",
     "text": [
      "2024-03-05 22:18:29,650 [INFO] Base - [id:1158555867] Fetched 20 reviews (28320 fetched in total)\n",
      "2024-03-05 22:18:34,889 [INFO] Base - [id:1158555867] Fetched 20 reviews (28340 fetched in total)\n",
      "2024-03-05 22:18:40,143 [INFO] Base - [id:1158555867] Fetched 20 reviews (28360 fetched in total)\n",
      "2024-03-05 22:18:45,373 [INFO] Base - [id:1158555867] Fetched 20 reviews (28380 fetched in total)\n",
      "2024-03-05 22:18:50,625 [INFO] Base - [id:1158555867] Fetched 20 reviews (28400 fetched in total)\n"
     ]
    },
    {
     "name": "stdout",
     "output_type": "stream",
     "text": [
      "Saved 28400 reviews to 1158555867_reviews_28400.csv\n"
     ]
    },
    {
     "name": "stderr",
     "output_type": "stream",
     "text": [
      "2024-03-05 22:18:56,073 [INFO] Base - [id:1158555867] Fetched 20 reviews (28420 fetched in total)\n",
      "2024-03-05 22:19:01,340 [INFO] Base - [id:1158555867] Fetched 20 reviews (28440 fetched in total)\n",
      "2024-03-05 22:19:06,583 [INFO] Base - [id:1158555867] Fetched 20 reviews (28460 fetched in total)\n",
      "2024-03-05 22:19:11,819 [INFO] Base - [id:1158555867] Fetched 20 reviews (28480 fetched in total)\n",
      "2024-03-05 22:19:17,062 [INFO] Base - [id:1158555867] Fetched 20 reviews (28500 fetched in total)\n"
     ]
    },
    {
     "name": "stdout",
     "output_type": "stream",
     "text": [
      "Saved 28500 reviews to 1158555867_reviews_28500.csv\n"
     ]
    },
    {
     "name": "stderr",
     "output_type": "stream",
     "text": [
      "2024-03-05 22:19:22,520 [INFO] Base - [id:1158555867] Fetched 20 reviews (28520 fetched in total)\n",
      "2024-03-05 22:19:27,770 [INFO] Base - [id:1158555867] Fetched 20 reviews (28540 fetched in total)\n",
      "2024-03-05 22:19:33,010 [INFO] Base - [id:1158555867] Fetched 20 reviews (28560 fetched in total)\n",
      "2024-03-05 22:19:38,278 [INFO] Base - [id:1158555867] Fetched 20 reviews (28580 fetched in total)\n",
      "2024-03-05 22:19:43,520 [INFO] Base - [id:1158555867] Fetched 20 reviews (28600 fetched in total)\n"
     ]
    },
    {
     "name": "stdout",
     "output_type": "stream",
     "text": [
      "Saved 28600 reviews to 1158555867_reviews_28600.csv\n"
     ]
    },
    {
     "name": "stderr",
     "output_type": "stream",
     "text": [
      "2024-03-05 22:19:48,931 [INFO] Base - [id:1158555867] Fetched 20 reviews (28620 fetched in total)\n",
      "2024-03-05 22:19:54,191 [INFO] Base - [id:1158555867] Fetched 20 reviews (28640 fetched in total)\n",
      "2024-03-05 22:19:59,436 [INFO] Base - [id:1158555867] Fetched 20 reviews (28660 fetched in total)\n",
      "2024-03-05 22:20:04,689 [INFO] Base - [id:1158555867] Fetched 20 reviews (28680 fetched in total)\n",
      "2024-03-05 22:20:09,914 [INFO] Base - [id:1158555867] Fetched 20 reviews (28700 fetched in total)\n"
     ]
    },
    {
     "name": "stdout",
     "output_type": "stream",
     "text": [
      "Saved 28700 reviews to 1158555867_reviews_28700.csv\n"
     ]
    },
    {
     "name": "stderr",
     "output_type": "stream",
     "text": [
      "2024-03-05 22:20:15,324 [INFO] Base - [id:1158555867] Fetched 20 reviews (28720 fetched in total)\n",
      "2024-03-05 22:20:20,595 [INFO] Base - [id:1158555867] Fetched 20 reviews (28740 fetched in total)\n",
      "2024-03-05 22:20:25,825 [INFO] Base - [id:1158555867] Fetched 20 reviews (28760 fetched in total)\n",
      "2024-03-05 22:20:31,071 [INFO] Base - [id:1158555867] Fetched 20 reviews (28780 fetched in total)\n",
      "2024-03-05 22:20:36,348 [INFO] Base - [id:1158555867] Fetched 20 reviews (28800 fetched in total)\n"
     ]
    },
    {
     "name": "stdout",
     "output_type": "stream",
     "text": [
      "Saved 28800 reviews to 1158555867_reviews_28800.csv\n"
     ]
    },
    {
     "name": "stderr",
     "output_type": "stream",
     "text": [
      "2024-03-05 22:20:41,826 [INFO] Base - [id:1158555867] Fetched 20 reviews (28820 fetched in total)\n",
      "2024-03-05 22:20:47,083 [INFO] Base - [id:1158555867] Fetched 20 reviews (28840 fetched in total)\n",
      "2024-03-05 22:20:52,334 [INFO] Base - [id:1158555867] Fetched 20 reviews (28860 fetched in total)\n",
      "2024-03-05 22:20:57,560 [INFO] Base - [id:1158555867] Fetched 20 reviews (28880 fetched in total)\n",
      "2024-03-05 22:21:02,803 [INFO] Base - [id:1158555867] Fetched 20 reviews (28900 fetched in total)\n"
     ]
    },
    {
     "name": "stdout",
     "output_type": "stream",
     "text": [
      "Saved 28900 reviews to 1158555867_reviews_28900.csv\n"
     ]
    },
    {
     "name": "stderr",
     "output_type": "stream",
     "text": [
      "2024-03-05 22:21:08,217 [INFO] Base - [id:1158555867] Fetched 20 reviews (28920 fetched in total)\n",
      "2024-03-05 22:21:13,497 [INFO] Base - [id:1158555867] Fetched 20 reviews (28940 fetched in total)\n",
      "2024-03-05 22:21:18,742 [INFO] Base - [id:1158555867] Fetched 20 reviews (28960 fetched in total)\n",
      "2024-03-05 22:21:23,968 [INFO] Base - [id:1158555867] Fetched 20 reviews (28980 fetched in total)\n",
      "2024-03-05 22:21:29,216 [INFO] Base - [id:1158555867] Fetched 20 reviews (29000 fetched in total)\n"
     ]
    },
    {
     "name": "stdout",
     "output_type": "stream",
     "text": [
      "Saved 29000 reviews to 1158555867_reviews_29000.csv\n"
     ]
    },
    {
     "name": "stderr",
     "output_type": "stream",
     "text": [
      "2024-03-05 22:21:34,658 [INFO] Base - [id:1158555867] Fetched 20 reviews (29020 fetched in total)\n",
      "2024-03-05 22:21:39,898 [INFO] Base - [id:1158555867] Fetched 20 reviews (29040 fetched in total)\n",
      "2024-03-05 22:21:45,153 [INFO] Base - [id:1158555867] Fetched 20 reviews (29060 fetched in total)\n",
      "2024-03-05 22:21:50,395 [INFO] Base - [id:1158555867] Fetched 20 reviews (29080 fetched in total)\n",
      "2024-03-05 22:21:55,655 [INFO] Base - [id:1158555867] Fetched 20 reviews (29100 fetched in total)\n"
     ]
    },
    {
     "name": "stdout",
     "output_type": "stream",
     "text": [
      "Saved 29100 reviews to 1158555867_reviews_29100.csv\n"
     ]
    },
    {
     "name": "stderr",
     "output_type": "stream",
     "text": [
      "2024-03-05 22:22:01,106 [INFO] Base - [id:1158555867] Fetched 20 reviews (29120 fetched in total)\n",
      "2024-03-05 22:22:06,370 [INFO] Base - [id:1158555867] Fetched 20 reviews (29140 fetched in total)\n",
      "2024-03-05 22:22:11,592 [INFO] Base - [id:1158555867] Fetched 20 reviews (29160 fetched in total)\n",
      "2024-03-05 22:22:16,775 [INFO] Base - [id:1158555867] Fetched 20 reviews (29180 fetched in total)\n",
      "2024-03-05 22:22:21,981 [INFO] Base - [id:1158555867] Fetched 20 reviews (29200 fetched in total)\n"
     ]
    },
    {
     "name": "stdout",
     "output_type": "stream",
     "text": [
      "Saved 29200 reviews to 1158555867_reviews_29200.csv\n"
     ]
    },
    {
     "name": "stderr",
     "output_type": "stream",
     "text": [
      "2024-03-05 22:22:27,413 [INFO] Base - [id:1158555867] Fetched 20 reviews (29220 fetched in total)\n",
      "2024-03-05 22:22:32,612 [INFO] Base - [id:1158555867] Fetched 20 reviews (29240 fetched in total)\n",
      "2024-03-05 22:22:37,840 [INFO] Base - [id:1158555867] Fetched 20 reviews (29260 fetched in total)\n",
      "2024-03-05 22:22:43,109 [INFO] Base - [id:1158555867] Fetched 20 reviews (29280 fetched in total)\n",
      "2024-03-05 22:22:48,370 [INFO] Base - [id:1158555867] Fetched 20 reviews (29300 fetched in total)\n"
     ]
    },
    {
     "name": "stdout",
     "output_type": "stream",
     "text": [
      "Saved 29300 reviews to 1158555867_reviews_29300.csv\n"
     ]
    },
    {
     "name": "stderr",
     "output_type": "stream",
     "text": [
      "2024-03-05 22:22:53,808 [INFO] Base - [id:1158555867] Fetched 20 reviews (29320 fetched in total)\n",
      "2024-03-05 22:22:59,013 [INFO] Base - [id:1158555867] Fetched 20 reviews (29340 fetched in total)\n",
      "2024-03-05 22:23:04,233 [INFO] Base - [id:1158555867] Fetched 20 reviews (29360 fetched in total)\n",
      "2024-03-05 22:23:09,456 [INFO] Base - [id:1158555867] Fetched 20 reviews (29380 fetched in total)\n",
      "2024-03-05 22:23:14,658 [INFO] Base - [id:1158555867] Fetched 20 reviews (29400 fetched in total)\n"
     ]
    },
    {
     "name": "stdout",
     "output_type": "stream",
     "text": [
      "Saved 29400 reviews to 1158555867_reviews_29400.csv\n"
     ]
    },
    {
     "name": "stderr",
     "output_type": "stream",
     "text": [
      "2024-03-05 22:23:20,054 [INFO] Base - [id:1158555867] Fetched 20 reviews (29420 fetched in total)\n",
      "2024-03-05 22:23:25,263 [INFO] Base - [id:1158555867] Fetched 20 reviews (29440 fetched in total)\n",
      "2024-03-05 22:23:30,542 [INFO] Base - [id:1158555867] Fetched 20 reviews (29460 fetched in total)\n",
      "2024-03-05 22:23:35,764 [INFO] Base - [id:1158555867] Fetched 20 reviews (29480 fetched in total)\n",
      "2024-03-05 22:23:41,023 [INFO] Base - [id:1158555867] Fetched 20 reviews (29500 fetched in total)\n"
     ]
    },
    {
     "name": "stdout",
     "output_type": "stream",
     "text": [
      "Saved 29500 reviews to 1158555867_reviews_29500.csv\n"
     ]
    },
    {
     "name": "stderr",
     "output_type": "stream",
     "text": [
      "2024-03-05 22:23:46,411 [INFO] Base - [id:1158555867] Fetched 20 reviews (29520 fetched in total)\n",
      "2024-03-05 22:23:51,615 [INFO] Base - [id:1158555867] Fetched 20 reviews (29540 fetched in total)\n",
      "2024-03-05 22:23:56,903 [INFO] Base - [id:1158555867] Fetched 20 reviews (29560 fetched in total)\n",
      "2024-03-05 22:24:02,124 [INFO] Base - [id:1158555867] Fetched 20 reviews (29580 fetched in total)\n",
      "2024-03-05 22:24:07,390 [INFO] Base - [id:1158555867] Fetched 20 reviews (29600 fetched in total)\n"
     ]
    },
    {
     "name": "stdout",
     "output_type": "stream",
     "text": [
      "Saved 29600 reviews to 1158555867_reviews_29600.csv\n"
     ]
    },
    {
     "name": "stderr",
     "output_type": "stream",
     "text": [
      "2024-03-05 22:24:12,816 [INFO] Base - [id:1158555867] Fetched 20 reviews (29620 fetched in total)\n",
      "2024-03-05 22:24:18,055 [INFO] Base - [id:1158555867] Fetched 20 reviews (29640 fetched in total)\n",
      "2024-03-05 22:24:23,305 [INFO] Base - [id:1158555867] Fetched 20 reviews (29660 fetched in total)\n",
      "2024-03-05 22:24:28,523 [INFO] Base - [id:1158555867] Fetched 20 reviews (29680 fetched in total)\n",
      "2024-03-05 22:24:33,767 [INFO] Base - [id:1158555867] Fetched 20 reviews (29700 fetched in total)\n"
     ]
    },
    {
     "name": "stdout",
     "output_type": "stream",
     "text": [
      "Saved 29700 reviews to 1158555867_reviews_29700.csv\n"
     ]
    },
    {
     "name": "stderr",
     "output_type": "stream",
     "text": [
      "2024-03-05 22:24:39,229 [INFO] Base - [id:1158555867] Fetched 20 reviews (29720 fetched in total)\n",
      "2024-03-05 22:24:44,467 [INFO] Base - [id:1158555867] Fetched 20 reviews (29740 fetched in total)\n",
      "2024-03-05 22:24:49,705 [INFO] Base - [id:1158555867] Fetched 20 reviews (29760 fetched in total)\n",
      "2024-03-05 22:24:54,914 [INFO] Base - [id:1158555867] Fetched 20 reviews (29780 fetched in total)\n",
      "2024-03-05 22:25:00,109 [INFO] Base - [id:1158555867] Fetched 20 reviews (29800 fetched in total)\n"
     ]
    },
    {
     "name": "stdout",
     "output_type": "stream",
     "text": [
      "Saved 29800 reviews to 1158555867_reviews_29800.csv\n"
     ]
    },
    {
     "name": "stderr",
     "output_type": "stream",
     "text": [
      "2024-03-05 22:25:05,519 [INFO] Base - [id:1158555867] Fetched 20 reviews (29820 fetched in total)\n",
      "2024-03-05 22:25:10,784 [INFO] Base - [id:1158555867] Fetched 20 reviews (29840 fetched in total)\n",
      "2024-03-05 22:25:16,020 [INFO] Base - [id:1158555867] Fetched 20 reviews (29860 fetched in total)\n",
      "2024-03-05 22:25:21,251 [INFO] Base - [id:1158555867] Fetched 20 reviews (29880 fetched in total)\n",
      "2024-03-05 22:25:26,489 [INFO] Base - [id:1158555867] Fetched 20 reviews (29900 fetched in total)\n"
     ]
    },
    {
     "name": "stdout",
     "output_type": "stream",
     "text": [
      "Saved 29900 reviews to 1158555867_reviews_29900.csv\n"
     ]
    },
    {
     "name": "stderr",
     "output_type": "stream",
     "text": [
      "2024-03-05 22:25:31,953 [INFO] Base - [id:1158555867] Fetched 20 reviews (29920 fetched in total)\n",
      "2024-03-05 22:28:34,544 [INFO] Base - [id:1158555867] Fetched 20 reviews (29940 fetched in total)\n",
      "2024-03-05 22:28:39,771 [INFO] Base - [id:1158555867] Fetched 20 reviews (29960 fetched in total)\n",
      "2024-03-05 22:28:44,999 [INFO] Base - [id:1158555867] Fetched 20 reviews (29980 fetched in total)\n",
      "2024-03-05 22:28:50,253 [INFO] Base - [id:1158555867] Fetched 20 reviews (30000 fetched in total)\n"
     ]
    },
    {
     "name": "stdout",
     "output_type": "stream",
     "text": [
      "Saved 30000 reviews to 1158555867_reviews_30000.csv\n"
     ]
    },
    {
     "name": "stderr",
     "output_type": "stream",
     "text": [
      "2024-03-05 22:28:55,963 [INFO] Base - [id:1158555867] Fetched 20 reviews (30020 fetched in total)\n",
      "2024-03-05 22:29:01,237 [INFO] Base - [id:1158555867] Fetched 20 reviews (30040 fetched in total)\n",
      "2024-03-05 22:29:06,677 [INFO] Base - [id:1158555867] Fetched 20 reviews (30060 fetched in total)\n",
      "2024-03-05 22:29:11,932 [INFO] Base - [id:1158555867] Fetched 20 reviews (30080 fetched in total)\n",
      "2024-03-05 22:29:17,182 [INFO] Base - [id:1158555867] Fetched 20 reviews (30100 fetched in total)\n"
     ]
    },
    {
     "name": "stdout",
     "output_type": "stream",
     "text": [
      "Saved 30100 reviews to 1158555867_reviews_30100.csv\n"
     ]
    },
    {
     "name": "stderr",
     "output_type": "stream",
     "text": [
      "2024-03-05 22:30:02,890 [INFO] Base - [id:1158555867] Fetched 20 reviews (30120 fetched in total)\n",
      "2024-03-05 22:30:08,185 [INFO] Base - [id:1158555867] Fetched 20 reviews (30140 fetched in total)\n",
      "2024-03-05 22:30:13,423 [INFO] Base - [id:1158555867] Fetched 20 reviews (30160 fetched in total)\n",
      "2024-03-05 22:30:18,628 [INFO] Base - [id:1158555867] Fetched 20 reviews (30180 fetched in total)\n",
      "2024-03-05 22:30:23,984 [INFO] Base - [id:1158555867] Fetched 20 reviews (30200 fetched in total)\n"
     ]
    },
    {
     "name": "stdout",
     "output_type": "stream",
     "text": [
      "Saved 30200 reviews to 1158555867_reviews_30200.csv\n"
     ]
    },
    {
     "name": "stderr",
     "output_type": "stream",
     "text": [
      "2024-03-05 22:30:29,681 [INFO] Base - [id:1158555867] Fetched 20 reviews (30220 fetched in total)\n",
      "2024-03-05 22:30:34,886 [INFO] Base - [id:1158555867] Fetched 20 reviews (30240 fetched in total)\n",
      "2024-03-05 22:30:40,116 [INFO] Base - [id:1158555867] Fetched 20 reviews (30260 fetched in total)\n",
      "2024-03-05 22:30:45,306 [INFO] Base - [id:1158555867] Fetched 20 reviews (30280 fetched in total)\n",
      "2024-03-05 22:31:04,807 [INFO] Base - [id:1158555867] Fetched 20 reviews (30300 fetched in total)\n"
     ]
    },
    {
     "name": "stdout",
     "output_type": "stream",
     "text": [
      "Saved 30300 reviews to 1158555867_reviews_30300.csv\n"
     ]
    },
    {
     "name": "stderr",
     "output_type": "stream",
     "text": [
      "2024-03-05 22:31:10,208 [INFO] Base - [id:1158555867] Fetched 20 reviews (30320 fetched in total)\n",
      "2024-03-05 22:31:15,398 [INFO] Base - [id:1158555867] Fetched 20 reviews (30340 fetched in total)\n",
      "2024-03-05 22:31:20,614 [INFO] Base - [id:1158555867] Fetched 20 reviews (30360 fetched in total)\n",
      "2024-03-05 22:31:25,829 [INFO] Base - [id:1158555867] Fetched 20 reviews (30380 fetched in total)\n",
      "2024-03-05 22:31:31,216 [INFO] Base - [id:1158555867] Fetched 20 reviews (30400 fetched in total)\n"
     ]
    },
    {
     "name": "stdout",
     "output_type": "stream",
     "text": [
      "Saved 30400 reviews to 1158555867_reviews_30400.csv\n"
     ]
    },
    {
     "name": "stderr",
     "output_type": "stream",
     "text": [
      "2024-03-05 22:31:36,595 [INFO] Base - [id:1158555867] Fetched 20 reviews (30420 fetched in total)\n",
      "2024-03-05 22:31:41,824 [INFO] Base - [id:1158555867] Fetched 20 reviews (30440 fetched in total)\n",
      "2024-03-05 22:31:47,014 [INFO] Base - [id:1158555867] Fetched 20 reviews (30460 fetched in total)\n",
      "2024-03-05 22:47:35,797 [INFO] Base - [id:1158555867] Fetched 20 reviews (30480 fetched in total)\n",
      "2024-03-05 22:47:41,126 [INFO] Base - [id:1158555867] Fetched 20 reviews (30500 fetched in total)\n"
     ]
    },
    {
     "name": "stdout",
     "output_type": "stream",
     "text": [
      "Saved 30500 reviews to 1158555867_reviews_30500.csv\n"
     ]
    },
    {
     "name": "stderr",
     "output_type": "stream",
     "text": [
      "2024-03-05 22:47:46,700 [INFO] Base - [id:1158555867] Fetched 20 reviews (30520 fetched in total)\n",
      "2024-03-05 22:47:51,976 [INFO] Base - [id:1158555867] Fetched 20 reviews (30540 fetched in total)\n",
      "2024-03-05 22:47:57,247 [INFO] Base - [id:1158555867] Fetched 20 reviews (30560 fetched in total)\n",
      "2024-03-05 22:48:02,801 [INFO] Base - [id:1158555867] Fetched 20 reviews (30580 fetched in total)\n",
      "2024-03-05 22:48:08,091 [INFO] Base - [id:1158555867] Fetched 20 reviews (30600 fetched in total)\n"
     ]
    },
    {
     "name": "stdout",
     "output_type": "stream",
     "text": [
      "Saved 30600 reviews to 1158555867_reviews_30600.csv\n"
     ]
    },
    {
     "name": "stderr",
     "output_type": "stream",
     "text": [
      "2024-03-05 22:48:13,547 [INFO] Base - [id:1158555867] Fetched 20 reviews (30620 fetched in total)\n",
      "2024-03-05 22:48:18,833 [INFO] Base - [id:1158555867] Fetched 20 reviews (30640 fetched in total)\n",
      "2024-03-05 22:48:24,072 [INFO] Base - [id:1158555867] Fetched 20 reviews (30660 fetched in total)\n",
      "2024-03-05 22:48:29,417 [INFO] Base - [id:1158555867] Fetched 20 reviews (30680 fetched in total)\n",
      "2024-03-05 22:48:35,011 [INFO] Base - [id:1158555867] Fetched 20 reviews (30700 fetched in total)\n"
     ]
    },
    {
     "name": "stdout",
     "output_type": "stream",
     "text": [
      "Saved 30700 reviews to 1158555867_reviews_30700.csv\n"
     ]
    },
    {
     "name": "stderr",
     "output_type": "stream",
     "text": [
      "2024-03-05 22:48:40,523 [INFO] Base - [id:1158555867] Fetched 20 reviews (30720 fetched in total)\n",
      "2024-03-05 22:48:45,826 [INFO] Base - [id:1158555867] Fetched 20 reviews (30740 fetched in total)\n",
      "2024-03-05 22:48:51,610 [INFO] Base - [id:1158555867] Fetched 20 reviews (30760 fetched in total)\n",
      "2024-03-05 22:48:56,841 [INFO] Base - [id:1158555867] Fetched 20 reviews (30780 fetched in total)\n",
      "2024-03-05 22:49:02,252 [INFO] Base - [id:1158555867] Fetched 20 reviews (30800 fetched in total)\n"
     ]
    },
    {
     "name": "stdout",
     "output_type": "stream",
     "text": [
      "Saved 30800 reviews to 1158555867_reviews_30800.csv\n"
     ]
    },
    {
     "name": "stderr",
     "output_type": "stream",
     "text": [
      "2024-03-05 22:49:07,700 [INFO] Base - [id:1158555867] Fetched 20 reviews (30820 fetched in total)\n",
      "2024-03-05 22:49:12,960 [INFO] Base - [id:1158555867] Fetched 20 reviews (30840 fetched in total)\n",
      "2024-03-05 22:49:18,266 [INFO] Base - [id:1158555867] Fetched 20 reviews (30860 fetched in total)\n",
      "2024-03-05 22:49:23,523 [INFO] Base - [id:1158555867] Fetched 20 reviews (30880 fetched in total)\n",
      "2024-03-05 22:49:28,767 [INFO] Base - [id:1158555867] Fetched 20 reviews (30900 fetched in total)\n"
     ]
    },
    {
     "name": "stdout",
     "output_type": "stream",
     "text": [
      "Saved 30900 reviews to 1158555867_reviews_30900.csv\n"
     ]
    },
    {
     "name": "stderr",
     "output_type": "stream",
     "text": [
      "2024-03-05 22:49:34,251 [INFO] Base - [id:1158555867] Fetched 20 reviews (30920 fetched in total)\n",
      "2024-03-05 22:54:42,288 [INFO] Base - [id:1158555867] Fetched 20 reviews (30940 fetched in total)\n",
      "2024-03-05 22:54:47,492 [INFO] Base - [id:1158555867] Fetched 20 reviews (30960 fetched in total)\n",
      "2024-03-05 22:54:52,716 [INFO] Base - [id:1158555867] Fetched 20 reviews (30980 fetched in total)\n",
      "2024-03-05 22:54:57,920 [INFO] Base - [id:1158555867] Fetched 20 reviews (31000 fetched in total)\n"
     ]
    },
    {
     "name": "stdout",
     "output_type": "stream",
     "text": [
      "Saved 31000 reviews to 1158555867_reviews_31000.csv\n"
     ]
    },
    {
     "name": "stderr",
     "output_type": "stream",
     "text": [
      "2024-03-05 22:55:03,391 [INFO] Base - [id:1158555867] Fetched 20 reviews (31020 fetched in total)\n",
      "2024-03-05 22:55:08,918 [INFO] Base - [id:1158555867] Fetched 20 reviews (31040 fetched in total)\n",
      "2024-03-05 22:55:14,128 [INFO] Base - [id:1158555867] Fetched 20 reviews (31060 fetched in total)\n",
      "2024-03-05 22:55:19,369 [INFO] Base - [id:1158555867] Fetched 20 reviews (31080 fetched in total)\n",
      "2024-03-05 22:55:24,619 [INFO] Base - [id:1158555867] Fetched 20 reviews (31100 fetched in total)\n"
     ]
    },
    {
     "name": "stdout",
     "output_type": "stream",
     "text": [
      "Saved 31100 reviews to 1158555867_reviews_31100.csv\n"
     ]
    },
    {
     "name": "stderr",
     "output_type": "stream",
     "text": [
      "2024-03-05 22:55:30,035 [INFO] Base - [id:1158555867] Fetched 20 reviews (31120 fetched in total)\n",
      "2024-03-05 23:11:12,103 [INFO] Base - [id:1158555867] Fetched 20 reviews (31140 fetched in total)\n",
      "2024-03-05 23:11:17,291 [INFO] Base - [id:1158555867] Fetched 20 reviews (31160 fetched in total)\n",
      "2024-03-05 23:11:22,497 [INFO] Base - [id:1158555867] Fetched 20 reviews (31180 fetched in total)\n",
      "2024-03-05 23:11:27,738 [INFO] Base - [id:1158555867] Fetched 20 reviews (31200 fetched in total)\n"
     ]
    },
    {
     "name": "stdout",
     "output_type": "stream",
     "text": [
      "Saved 31200 reviews to 1158555867_reviews_31200.csv\n"
     ]
    },
    {
     "name": "stderr",
     "output_type": "stream",
     "text": [
      "2024-03-05 23:11:33,527 [INFO] Base - [id:1158555867] Fetched 20 reviews (31220 fetched in total)\n",
      "2024-03-05 23:11:39,013 [INFO] Base - [id:1158555867] Fetched 20 reviews (31240 fetched in total)\n",
      "2024-03-05 23:11:44,310 [INFO] Base - [id:1158555867] Fetched 20 reviews (31260 fetched in total)\n",
      "2024-03-05 23:11:49,511 [INFO] Base - [id:1158555867] Fetched 20 reviews (31280 fetched in total)\n",
      "2024-03-05 23:11:54,697 [INFO] Base - [id:1158555867] Fetched 20 reviews (31300 fetched in total)\n"
     ]
    },
    {
     "name": "stdout",
     "output_type": "stream",
     "text": [
      "Saved 31300 reviews to 1158555867_reviews_31300.csv\n"
     ]
    },
    {
     "name": "stderr",
     "output_type": "stream",
     "text": [
      "2024-03-05 23:12:00,125 [INFO] Base - [id:1158555867] Fetched 20 reviews (31320 fetched in total)\n",
      "2024-03-05 23:12:05,325 [INFO] Base - [id:1158555867] Fetched 20 reviews (31340 fetched in total)\n",
      "2024-03-05 23:12:10,624 [INFO] Base - [id:1158555867] Fetched 20 reviews (31360 fetched in total)\n",
      "2024-03-05 23:28:36,601 [INFO] Base - [id:1158555867] Fetched 20 reviews (31380 fetched in total)\n",
      "2024-03-05 23:28:41,808 [INFO] Base - [id:1158555867] Fetched 20 reviews (31400 fetched in total)\n"
     ]
    },
    {
     "name": "stdout",
     "output_type": "stream",
     "text": [
      "Saved 31400 reviews to 1158555867_reviews_31400.csv\n"
     ]
    },
    {
     "name": "stderr",
     "output_type": "stream",
     "text": [
      "2024-03-05 23:28:47,228 [INFO] Base - [id:1158555867] Fetched 20 reviews (31420 fetched in total)\n",
      "2024-03-05 23:28:52,435 [INFO] Base - [id:1158555867] Fetched 20 reviews (31440 fetched in total)\n",
      "2024-03-05 23:28:57,677 [INFO] Base - [id:1158555867] Fetched 20 reviews (31460 fetched in total)\n",
      "2024-03-05 23:29:03,149 [INFO] Base - [id:1158555867] Fetched 20 reviews (31480 fetched in total)\n",
      "2024-03-05 23:29:08,393 [INFO] Base - [id:1158555867] Fetched 20 reviews (31500 fetched in total)\n"
     ]
    },
    {
     "name": "stdout",
     "output_type": "stream",
     "text": [
      "Saved 31500 reviews to 1158555867_reviews_31500.csv\n"
     ]
    },
    {
     "name": "stderr",
     "output_type": "stream",
     "text": [
      "2024-03-05 23:29:13,803 [INFO] Base - [id:1158555867] Fetched 20 reviews (31520 fetched in total)\n",
      "2024-03-05 23:29:19,010 [INFO] Base - [id:1158555867] Fetched 20 reviews (31540 fetched in total)\n",
      "2024-03-05 23:34:26,908 [INFO] Base - [id:1158555867] Fetched 20 reviews (31560 fetched in total)\n",
      "2024-03-05 23:34:32,136 [INFO] Base - [id:1158555867] Fetched 20 reviews (31580 fetched in total)\n",
      "2024-03-05 23:34:37,343 [INFO] Base - [id:1158555867] Fetched 20 reviews (31600 fetched in total)\n"
     ]
    },
    {
     "name": "stdout",
     "output_type": "stream",
     "text": [
      "Saved 31600 reviews to 1158555867_reviews_31600.csv\n"
     ]
    },
    {
     "name": "stderr",
     "output_type": "stream",
     "text": [
      "2024-03-05 23:34:42,789 [INFO] Base - [id:1158555867] Fetched 20 reviews (31620 fetched in total)\n",
      "2024-03-05 23:34:48,161 [INFO] Base - [id:1158555867] Fetched 20 reviews (31640 fetched in total)\n",
      "2024-03-05 23:34:53,597 [INFO] Base - [id:1158555867] Fetched 20 reviews (31660 fetched in total)\n",
      "2024-03-05 23:34:58,884 [INFO] Base - [id:1158555867] Fetched 20 reviews (31680 fetched in total)\n",
      "2024-03-05 23:35:04,193 [INFO] Base - [id:1158555867] Fetched 20 reviews (31700 fetched in total)\n"
     ]
    },
    {
     "name": "stdout",
     "output_type": "stream",
     "text": [
      "Saved 31700 reviews to 1158555867_reviews_31700.csv\n"
     ]
    },
    {
     "name": "stderr",
     "output_type": "stream",
     "text": [
      "2024-03-05 23:35:09,663 [INFO] Base - [id:1158555867] Fetched 20 reviews (31720 fetched in total)\n",
      "2024-03-05 23:35:14,896 [INFO] Base - [id:1158555867] Fetched 20 reviews (31740 fetched in total)\n",
      "2024-03-05 23:35:20,145 [INFO] Base - [id:1158555867] Fetched 20 reviews (31760 fetched in total)\n",
      "2024-03-05 23:35:25,433 [INFO] Base - [id:1158555867] Fetched 20 reviews (31780 fetched in total)\n",
      "2024-03-05 23:35:30,663 [INFO] Base - [id:1158555867] Fetched 20 reviews (31800 fetched in total)\n"
     ]
    },
    {
     "name": "stdout",
     "output_type": "stream",
     "text": [
      "Saved 31800 reviews to 1158555867_reviews_31800.csv\n"
     ]
    },
    {
     "name": "stderr",
     "output_type": "stream",
     "text": [
      "2024-03-05 23:35:36,107 [INFO] Base - [id:1158555867] Fetched 20 reviews (31820 fetched in total)\n",
      "2024-03-05 23:35:41,371 [INFO] Base - [id:1158555867] Fetched 20 reviews (31840 fetched in total)\n",
      "2024-03-05 23:35:46,617 [INFO] Base - [id:1158555867] Fetched 20 reviews (31860 fetched in total)\n",
      "2024-03-05 23:35:51,858 [INFO] Base - [id:1158555867] Fetched 20 reviews (31880 fetched in total)\n",
      "2024-03-05 23:35:57,131 [INFO] Base - [id:1158555867] Fetched 20 reviews (31900 fetched in total)\n"
     ]
    },
    {
     "name": "stdout",
     "output_type": "stream",
     "text": [
      "Saved 31900 reviews to 1158555867_reviews_31900.csv\n"
     ]
    },
    {
     "name": "stderr",
     "output_type": "stream",
     "text": [
      "2024-03-05 23:36:02,588 [INFO] Base - [id:1158555867] Fetched 20 reviews (31920 fetched in total)\n",
      "2024-03-05 23:36:07,836 [INFO] Base - [id:1158555867] Fetched 20 reviews (31940 fetched in total)\n",
      "2024-03-05 23:36:31,843 [INFO] Base - [id:1158555867] Fetched 20 reviews (31960 fetched in total)\n",
      "2024-03-05 23:36:37,107 [INFO] Base - [id:1158555867] Fetched 20 reviews (31980 fetched in total)\n",
      "2024-03-05 23:36:42,369 [INFO] Base - [id:1158555867] Fetched 20 reviews (32000 fetched in total)\n"
     ]
    },
    {
     "name": "stdout",
     "output_type": "stream",
     "text": [
      "Saved 32000 reviews to 1158555867_reviews_32000.csv\n"
     ]
    },
    {
     "name": "stderr",
     "output_type": "stream",
     "text": [
      "2024-03-05 23:36:47,817 [INFO] Base - [id:1158555867] Fetched 20 reviews (32020 fetched in total)\n",
      "2024-03-05 23:36:53,082 [INFO] Base - [id:1158555867] Fetched 20 reviews (32040 fetched in total)\n",
      "2024-03-05 23:36:58,355 [INFO] Base - [id:1158555867] Fetched 20 reviews (32060 fetched in total)\n",
      "2024-03-05 23:37:03,578 [INFO] Base - [id:1158555867] Fetched 20 reviews (32080 fetched in total)\n",
      "2024-03-05 23:37:08,774 [INFO] Base - [id:1158555867] Fetched 20 reviews (32100 fetched in total)\n"
     ]
    },
    {
     "name": "stdout",
     "output_type": "stream",
     "text": [
      "Saved 32100 reviews to 1158555867_reviews_32100.csv\n"
     ]
    },
    {
     "name": "stderr",
     "output_type": "stream",
     "text": [
      "2024-03-05 23:37:14,172 [INFO] Base - [id:1158555867] Fetched 20 reviews (32120 fetched in total)\n",
      "2024-03-05 23:37:19,500 [INFO] Base - [id:1158555867] Fetched 20 reviews (32140 fetched in total)\n",
      "2024-03-05 23:37:24,708 [INFO] Base - [id:1158555867] Fetched 20 reviews (32160 fetched in total)\n",
      "2024-03-05 23:37:29,929 [INFO] Base - [id:1158555867] Fetched 20 reviews (32180 fetched in total)\n",
      "2024-03-05 23:37:35,142 [INFO] Base - [id:1158555867] Fetched 20 reviews (32200 fetched in total)\n"
     ]
    },
    {
     "name": "stdout",
     "output_type": "stream",
     "text": [
      "Saved 32200 reviews to 1158555867_reviews_32200.csv\n"
     ]
    },
    {
     "name": "stderr",
     "output_type": "stream",
     "text": [
      "2024-03-05 23:37:40,561 [INFO] Base - [id:1158555867] Fetched 20 reviews (32220 fetched in total)\n",
      "2024-03-05 23:37:45,807 [INFO] Base - [id:1158555867] Fetched 20 reviews (32240 fetched in total)\n",
      "2024-03-05 23:37:51,002 [INFO] Base - [id:1158555867] Fetched 20 reviews (32260 fetched in total)\n",
      "2024-03-05 23:37:56,202 [INFO] Base - [id:1158555867] Fetched 20 reviews (32280 fetched in total)\n",
      "2024-03-05 23:38:01,436 [INFO] Base - [id:1158555867] Fetched 20 reviews (32300 fetched in total)\n"
     ]
    },
    {
     "name": "stdout",
     "output_type": "stream",
     "text": [
      "Saved 32300 reviews to 1158555867_reviews_32300.csv\n"
     ]
    },
    {
     "name": "stderr",
     "output_type": "stream",
     "text": [
      "2024-03-05 23:38:06,847 [INFO] Base - [id:1158555867] Fetched 20 reviews (32320 fetched in total)\n",
      "2024-03-05 23:38:12,080 [INFO] Base - [id:1158555867] Fetched 20 reviews (32340 fetched in total)\n",
      "2024-03-05 23:38:17,282 [INFO] Base - [id:1158555867] Fetched 20 reviews (32360 fetched in total)\n",
      "2024-03-05 23:38:22,494 [INFO] Base - [id:1158555867] Fetched 20 reviews (32380 fetched in total)\n",
      "2024-03-05 23:38:27,760 [INFO] Base - [id:1158555867] Fetched 20 reviews (32400 fetched in total)\n"
     ]
    },
    {
     "name": "stdout",
     "output_type": "stream",
     "text": [
      "Saved 32400 reviews to 1158555867_reviews_32400.csv\n"
     ]
    },
    {
     "name": "stderr",
     "output_type": "stream",
     "text": [
      "2024-03-05 23:38:33,201 [INFO] Base - [id:1158555867] Fetched 20 reviews (32420 fetched in total)\n",
      "2024-03-05 23:38:38,457 [INFO] Base - [id:1158555867] Fetched 20 reviews (32440 fetched in total)\n",
      "2024-03-05 23:38:43,672 [INFO] Base - [id:1158555867] Fetched 20 reviews (32460 fetched in total)\n",
      "2024-03-05 23:38:48,867 [INFO] Base - [id:1158555867] Fetched 20 reviews (32480 fetched in total)\n",
      "2024-03-05 23:38:54,051 [INFO] Base - [id:1158555867] Fetched 20 reviews (32500 fetched in total)\n"
     ]
    },
    {
     "name": "stdout",
     "output_type": "stream",
     "text": [
      "Saved 32500 reviews to 1158555867_reviews_32500.csv\n"
     ]
    },
    {
     "name": "stderr",
     "output_type": "stream",
     "text": [
      "2024-03-05 23:38:59,463 [INFO] Base - [id:1158555867] Fetched 20 reviews (32520 fetched in total)\n",
      "2024-03-05 23:39:04,654 [INFO] Base - [id:1158555867] Fetched 20 reviews (32540 fetched in total)\n",
      "2024-03-05 23:39:09,847 [INFO] Base - [id:1158555867] Fetched 20 reviews (32560 fetched in total)\n",
      "2024-03-05 23:39:15,025 [INFO] Base - [id:1158555867] Fetched 20 reviews (32580 fetched in total)\n",
      "2024-03-05 23:39:20,224 [INFO] Base - [id:1158555867] Fetched 20 reviews (32600 fetched in total)\n"
     ]
    },
    {
     "name": "stdout",
     "output_type": "stream",
     "text": [
      "Saved 32600 reviews to 1158555867_reviews_32600.csv\n"
     ]
    },
    {
     "name": "stderr",
     "output_type": "stream",
     "text": [
      "2024-03-05 23:39:25,668 [INFO] Base - [id:1158555867] Fetched 20 reviews (32620 fetched in total)\n",
      "2024-03-05 23:39:30,874 [INFO] Base - [id:1158555867] Fetched 20 reviews (32640 fetched in total)\n",
      "2024-03-05 23:39:36,069 [INFO] Base - [id:1158555867] Fetched 20 reviews (32660 fetched in total)\n",
      "2024-03-05 23:39:41,300 [INFO] Base - [id:1158555867] Fetched 20 reviews (32680 fetched in total)\n",
      "2024-03-05 23:39:46,486 [INFO] Base - [id:1158555867] Fetched 20 reviews (32700 fetched in total)\n"
     ]
    },
    {
     "name": "stdout",
     "output_type": "stream",
     "text": [
      "Saved 32700 reviews to 1158555867_reviews_32700.csv\n"
     ]
    },
    {
     "name": "stderr",
     "output_type": "stream",
     "text": [
      "2024-03-05 23:39:51,870 [INFO] Base - [id:1158555867] Fetched 20 reviews (32720 fetched in total)\n",
      "2024-03-05 23:39:57,105 [INFO] Base - [id:1158555867] Fetched 20 reviews (32740 fetched in total)\n",
      "2024-03-05 23:40:02,310 [INFO] Base - [id:1158555867] Fetched 20 reviews (32760 fetched in total)\n",
      "2024-03-05 23:40:07,501 [INFO] Base - [id:1158555867] Fetched 20 reviews (32780 fetched in total)\n",
      "2024-03-05 23:40:12,713 [INFO] Base - [id:1158555867] Fetched 20 reviews (32800 fetched in total)\n"
     ]
    },
    {
     "name": "stdout",
     "output_type": "stream",
     "text": [
      "Saved 32800 reviews to 1158555867_reviews_32800.csv\n"
     ]
    },
    {
     "name": "stderr",
     "output_type": "stream",
     "text": [
      "2024-03-05 23:40:18,169 [INFO] Base - [id:1158555867] Fetched 20 reviews (32820 fetched in total)\n",
      "2024-03-05 23:40:23,379 [INFO] Base - [id:1158555867] Fetched 20 reviews (32840 fetched in total)\n",
      "2024-03-05 23:40:28,602 [INFO] Base - [id:1158555867] Fetched 20 reviews (32860 fetched in total)\n",
      "2024-03-05 23:40:33,897 [INFO] Base - [id:1158555867] Fetched 20 reviews (32880 fetched in total)\n",
      "2024-03-05 23:40:39,136 [INFO] Base - [id:1158555867] Fetched 20 reviews (32900 fetched in total)\n"
     ]
    },
    {
     "name": "stdout",
     "output_type": "stream",
     "text": [
      "Saved 32900 reviews to 1158555867_reviews_32900.csv\n"
     ]
    },
    {
     "name": "stderr",
     "output_type": "stream",
     "text": [
      "2024-03-05 23:40:44,580 [INFO] Base - [id:1158555867] Fetched 20 reviews (32920 fetched in total)\n",
      "2024-03-05 23:40:49,816 [INFO] Base - [id:1158555867] Fetched 20 reviews (32940 fetched in total)\n",
      "2024-03-05 23:40:55,091 [INFO] Base - [id:1158555867] Fetched 20 reviews (32960 fetched in total)\n",
      "2024-03-05 23:41:00,336 [INFO] Base - [id:1158555867] Fetched 20 reviews (32980 fetched in total)\n",
      "2024-03-05 23:41:05,592 [INFO] Base - [id:1158555867] Fetched 20 reviews (33000 fetched in total)\n"
     ]
    },
    {
     "name": "stdout",
     "output_type": "stream",
     "text": [
      "Saved 33000 reviews to 1158555867_reviews_33000.csv\n"
     ]
    },
    {
     "name": "stderr",
     "output_type": "stream",
     "text": [
      "2024-03-05 23:41:11,053 [INFO] Base - [id:1158555867] Fetched 20 reviews (33020 fetched in total)\n",
      "2024-03-05 23:41:16,284 [INFO] Base - [id:1158555867] Fetched 20 reviews (33040 fetched in total)\n",
      "2024-03-05 23:41:21,540 [INFO] Base - [id:1158555867] Fetched 20 reviews (33060 fetched in total)\n",
      "2024-03-05 23:41:26,776 [INFO] Base - [id:1158555867] Fetched 20 reviews (33080 fetched in total)\n",
      "2024-03-05 23:41:32,091 [INFO] Base - [id:1158555867] Fetched 20 reviews (33100 fetched in total)\n"
     ]
    },
    {
     "name": "stdout",
     "output_type": "stream",
     "text": [
      "Saved 33100 reviews to 1158555867_reviews_33100.csv\n"
     ]
    },
    {
     "name": "stderr",
     "output_type": "stream",
     "text": [
      "2024-03-05 23:41:37,541 [INFO] Base - [id:1158555867] Fetched 20 reviews (33120 fetched in total)\n",
      "2024-03-05 23:41:42,812 [INFO] Base - [id:1158555867] Fetched 20 reviews (33140 fetched in total)\n",
      "2024-03-05 23:41:48,054 [INFO] Base - [id:1158555867] Fetched 20 reviews (33160 fetched in total)\n",
      "2024-03-05 23:41:53,304 [INFO] Base - [id:1158555867] Fetched 20 reviews (33180 fetched in total)\n",
      "2024-03-05 23:41:58,562 [INFO] Base - [id:1158555867] Fetched 20 reviews (33200 fetched in total)\n"
     ]
    },
    {
     "name": "stdout",
     "output_type": "stream",
     "text": [
      "Saved 33200 reviews to 1158555867_reviews_33200.csv\n"
     ]
    },
    {
     "name": "stderr",
     "output_type": "stream",
     "text": [
      "2024-03-05 23:42:04,004 [INFO] Base - [id:1158555867] Fetched 20 reviews (33220 fetched in total)\n",
      "2024-03-05 23:42:09,251 [INFO] Base - [id:1158555867] Fetched 20 reviews (33240 fetched in total)\n",
      "2024-03-05 23:42:14,535 [INFO] Base - [id:1158555867] Fetched 20 reviews (33260 fetched in total)\n",
      "2024-03-05 23:42:19,842 [INFO] Base - [id:1158555867] Fetched 20 reviews (33280 fetched in total)\n",
      "2024-03-05 23:42:25,086 [INFO] Base - [id:1158555867] Fetched 20 reviews (33300 fetched in total)\n"
     ]
    },
    {
     "name": "stdout",
     "output_type": "stream",
     "text": [
      "Saved 33300 reviews to 1158555867_reviews_33300.csv\n"
     ]
    },
    {
     "name": "stderr",
     "output_type": "stream",
     "text": [
      "2024-03-05 23:42:30,575 [INFO] Base - [id:1158555867] Fetched 20 reviews (33320 fetched in total)\n",
      "2024-03-05 23:42:35,827 [INFO] Base - [id:1158555867] Fetched 20 reviews (33340 fetched in total)\n",
      "2024-03-05 23:42:41,087 [INFO] Base - [id:1158555867] Fetched 20 reviews (33360 fetched in total)\n",
      "2024-03-05 23:42:46,332 [INFO] Base - [id:1158555867] Fetched 20 reviews (33380 fetched in total)\n",
      "2024-03-05 23:42:51,548 [INFO] Base - [id:1158555867] Fetched 20 reviews (33400 fetched in total)\n"
     ]
    },
    {
     "name": "stdout",
     "output_type": "stream",
     "text": [
      "Saved 33400 reviews to 1158555867_reviews_33400.csv\n"
     ]
    },
    {
     "name": "stderr",
     "output_type": "stream",
     "text": [
      "2024-03-05 23:42:56,955 [INFO] Base - [id:1158555867] Fetched 20 reviews (33420 fetched in total)\n",
      "2024-03-05 23:43:02,180 [INFO] Base - [id:1158555867] Fetched 20 reviews (33440 fetched in total)\n",
      "2024-03-05 23:43:07,363 [INFO] Base - [id:1158555867] Fetched 20 reviews (33460 fetched in total)\n",
      "2024-03-05 23:43:12,574 [INFO] Base - [id:1158555867] Fetched 20 reviews (33480 fetched in total)\n",
      "2024-03-05 23:43:17,772 [INFO] Base - [id:1158555867] Fetched 20 reviews (33500 fetched in total)\n"
     ]
    },
    {
     "name": "stdout",
     "output_type": "stream",
     "text": [
      "Saved 33500 reviews to 1158555867_reviews_33500.csv\n"
     ]
    },
    {
     "name": "stderr",
     "output_type": "stream",
     "text": [
      "2024-03-05 23:43:23,181 [INFO] Base - [id:1158555867] Fetched 20 reviews (33520 fetched in total)\n",
      "2024-03-05 23:43:28,383 [INFO] Base - [id:1158555867] Fetched 20 reviews (33540 fetched in total)\n",
      "2024-03-05 23:43:33,593 [INFO] Base - [id:1158555867] Fetched 20 reviews (33560 fetched in total)\n",
      "2024-03-05 23:52:55,025 [INFO] Base - [id:1158555867] Fetched 20 reviews (33580 fetched in total)\n",
      "2024-03-05 23:53:00,219 [INFO] Base - [id:1158555867] Fetched 20 reviews (33600 fetched in total)\n"
     ]
    },
    {
     "name": "stdout",
     "output_type": "stream",
     "text": [
      "Saved 33600 reviews to 1158555867_reviews_33600.csv\n"
     ]
    },
    {
     "name": "stderr",
     "output_type": "stream",
     "text": [
      "2024-03-05 23:53:05,661 [INFO] Base - [id:1158555867] Fetched 20 reviews (33620 fetched in total)\n",
      "2024-03-05 23:53:10,872 [INFO] Base - [id:1158555867] Fetched 20 reviews (33640 fetched in total)\n",
      "2024-03-05 23:53:16,364 [INFO] Base - [id:1158555867] Fetched 20 reviews (33660 fetched in total)\n",
      "2024-03-05 23:53:21,814 [INFO] Base - [id:1158555867] Fetched 20 reviews (33680 fetched in total)\n",
      "2024-03-05 23:53:27,014 [INFO] Base - [id:1158555867] Fetched 20 reviews (33700 fetched in total)\n"
     ]
    },
    {
     "name": "stdout",
     "output_type": "stream",
     "text": [
      "Saved 33700 reviews to 1158555867_reviews_33700.csv\n"
     ]
    },
    {
     "name": "stderr",
     "output_type": "stream",
     "text": [
      "2024-03-05 23:53:32,425 [INFO] Base - [id:1158555867] Fetched 20 reviews (33720 fetched in total)\n",
      "2024-03-05 23:53:37,702 [INFO] Base - [id:1158555867] Fetched 20 reviews (33740 fetched in total)\n",
      "2024-03-06 00:00:20,361 [INFO] Base - [id:1158555867] Fetched 20 reviews (33760 fetched in total)\n",
      "2024-03-06 00:00:25,606 [INFO] Base - [id:1158555867] Fetched 20 reviews (33780 fetched in total)\n",
      "2024-03-06 00:00:30,841 [INFO] Base - [id:1158555867] Fetched 20 reviews (33800 fetched in total)\n"
     ]
    },
    {
     "name": "stdout",
     "output_type": "stream",
     "text": [
      "Saved 33800 reviews to 1158555867_reviews_33800.csv\n"
     ]
    },
    {
     "name": "stderr",
     "output_type": "stream",
     "text": [
      "2024-03-06 00:00:36,318 [INFO] Base - [id:1158555867] Fetched 20 reviews (33820 fetched in total)\n",
      "2024-03-06 00:00:41,612 [INFO] Base - [id:1158555867] Fetched 20 reviews (33840 fetched in total)\n",
      "2024-03-06 00:00:47,018 [INFO] Base - [id:1158555867] Fetched 20 reviews (33860 fetched in total)\n",
      "2024-03-06 00:00:52,248 [INFO] Base - [id:1158555867] Fetched 20 reviews (33880 fetched in total)\n",
      "2024-03-06 00:00:57,497 [INFO] Base - [id:1158555867] Fetched 20 reviews (33900 fetched in total)\n"
     ]
    },
    {
     "name": "stdout",
     "output_type": "stream",
     "text": [
      "Saved 33900 reviews to 1158555867_reviews_33900.csv\n"
     ]
    },
    {
     "name": "stderr",
     "output_type": "stream",
     "text": [
      "2024-03-06 00:01:02,904 [INFO] Base - [id:1158555867] Fetched 20 reviews (33920 fetched in total)\n",
      "2024-03-06 00:16:41,816 [INFO] Base - [id:1158555867] Fetched 20 reviews (33940 fetched in total)\n",
      "2024-03-06 00:16:47,028 [INFO] Base - [id:1158555867] Fetched 20 reviews (33960 fetched in total)\n",
      "2024-03-06 00:16:52,257 [INFO] Base - [id:1158555867] Fetched 20 reviews (33980 fetched in total)\n",
      "2024-03-06 00:16:57,477 [INFO] Base - [id:1158555867] Fetched 20 reviews (34000 fetched in total)\n"
     ]
    },
    {
     "name": "stdout",
     "output_type": "stream",
     "text": [
      "Saved 34000 reviews to 1158555867_reviews_34000.csv\n"
     ]
    },
    {
     "name": "stderr",
     "output_type": "stream",
     "text": [
      "2024-03-06 00:17:02,903 [INFO] Base - [id:1158555867] Fetched 20 reviews (34020 fetched in total)\n",
      "2024-03-06 00:17:08,344 [INFO] Base - [id:1158555867] Fetched 20 reviews (34040 fetched in total)\n",
      "2024-03-06 00:17:13,557 [INFO] Base - [id:1158555867] Fetched 20 reviews (34060 fetched in total)\n",
      "2024-03-06 00:17:18,743 [INFO] Base - [id:1158555867] Fetched 20 reviews (34080 fetched in total)\n",
      "2024-03-06 00:17:23,946 [INFO] Base - [id:1158555867] Fetched 20 reviews (34100 fetched in total)\n"
     ]
    },
    {
     "name": "stdout",
     "output_type": "stream",
     "text": [
      "Saved 34100 reviews to 1158555867_reviews_34100.csv\n"
     ]
    },
    {
     "name": "stderr",
     "output_type": "stream",
     "text": [
      "2024-03-06 00:17:29,386 [INFO] Base - [id:1158555867] Fetched 20 reviews (34120 fetched in total)\n",
      "2024-03-06 00:17:34,588 [INFO] Base - [id:1158555867] Fetched 20 reviews (34140 fetched in total)\n",
      "2024-03-06 00:17:39,779 [INFO] Base - [id:1158555867] Fetched 20 reviews (34160 fetched in total)\n",
      "2024-03-06 00:17:45,004 [INFO] Base - [id:1158555867] Fetched 20 reviews (34180 fetched in total)\n",
      "2024-03-06 00:17:50,207 [INFO] Base - [id:1158555867] Fetched 20 reviews (34200 fetched in total)\n"
     ]
    },
    {
     "name": "stdout",
     "output_type": "stream",
     "text": [
      "Saved 34200 reviews to 1158555867_reviews_34200.csv\n"
     ]
    },
    {
     "name": "stderr",
     "output_type": "stream",
     "text": [
      "2024-03-06 00:17:55,608 [INFO] Base - [id:1158555867] Fetched 20 reviews (34220 fetched in total)\n",
      "2024-03-06 00:18:00,843 [INFO] Base - [id:1158555867] Fetched 20 reviews (34240 fetched in total)\n",
      "2024-03-06 00:18:06,039 [INFO] Base - [id:1158555867] Fetched 20 reviews (34260 fetched in total)\n",
      "2024-03-06 00:18:11,246 [INFO] Base - [id:1158555867] Fetched 20 reviews (34280 fetched in total)\n",
      "2024-03-06 00:18:16,462 [INFO] Base - [id:1158555867] Fetched 20 reviews (34300 fetched in total)\n"
     ]
    },
    {
     "name": "stdout",
     "output_type": "stream",
     "text": [
      "Saved 34300 reviews to 1158555867_reviews_34300.csv\n"
     ]
    },
    {
     "name": "stderr",
     "output_type": "stream",
     "text": [
      "2024-03-06 00:18:21,895 [INFO] Base - [id:1158555867] Fetched 20 reviews (34320 fetched in total)\n",
      "2024-03-06 00:18:27,073 [INFO] Base - [id:1158555867] Fetched 20 reviews (34340 fetched in total)\n",
      "2024-03-06 00:18:32,275 [INFO] Base - [id:1158555867] Fetched 20 reviews (34360 fetched in total)\n",
      "2024-03-06 00:18:37,469 [INFO] Base - [id:1158555867] Fetched 20 reviews (34380 fetched in total)\n",
      "2024-03-06 00:18:42,658 [INFO] Base - [id:1158555867] Fetched 20 reviews (34400 fetched in total)\n"
     ]
    },
    {
     "name": "stdout",
     "output_type": "stream",
     "text": [
      "Saved 34400 reviews to 1158555867_reviews_34400.csv\n"
     ]
    },
    {
     "name": "stderr",
     "output_type": "stream",
     "text": [
      "2024-03-06 00:18:48,070 [INFO] Base - [id:1158555867] Fetched 20 reviews (34420 fetched in total)\n",
      "2024-03-06 00:18:53,257 [INFO] Base - [id:1158555867] Fetched 20 reviews (34440 fetched in total)\n",
      "2024-03-06 00:18:58,451 [INFO] Base - [id:1158555867] Fetched 20 reviews (34460 fetched in total)\n",
      "2024-03-06 00:19:03,657 [INFO] Base - [id:1158555867] Fetched 20 reviews (34480 fetched in total)\n",
      "2024-03-06 00:19:08,864 [INFO] Base - [id:1158555867] Fetched 20 reviews (34500 fetched in total)\n"
     ]
    },
    {
     "name": "stdout",
     "output_type": "stream",
     "text": [
      "Saved 34500 reviews to 1158555867_reviews_34500.csv\n"
     ]
    },
    {
     "name": "stderr",
     "output_type": "stream",
     "text": [
      "2024-03-06 00:19:14,257 [INFO] Base - [id:1158555867] Fetched 20 reviews (34520 fetched in total)\n",
      "2024-03-06 00:19:19,449 [INFO] Base - [id:1158555867] Fetched 20 reviews (34540 fetched in total)\n",
      "2024-03-06 00:19:24,652 [INFO] Base - [id:1158555867] Fetched 20 reviews (34560 fetched in total)\n",
      "2024-03-06 00:19:29,843 [INFO] Base - [id:1158555867] Fetched 20 reviews (34580 fetched in total)\n",
      "2024-03-06 00:19:35,045 [INFO] Base - [id:1158555867] Fetched 20 reviews (34600 fetched in total)\n"
     ]
    },
    {
     "name": "stdout",
     "output_type": "stream",
     "text": [
      "Saved 34600 reviews to 1158555867_reviews_34600.csv\n"
     ]
    },
    {
     "name": "stderr",
     "output_type": "stream",
     "text": [
      "2024-03-06 00:19:40,475 [INFO] Base - [id:1158555867] Fetched 20 reviews (34620 fetched in total)\n",
      "2024-03-06 00:19:45,671 [INFO] Base - [id:1158555867] Fetched 20 reviews (34640 fetched in total)\n",
      "2024-03-06 00:19:50,867 [INFO] Base - [id:1158555867] Fetched 20 reviews (34660 fetched in total)\n",
      "2024-03-06 00:19:56,095 [INFO] Base - [id:1158555867] Fetched 20 reviews (34680 fetched in total)\n",
      "2024-03-06 00:20:01,291 [INFO] Base - [id:1158555867] Fetched 20 reviews (34700 fetched in total)\n"
     ]
    },
    {
     "name": "stdout",
     "output_type": "stream",
     "text": [
      "Saved 34700 reviews to 1158555867_reviews_34700.csv\n"
     ]
    },
    {
     "name": "stderr",
     "output_type": "stream",
     "text": [
      "2024-03-06 00:20:06,701 [INFO] Base - [id:1158555867] Fetched 20 reviews (34720 fetched in total)\n",
      "2024-03-06 00:20:11,951 [INFO] Base - [id:1158555867] Fetched 20 reviews (34740 fetched in total)\n",
      "2024-03-06 00:20:17,163 [INFO] Base - [id:1158555867] Fetched 20 reviews (34760 fetched in total)\n",
      "2024-03-06 00:20:22,354 [INFO] Base - [id:1158555867] Fetched 20 reviews (34780 fetched in total)\n",
      "2024-03-06 00:20:27,575 [INFO] Base - [id:1158555867] Fetched 20 reviews (34800 fetched in total)\n"
     ]
    },
    {
     "name": "stdout",
     "output_type": "stream",
     "text": [
      "Saved 34800 reviews to 1158555867_reviews_34800.csv\n"
     ]
    },
    {
     "name": "stderr",
     "output_type": "stream",
     "text": [
      "2024-03-06 00:20:32,994 [INFO] Base - [id:1158555867] Fetched 20 reviews (34820 fetched in total)\n",
      "2024-03-06 00:20:38,186 [INFO] Base - [id:1158555867] Fetched 20 reviews (34840 fetched in total)\n",
      "2024-03-06 00:20:43,370 [INFO] Base - [id:1158555867] Fetched 20 reviews (34860 fetched in total)\n",
      "2024-03-06 00:20:48,623 [INFO] Base - [id:1158555867] Fetched 20 reviews (34880 fetched in total)\n",
      "2024-03-06 00:20:53,826 [INFO] Base - [id:1158555867] Fetched 20 reviews (34900 fetched in total)\n"
     ]
    },
    {
     "name": "stdout",
     "output_type": "stream",
     "text": [
      "Saved 34900 reviews to 1158555867_reviews_34900.csv\n"
     ]
    },
    {
     "name": "stderr",
     "output_type": "stream",
     "text": [
      "2024-03-06 00:20:59,234 [INFO] Base - [id:1158555867] Fetched 20 reviews (34920 fetched in total)\n",
      "2024-03-06 00:21:04,507 [INFO] Base - [id:1158555867] Fetched 20 reviews (34940 fetched in total)\n",
      "2024-03-06 00:21:09,746 [INFO] Base - [id:1158555867] Fetched 20 reviews (34960 fetched in total)\n",
      "2024-03-06 00:21:14,990 [INFO] Base - [id:1158555867] Fetched 20 reviews (34980 fetched in total)\n",
      "2024-03-06 00:21:20,288 [INFO] Base - [id:1158555867] Fetched 20 reviews (35000 fetched in total)\n"
     ]
    },
    {
     "name": "stdout",
     "output_type": "stream",
     "text": [
      "Saved 35000 reviews to 1158555867_reviews_35000.csv\n"
     ]
    },
    {
     "name": "stderr",
     "output_type": "stream",
     "text": [
      "2024-03-06 00:21:25,745 [INFO] Base - [id:1158555867] Fetched 20 reviews (35020 fetched in total)\n",
      "2024-03-06 00:21:30,988 [INFO] Base - [id:1158555867] Fetched 20 reviews (35040 fetched in total)\n",
      "2024-03-06 00:21:36,233 [INFO] Base - [id:1158555867] Fetched 20 reviews (35060 fetched in total)\n",
      "2024-03-06 00:21:41,478 [INFO] Base - [id:1158555867] Fetched 20 reviews (35080 fetched in total)\n",
      "2024-03-06 00:21:46,724 [INFO] Base - [id:1158555867] Fetched 20 reviews (35100 fetched in total)\n"
     ]
    },
    {
     "name": "stdout",
     "output_type": "stream",
     "text": [
      "Saved 35100 reviews to 1158555867_reviews_35100.csv\n"
     ]
    },
    {
     "name": "stderr",
     "output_type": "stream",
     "text": [
      "2024-03-06 00:21:52,175 [INFO] Base - [id:1158555867] Fetched 20 reviews (35120 fetched in total)\n",
      "2024-03-06 00:21:57,422 [INFO] Base - [id:1158555867] Fetched 20 reviews (35140 fetched in total)\n",
      "2024-03-06 00:22:02,684 [INFO] Base - [id:1158555867] Fetched 20 reviews (35160 fetched in total)\n",
      "2024-03-06 00:22:07,922 [INFO] Base - [id:1158555867] Fetched 20 reviews (35180 fetched in total)\n",
      "2024-03-06 00:22:13,156 [INFO] Base - [id:1158555867] Fetched 20 reviews (35200 fetched in total)\n"
     ]
    },
    {
     "name": "stdout",
     "output_type": "stream",
     "text": [
      "Saved 35200 reviews to 1158555867_reviews_35200.csv\n"
     ]
    },
    {
     "name": "stderr",
     "output_type": "stream",
     "text": [
      "2024-03-06 00:22:18,610 [INFO] Base - [id:1158555867] Fetched 20 reviews (35220 fetched in total)\n",
      "2024-03-06 00:22:23,906 [INFO] Base - [id:1158555867] Fetched 20 reviews (35240 fetched in total)\n",
      "2024-03-06 00:22:29,155 [INFO] Base - [id:1158555867] Fetched 20 reviews (35260 fetched in total)\n",
      "2024-03-06 00:22:34,398 [INFO] Base - [id:1158555867] Fetched 20 reviews (35280 fetched in total)\n",
      "2024-03-06 00:22:39,668 [INFO] Base - [id:1158555867] Fetched 20 reviews (35300 fetched in total)\n"
     ]
    },
    {
     "name": "stdout",
     "output_type": "stream",
     "text": [
      "Saved 35300 reviews to 1158555867_reviews_35300.csv\n"
     ]
    },
    {
     "name": "stderr",
     "output_type": "stream",
     "text": [
      "2024-03-06 00:22:45,123 [INFO] Base - [id:1158555867] Fetched 20 reviews (35320 fetched in total)\n",
      "2024-03-06 00:22:50,361 [INFO] Base - [id:1158555867] Fetched 20 reviews (35340 fetched in total)\n",
      "2024-03-06 00:22:55,590 [INFO] Base - [id:1158555867] Fetched 20 reviews (35360 fetched in total)\n",
      "2024-03-06 00:23:00,840 [INFO] Base - [id:1158555867] Fetched 20 reviews (35380 fetched in total)\n",
      "2024-03-06 00:23:06,025 [INFO] Base - [id:1158555867] Fetched 20 reviews (35400 fetched in total)\n"
     ]
    },
    {
     "name": "stdout",
     "output_type": "stream",
     "text": [
      "Saved 35400 reviews to 1158555867_reviews_35400.csv\n"
     ]
    },
    {
     "name": "stderr",
     "output_type": "stream",
     "text": [
      "2024-03-06 00:23:11,438 [INFO] Base - [id:1158555867] Fetched 20 reviews (35420 fetched in total)\n",
      "2024-03-06 00:23:16,647 [INFO] Base - [id:1158555867] Fetched 20 reviews (35440 fetched in total)\n",
      "2024-03-06 00:23:21,853 [INFO] Base - [id:1158555867] Fetched 20 reviews (35460 fetched in total)\n",
      "2024-03-06 00:23:27,049 [INFO] Base - [id:1158555867] Fetched 20 reviews (35480 fetched in total)\n",
      "2024-03-06 00:23:32,241 [INFO] Base - [id:1158555867] Fetched 20 reviews (35500 fetched in total)\n"
     ]
    },
    {
     "name": "stdout",
     "output_type": "stream",
     "text": [
      "Saved 35500 reviews to 1158555867_reviews_35500.csv\n"
     ]
    },
    {
     "name": "stderr",
     "output_type": "stream",
     "text": [
      "2024-03-06 00:23:37,702 [INFO] Base - [id:1158555867] Fetched 20 reviews (35520 fetched in total)\n",
      "2024-03-06 00:23:42,918 [INFO] Base - [id:1158555867] Fetched 20 reviews (35540 fetched in total)\n",
      "2024-03-06 00:23:48,114 [INFO] Base - [id:1158555867] Fetched 20 reviews (35560 fetched in total)\n",
      "2024-03-06 00:23:53,291 [INFO] Base - [id:1158555867] Fetched 20 reviews (35580 fetched in total)\n",
      "2024-03-06 00:23:58,485 [INFO] Base - [id:1158555867] Fetched 20 reviews (35600 fetched in total)\n"
     ]
    },
    {
     "name": "stdout",
     "output_type": "stream",
     "text": [
      "Saved 35600 reviews to 1158555867_reviews_35600.csv\n"
     ]
    },
    {
     "name": "stderr",
     "output_type": "stream",
     "text": [
      "2024-03-06 00:24:03,922 [INFO] Base - [id:1158555867] Fetched 20 reviews (35620 fetched in total)\n",
      "2024-03-06 00:24:09,107 [INFO] Base - [id:1158555867] Fetched 20 reviews (35640 fetched in total)\n",
      "2024-03-06 00:24:14,302 [INFO] Base - [id:1158555867] Fetched 20 reviews (35660 fetched in total)\n",
      "2024-03-06 00:24:19,490 [INFO] Base - [id:1158555867] Fetched 20 reviews (35680 fetched in total)\n",
      "2024-03-06 00:24:24,721 [INFO] Base - [id:1158555867] Fetched 20 reviews (35700 fetched in total)\n"
     ]
    },
    {
     "name": "stdout",
     "output_type": "stream",
     "text": [
      "Saved 35700 reviews to 1158555867_reviews_35700.csv\n"
     ]
    },
    {
     "name": "stderr",
     "output_type": "stream",
     "text": [
      "2024-03-06 00:24:30,125 [INFO] Base - [id:1158555867] Fetched 20 reviews (35720 fetched in total)\n",
      "2024-03-06 00:24:35,327 [INFO] Base - [id:1158555867] Fetched 20 reviews (35740 fetched in total)\n",
      "2024-03-06 00:24:40,515 [INFO] Base - [id:1158555867] Fetched 20 reviews (35760 fetched in total)\n",
      "2024-03-06 00:24:45,754 [INFO] Base - [id:1158555867] Fetched 20 reviews (35780 fetched in total)\n",
      "2024-03-06 00:24:50,996 [INFO] Base - [id:1158555867] Fetched 20 reviews (35800 fetched in total)\n"
     ]
    },
    {
     "name": "stdout",
     "output_type": "stream",
     "text": [
      "Saved 35800 reviews to 1158555867_reviews_35800.csv\n"
     ]
    },
    {
     "name": "stderr",
     "output_type": "stream",
     "text": [
      "2024-03-06 00:24:56,452 [INFO] Base - [id:1158555867] Fetched 20 reviews (35820 fetched in total)\n",
      "2024-03-06 00:25:01,703 [INFO] Base - [id:1158555867] Fetched 20 reviews (35840 fetched in total)\n",
      "2024-03-06 00:25:06,988 [INFO] Base - [id:1158555867] Fetched 20 reviews (35860 fetched in total)\n",
      "2024-03-06 00:25:12,258 [INFO] Base - [id:1158555867] Fetched 20 reviews (35880 fetched in total)\n",
      "2024-03-06 00:25:17,501 [INFO] Base - [id:1158555867] Fetched 20 reviews (35900 fetched in total)\n"
     ]
    },
    {
     "name": "stdout",
     "output_type": "stream",
     "text": [
      "Saved 35900 reviews to 1158555867_reviews_35900.csv\n"
     ]
    },
    {
     "name": "stderr",
     "output_type": "stream",
     "text": [
      "2024-03-06 00:25:22,962 [INFO] Base - [id:1158555867] Fetched 20 reviews (35920 fetched in total)\n",
      "2024-03-06 00:25:28,196 [INFO] Base - [id:1158555867] Fetched 20 reviews (35940 fetched in total)\n",
      "2024-03-06 00:25:33,489 [INFO] Base - [id:1158555867] Fetched 20 reviews (35960 fetched in total)\n",
      "2024-03-06 00:25:38,753 [INFO] Base - [id:1158555867] Fetched 20 reviews (35980 fetched in total)\n",
      "2024-03-06 00:25:44,016 [INFO] Base - [id:1158555867] Fetched 20 reviews (36000 fetched in total)\n"
     ]
    },
    {
     "name": "stdout",
     "output_type": "stream",
     "text": [
      "Saved 36000 reviews to 1158555867_reviews_36000.csv\n"
     ]
    },
    {
     "name": "stderr",
     "output_type": "stream",
     "text": [
      "2024-03-06 00:25:49,472 [INFO] Base - [id:1158555867] Fetched 20 reviews (36020 fetched in total)\n",
      "2024-03-06 00:25:54,716 [INFO] Base - [id:1158555867] Fetched 20 reviews (36040 fetched in total)\n",
      "2024-03-06 00:25:59,947 [INFO] Base - [id:1158555867] Fetched 20 reviews (36060 fetched in total)\n",
      "2024-03-06 00:26:05,190 [INFO] Base - [id:1158555867] Fetched 20 reviews (36080 fetched in total)\n",
      "2024-03-06 00:26:10,441 [INFO] Base - [id:1158555867] Fetched 20 reviews (36100 fetched in total)\n"
     ]
    },
    {
     "name": "stdout",
     "output_type": "stream",
     "text": [
      "Saved 36100 reviews to 1158555867_reviews_36100.csv\n"
     ]
    },
    {
     "name": "stderr",
     "output_type": "stream",
     "text": [
      "2024-03-06 00:26:15,907 [INFO] Base - [id:1158555867] Fetched 20 reviews (36120 fetched in total)\n",
      "2024-03-06 00:26:21,158 [INFO] Base - [id:1158555867] Fetched 20 reviews (36140 fetched in total)\n",
      "2024-03-06 00:26:26,388 [INFO] Base - [id:1158555867] Fetched 20 reviews (36160 fetched in total)\n",
      "2024-03-06 00:26:31,630 [INFO] Base - [id:1158555867] Fetched 20 reviews (36180 fetched in total)\n",
      "2024-03-06 00:26:36,872 [INFO] Base - [id:1158555867] Fetched 20 reviews (36200 fetched in total)\n"
     ]
    },
    {
     "name": "stdout",
     "output_type": "stream",
     "text": [
      "Saved 36200 reviews to 1158555867_reviews_36200.csv\n"
     ]
    },
    {
     "name": "stderr",
     "output_type": "stream",
     "text": [
      "2024-03-06 00:26:42,348 [INFO] Base - [id:1158555867] Fetched 20 reviews (36220 fetched in total)\n",
      "2024-03-06 00:26:47,618 [INFO] Base - [id:1158555867] Fetched 20 reviews (36240 fetched in total)\n",
      "2024-03-06 00:26:52,856 [INFO] Base - [id:1158555867] Fetched 20 reviews (36260 fetched in total)\n",
      "2024-03-06 00:26:58,129 [INFO] Base - [id:1158555867] Fetched 20 reviews (36280 fetched in total)\n",
      "2024-03-06 00:27:03,363 [INFO] Base - [id:1158555867] Fetched 20 reviews (36300 fetched in total)\n"
     ]
    },
    {
     "name": "stdout",
     "output_type": "stream",
     "text": [
      "Saved 36300 reviews to 1158555867_reviews_36300.csv\n"
     ]
    },
    {
     "name": "stderr",
     "output_type": "stream",
     "text": [
      "2024-03-06 00:27:08,818 [INFO] Base - [id:1158555867] Fetched 20 reviews (36320 fetched in total)\n",
      "2024-03-06 00:27:14,071 [INFO] Base - [id:1158555867] Fetched 20 reviews (36340 fetched in total)\n",
      "2024-03-06 00:27:19,306 [INFO] Base - [id:1158555867] Fetched 20 reviews (36360 fetched in total)\n",
      "2024-03-06 00:27:24,549 [INFO] Base - [id:1158555867] Fetched 20 reviews (36380 fetched in total)\n",
      "2024-03-06 00:27:29,793 [INFO] Base - [id:1158555867] Fetched 20 reviews (36400 fetched in total)\n"
     ]
    },
    {
     "name": "stdout",
     "output_type": "stream",
     "text": [
      "Saved 36400 reviews to 1158555867_reviews_36400.csv\n"
     ]
    },
    {
     "name": "stderr",
     "output_type": "stream",
     "text": [
      "2024-03-06 00:27:35,279 [INFO] Base - [id:1158555867] Fetched 20 reviews (36420 fetched in total)\n",
      "2024-03-06 00:27:40,478 [INFO] Base - [id:1158555867] Fetched 20 reviews (36440 fetched in total)\n",
      "2024-03-06 00:27:45,674 [INFO] Base - [id:1158555867] Fetched 20 reviews (36460 fetched in total)\n",
      "2024-03-06 00:27:50,911 [INFO] Base - [id:1158555867] Fetched 20 reviews (36480 fetched in total)\n",
      "2024-03-06 00:27:56,168 [INFO] Base - [id:1158555867] Fetched 20 reviews (36500 fetched in total)\n"
     ]
    },
    {
     "name": "stdout",
     "output_type": "stream",
     "text": [
      "Saved 36500 reviews to 1158555867_reviews_36500.csv\n"
     ]
    },
    {
     "name": "stderr",
     "output_type": "stream",
     "text": [
      "2024-03-06 00:28:01,591 [INFO] Base - [id:1158555867] Fetched 20 reviews (36520 fetched in total)\n",
      "2024-03-06 00:28:06,793 [INFO] Base - [id:1158555867] Fetched 20 reviews (36540 fetched in total)\n",
      "2024-03-06 00:28:11,992 [INFO] Base - [id:1158555867] Fetched 20 reviews (36560 fetched in total)\n",
      "2024-03-06 00:28:17,210 [INFO] Base - [id:1158555867] Fetched 20 reviews (36580 fetched in total)\n",
      "2024-03-06 00:28:22,424 [INFO] Base - [id:1158555867] Fetched 20 reviews (36600 fetched in total)\n"
     ]
    },
    {
     "name": "stdout",
     "output_type": "stream",
     "text": [
      "Saved 36600 reviews to 1158555867_reviews_36600.csv\n"
     ]
    },
    {
     "name": "stderr",
     "output_type": "stream",
     "text": [
      "2024-03-06 00:28:27,909 [INFO] Base - [id:1158555867] Fetched 20 reviews (36620 fetched in total)\n",
      "2024-03-06 00:28:33,183 [INFO] Base - [id:1158555867] Fetched 20 reviews (36640 fetched in total)\n",
      "2024-03-06 00:28:38,412 [INFO] Base - [id:1158555867] Fetched 20 reviews (36660 fetched in total)\n",
      "2024-03-06 00:28:43,644 [INFO] Base - [id:1158555867] Fetched 20 reviews (36680 fetched in total)\n",
      "2024-03-06 00:28:49,003 [INFO] Base - [id:1158555867] Fetched 20 reviews (36700 fetched in total)\n"
     ]
    },
    {
     "name": "stdout",
     "output_type": "stream",
     "text": [
      "Saved 36700 reviews to 1158555867_reviews_36700.csv\n"
     ]
    },
    {
     "name": "stderr",
     "output_type": "stream",
     "text": [
      "2024-03-06 00:28:54,463 [INFO] Base - [id:1158555867] Fetched 20 reviews (36720 fetched in total)\n",
      "2024-03-06 00:28:59,700 [INFO] Base - [id:1158555867] Fetched 20 reviews (36740 fetched in total)\n",
      "2024-03-06 00:29:04,938 [INFO] Base - [id:1158555867] Fetched 20 reviews (36760 fetched in total)\n",
      "2024-03-06 00:29:10,141 [INFO] Base - [id:1158555867] Fetched 20 reviews (36780 fetched in total)\n",
      "2024-03-06 00:29:15,352 [INFO] Base - [id:1158555867] Fetched 20 reviews (36800 fetched in total)\n"
     ]
    },
    {
     "name": "stdout",
     "output_type": "stream",
     "text": [
      "Saved 36800 reviews to 1158555867_reviews_36800.csv\n"
     ]
    },
    {
     "name": "stderr",
     "output_type": "stream",
     "text": [
      "2024-03-06 00:29:20,781 [INFO] Base - [id:1158555867] Fetched 20 reviews (36820 fetched in total)\n",
      "2024-03-06 00:29:26,030 [INFO] Base - [id:1158555867] Fetched 20 reviews (36840 fetched in total)\n",
      "2024-03-06 00:29:31,218 [INFO] Base - [id:1158555867] Fetched 20 reviews (36860 fetched in total)\n",
      "2024-03-06 00:29:36,414 [INFO] Base - [id:1158555867] Fetched 20 reviews (36880 fetched in total)\n",
      "2024-03-06 00:29:41,625 [INFO] Base - [id:1158555867] Fetched 20 reviews (36900 fetched in total)\n"
     ]
    },
    {
     "name": "stdout",
     "output_type": "stream",
     "text": [
      "Saved 36900 reviews to 1158555867_reviews_36900.csv\n"
     ]
    },
    {
     "name": "stderr",
     "output_type": "stream",
     "text": [
      "2024-03-06 00:29:47,041 [INFO] Base - [id:1158555867] Fetched 20 reviews (36920 fetched in total)\n",
      "2024-03-06 00:29:52,494 [INFO] Base - [id:1158555867] Fetched 20 reviews (36940 fetched in total)\n",
      "2024-03-06 00:29:57,721 [INFO] Base - [id:1158555867] Fetched 20 reviews (36960 fetched in total)\n",
      "2024-03-06 00:30:02,909 [INFO] Base - [id:1158555867] Fetched 20 reviews (36980 fetched in total)\n",
      "2024-03-06 00:30:08,141 [INFO] Base - [id:1158555867] Fetched 20 reviews (37000 fetched in total)\n"
     ]
    },
    {
     "name": "stdout",
     "output_type": "stream",
     "text": [
      "Saved 37000 reviews to 1158555867_reviews_37000.csv\n"
     ]
    },
    {
     "name": "stderr",
     "output_type": "stream",
     "text": [
      "2024-03-06 00:30:13,591 [INFO] Base - [id:1158555867] Fetched 20 reviews (37020 fetched in total)\n",
      "2024-03-06 00:30:18,790 [INFO] Base - [id:1158555867] Fetched 20 reviews (37040 fetched in total)\n",
      "2024-03-06 00:30:23,999 [INFO] Base - [id:1158555867] Fetched 20 reviews (37060 fetched in total)\n",
      "2024-03-06 00:30:29,218 [INFO] Base - [id:1158555867] Fetched 20 reviews (37080 fetched in total)\n",
      "2024-03-06 00:30:34,457 [INFO] Base - [id:1158555867] Fetched 20 reviews (37100 fetched in total)\n"
     ]
    },
    {
     "name": "stdout",
     "output_type": "stream",
     "text": [
      "Saved 37100 reviews to 1158555867_reviews_37100.csv\n"
     ]
    },
    {
     "name": "stderr",
     "output_type": "stream",
     "text": [
      "2024-03-06 00:30:39,902 [INFO] Base - [id:1158555867] Fetched 20 reviews (37120 fetched in total)\n",
      "2024-03-06 00:30:45,119 [INFO] Base - [id:1158555867] Fetched 20 reviews (37140 fetched in total)\n",
      "2024-03-06 00:30:50,328 [INFO] Base - [id:1158555867] Fetched 20 reviews (37160 fetched in total)\n",
      "2024-03-06 00:30:55,530 [INFO] Base - [id:1158555867] Fetched 20 reviews (37180 fetched in total)\n",
      "2024-03-06 00:31:00,758 [INFO] Base - [id:1158555867] Fetched 20 reviews (37200 fetched in total)\n"
     ]
    },
    {
     "name": "stdout",
     "output_type": "stream",
     "text": [
      "Saved 37200 reviews to 1158555867_reviews_37200.csv\n"
     ]
    },
    {
     "name": "stderr",
     "output_type": "stream",
     "text": [
      "2024-03-06 00:31:06,180 [INFO] Base - [id:1158555867] Fetched 20 reviews (37220 fetched in total)\n",
      "2024-03-06 00:31:11,387 [INFO] Base - [id:1158555867] Fetched 20 reviews (37240 fetched in total)\n",
      "2024-03-06 00:31:16,582 [INFO] Base - [id:1158555867] Fetched 20 reviews (37260 fetched in total)\n",
      "2024-03-06 00:31:21,788 [INFO] Base - [id:1158555867] Fetched 20 reviews (37280 fetched in total)\n",
      "2024-03-06 00:31:27,013 [INFO] Base - [id:1158555867] Fetched 20 reviews (37300 fetched in total)\n"
     ]
    },
    {
     "name": "stdout",
     "output_type": "stream",
     "text": [
      "Saved 37300 reviews to 1158555867_reviews_37300.csv\n"
     ]
    },
    {
     "name": "stderr",
     "output_type": "stream",
     "text": [
      "2024-03-06 00:31:32,458 [INFO] Base - [id:1158555867] Fetched 20 reviews (37320 fetched in total)\n",
      "2024-03-06 00:31:37,687 [INFO] Base - [id:1158555867] Fetched 20 reviews (37340 fetched in total)\n",
      "2024-03-06 00:31:42,892 [INFO] Base - [id:1158555867] Fetched 20 reviews (37360 fetched in total)\n",
      "2024-03-06 00:31:48,129 [INFO] Base - [id:1158555867] Fetched 20 reviews (37380 fetched in total)\n",
      "2024-03-06 00:31:53,364 [INFO] Base - [id:1158555867] Fetched 20 reviews (37400 fetched in total)\n"
     ]
    },
    {
     "name": "stdout",
     "output_type": "stream",
     "text": [
      "Saved 37400 reviews to 1158555867_reviews_37400.csv\n"
     ]
    },
    {
     "name": "stderr",
     "output_type": "stream",
     "text": [
      "2024-03-06 00:31:58,795 [INFO] Base - [id:1158555867] Fetched 20 reviews (37420 fetched in total)\n",
      "2024-03-06 00:32:04,009 [INFO] Base - [id:1158555867] Fetched 20 reviews (37440 fetched in total)\n",
      "2024-03-06 00:32:09,204 [INFO] Base - [id:1158555867] Fetched 20 reviews (37460 fetched in total)\n",
      "2024-03-06 00:32:14,420 [INFO] Base - [id:1158555867] Fetched 20 reviews (37480 fetched in total)\n",
      "2024-03-06 00:32:19,647 [INFO] Base - [id:1158555867] Fetched 20 reviews (37500 fetched in total)\n"
     ]
    },
    {
     "name": "stdout",
     "output_type": "stream",
     "text": [
      "Saved 37500 reviews to 1158555867_reviews_37500.csv\n"
     ]
    },
    {
     "name": "stderr",
     "output_type": "stream",
     "text": [
      "2024-03-06 00:32:25,065 [INFO] Base - [id:1158555867] Fetched 20 reviews (37520 fetched in total)\n",
      "2024-03-06 00:32:30,288 [INFO] Base - [id:1158555867] Fetched 20 reviews (37540 fetched in total)\n",
      "2024-03-06 00:32:35,491 [INFO] Base - [id:1158555867] Fetched 20 reviews (37560 fetched in total)\n",
      "2024-03-06 00:32:40,712 [INFO] Base - [id:1158555867] Fetched 20 reviews (37580 fetched in total)\n",
      "2024-03-06 00:32:45,934 [INFO] Base - [id:1158555867] Fetched 20 reviews (37600 fetched in total)\n"
     ]
    },
    {
     "name": "stdout",
     "output_type": "stream",
     "text": [
      "Saved 37600 reviews to 1158555867_reviews_37600.csv\n"
     ]
    },
    {
     "name": "stderr",
     "output_type": "stream",
     "text": [
      "2024-03-06 00:32:51,388 [INFO] Base - [id:1158555867] Fetched 20 reviews (37620 fetched in total)\n",
      "2024-03-06 00:32:56,586 [INFO] Base - [id:1158555867] Fetched 20 reviews (37640 fetched in total)\n",
      "2024-03-06 00:33:02,182 [INFO] Base - [id:1158555867] Fetched 12 reviews (37652 fetched in total)\n",
      "2024-03-06 00:33:07,311 [INFO] Base - [id:1158555867] Fetched 12 reviews (37664 fetched in total)\n",
      "2024-03-06 00:33:12,426 [INFO] Base - [id:1158555867] Fetched 12 reviews (37676 fetched in total)\n"
     ]
    },
    {
     "name": "stdout",
     "output_type": "stream",
     "text": [
      "Saved 37700 reviews to 1158555867_reviews_37700.csv\n"
     ]
    },
    {
     "name": "stderr",
     "output_type": "stream",
     "text": [
      "2024-03-06 00:33:17,772 [INFO] Base - [id:1158555867] Fetched 12 reviews (37688 fetched in total)\n",
      "2024-03-06 00:33:22,902 [INFO] Base - [id:1158555867] Fetched 12 reviews (37700 fetched in total)\n",
      "2024-03-06 00:33:28,131 [INFO] Base - [id:1158555867] Fetched 12 reviews (37712 fetched in total)\n",
      "2024-03-06 00:33:33,247 [INFO] Base - [id:1158555867] Fetched 12 reviews (37724 fetched in total)\n",
      "2024-03-06 00:33:38,398 [INFO] Base - [id:1158555867] Fetched 12 reviews (37736 fetched in total)\n"
     ]
    },
    {
     "name": "stdout",
     "output_type": "stream",
     "text": [
      "Saved 37800 reviews to 1158555867_reviews_37800.csv\n"
     ]
    },
    {
     "name": "stderr",
     "output_type": "stream",
     "text": [
      "2024-03-06 00:33:43,730 [INFO] Base - [id:1158555867] Fetched 12 reviews (37748 fetched in total)\n",
      "2024-03-06 00:33:48,830 [INFO] Base - [id:1158555867] Fetched 12 reviews (37760 fetched in total)\n",
      "2024-03-06 00:33:53,983 [INFO] Base - [id:1158555867] Fetched 12 reviews (37772 fetched in total)\n",
      "2024-03-06 00:33:59,102 [INFO] Base - [id:1158555867] Fetched 12 reviews (37784 fetched in total)\n",
      "2024-03-06 00:34:04,257 [INFO] Base - [id:1158555867] Fetched 12 reviews (37796 fetched in total)\n"
     ]
    },
    {
     "name": "stdout",
     "output_type": "stream",
     "text": [
      "Saved 37900 reviews to 1158555867_reviews_37900.csv\n"
     ]
    },
    {
     "name": "stderr",
     "output_type": "stream",
     "text": [
      "2024-03-06 00:34:09,633 [INFO] Base - [id:1158555867] Fetched 12 reviews (37808 fetched in total)\n",
      "2024-03-06 00:34:14,747 [INFO] Base - [id:1158555867] Fetched 12 reviews (37820 fetched in total)\n",
      "2024-03-06 00:34:19,848 [INFO] Base - [id:1158555867] Fetched 12 reviews (37832 fetched in total)\n",
      "2024-03-06 00:34:24,993 [INFO] Base - [id:1158555867] Fetched 12 reviews (37844 fetched in total)\n",
      "2024-03-06 00:34:30,106 [INFO] Base - [id:1158555867] Fetched 12 reviews (37856 fetched in total)\n"
     ]
    },
    {
     "name": "stdout",
     "output_type": "stream",
     "text": [
      "Saved 38000 reviews to 1158555867_reviews_38000.csv\n"
     ]
    },
    {
     "name": "stderr",
     "output_type": "stream",
     "text": [
      "2024-03-06 00:34:35,545 [INFO] Base - [id:1158555867] Fetched 12 reviews (37868 fetched in total)\n",
      "2024-03-06 00:34:40,680 [INFO] Base - [id:1158555867] Fetched 12 reviews (37880 fetched in total)\n",
      "2024-03-06 00:34:45,790 [INFO] Base - [id:1158555867] Fetched 12 reviews (37892 fetched in total)\n",
      "2024-03-06 00:34:50,927 [INFO] Base - [id:1158555867] Fetched 12 reviews (37904 fetched in total)\n",
      "2024-03-06 00:34:56,176 [INFO] Base - [id:1158555867] Fetched 12 reviews (37916 fetched in total)\n"
     ]
    },
    {
     "name": "stdout",
     "output_type": "stream",
     "text": [
      "Saved 38100 reviews to 1158555867_reviews_38100.csv\n"
     ]
    },
    {
     "name": "stderr",
     "output_type": "stream",
     "text": [
      "2024-03-06 00:35:01,519 [INFO] Base - [id:1158555867] Fetched 12 reviews (37928 fetched in total)\n",
      "2024-03-06 00:35:06,654 [INFO] Base - [id:1158555867] Fetched 12 reviews (37940 fetched in total)\n",
      "2024-03-06 00:35:11,754 [INFO] Base - [id:1158555867] Fetched 12 reviews (37952 fetched in total)\n",
      "2024-03-06 00:35:16,879 [INFO] Base - [id:1158555867] Fetched 12 reviews (37964 fetched in total)\n",
      "2024-03-06 00:35:21,981 [INFO] Base - [id:1158555867] Fetched 12 reviews (37976 fetched in total)\n"
     ]
    },
    {
     "name": "stdout",
     "output_type": "stream",
     "text": [
      "Saved 38200 reviews to 1158555867_reviews_38200.csv\n"
     ]
    },
    {
     "name": "stderr",
     "output_type": "stream",
     "text": [
      "2024-03-06 00:35:27,303 [INFO] Base - [id:1158555867] Fetched 12 reviews (37988 fetched in total)\n",
      "2024-03-06 00:35:32,428 [INFO] Base - [id:1158555867] Fetched 12 reviews (38000 fetched in total)\n",
      "2024-03-06 00:35:37,555 [INFO] Base - [id:1158555867] Fetched 12 reviews (38012 fetched in total)\n",
      "2024-03-06 00:35:42,677 [INFO] Base - [id:1158555867] Fetched 12 reviews (38024 fetched in total)\n",
      "2024-03-06 00:35:47,815 [INFO] Base - [id:1158555867] Fetched 12 reviews (38036 fetched in total)\n"
     ]
    },
    {
     "name": "stdout",
     "output_type": "stream",
     "text": [
      "Saved 38300 reviews to 1158555867_reviews_38300.csv\n"
     ]
    },
    {
     "name": "stderr",
     "output_type": "stream",
     "text": [
      "2024-03-06 00:35:53,162 [INFO] Base - [id:1158555867] Fetched 12 reviews (38048 fetched in total)\n",
      "2024-03-06 00:35:58,285 [INFO] Base - [id:1158555867] Fetched 12 reviews (38060 fetched in total)\n",
      "2024-03-06 00:36:03,394 [INFO] Base - [id:1158555867] Fetched 12 reviews (38072 fetched in total)\n",
      "2024-03-06 00:36:08,519 [INFO] Base - [id:1158555867] Fetched 12 reviews (38084 fetched in total)\n",
      "2024-03-06 00:36:13,678 [INFO] Base - [id:1158555867] Fetched 12 reviews (38096 fetched in total)\n"
     ]
    },
    {
     "name": "stdout",
     "output_type": "stream",
     "text": [
      "Saved 38400 reviews to 1158555867_reviews_38400.csv\n"
     ]
    },
    {
     "name": "stderr",
     "output_type": "stream",
     "text": [
      "2024-03-06 00:36:19,035 [INFO] Base - [id:1158555867] Fetched 12 reviews (38108 fetched in total)\n",
      "2024-03-06 00:36:24,134 [INFO] Base - [id:1158555867] Fetched 12 reviews (38120 fetched in total)\n",
      "2024-03-06 00:36:29,241 [INFO] Base - [id:1158555867] Fetched 12 reviews (38132 fetched in total)\n",
      "2024-03-06 00:36:34,484 [INFO] Base - [id:1158555867] Fetched 12 reviews (38144 fetched in total)\n",
      "2024-03-06 00:36:39,577 [INFO] Base - [id:1158555867] Fetched 12 reviews (38156 fetched in total)\n"
     ]
    },
    {
     "name": "stdout",
     "output_type": "stream",
     "text": [
      "Saved 38500 reviews to 1158555867_reviews_38500.csv\n"
     ]
    },
    {
     "name": "stderr",
     "output_type": "stream",
     "text": [
      "2024-03-06 00:36:44,915 [INFO] Base - [id:1158555867] Fetched 12 reviews (38168 fetched in total)\n",
      "2024-03-06 00:36:50,048 [INFO] Base - [id:1158555867] Fetched 12 reviews (38180 fetched in total)\n",
      "2024-03-06 00:36:55,157 [INFO] Base - [id:1158555867] Fetched 12 reviews (38192 fetched in total)\n",
      "2024-03-06 00:37:00,268 [INFO] Base - [id:1158555867] Fetched 12 reviews (38204 fetched in total)\n",
      "2024-03-06 00:37:05,384 [INFO] Base - [id:1158555867] Fetched 12 reviews (38216 fetched in total)\n"
     ]
    },
    {
     "name": "stdout",
     "output_type": "stream",
     "text": [
      "Saved 38600 reviews to 1158555867_reviews_38600.csv\n"
     ]
    },
    {
     "name": "stderr",
     "output_type": "stream",
     "text": [
      "2024-03-06 00:37:10,796 [INFO] Base - [id:1158555867] Fetched 12 reviews (38228 fetched in total)\n",
      "2024-03-06 00:37:15,903 [INFO] Base - [id:1158555867] Fetched 12 reviews (38240 fetched in total)\n",
      "2024-03-06 00:37:21,007 [INFO] Base - [id:1158555867] Fetched 12 reviews (38252 fetched in total)\n",
      "2024-03-06 00:37:26,127 [INFO] Base - [id:1158555867] Fetched 12 reviews (38264 fetched in total)\n",
      "2024-03-06 00:37:31,252 [INFO] Base - [id:1158555867] Fetched 12 reviews (38276 fetched in total)\n"
     ]
    },
    {
     "name": "stdout",
     "output_type": "stream",
     "text": [
      "Saved 38700 reviews to 1158555867_reviews_38700.csv\n"
     ]
    },
    {
     "name": "stderr",
     "output_type": "stream",
     "text": [
      "2024-03-06 00:37:36,589 [INFO] Base - [id:1158555867] Fetched 12 reviews (38288 fetched in total)\n",
      "2024-03-06 00:37:41,702 [INFO] Base - [id:1158555867] Fetched 12 reviews (38300 fetched in total)\n",
      "2024-03-06 00:37:46,792 [INFO] Base - [id:1158555867] Fetched 12 reviews (38312 fetched in total)\n",
      "2024-03-06 00:37:51,895 [INFO] Base - [id:1158555867] Fetched 12 reviews (38324 fetched in total)\n",
      "2024-03-06 00:37:56,993 [INFO] Base - [id:1158555867] Fetched 12 reviews (38336 fetched in total)\n"
     ]
    },
    {
     "name": "stdout",
     "output_type": "stream",
     "text": [
      "Saved 38800 reviews to 1158555867_reviews_38800.csv\n"
     ]
    },
    {
     "name": "stderr",
     "output_type": "stream",
     "text": [
      "2024-03-06 00:38:02,341 [INFO] Base - [id:1158555867] Fetched 12 reviews (38348 fetched in total)\n",
      "2024-03-06 00:38:07,439 [INFO] Base - [id:1158555867] Fetched 12 reviews (38360 fetched in total)\n",
      "2024-03-06 00:38:12,549 [INFO] Base - [id:1158555867] Fetched 12 reviews (38372 fetched in total)\n",
      "2024-03-06 00:38:17,693 [INFO] Base - [id:1158555867] Fetched 12 reviews (38384 fetched in total)\n",
      "2024-03-06 00:38:22,825 [INFO] Base - [id:1158555867] Fetched 12 reviews (38396 fetched in total)\n"
     ]
    },
    {
     "name": "stdout",
     "output_type": "stream",
     "text": [
      "Saved 38900 reviews to 1158555867_reviews_38900.csv\n"
     ]
    },
    {
     "name": "stderr",
     "output_type": "stream",
     "text": [
      "2024-03-06 00:38:28,178 [INFO] Base - [id:1158555867] Fetched 12 reviews (38408 fetched in total)\n",
      "2024-03-06 00:38:33,326 [INFO] Base - [id:1158555867] Fetched 12 reviews (38420 fetched in total)\n",
      "2024-03-06 00:38:38,444 [INFO] Base - [id:1158555867] Fetched 12 reviews (38432 fetched in total)\n",
      "2024-03-06 00:38:43,576 [INFO] Base - [id:1158555867] Fetched 12 reviews (38444 fetched in total)\n",
      "2024-03-06 00:38:48,683 [INFO] Base - [id:1158555867] Fetched 12 reviews (38456 fetched in total)\n"
     ]
    },
    {
     "name": "stdout",
     "output_type": "stream",
     "text": [
      "Saved 39000 reviews to 1158555867_reviews_39000.csv\n"
     ]
    },
    {
     "name": "stderr",
     "output_type": "stream",
     "text": [
      "2024-03-06 00:38:54,032 [INFO] Base - [id:1158555867] Fetched 12 reviews (38468 fetched in total)\n",
      "2024-03-06 00:38:59,148 [INFO] Base - [id:1158555867] Fetched 12 reviews (38480 fetched in total)\n",
      "2024-03-06 00:39:04,272 [INFO] Base - [id:1158555867] Fetched 12 reviews (38492 fetched in total)\n",
      "2024-03-06 00:39:09,392 [INFO] Base - [id:1158555867] Fetched 12 reviews (38504 fetched in total)\n",
      "2024-03-06 00:39:14,507 [INFO] Base - [id:1158555867] Fetched 12 reviews (38516 fetched in total)\n"
     ]
    },
    {
     "name": "stdout",
     "output_type": "stream",
     "text": [
      "Saved 39100 reviews to 1158555867_reviews_39100.csv\n"
     ]
    },
    {
     "name": "stderr",
     "output_type": "stream",
     "text": [
      "2024-03-06 00:39:19,868 [INFO] Base - [id:1158555867] Fetched 12 reviews (38528 fetched in total)\n",
      "2024-03-06 00:39:25,010 [INFO] Base - [id:1158555867] Fetched 12 reviews (38540 fetched in total)\n",
      "2024-03-06 00:39:30,144 [INFO] Base - [id:1158555867] Fetched 12 reviews (38552 fetched in total)\n",
      "2024-03-06 00:39:35,264 [INFO] Base - [id:1158555867] Fetched 12 reviews (38564 fetched in total)\n",
      "2024-03-06 00:39:40,395 [INFO] Base - [id:1158555867] Fetched 12 reviews (38576 fetched in total)\n"
     ]
    },
    {
     "name": "stdout",
     "output_type": "stream",
     "text": [
      "Saved 39200 reviews to 1158555867_reviews_39200.csv\n"
     ]
    },
    {
     "name": "stderr",
     "output_type": "stream",
     "text": [
      "2024-03-06 00:39:45,749 [INFO] Base - [id:1158555867] Fetched 12 reviews (38588 fetched in total)\n",
      "2024-03-06 00:39:50,874 [INFO] Base - [id:1158555867] Fetched 12 reviews (38600 fetched in total)\n",
      "2024-03-06 00:39:56,013 [INFO] Base - [id:1158555867] Fetched 12 reviews (38612 fetched in total)\n",
      "2024-03-06 00:40:01,203 [INFO] Base - [id:1158555867] Fetched 12 reviews (38624 fetched in total)\n",
      "2024-03-06 00:40:06,309 [INFO] Base - [id:1158555867] Fetched 12 reviews (38636 fetched in total)\n"
     ]
    },
    {
     "name": "stdout",
     "output_type": "stream",
     "text": [
      "Saved 39300 reviews to 1158555867_reviews_39300.csv\n"
     ]
    },
    {
     "name": "stderr",
     "output_type": "stream",
     "text": [
      "2024-03-06 00:40:11,681 [INFO] Base - [id:1158555867] Fetched 12 reviews (38648 fetched in total)\n",
      "2024-03-06 00:40:16,825 [INFO] Base - [id:1158555867] Fetched 12 reviews (38660 fetched in total)\n",
      "2024-03-06 00:40:21,933 [INFO] Base - [id:1158555867] Fetched 12 reviews (38672 fetched in total)\n",
      "2024-03-06 00:40:27,050 [INFO] Base - [id:1158555867] Fetched 12 reviews (38684 fetched in total)\n",
      "2024-03-06 00:40:32,154 [INFO] Base - [id:1158555867] Fetched 12 reviews (38696 fetched in total)\n"
     ]
    },
    {
     "name": "stdout",
     "output_type": "stream",
     "text": [
      "Saved 39400 reviews to 1158555867_reviews_39400.csv\n"
     ]
    },
    {
     "name": "stderr",
     "output_type": "stream",
     "text": [
      "2024-03-06 00:40:37,556 [INFO] Base - [id:1158555867] Fetched 12 reviews (38708 fetched in total)\n",
      "2024-03-06 00:40:42,673 [INFO] Base - [id:1158555867] Fetched 12 reviews (38720 fetched in total)\n",
      "2024-03-06 00:40:47,810 [INFO] Base - [id:1158555867] Fetched 12 reviews (38732 fetched in total)\n",
      "2024-03-06 00:40:52,958 [INFO] Base - [id:1158555867] Fetched 12 reviews (38744 fetched in total)\n",
      "2024-03-06 00:40:58,063 [INFO] Base - [id:1158555867] Fetched 12 reviews (38756 fetched in total)\n"
     ]
    },
    {
     "name": "stdout",
     "output_type": "stream",
     "text": [
      "Saved 39500 reviews to 1158555867_reviews_39500.csv\n"
     ]
    },
    {
     "name": "stderr",
     "output_type": "stream",
     "text": [
      "2024-03-06 00:41:03,428 [INFO] Base - [id:1158555867] Fetched 12 reviews (38768 fetched in total)\n",
      "2024-03-06 00:41:08,552 [INFO] Base - [id:1158555867] Fetched 12 reviews (38780 fetched in total)\n",
      "2024-03-06 00:41:13,689 [INFO] Base - [id:1158555867] Fetched 12 reviews (38792 fetched in total)\n",
      "2024-03-06 00:41:18,848 [INFO] Base - [id:1158555867] Fetched 12 reviews (38804 fetched in total)\n",
      "2024-03-06 00:41:23,975 [INFO] Base - [id:1158555867] Fetched 12 reviews (38816 fetched in total)\n"
     ]
    },
    {
     "name": "stdout",
     "output_type": "stream",
     "text": [
      "Saved 39600 reviews to 1158555867_reviews_39600.csv\n"
     ]
    },
    {
     "name": "stderr",
     "output_type": "stream",
     "text": [
      "2024-03-06 00:41:29,336 [INFO] Base - [id:1158555867] Fetched 12 reviews (38828 fetched in total)\n",
      "2024-03-06 00:41:34,444 [INFO] Base - [id:1158555867] Fetched 12 reviews (38840 fetched in total)\n",
      "2024-03-06 00:41:39,550 [INFO] Base - [id:1158555867] Fetched 12 reviews (38852 fetched in total)\n",
      "2024-03-06 00:41:44,658 [INFO] Base - [id:1158555867] Fetched 12 reviews (38864 fetched in total)\n",
      "2024-03-06 00:41:49,824 [INFO] Base - [id:1158555867] Fetched 12 reviews (38876 fetched in total)\n"
     ]
    },
    {
     "name": "stdout",
     "output_type": "stream",
     "text": [
      "Saved 39700 reviews to 1158555867_reviews_39700.csv\n"
     ]
    },
    {
     "name": "stderr",
     "output_type": "stream",
     "text": [
      "2024-03-06 00:41:55,289 [INFO] Base - [id:1158555867] Fetched 12 reviews (38888 fetched in total)\n",
      "2024-03-06 00:42:00,415 [INFO] Base - [id:1158555867] Fetched 12 reviews (38900 fetched in total)\n",
      "2024-03-06 00:42:05,552 [INFO] Base - [id:1158555867] Fetched 12 reviews (38912 fetched in total)\n",
      "2024-03-06 00:42:10,653 [INFO] Base - [id:1158555867] Fetched 12 reviews (38924 fetched in total)\n",
      "2024-03-06 00:42:15,758 [INFO] Base - [id:1158555867] Fetched 12 reviews (38936 fetched in total)\n"
     ]
    },
    {
     "name": "stdout",
     "output_type": "stream",
     "text": [
      "Saved 39800 reviews to 1158555867_reviews_39800.csv\n"
     ]
    },
    {
     "name": "stderr",
     "output_type": "stream",
     "text": [
      "2024-03-06 00:42:21,137 [INFO] Base - [id:1158555867] Fetched 12 reviews (38948 fetched in total)\n",
      "2024-03-06 00:42:26,270 [INFO] Base - [id:1158555867] Fetched 12 reviews (38960 fetched in total)\n",
      "2024-03-06 00:42:31,406 [INFO] Base - [id:1158555867] Fetched 12 reviews (38972 fetched in total)\n",
      "2024-03-06 00:42:36,513 [INFO] Base - [id:1158555867] Fetched 12 reviews (38984 fetched in total)\n",
      "2024-03-06 00:42:41,649 [INFO] Base - [id:1158555867] Fetched 12 reviews (38996 fetched in total)\n"
     ]
    },
    {
     "name": "stdout",
     "output_type": "stream",
     "text": [
      "Saved 39900 reviews to 1158555867_reviews_39900.csv\n"
     ]
    },
    {
     "name": "stderr",
     "output_type": "stream",
     "text": [
      "2024-03-06 00:42:47,006 [INFO] Base - [id:1158555867] Fetched 12 reviews (39008 fetched in total)\n",
      "2024-03-06 00:42:52,114 [INFO] Base - [id:1158555867] Fetched 12 reviews (39020 fetched in total)\n",
      "2024-03-06 00:42:57,227 [INFO] Base - [id:1158555867] Fetched 12 reviews (39032 fetched in total)\n",
      "2024-03-06 00:43:02,329 [INFO] Base - [id:1158555867] Fetched 12 reviews (39044 fetched in total)\n",
      "2024-03-06 00:43:07,464 [INFO] Base - [id:1158555867] Fetched 12 reviews (39056 fetched in total)\n"
     ]
    },
    {
     "name": "stdout",
     "output_type": "stream",
     "text": [
      "Saved 40000 reviews to 1158555867_reviews_40000.csv\n"
     ]
    },
    {
     "name": "stderr",
     "output_type": "stream",
     "text": [
      "2024-03-06 00:43:12,805 [INFO] Base - [id:1158555867] Fetched 12 reviews (39068 fetched in total)\n",
      "2024-03-06 00:43:17,909 [INFO] Base - [id:1158555867] Fetched 12 reviews (39080 fetched in total)\n",
      "2024-03-06 00:43:23,118 [INFO] Base - [id:1158555867] Fetched 12 reviews (39092 fetched in total)\n",
      "2024-03-06 00:43:28,232 [INFO] Base - [id:1158555867] Fetched 12 reviews (39104 fetched in total)\n",
      "2024-03-06 00:43:33,346 [INFO] Base - [id:1158555867] Fetched 12 reviews (39116 fetched in total)\n"
     ]
    },
    {
     "name": "stdout",
     "output_type": "stream",
     "text": [
      "Saved 40100 reviews to 1158555867_reviews_40100.csv\n"
     ]
    },
    {
     "name": "stderr",
     "output_type": "stream",
     "text": [
      "2024-03-06 00:43:38,723 [INFO] Base - [id:1158555867] Fetched 12 reviews (39128 fetched in total)\n",
      "2024-03-06 00:43:43,836 [INFO] Base - [id:1158555867] Fetched 12 reviews (39140 fetched in total)\n",
      "2024-03-06 00:43:48,955 [INFO] Base - [id:1158555867] Fetched 12 reviews (39152 fetched in total)\n",
      "2024-03-06 00:43:54,068 [INFO] Base - [id:1158555867] Fetched 12 reviews (39164 fetched in total)\n",
      "2024-03-06 00:43:59,183 [INFO] Base - [id:1158555867] Fetched 12 reviews (39176 fetched in total)\n"
     ]
    },
    {
     "name": "stdout",
     "output_type": "stream",
     "text": [
      "Saved 40200 reviews to 1158555867_reviews_40200.csv\n"
     ]
    },
    {
     "name": "stderr",
     "output_type": "stream",
     "text": [
      "2024-03-06 00:44:04,548 [INFO] Base - [id:1158555867] Fetched 12 reviews (39188 fetched in total)\n",
      "2024-03-06 00:44:09,669 [INFO] Base - [id:1158555867] Fetched 12 reviews (39200 fetched in total)\n",
      "2024-03-06 00:44:14,783 [INFO] Base - [id:1158555867] Fetched 12 reviews (39212 fetched in total)\n",
      "2024-03-06 00:44:19,921 [INFO] Base - [id:1158555867] Fetched 12 reviews (39224 fetched in total)\n",
      "2024-03-06 00:44:25,037 [INFO] Base - [id:1158555867] Fetched 12 reviews (39236 fetched in total)\n"
     ]
    },
    {
     "name": "stdout",
     "output_type": "stream",
     "text": [
      "Saved 40300 reviews to 1158555867_reviews_40300.csv\n"
     ]
    },
    {
     "name": "stderr",
     "output_type": "stream",
     "text": [
      "2024-03-06 00:44:30,404 [INFO] Base - [id:1158555867] Fetched 12 reviews (39248 fetched in total)\n",
      "2024-03-06 00:44:35,524 [INFO] Base - [id:1158555867] Fetched 12 reviews (39260 fetched in total)\n",
      "2024-03-06 00:44:40,634 [INFO] Base - [id:1158555867] Fetched 12 reviews (39272 fetched in total)\n",
      "2024-03-06 00:44:45,751 [INFO] Base - [id:1158555867] Fetched 12 reviews (39284 fetched in total)\n",
      "2024-03-06 00:44:50,865 [INFO] Base - [id:1158555867] Fetched 12 reviews (39296 fetched in total)\n"
     ]
    },
    {
     "name": "stdout",
     "output_type": "stream",
     "text": [
      "Saved 40400 reviews to 1158555867_reviews_40400.csv\n"
     ]
    },
    {
     "name": "stderr",
     "output_type": "stream",
     "text": [
      "2024-03-06 00:44:56,232 [INFO] Base - [id:1158555867] Fetched 12 reviews (39308 fetched in total)\n",
      "2024-03-06 00:45:01,350 [INFO] Base - [id:1158555867] Fetched 12 reviews (39320 fetched in total)\n",
      "2024-03-06 00:45:06,464 [INFO] Base - [id:1158555867] Fetched 12 reviews (39332 fetched in total)\n",
      "2024-03-06 00:45:11,608 [INFO] Base - [id:1158555867] Fetched 12 reviews (39344 fetched in total)\n",
      "2024-03-06 00:45:16,735 [INFO] Base - [id:1158555867] Fetched 12 reviews (39356 fetched in total)\n"
     ]
    },
    {
     "name": "stdout",
     "output_type": "stream",
     "text": [
      "Saved 40500 reviews to 1158555867_reviews_40500.csv\n"
     ]
    },
    {
     "name": "stderr",
     "output_type": "stream",
     "text": [
      "2024-03-06 00:45:22,079 [INFO] Base - [id:1158555867] Fetched 12 reviews (39368 fetched in total)\n",
      "2024-03-06 00:45:27,215 [INFO] Base - [id:1158555867] Fetched 12 reviews (39380 fetched in total)\n",
      "2024-03-06 00:45:32,326 [INFO] Base - [id:1158555867] Fetched 12 reviews (39392 fetched in total)\n",
      "2024-03-06 00:45:37,463 [INFO] Base - [id:1158555867] Fetched 12 reviews (39404 fetched in total)\n",
      "2024-03-06 00:45:42,589 [INFO] Base - [id:1158555867] Fetched 12 reviews (39416 fetched in total)\n"
     ]
    },
    {
     "name": "stdout",
     "output_type": "stream",
     "text": [
      "Saved 40600 reviews to 1158555867_reviews_40600.csv\n"
     ]
    },
    {
     "name": "stderr",
     "output_type": "stream",
     "text": [
      "2024-03-06 00:45:47,939 [INFO] Base - [id:1158555867] Fetched 12 reviews (39428 fetched in total)\n",
      "2024-03-06 00:45:53,041 [INFO] Base - [id:1158555867] Fetched 12 reviews (39440 fetched in total)\n",
      "2024-03-06 00:45:58,140 [INFO] Base - [id:1158555867] Fetched 12 reviews (39452 fetched in total)\n",
      "2024-03-06 00:46:03,252 [INFO] Base - [id:1158555867] Fetched 12 reviews (39464 fetched in total)\n",
      "2024-03-06 00:46:08,352 [INFO] Base - [id:1158555867] Fetched 12 reviews (39476 fetched in total)\n"
     ]
    },
    {
     "name": "stdout",
     "output_type": "stream",
     "text": [
      "Saved 40700 reviews to 1158555867_reviews_40700.csv\n"
     ]
    },
    {
     "name": "stderr",
     "output_type": "stream",
     "text": [
      "2024-03-06 00:46:13,809 [INFO] Base - [id:1158555867] Fetched 12 reviews (39488 fetched in total)\n",
      "2024-03-06 00:46:18,929 [INFO] Base - [id:1158555867] Fetched 12 reviews (39500 fetched in total)\n",
      "2024-03-06 00:46:24,024 [INFO] Base - [id:1158555867] Fetched 12 reviews (39512 fetched in total)\n",
      "2024-03-06 00:46:29,149 [INFO] Base - [id:1158555867] Fetched 12 reviews (39524 fetched in total)\n",
      "2024-03-06 00:46:34,283 [INFO] Base - [id:1158555867] Fetched 12 reviews (39536 fetched in total)\n"
     ]
    },
    {
     "name": "stdout",
     "output_type": "stream",
     "text": [
      "Saved 40800 reviews to 1158555867_reviews_40800.csv\n"
     ]
    },
    {
     "name": "stderr",
     "output_type": "stream",
     "text": [
      "2024-03-06 00:46:39,657 [INFO] Base - [id:1158555867] Fetched 12 reviews (39548 fetched in total)\n",
      "2024-03-06 00:46:44,765 [INFO] Base - [id:1158555867] Fetched 12 reviews (39560 fetched in total)\n",
      "2024-03-06 00:46:49,903 [INFO] Base - [id:1158555867] Fetched 12 reviews (39572 fetched in total)\n",
      "2024-03-06 00:46:55,010 [INFO] Base - [id:1158555867] Fetched 12 reviews (39584 fetched in total)\n",
      "2024-03-06 00:47:00,128 [INFO] Base - [id:1158555867] Fetched 12 reviews (39596 fetched in total)\n"
     ]
    },
    {
     "name": "stdout",
     "output_type": "stream",
     "text": [
      "Saved 40900 reviews to 1158555867_reviews_40900.csv\n"
     ]
    },
    {
     "name": "stderr",
     "output_type": "stream",
     "text": [
      "2024-03-06 00:47:05,492 [INFO] Base - [id:1158555867] Fetched 12 reviews (39608 fetched in total)\n",
      "2024-03-06 00:47:10,648 [INFO] Base - [id:1158555867] Fetched 12 reviews (39620 fetched in total)\n",
      "2024-03-06 00:47:15,760 [INFO] Base - [id:1158555867] Fetched 12 reviews (39632 fetched in total)\n",
      "2024-03-06 00:47:20,883 [INFO] Base - [id:1158555867] Fetched 12 reviews (39644 fetched in total)\n",
      "2024-03-06 00:47:26,010 [INFO] Base - [id:1158555867] Fetched 12 reviews (39656 fetched in total)\n"
     ]
    },
    {
     "name": "stdout",
     "output_type": "stream",
     "text": [
      "Saved 41000 reviews to 1158555867_reviews_41000.csv\n"
     ]
    },
    {
     "name": "stderr",
     "output_type": "stream",
     "text": [
      "2024-03-06 00:47:31,429 [INFO] Base - [id:1158555867] Fetched 12 reviews (39668 fetched in total)\n",
      "2024-03-06 00:47:36,555 [INFO] Base - [id:1158555867] Fetched 12 reviews (39680 fetched in total)\n",
      "2024-03-06 00:47:41,687 [INFO] Base - [id:1158555867] Fetched 12 reviews (39692 fetched in total)\n",
      "2024-03-06 00:47:46,793 [INFO] Base - [id:1158555867] Fetched 12 reviews (39704 fetched in total)\n",
      "2024-03-06 00:47:51,890 [INFO] Base - [id:1158555867] Fetched 12 reviews (39716 fetched in total)\n"
     ]
    },
    {
     "name": "stdout",
     "output_type": "stream",
     "text": [
      "Saved 41100 reviews to 1158555867_reviews_41100.csv\n"
     ]
    },
    {
     "name": "stderr",
     "output_type": "stream",
     "text": [
      "2024-03-06 00:47:57,266 [INFO] Base - [id:1158555867] Fetched 12 reviews (39728 fetched in total)\n",
      "2024-03-06 00:48:02,393 [INFO] Base - [id:1158555867] Fetched 12 reviews (39740 fetched in total)\n",
      "2024-03-06 00:48:07,512 [INFO] Base - [id:1158555867] Fetched 12 reviews (39752 fetched in total)\n",
      "2024-03-06 00:48:12,656 [INFO] Base - [id:1158555867] Fetched 12 reviews (39764 fetched in total)\n",
      "2024-03-06 00:48:17,777 [INFO] Base - [id:1158555867] Fetched 12 reviews (39776 fetched in total)\n"
     ]
    },
    {
     "name": "stdout",
     "output_type": "stream",
     "text": [
      "Saved 41200 reviews to 1158555867_reviews_41200.csv\n"
     ]
    },
    {
     "name": "stderr",
     "output_type": "stream",
     "text": [
      "2024-03-06 00:48:23,142 [INFO] Base - [id:1158555867] Fetched 12 reviews (39788 fetched in total)\n",
      "2024-03-06 00:48:28,274 [INFO] Base - [id:1158555867] Fetched 12 reviews (39800 fetched in total)\n",
      "2024-03-06 00:48:33,392 [INFO] Base - [id:1158555867] Fetched 12 reviews (39812 fetched in total)\n",
      "2024-03-06 00:48:38,515 [INFO] Base - [id:1158555867] Fetched 12 reviews (39824 fetched in total)\n",
      "2024-03-06 00:48:43,629 [INFO] Base - [id:1158555867] Fetched 12 reviews (39836 fetched in total)\n"
     ]
    },
    {
     "name": "stdout",
     "output_type": "stream",
     "text": [
      "Saved 41300 reviews to 1158555867_reviews_41300.csv\n"
     ]
    },
    {
     "name": "stderr",
     "output_type": "stream",
     "text": [
      "2024-03-06 00:48:48,977 [INFO] Base - [id:1158555867] Fetched 12 reviews (39848 fetched in total)\n",
      "2024-03-06 00:48:54,121 [INFO] Base - [id:1158555867] Fetched 12 reviews (39860 fetched in total)\n",
      "2024-03-06 00:48:59,238 [INFO] Base - [id:1158555867] Fetched 12 reviews (39872 fetched in total)\n",
      "2024-03-06 00:49:04,402 [INFO] Base - [id:1158555867] Fetched 12 reviews (39884 fetched in total)\n",
      "2024-03-06 00:49:09,549 [INFO] Base - [id:1158555867] Fetched 12 reviews (39896 fetched in total)\n"
     ]
    },
    {
     "name": "stdout",
     "output_type": "stream",
     "text": [
      "Saved 41400 reviews to 1158555867_reviews_41400.csv\n"
     ]
    },
    {
     "name": "stderr",
     "output_type": "stream",
     "text": [
      "2024-03-06 00:49:14,922 [INFO] Base - [id:1158555867] Fetched 12 reviews (39908 fetched in total)\n",
      "2024-03-06 00:49:20,050 [INFO] Base - [id:1158555867] Fetched 12 reviews (39920 fetched in total)\n",
      "2024-03-06 00:49:25,150 [INFO] Base - [id:1158555867] Fetched 12 reviews (39932 fetched in total)\n",
      "2024-03-06 00:49:30,254 [INFO] Base - [id:1158555867] Fetched 12 reviews (39944 fetched in total)\n",
      "2024-03-06 00:49:35,376 [INFO] Base - [id:1158555867] Fetched 12 reviews (39956 fetched in total)\n"
     ]
    },
    {
     "name": "stdout",
     "output_type": "stream",
     "text": [
      "Saved 41500 reviews to 1158555867_reviews_41500.csv\n"
     ]
    },
    {
     "name": "stderr",
     "output_type": "stream",
     "text": [
      "2024-03-06 00:49:40,733 [INFO] Base - [id:1158555867] Fetched 12 reviews (39968 fetched in total)\n",
      "2024-03-06 00:49:45,869 [INFO] Base - [id:1158555867] Fetched 12 reviews (39980 fetched in total)\n",
      "2024-03-06 00:49:50,978 [INFO] Base - [id:1158555867] Fetched 12 reviews (39992 fetched in total)\n",
      "2024-03-06 00:49:56,128 [INFO] Base - [id:1158555867] Fetched 12 reviews (40004 fetched in total)\n",
      "2024-03-06 00:50:01,261 [INFO] Base - [id:1158555867] Fetched 12 reviews (40016 fetched in total)\n"
     ]
    },
    {
     "name": "stdout",
     "output_type": "stream",
     "text": [
      "Saved 41600 reviews to 1158555867_reviews_41600.csv\n"
     ]
    },
    {
     "name": "stderr",
     "output_type": "stream",
     "text": [
      "2024-03-06 00:50:06,639 [INFO] Base - [id:1158555867] Fetched 12 reviews (40028 fetched in total)\n",
      "2024-03-06 00:50:11,756 [INFO] Base - [id:1158555867] Fetched 12 reviews (40040 fetched in total)\n",
      "2024-03-06 00:50:16,863 [INFO] Base - [id:1158555867] Fetched 12 reviews (40052 fetched in total)\n",
      "2024-03-06 00:50:21,978 [INFO] Base - [id:1158555867] Fetched 12 reviews (40064 fetched in total)\n",
      "2024-03-06 00:50:27,101 [INFO] Base - [id:1158555867] Fetched 12 reviews (40076 fetched in total)\n"
     ]
    },
    {
     "name": "stdout",
     "output_type": "stream",
     "text": [
      "Saved 41700 reviews to 1158555867_reviews_41700.csv\n"
     ]
    },
    {
     "name": "stderr",
     "output_type": "stream",
     "text": [
      "2024-03-06 00:50:32,445 [INFO] Base - [id:1158555867] Fetched 12 reviews (40088 fetched in total)\n",
      "2024-03-06 00:50:37,546 [INFO] Base - [id:1158555867] Fetched 12 reviews (40100 fetched in total)\n",
      "2024-03-06 00:50:42,685 [INFO] Base - [id:1158555867] Fetched 12 reviews (40112 fetched in total)\n",
      "2024-03-06 00:50:47,804 [INFO] Base - [id:1158555867] Fetched 12 reviews (40124 fetched in total)\n",
      "2024-03-06 00:50:52,909 [INFO] Base - [id:1158555867] Fetched 12 reviews (40136 fetched in total)\n"
     ]
    },
    {
     "name": "stdout",
     "output_type": "stream",
     "text": [
      "Saved 41800 reviews to 1158555867_reviews_41800.csv\n"
     ]
    },
    {
     "name": "stderr",
     "output_type": "stream",
     "text": [
      "2024-03-06 00:50:58,280 [INFO] Base - [id:1158555867] Fetched 12 reviews (40148 fetched in total)\n",
      "2024-03-06 00:51:03,390 [INFO] Base - [id:1158555867] Fetched 12 reviews (40160 fetched in total)\n",
      "2024-03-06 00:51:08,521 [INFO] Base - [id:1158555867] Fetched 12 reviews (40172 fetched in total)\n",
      "2024-03-06 00:51:13,641 [INFO] Base - [id:1158555867] Fetched 12 reviews (40184 fetched in total)\n",
      "2024-03-06 00:51:18,791 [INFO] Base - [id:1158555867] Fetched 12 reviews (40196 fetched in total)\n"
     ]
    },
    {
     "name": "stdout",
     "output_type": "stream",
     "text": [
      "Saved 41900 reviews to 1158555867_reviews_41900.csv\n"
     ]
    },
    {
     "name": "stderr",
     "output_type": "stream",
     "text": [
      "2024-03-06 00:51:24,172 [INFO] Base - [id:1158555867] Fetched 12 reviews (40208 fetched in total)\n",
      "2024-03-06 00:51:29,279 [INFO] Base - [id:1158555867] Fetched 12 reviews (40220 fetched in total)\n",
      "2024-03-06 00:51:34,448 [INFO] Base - [id:1158555867] Fetched 12 reviews (40232 fetched in total)\n",
      "2024-03-06 00:51:39,550 [INFO] Base - [id:1158555867] Fetched 12 reviews (40244 fetched in total)\n",
      "2024-03-06 00:51:44,659 [INFO] Base - [id:1158555867] Fetched 12 reviews (40256 fetched in total)\n"
     ]
    },
    {
     "name": "stdout",
     "output_type": "stream",
     "text": [
      "Saved 42000 reviews to 1158555867_reviews_42000.csv\n"
     ]
    },
    {
     "name": "stderr",
     "output_type": "stream",
     "text": [
      "2024-03-06 00:51:50,040 [INFO] Base - [id:1158555867] Fetched 12 reviews (40268 fetched in total)\n",
      "2024-03-06 00:51:55,159 [INFO] Base - [id:1158555867] Fetched 12 reviews (40280 fetched in total)\n",
      "2024-03-06 00:52:00,281 [INFO] Base - [id:1158555867] Fetched 12 reviews (40292 fetched in total)\n",
      "2024-03-06 00:52:05,401 [INFO] Base - [id:1158555867] Fetched 12 reviews (40304 fetched in total)\n",
      "2024-03-06 00:52:10,509 [INFO] Base - [id:1158555867] Fetched 12 reviews (40316 fetched in total)\n"
     ]
    },
    {
     "name": "stdout",
     "output_type": "stream",
     "text": [
      "Saved 42100 reviews to 1158555867_reviews_42100.csv\n"
     ]
    },
    {
     "name": "stderr",
     "output_type": "stream",
     "text": [
      "2024-03-06 00:52:15,898 [INFO] Base - [id:1158555867] Fetched 12 reviews (40328 fetched in total)\n",
      "2024-03-06 00:52:21,013 [INFO] Base - [id:1158555867] Fetched 12 reviews (40340 fetched in total)\n",
      "2024-03-06 00:52:26,123 [INFO] Base - [id:1158555867] Fetched 12 reviews (40352 fetched in total)\n",
      "2024-03-06 00:52:31,263 [INFO] Base - [id:1158555867] Fetched 12 reviews (40364 fetched in total)\n",
      "2024-03-06 00:52:36,375 [INFO] Base - [id:1158555867] Fetched 12 reviews (40376 fetched in total)\n"
     ]
    },
    {
     "name": "stdout",
     "output_type": "stream",
     "text": [
      "Saved 42200 reviews to 1158555867_reviews_42200.csv\n"
     ]
    },
    {
     "name": "stderr",
     "output_type": "stream",
     "text": [
      "2024-03-06 00:52:41,726 [INFO] Base - [id:1158555867] Fetched 12 reviews (40388 fetched in total)\n",
      "2024-03-06 00:52:46,836 [INFO] Base - [id:1158555867] Fetched 12 reviews (40400 fetched in total)\n",
      "2024-03-06 00:52:51,949 [INFO] Base - [id:1158555867] Fetched 12 reviews (40412 fetched in total)\n",
      "2024-03-06 00:52:57,034 [INFO] Base - [id:1158555867] Fetched 12 reviews (40424 fetched in total)\n",
      "2024-03-06 00:53:02,159 [INFO] Base - [id:1158555867] Fetched 12 reviews (40436 fetched in total)\n"
     ]
    },
    {
     "name": "stdout",
     "output_type": "stream",
     "text": [
      "Saved 42300 reviews to 1158555867_reviews_42300.csv\n"
     ]
    },
    {
     "name": "stderr",
     "output_type": "stream",
     "text": [
      "2024-03-06 00:53:07,544 [INFO] Base - [id:1158555867] Fetched 12 reviews (40448 fetched in total)\n",
      "2024-03-06 00:53:12,669 [INFO] Base - [id:1158555867] Fetched 12 reviews (40460 fetched in total)\n",
      "2024-03-06 00:53:17,805 [INFO] Base - [id:1158555867] Fetched 12 reviews (40472 fetched in total)\n",
      "2024-03-06 00:53:22,929 [INFO] Base - [id:1158555867] Fetched 12 reviews (40484 fetched in total)\n",
      "2024-03-06 00:53:28,033 [INFO] Base - [id:1158555867] Fetched 12 reviews (40496 fetched in total)\n"
     ]
    },
    {
     "name": "stdout",
     "output_type": "stream",
     "text": [
      "Saved 42400 reviews to 1158555867_reviews_42400.csv\n"
     ]
    },
    {
     "name": "stderr",
     "output_type": "stream",
     "text": [
      "2024-03-06 00:53:33,537 [INFO] Base - [id:1158555867] Fetched 12 reviews (40508 fetched in total)\n",
      "2024-03-06 00:53:38,665 [INFO] Base - [id:1158555867] Fetched 12 reviews (40520 fetched in total)\n",
      "2024-03-06 00:53:43,768 [INFO] Base - [id:1158555867] Fetched 12 reviews (40532 fetched in total)\n",
      "2024-03-06 00:53:48,904 [INFO] Base - [id:1158555867] Fetched 12 reviews (40544 fetched in total)\n",
      "2024-03-06 00:53:54,041 [INFO] Base - [id:1158555867] Fetched 12 reviews (40556 fetched in total)\n"
     ]
    },
    {
     "name": "stdout",
     "output_type": "stream",
     "text": [
      "Saved 42500 reviews to 1158555867_reviews_42500.csv\n"
     ]
    },
    {
     "name": "stderr",
     "output_type": "stream",
     "text": [
      "2024-03-06 00:53:59,415 [INFO] Base - [id:1158555867] Fetched 12 reviews (40568 fetched in total)\n",
      "2024-03-06 00:54:04,530 [INFO] Base - [id:1158555867] Fetched 12 reviews (40580 fetched in total)\n",
      "2024-03-06 00:54:09,686 [INFO] Base - [id:1158555867] Fetched 12 reviews (40592 fetched in total)\n",
      "2024-03-06 00:54:14,803 [INFO] Base - [id:1158555867] Fetched 12 reviews (40604 fetched in total)\n",
      "2024-03-06 00:54:19,902 [INFO] Base - [id:1158555867] Fetched 12 reviews (40616 fetched in total)\n"
     ]
    },
    {
     "name": "stdout",
     "output_type": "stream",
     "text": [
      "Saved 42600 reviews to 1158555867_reviews_42600.csv\n"
     ]
    },
    {
     "name": "stderr",
     "output_type": "stream",
     "text": [
      "2024-03-06 00:54:25,308 [INFO] Base - [id:1158555867] Fetched 12 reviews (40628 fetched in total)\n",
      "2024-03-06 00:54:30,415 [INFO] Base - [id:1158555867] Fetched 12 reviews (40640 fetched in total)\n",
      "2024-03-06 00:54:35,541 [INFO] Base - [id:1158555867] Fetched 12 reviews (40652 fetched in total)\n",
      "2024-03-06 00:54:40,658 [INFO] Base - [id:1158555867] Fetched 12 reviews (40664 fetched in total)\n",
      "2024-03-06 00:54:45,780 [INFO] Base - [id:1158555867] Fetched 12 reviews (40676 fetched in total)\n"
     ]
    },
    {
     "name": "stdout",
     "output_type": "stream",
     "text": [
      "Saved 42700 reviews to 1158555867_reviews_42700.csv\n"
     ]
    },
    {
     "name": "stderr",
     "output_type": "stream",
     "text": [
      "2024-03-06 00:54:51,160 [INFO] Base - [id:1158555867] Fetched 12 reviews (40688 fetched in total)\n",
      "2024-03-06 00:54:56,280 [INFO] Base - [id:1158555867] Fetched 12 reviews (40700 fetched in total)\n",
      "2024-03-06 00:55:01,422 [INFO] Base - [id:1158555867] Fetched 12 reviews (40712 fetched in total)\n",
      "2024-03-06 00:55:06,567 [INFO] Base - [id:1158555867] Fetched 12 reviews (40724 fetched in total)\n",
      "2024-03-06 00:55:11,669 [INFO] Base - [id:1158555867] Fetched 12 reviews (40736 fetched in total)\n"
     ]
    },
    {
     "name": "stdout",
     "output_type": "stream",
     "text": [
      "Saved 42800 reviews to 1158555867_reviews_42800.csv\n"
     ]
    },
    {
     "name": "stderr",
     "output_type": "stream",
     "text": [
      "2024-03-06 00:55:17,020 [INFO] Base - [id:1158555867] Fetched 12 reviews (40748 fetched in total)\n",
      "2024-03-06 00:55:22,129 [INFO] Base - [id:1158555867] Fetched 12 reviews (40760 fetched in total)\n",
      "2024-03-06 00:55:27,273 [INFO] Base - [id:1158555867] Fetched 12 reviews (40772 fetched in total)\n",
      "2024-03-06 00:55:32,378 [INFO] Base - [id:1158555867] Fetched 12 reviews (40784 fetched in total)\n",
      "2024-03-06 00:55:37,509 [INFO] Base - [id:1158555867] Fetched 12 reviews (40796 fetched in total)\n"
     ]
    },
    {
     "name": "stdout",
     "output_type": "stream",
     "text": [
      "Saved 42900 reviews to 1158555867_reviews_42900.csv\n"
     ]
    },
    {
     "name": "stderr",
     "output_type": "stream",
     "text": [
      "2024-03-06 00:55:42,899 [INFO] Base - [id:1158555867] Fetched 12 reviews (40808 fetched in total)\n",
      "2024-03-06 00:55:47,996 [INFO] Base - [id:1158555867] Fetched 12 reviews (40820 fetched in total)\n",
      "2024-03-06 00:55:53,107 [INFO] Base - [id:1158555867] Fetched 12 reviews (40832 fetched in total)\n",
      "2024-03-06 00:55:58,245 [INFO] Base - [id:1158555867] Fetched 12 reviews (40844 fetched in total)\n",
      "2024-03-06 00:56:03,356 [INFO] Base - [id:1158555867] Fetched 12 reviews (40856 fetched in total)\n"
     ]
    },
    {
     "name": "stdout",
     "output_type": "stream",
     "text": [
      "Saved 43000 reviews to 1158555867_reviews_43000.csv\n"
     ]
    },
    {
     "name": "stderr",
     "output_type": "stream",
     "text": [
      "2024-03-06 00:56:08,745 [INFO] Base - [id:1158555867] Fetched 12 reviews (40868 fetched in total)\n",
      "2024-03-06 00:56:13,871 [INFO] Base - [id:1158555867] Fetched 12 reviews (40880 fetched in total)\n",
      "2024-03-06 00:56:18,997 [INFO] Base - [id:1158555867] Fetched 12 reviews (40892 fetched in total)\n",
      "2024-03-06 00:56:24,110 [INFO] Base - [id:1158555867] Fetched 12 reviews (40904 fetched in total)\n",
      "2024-03-06 00:56:29,258 [INFO] Base - [id:1158555867] Fetched 12 reviews (40916 fetched in total)\n"
     ]
    },
    {
     "name": "stdout",
     "output_type": "stream",
     "text": [
      "Saved 43100 reviews to 1158555867_reviews_43100.csv\n"
     ]
    },
    {
     "name": "stderr",
     "output_type": "stream",
     "text": [
      "2024-03-06 00:56:34,612 [INFO] Base - [id:1158555867] Fetched 12 reviews (40928 fetched in total)\n",
      "2024-03-06 00:56:39,723 [INFO] Base - [id:1158555867] Fetched 12 reviews (40940 fetched in total)\n",
      "2024-03-06 00:56:44,863 [INFO] Base - [id:1158555867] Fetched 12 reviews (40952 fetched in total)\n",
      "2024-03-06 00:56:49,981 [INFO] Base - [id:1158555867] Fetched 12 reviews (40964 fetched in total)\n",
      "2024-03-06 00:56:55,099 [INFO] Base - [id:1158555867] Fetched 12 reviews (40976 fetched in total)\n"
     ]
    },
    {
     "name": "stdout",
     "output_type": "stream",
     "text": [
      "Saved 43200 reviews to 1158555867_reviews_43200.csv\n"
     ]
    },
    {
     "name": "stderr",
     "output_type": "stream",
     "text": [
      "2024-03-06 00:57:00,484 [INFO] Base - [id:1158555867] Fetched 12 reviews (40988 fetched in total)\n",
      "2024-03-06 00:57:05,613 [INFO] Base - [id:1158555867] Fetched 12 reviews (41000 fetched in total)\n",
      "2024-03-06 00:57:10,732 [INFO] Base - [id:1158555867] Fetched 12 reviews (41012 fetched in total)\n",
      "2024-03-06 00:57:15,871 [INFO] Base - [id:1158555867] Fetched 12 reviews (41024 fetched in total)\n",
      "2024-03-06 00:57:21,003 [INFO] Base - [id:1158555867] Fetched 12 reviews (41036 fetched in total)\n"
     ]
    },
    {
     "name": "stdout",
     "output_type": "stream",
     "text": [
      "Saved 43300 reviews to 1158555867_reviews_43300.csv\n"
     ]
    },
    {
     "name": "stderr",
     "output_type": "stream",
     "text": [
      "2024-03-06 00:57:26,378 [INFO] Base - [id:1158555867] Fetched 12 reviews (41048 fetched in total)\n",
      "2024-03-06 00:57:31,549 [INFO] Base - [id:1158555867] Fetched 12 reviews (41060 fetched in total)\n",
      "2024-03-06 00:57:36,661 [INFO] Base - [id:1158555867] Fetched 12 reviews (41072 fetched in total)\n",
      "2024-03-06 00:57:41,817 [INFO] Base - [id:1158555867] Fetched 12 reviews (41084 fetched in total)\n",
      "2024-03-06 00:57:46,935 [INFO] Base - [id:1158555867] Fetched 12 reviews (41096 fetched in total)\n"
     ]
    },
    {
     "name": "stdout",
     "output_type": "stream",
     "text": [
      "Saved 43400 reviews to 1158555867_reviews_43400.csv\n"
     ]
    },
    {
     "name": "stderr",
     "output_type": "stream",
     "text": [
      "2024-03-06 00:57:52,324 [INFO] Base - [id:1158555867] Fetched 12 reviews (41108 fetched in total)\n",
      "2024-03-06 00:57:57,454 [INFO] Base - [id:1158555867] Fetched 12 reviews (41120 fetched in total)\n",
      "2024-03-06 00:58:02,554 [INFO] Base - [id:1158555867] Fetched 12 reviews (41132 fetched in total)\n",
      "2024-03-06 00:58:07,674 [INFO] Base - [id:1158555867] Fetched 12 reviews (41144 fetched in total)\n",
      "2024-03-06 00:58:12,770 [INFO] Base - [id:1158555867] Fetched 12 reviews (41156 fetched in total)\n"
     ]
    },
    {
     "name": "stdout",
     "output_type": "stream",
     "text": [
      "Saved 43500 reviews to 1158555867_reviews_43500.csv\n"
     ]
    },
    {
     "name": "stderr",
     "output_type": "stream",
     "text": [
      "2024-03-06 00:58:18,146 [INFO] Base - [id:1158555867] Fetched 12 reviews (41168 fetched in total)\n",
      "2024-03-06 00:58:23,351 [INFO] Base - [id:1158555867] Fetched 12 reviews (41180 fetched in total)\n",
      "2024-03-06 00:58:28,464 [INFO] Base - [id:1158555867] Fetched 12 reviews (41192 fetched in total)\n",
      "2024-03-06 00:58:33,588 [INFO] Base - [id:1158555867] Fetched 12 reviews (41204 fetched in total)\n",
      "2024-03-06 00:58:38,722 [INFO] Base - [id:1158555867] Fetched 12 reviews (41216 fetched in total)\n"
     ]
    },
    {
     "name": "stdout",
     "output_type": "stream",
     "text": [
      "Saved 43600 reviews to 1158555867_reviews_43600.csv\n"
     ]
    },
    {
     "name": "stderr",
     "output_type": "stream",
     "text": [
      "2024-03-06 00:58:44,085 [INFO] Base - [id:1158555867] Fetched 12 reviews (41228 fetched in total)\n",
      "2024-03-06 00:58:49,212 [INFO] Base - [id:1158555867] Fetched 12 reviews (41240 fetched in total)\n",
      "2024-03-06 00:58:54,334 [INFO] Base - [id:1158555867] Fetched 12 reviews (41252 fetched in total)\n",
      "2024-03-06 00:58:59,462 [INFO] Base - [id:1158555867] Fetched 12 reviews (41264 fetched in total)\n",
      "2024-03-06 00:59:04,573 [INFO] Base - [id:1158555867] Fetched 12 reviews (41276 fetched in total)\n"
     ]
    },
    {
     "name": "stdout",
     "output_type": "stream",
     "text": [
      "Saved 43700 reviews to 1158555867_reviews_43700.csv\n"
     ]
    },
    {
     "name": "stderr",
     "output_type": "stream",
     "text": [
      "2024-03-06 00:59:09,950 [INFO] Base - [id:1158555867] Fetched 12 reviews (41288 fetched in total)\n",
      "2024-03-06 00:59:15,075 [INFO] Base - [id:1158555867] Fetched 12 reviews (41300 fetched in total)\n",
      "2024-03-06 00:59:20,194 [INFO] Base - [id:1158555867] Fetched 12 reviews (41312 fetched in total)\n",
      "2024-03-06 00:59:25,317 [INFO] Base - [id:1158555867] Fetched 12 reviews (41324 fetched in total)\n",
      "2024-03-06 00:59:30,413 [INFO] Base - [id:1158555867] Fetched 12 reviews (41336 fetched in total)\n"
     ]
    },
    {
     "name": "stdout",
     "output_type": "stream",
     "text": [
      "Saved 43800 reviews to 1158555867_reviews_43800.csv\n"
     ]
    },
    {
     "name": "stderr",
     "output_type": "stream",
     "text": [
      "2024-03-06 00:59:35,775 [INFO] Base - [id:1158555867] Fetched 12 reviews (41348 fetched in total)\n",
      "2024-03-06 00:59:40,900 [INFO] Base - [id:1158555867] Fetched 12 reviews (41360 fetched in total)\n",
      "2024-03-06 00:59:46,011 [INFO] Base - [id:1158555867] Fetched 12 reviews (41372 fetched in total)\n",
      "2024-03-06 00:59:51,131 [INFO] Base - [id:1158555867] Fetched 12 reviews (41384 fetched in total)\n",
      "2024-03-06 00:59:56,270 [INFO] Base - [id:1158555867] Fetched 12 reviews (41396 fetched in total)\n"
     ]
    },
    {
     "name": "stdout",
     "output_type": "stream",
     "text": [
      "Saved 43900 reviews to 1158555867_reviews_43900.csv\n"
     ]
    },
    {
     "name": "stderr",
     "output_type": "stream",
     "text": [
      "2024-03-06 01:00:01,644 [INFO] Base - [id:1158555867] Fetched 12 reviews (41408 fetched in total)\n",
      "2024-03-06 01:00:06,756 [INFO] Base - [id:1158555867] Fetched 12 reviews (41420 fetched in total)\n",
      "2024-03-06 01:00:11,882 [INFO] Base - [id:1158555867] Fetched 12 reviews (41432 fetched in total)\n",
      "2024-03-06 01:00:17,026 [INFO] Base - [id:1158555867] Fetched 12 reviews (41444 fetched in total)\n",
      "2024-03-06 01:00:22,163 [INFO] Base - [id:1158555867] Fetched 12 reviews (41456 fetched in total)\n"
     ]
    },
    {
     "name": "stdout",
     "output_type": "stream",
     "text": [
      "Saved 44000 reviews to 1158555867_reviews_44000.csv\n"
     ]
    },
    {
     "name": "stderr",
     "output_type": "stream",
     "text": [
      "2024-03-06 01:00:27,519 [INFO] Base - [id:1158555867] Fetched 12 reviews (41468 fetched in total)\n",
      "2024-03-06 01:00:32,646 [INFO] Base - [id:1158555867] Fetched 12 reviews (41480 fetched in total)\n",
      "2024-03-06 01:00:37,796 [INFO] Base - [id:1158555867] Fetched 12 reviews (41492 fetched in total)\n",
      "2024-03-06 01:00:42,923 [INFO] Base - [id:1158555867] Fetched 12 reviews (41504 fetched in total)\n",
      "2024-03-06 01:00:48,028 [INFO] Base - [id:1158555867] Fetched 12 reviews (41516 fetched in total)\n"
     ]
    },
    {
     "name": "stdout",
     "output_type": "stream",
     "text": [
      "Saved 44100 reviews to 1158555867_reviews_44100.csv\n"
     ]
    },
    {
     "name": "stderr",
     "output_type": "stream",
     "text": [
      "2024-03-06 01:00:53,495 [INFO] Base - [id:1158555867] Fetched 12 reviews (41528 fetched in total)\n",
      "2024-03-06 01:00:58,629 [INFO] Base - [id:1158555867] Fetched 12 reviews (41540 fetched in total)\n",
      "2024-03-06 01:01:03,745 [INFO] Base - [id:1158555867] Fetched 12 reviews (41552 fetched in total)\n",
      "2024-03-06 01:01:08,848 [INFO] Base - [id:1158555867] Fetched 12 reviews (41564 fetched in total)\n",
      "2024-03-06 01:01:13,984 [INFO] Base - [id:1158555867] Fetched 12 reviews (41576 fetched in total)\n"
     ]
    },
    {
     "name": "stdout",
     "output_type": "stream",
     "text": [
      "Saved 44200 reviews to 1158555867_reviews_44200.csv\n"
     ]
    },
    {
     "name": "stderr",
     "output_type": "stream",
     "text": [
      "2024-03-06 01:01:19,367 [INFO] Base - [id:1158555867] Fetched 12 reviews (41588 fetched in total)\n",
      "2024-03-06 01:01:24,488 [INFO] Base - [id:1158555867] Fetched 12 reviews (41600 fetched in total)\n",
      "2024-03-06 01:01:29,616 [INFO] Base - [id:1158555867] Fetched 12 reviews (41612 fetched in total)\n",
      "2024-03-06 01:01:34,738 [INFO] Base - [id:1158555867] Fetched 12 reviews (41624 fetched in total)\n",
      "2024-03-06 01:01:39,853 [INFO] Base - [id:1158555867] Fetched 12 reviews (41636 fetched in total)\n"
     ]
    },
    {
     "name": "stdout",
     "output_type": "stream",
     "text": [
      "Saved 44300 reviews to 1158555867_reviews_44300.csv\n"
     ]
    },
    {
     "name": "stderr",
     "output_type": "stream",
     "text": [
      "2024-03-06 01:01:45,235 [INFO] Base - [id:1158555867] Fetched 12 reviews (41648 fetched in total)\n",
      "2024-03-06 01:01:50,344 [INFO] Base - [id:1158555867] Fetched 12 reviews (41660 fetched in total)\n",
      "2024-03-06 01:01:55,443 [INFO] Base - [id:1158555867] Fetched 12 reviews (41672 fetched in total)\n",
      "2024-03-06 01:02:00,578 [INFO] Base - [id:1158555867] Fetched 12 reviews (41684 fetched in total)\n",
      "2024-03-06 01:02:05,685 [INFO] Base - [id:1158555867] Fetched 12 reviews (41696 fetched in total)\n"
     ]
    },
    {
     "name": "stdout",
     "output_type": "stream",
     "text": [
      "Saved 44400 reviews to 1158555867_reviews_44400.csv\n"
     ]
    },
    {
     "name": "stderr",
     "output_type": "stream",
     "text": [
      "2024-03-06 01:02:11,051 [INFO] Base - [id:1158555867] Fetched 12 reviews (41708 fetched in total)\n",
      "2024-03-06 01:02:16,205 [INFO] Base - [id:1158555867] Fetched 12 reviews (41720 fetched in total)\n",
      "2024-03-06 01:02:21,314 [INFO] Base - [id:1158555867] Fetched 12 reviews (41732 fetched in total)\n",
      "2024-03-06 01:02:26,433 [INFO] Base - [id:1158555867] Fetched 12 reviews (41744 fetched in total)\n",
      "2024-03-06 01:02:31,567 [INFO] Base - [id:1158555867] Fetched 12 reviews (41756 fetched in total)\n"
     ]
    },
    {
     "name": "stdout",
     "output_type": "stream",
     "text": [
      "Saved 44500 reviews to 1158555867_reviews_44500.csv\n"
     ]
    },
    {
     "name": "stderr",
     "output_type": "stream",
     "text": [
      "2024-03-06 01:02:36,939 [INFO] Base - [id:1158555867] Fetched 12 reviews (41768 fetched in total)\n",
      "2024-03-06 01:02:42,056 [INFO] Base - [id:1158555867] Fetched 12 reviews (41780 fetched in total)\n",
      "2024-03-06 01:02:47,176 [INFO] Base - [id:1158555867] Fetched 12 reviews (41792 fetched in total)\n",
      "2024-03-06 01:02:52,280 [INFO] Base - [id:1158555867] Fetched 12 reviews (41804 fetched in total)\n",
      "2024-03-06 01:02:57,418 [INFO] Base - [id:1158555867] Fetched 12 reviews (41816 fetched in total)\n"
     ]
    },
    {
     "name": "stdout",
     "output_type": "stream",
     "text": [
      "Saved 44600 reviews to 1158555867_reviews_44600.csv\n"
     ]
    },
    {
     "name": "stderr",
     "output_type": "stream",
     "text": [
      "2024-03-06 01:03:02,791 [INFO] Base - [id:1158555867] Fetched 12 reviews (41828 fetched in total)\n",
      "2024-03-06 01:03:07,908 [INFO] Base - [id:1158555867] Fetched 12 reviews (41840 fetched in total)\n",
      "2024-03-06 01:03:13,021 [INFO] Base - [id:1158555867] Fetched 12 reviews (41852 fetched in total)\n",
      "2024-03-06 01:03:18,138 [INFO] Base - [id:1158555867] Fetched 12 reviews (41864 fetched in total)\n",
      "2024-03-06 01:03:23,259 [INFO] Base - [id:1158555867] Fetched 12 reviews (41876 fetched in total)\n"
     ]
    },
    {
     "name": "stdout",
     "output_type": "stream",
     "text": [
      "Saved 44700 reviews to 1158555867_reviews_44700.csv\n"
     ]
    },
    {
     "name": "stderr",
     "output_type": "stream",
     "text": [
      "2024-03-06 01:03:28,650 [INFO] Base - [id:1158555867] Fetched 12 reviews (41888 fetched in total)\n",
      "2024-03-06 01:03:33,757 [INFO] Base - [id:1158555867] Fetched 12 reviews (41900 fetched in total)\n",
      "2024-03-06 01:03:38,861 [INFO] Base - [id:1158555867] Fetched 12 reviews (41912 fetched in total)\n",
      "2024-03-06 01:03:43,998 [INFO] Base - [id:1158555867] Fetched 12 reviews (41924 fetched in total)\n",
      "2024-03-06 01:03:49,124 [INFO] Base - [id:1158555867] Fetched 12 reviews (41936 fetched in total)\n"
     ]
    },
    {
     "name": "stdout",
     "output_type": "stream",
     "text": [
      "Saved 44800 reviews to 1158555867_reviews_44800.csv\n"
     ]
    },
    {
     "name": "stderr",
     "output_type": "stream",
     "text": [
      "2024-03-06 01:03:54,505 [INFO] Base - [id:1158555867] Fetched 12 reviews (41948 fetched in total)\n",
      "2024-03-06 01:03:59,744 [INFO] Base - [id:1158555867] Fetched 12 reviews (41960 fetched in total)\n",
      "2024-03-06 01:04:04,858 [INFO] Base - [id:1158555867] Fetched 12 reviews (41972 fetched in total)\n",
      "2024-03-06 01:04:09,971 [INFO] Base - [id:1158555867] Fetched 12 reviews (41984 fetched in total)\n",
      "2024-03-06 01:04:15,099 [INFO] Base - [id:1158555867] Fetched 12 reviews (41996 fetched in total)\n"
     ]
    },
    {
     "name": "stdout",
     "output_type": "stream",
     "text": [
      "Saved 44900 reviews to 1158555867_reviews_44900.csv\n"
     ]
    },
    {
     "name": "stderr",
     "output_type": "stream",
     "text": [
      "2024-03-06 01:04:20,464 [INFO] Base - [id:1158555867] Fetched 12 reviews (42008 fetched in total)\n",
      "2024-03-06 01:04:25,575 [INFO] Base - [id:1158555867] Fetched 12 reviews (42020 fetched in total)\n",
      "2024-03-06 01:04:30,675 [INFO] Base - [id:1158555867] Fetched 12 reviews (42032 fetched in total)\n",
      "2024-03-06 01:04:35,882 [INFO] Base - [id:1158555867] Fetched 12 reviews (42044 fetched in total)\n",
      "2024-03-06 01:04:40,995 [INFO] Base - [id:1158555867] Fetched 12 reviews (42056 fetched in total)\n"
     ]
    },
    {
     "name": "stdout",
     "output_type": "stream",
     "text": [
      "Saved 45000 reviews to 1158555867_reviews_45000.csv\n"
     ]
    },
    {
     "name": "stderr",
     "output_type": "stream",
     "text": [
      "2024-03-06 01:04:46,402 [INFO] Base - [id:1158555867] Fetched 12 reviews (42068 fetched in total)\n",
      "2024-03-06 01:04:51,541 [INFO] Base - [id:1158555867] Fetched 12 reviews (42080 fetched in total)\n",
      "2024-03-06 01:04:56,782 [INFO] Base - [id:1158555867] Fetched 12 reviews (42092 fetched in total)\n",
      "2024-03-06 01:05:01,916 [INFO] Base - [id:1158555867] Fetched 12 reviews (42104 fetched in total)\n",
      "2024-03-06 01:05:07,053 [INFO] Base - [id:1158555867] Fetched 12 reviews (42116 fetched in total)\n"
     ]
    },
    {
     "name": "stdout",
     "output_type": "stream",
     "text": [
      "Saved 45100 reviews to 1158555867_reviews_45100.csv\n"
     ]
    },
    {
     "name": "stderr",
     "output_type": "stream",
     "text": [
      "2024-03-06 01:05:12,429 [INFO] Base - [id:1158555867] Fetched 12 reviews (42128 fetched in total)\n",
      "2024-03-06 01:05:17,561 [INFO] Base - [id:1158555867] Fetched 12 reviews (42140 fetched in total)\n",
      "2024-03-06 01:05:22,691 [INFO] Base - [id:1158555867] Fetched 12 reviews (42152 fetched in total)\n",
      "2024-03-06 01:05:27,805 [INFO] Base - [id:1158555867] Fetched 12 reviews (42164 fetched in total)\n",
      "2024-03-06 01:05:32,935 [INFO] Base - [id:1158555867] Fetched 12 reviews (42176 fetched in total)\n"
     ]
    },
    {
     "name": "stdout",
     "output_type": "stream",
     "text": [
      "Saved 45200 reviews to 1158555867_reviews_45200.csv\n"
     ]
    },
    {
     "name": "stderr",
     "output_type": "stream",
     "text": [
      "2024-03-06 01:05:38,356 [INFO] Base - [id:1158555867] Fetched 12 reviews (42188 fetched in total)\n",
      "2024-03-06 01:05:43,476 [INFO] Base - [id:1158555867] Fetched 12 reviews (42200 fetched in total)\n",
      "2024-03-06 01:05:48,591 [INFO] Base - [id:1158555867] Fetched 12 reviews (42212 fetched in total)\n",
      "2024-03-06 01:05:53,834 [INFO] Base - [id:1158555867] Fetched 12 reviews (42224 fetched in total)\n",
      "2024-03-06 01:05:58,958 [INFO] Base - [id:1158555867] Fetched 12 reviews (42236 fetched in total)\n"
     ]
    },
    {
     "name": "stdout",
     "output_type": "stream",
     "text": [
      "Saved 45300 reviews to 1158555867_reviews_45300.csv\n"
     ]
    },
    {
     "name": "stderr",
     "output_type": "stream",
     "text": [
      "2024-03-06 01:06:04,339 [INFO] Base - [id:1158555867] Fetched 12 reviews (42248 fetched in total)\n",
      "2024-03-06 01:06:09,461 [INFO] Base - [id:1158555867] Fetched 12 reviews (42260 fetched in total)\n",
      "2024-03-06 01:06:14,582 [INFO] Base - [id:1158555867] Fetched 12 reviews (42272 fetched in total)\n",
      "2024-03-06 01:06:19,720 [INFO] Base - [id:1158555867] Fetched 12 reviews (42284 fetched in total)\n",
      "2024-03-06 01:06:24,839 [INFO] Base - [id:1158555867] Fetched 12 reviews (42296 fetched in total)\n"
     ]
    },
    {
     "name": "stdout",
     "output_type": "stream",
     "text": [
      "Saved 45400 reviews to 1158555867_reviews_45400.csv\n"
     ]
    },
    {
     "name": "stderr",
     "output_type": "stream",
     "text": [
      "2024-03-06 01:06:30,211 [INFO] Base - [id:1158555867] Fetched 12 reviews (42308 fetched in total)\n",
      "2024-03-06 01:06:35,347 [INFO] Base - [id:1158555867] Fetched 12 reviews (42320 fetched in total)\n",
      "2024-03-06 01:06:40,450 [INFO] Base - [id:1158555867] Fetched 12 reviews (42332 fetched in total)\n",
      "2024-03-06 01:06:45,553 [INFO] Base - [id:1158555867] Fetched 12 reviews (42344 fetched in total)\n",
      "2024-03-06 01:06:50,668 [INFO] Base - [id:1158555867] Fetched 12 reviews (42356 fetched in total)\n"
     ]
    },
    {
     "name": "stdout",
     "output_type": "stream",
     "text": [
      "Saved 45500 reviews to 1158555867_reviews_45500.csv\n"
     ]
    },
    {
     "name": "stderr",
     "output_type": "stream",
     "text": [
      "2024-03-06 01:06:56,043 [INFO] Base - [id:1158555867] Fetched 12 reviews (42368 fetched in total)\n",
      "2024-03-06 01:07:01,156 [INFO] Base - [id:1158555867] Fetched 12 reviews (42380 fetched in total)\n",
      "2024-03-06 01:07:06,275 [INFO] Base - [id:1158555867] Fetched 12 reviews (42392 fetched in total)\n",
      "2024-03-06 01:07:11,396 [INFO] Base - [id:1158555867] Fetched 12 reviews (42404 fetched in total)\n",
      "2024-03-06 01:07:16,520 [INFO] Base - [id:1158555867] Fetched 12 reviews (42416 fetched in total)\n"
     ]
    },
    {
     "name": "stdout",
     "output_type": "stream",
     "text": [
      "Saved 45600 reviews to 1158555867_reviews_45600.csv\n"
     ]
    },
    {
     "name": "stderr",
     "output_type": "stream",
     "text": [
      "2024-03-06 01:07:21,933 [INFO] Base - [id:1158555867] Fetched 12 reviews (42428 fetched in total)\n",
      "2024-03-06 01:07:27,033 [INFO] Base - [id:1158555867] Fetched 12 reviews (42440 fetched in total)\n",
      "2024-03-06 01:07:32,130 [INFO] Base - [id:1158555867] Fetched 12 reviews (42452 fetched in total)\n",
      "2024-03-06 01:07:37,271 [INFO] Base - [id:1158555867] Fetched 12 reviews (42464 fetched in total)\n",
      "2024-03-06 01:07:42,398 [INFO] Base - [id:1158555867] Fetched 12 reviews (42476 fetched in total)\n"
     ]
    },
    {
     "name": "stdout",
     "output_type": "stream",
     "text": [
      "Saved 45700 reviews to 1158555867_reviews_45700.csv\n"
     ]
    },
    {
     "name": "stderr",
     "output_type": "stream",
     "text": [
      "2024-03-06 01:07:47,797 [INFO] Base - [id:1158555867] Fetched 12 reviews (42488 fetched in total)\n",
      "2024-03-06 01:07:52,906 [INFO] Base - [id:1158555867] Fetched 12 reviews (42500 fetched in total)\n",
      "2024-03-06 01:07:58,014 [INFO] Base - [id:1158555867] Fetched 12 reviews (42512 fetched in total)\n",
      "2024-03-06 01:08:03,152 [INFO] Base - [id:1158555867] Fetched 12 reviews (42524 fetched in total)\n",
      "2024-03-06 01:08:08,248 [INFO] Base - [id:1158555867] Fetched 12 reviews (42536 fetched in total)\n"
     ]
    },
    {
     "name": "stdout",
     "output_type": "stream",
     "text": [
      "Saved 45800 reviews to 1158555867_reviews_45800.csv\n"
     ]
    },
    {
     "name": "stderr",
     "output_type": "stream",
     "text": [
      "2024-03-06 01:08:13,635 [INFO] Base - [id:1158555867] Fetched 12 reviews (42548 fetched in total)\n",
      "2024-03-06 01:08:18,754 [INFO] Base - [id:1158555867] Fetched 12 reviews (42560 fetched in total)\n",
      "2024-03-06 01:08:23,866 [INFO] Base - [id:1158555867] Fetched 12 reviews (42572 fetched in total)\n",
      "2024-03-06 01:08:28,983 [INFO] Base - [id:1158555867] Fetched 12 reviews (42584 fetched in total)\n",
      "2024-03-06 01:08:34,100 [INFO] Base - [id:1158555867] Fetched 12 reviews (42596 fetched in total)\n"
     ]
    },
    {
     "name": "stdout",
     "output_type": "stream",
     "text": [
      "Saved 45900 reviews to 1158555867_reviews_45900.csv\n"
     ]
    },
    {
     "name": "stderr",
     "output_type": "stream",
     "text": [
      "2024-03-06 01:08:39,491 [INFO] Base - [id:1158555867] Fetched 12 reviews (42608 fetched in total)\n",
      "2024-03-06 01:08:44,624 [INFO] Base - [id:1158555867] Fetched 12 reviews (42620 fetched in total)\n",
      "2024-03-06 01:08:49,725 [INFO] Base - [id:1158555867] Fetched 12 reviews (42632 fetched in total)\n",
      "2024-03-06 01:08:54,864 [INFO] Base - [id:1158555867] Fetched 12 reviews (42644 fetched in total)\n",
      "2024-03-06 01:08:59,987 [INFO] Base - [id:1158555867] Fetched 12 reviews (42656 fetched in total)\n"
     ]
    },
    {
     "name": "stdout",
     "output_type": "stream",
     "text": [
      "Saved 46000 reviews to 1158555867_reviews_46000.csv\n"
     ]
    },
    {
     "name": "stderr",
     "output_type": "stream",
     "text": [
      "2024-03-06 01:09:05,354 [INFO] Base - [id:1158555867] Fetched 12 reviews (42668 fetched in total)\n",
      "2024-03-06 01:09:10,455 [INFO] Base - [id:1158555867] Fetched 12 reviews (42680 fetched in total)\n",
      "2024-03-06 01:09:15,588 [INFO] Base - [id:1158555867] Fetched 12 reviews (42692 fetched in total)\n",
      "2024-03-06 01:09:20,694 [INFO] Base - [id:1158555867] Fetched 12 reviews (42704 fetched in total)\n",
      "2024-03-06 01:09:25,837 [INFO] Base - [id:1158555867] Fetched 12 reviews (42716 fetched in total)\n"
     ]
    },
    {
     "name": "stdout",
     "output_type": "stream",
     "text": [
      "Saved 46100 reviews to 1158555867_reviews_46100.csv\n"
     ]
    },
    {
     "name": "stderr",
     "output_type": "stream",
     "text": [
      "2024-03-06 01:09:31,226 [INFO] Base - [id:1158555867] Fetched 12 reviews (42728 fetched in total)\n",
      "2024-03-06 01:09:36,349 [INFO] Base - [id:1158555867] Fetched 12 reviews (42740 fetched in total)\n",
      "2024-03-06 01:09:41,480 [INFO] Base - [id:1158555867] Fetched 12 reviews (42752 fetched in total)\n",
      "2024-03-06 01:09:46,606 [INFO] Base - [id:1158555867] Fetched 12 reviews (42764 fetched in total)\n",
      "2024-03-06 01:09:51,736 [INFO] Base - [id:1158555867] Fetched 12 reviews (42776 fetched in total)\n"
     ]
    },
    {
     "name": "stdout",
     "output_type": "stream",
     "text": [
      "Saved 46200 reviews to 1158555867_reviews_46200.csv\n"
     ]
    },
    {
     "name": "stderr",
     "output_type": "stream",
     "text": [
      "2024-03-06 01:09:57,105 [INFO] Base - [id:1158555867] Fetched 12 reviews (42788 fetched in total)\n",
      "2024-03-06 01:10:02,224 [INFO] Base - [id:1158555867] Fetched 12 reviews (42800 fetched in total)\n",
      "2024-03-06 01:10:07,338 [INFO] Base - [id:1158555867] Fetched 12 reviews (42812 fetched in total)\n",
      "2024-03-06 01:10:12,457 [INFO] Base - [id:1158555867] Fetched 12 reviews (42824 fetched in total)\n",
      "2024-03-06 01:10:17,575 [INFO] Base - [id:1158555867] Fetched 12 reviews (42836 fetched in total)\n"
     ]
    },
    {
     "name": "stdout",
     "output_type": "stream",
     "text": [
      "Saved 46300 reviews to 1158555867_reviews_46300.csv\n"
     ]
    },
    {
     "name": "stderr",
     "output_type": "stream",
     "text": [
      "2024-03-06 01:10:23,001 [INFO] Base - [id:1158555867] Fetched 12 reviews (42848 fetched in total)\n",
      "2024-03-06 01:10:28,126 [INFO] Base - [id:1158555867] Fetched 12 reviews (42860 fetched in total)\n",
      "2024-03-06 01:10:33,223 [INFO] Base - [id:1158555867] Fetched 12 reviews (42872 fetched in total)\n",
      "2024-03-06 01:10:38,364 [INFO] Base - [id:1158555867] Fetched 12 reviews (42884 fetched in total)\n",
      "2024-03-06 01:10:43,494 [INFO] Base - [id:1158555867] Fetched 12 reviews (42896 fetched in total)\n"
     ]
    },
    {
     "name": "stdout",
     "output_type": "stream",
     "text": [
      "Saved 46400 reviews to 1158555867_reviews_46400.csv\n"
     ]
    },
    {
     "name": "stderr",
     "output_type": "stream",
     "text": [
      "2024-03-06 01:10:48,870 [INFO] Base - [id:1158555867] Fetched 12 reviews (42908 fetched in total)\n",
      "2024-03-06 01:10:54,006 [INFO] Base - [id:1158555867] Fetched 12 reviews (42920 fetched in total)\n",
      "2024-03-06 01:10:59,134 [INFO] Base - [id:1158555867] Fetched 12 reviews (42932 fetched in total)\n",
      "2024-03-06 01:11:04,238 [INFO] Base - [id:1158555867] Fetched 12 reviews (42944 fetched in total)\n",
      "2024-03-06 01:11:09,355 [INFO] Base - [id:1158555867] Fetched 12 reviews (42956 fetched in total)\n"
     ]
    },
    {
     "name": "stdout",
     "output_type": "stream",
     "text": [
      "Saved 46500 reviews to 1158555867_reviews_46500.csv\n"
     ]
    },
    {
     "name": "stderr",
     "output_type": "stream",
     "text": [
      "2024-03-06 01:11:14,775 [INFO] Base - [id:1158555867] Fetched 12 reviews (42968 fetched in total)\n",
      "2024-03-06 01:11:19,895 [INFO] Base - [id:1158555867] Fetched 12 reviews (42980 fetched in total)\n",
      "2024-03-06 01:11:25,021 [INFO] Base - [id:1158555867] Fetched 12 reviews (42992 fetched in total)\n",
      "2024-03-06 01:11:30,137 [INFO] Base - [id:1158555867] Fetched 12 reviews (43004 fetched in total)\n",
      "2024-03-06 01:11:35,267 [INFO] Base - [id:1158555867] Fetched 12 reviews (43016 fetched in total)\n"
     ]
    },
    {
     "name": "stdout",
     "output_type": "stream",
     "text": [
      "Saved 46600 reviews to 1158555867_reviews_46600.csv\n"
     ]
    },
    {
     "name": "stderr",
     "output_type": "stream",
     "text": [
      "2024-03-06 01:11:40,638 [INFO] Base - [id:1158555867] Fetched 12 reviews (43028 fetched in total)\n",
      "2024-03-06 01:11:45,760 [INFO] Base - [id:1158555867] Fetched 12 reviews (43040 fetched in total)\n",
      "2024-03-06 01:11:50,894 [INFO] Base - [id:1158555867] Fetched 12 reviews (43052 fetched in total)\n",
      "2024-03-06 01:11:56,014 [INFO] Base - [id:1158555867] Fetched 12 reviews (43064 fetched in total)\n",
      "2024-03-06 01:12:01,125 [INFO] Base - [id:1158555867] Fetched 12 reviews (43076 fetched in total)\n"
     ]
    },
    {
     "name": "stdout",
     "output_type": "stream",
     "text": [
      "Saved 46700 reviews to 1158555867_reviews_46700.csv\n"
     ]
    },
    {
     "name": "stderr",
     "output_type": "stream",
     "text": [
      "2024-03-06 01:12:06,502 [INFO] Base - [id:1158555867] Fetched 12 reviews (43088 fetched in total)\n",
      "2024-03-06 01:12:11,614 [INFO] Base - [id:1158555867] Fetched 12 reviews (43100 fetched in total)\n",
      "2024-03-06 01:12:16,768 [INFO] Base - [id:1158555867] Fetched 12 reviews (43112 fetched in total)\n",
      "2024-03-06 01:12:21,878 [INFO] Base - [id:1158555867] Fetched 12 reviews (43124 fetched in total)\n",
      "2024-03-06 01:12:26,992 [INFO] Base - [id:1158555867] Fetched 12 reviews (43136 fetched in total)\n"
     ]
    },
    {
     "name": "stdout",
     "output_type": "stream",
     "text": [
      "Saved 46800 reviews to 1158555867_reviews_46800.csv\n"
     ]
    },
    {
     "name": "stderr",
     "output_type": "stream",
     "text": [
      "2024-03-06 01:12:32,385 [INFO] Base - [id:1158555867] Fetched 12 reviews (43148 fetched in total)\n",
      "2024-03-06 01:12:37,496 [INFO] Base - [id:1158555867] Fetched 12 reviews (43160 fetched in total)\n",
      "2024-03-06 01:12:42,625 [INFO] Base - [id:1158555867] Fetched 12 reviews (43172 fetched in total)\n",
      "2024-03-06 01:12:47,780 [INFO] Base - [id:1158555867] Fetched 12 reviews (43184 fetched in total)\n",
      "2024-03-06 01:12:52,898 [INFO] Base - [id:1158555867] Fetched 12 reviews (43196 fetched in total)\n"
     ]
    },
    {
     "name": "stdout",
     "output_type": "stream",
     "text": [
      "Saved 46900 reviews to 1158555867_reviews_46900.csv\n"
     ]
    },
    {
     "name": "stderr",
     "output_type": "stream",
     "text": [
      "2024-03-06 01:12:58,276 [INFO] Base - [id:1158555867] Fetched 12 reviews (43208 fetched in total)\n",
      "2024-03-06 01:13:03,395 [INFO] Base - [id:1158555867] Fetched 12 reviews (43220 fetched in total)\n",
      "2024-03-06 01:13:08,521 [INFO] Base - [id:1158555867] Fetched 12 reviews (43232 fetched in total)\n",
      "2024-03-06 01:13:13,660 [INFO] Base - [id:1158555867] Fetched 12 reviews (43244 fetched in total)\n",
      "2024-03-06 01:13:18,754 [INFO] Base - [id:1158555867] Fetched 12 reviews (43256 fetched in total)\n"
     ]
    },
    {
     "name": "stdout",
     "output_type": "stream",
     "text": [
      "Saved 47000 reviews to 1158555867_reviews_47000.csv\n"
     ]
    },
    {
     "name": "stderr",
     "output_type": "stream",
     "text": [
      "2024-03-06 01:13:24,133 [INFO] Base - [id:1158555867] Fetched 12 reviews (43268 fetched in total)\n",
      "2024-03-06 01:13:29,310 [INFO] Base - [id:1158555867] Fetched 12 reviews (43280 fetched in total)\n",
      "2024-03-06 01:13:34,426 [INFO] Base - [id:1158555867] Fetched 12 reviews (43292 fetched in total)\n",
      "2024-03-06 01:13:39,531 [INFO] Base - [id:1158555867] Fetched 12 reviews (43304 fetched in total)\n",
      "2024-03-06 01:13:44,670 [INFO] Base - [id:1158555867] Fetched 12 reviews (43316 fetched in total)\n"
     ]
    },
    {
     "name": "stdout",
     "output_type": "stream",
     "text": [
      "Saved 47100 reviews to 1158555867_reviews_47100.csv\n"
     ]
    },
    {
     "name": "stderr",
     "output_type": "stream",
     "text": [
      "2024-03-06 01:13:50,045 [INFO] Base - [id:1158555867] Fetched 12 reviews (43328 fetched in total)\n",
      "2024-03-06 01:13:55,159 [INFO] Base - [id:1158555867] Fetched 12 reviews (43340 fetched in total)\n",
      "2024-03-06 01:14:00,305 [INFO] Base - [id:1158555867] Fetched 12 reviews (43352 fetched in total)\n",
      "2024-03-06 01:14:05,429 [INFO] Base - [id:1158555867] Fetched 12 reviews (43364 fetched in total)\n",
      "2024-03-06 01:14:10,537 [INFO] Base - [id:1158555867] Fetched 12 reviews (43376 fetched in total)\n"
     ]
    },
    {
     "name": "stdout",
     "output_type": "stream",
     "text": [
      "Saved 47200 reviews to 1158555867_reviews_47200.csv\n"
     ]
    },
    {
     "name": "stderr",
     "output_type": "stream",
     "text": [
      "2024-03-06 01:14:15,945 [INFO] Base - [id:1158555867] Fetched 12 reviews (43388 fetched in total)\n",
      "2024-03-06 01:14:21,070 [INFO] Base - [id:1158555867] Fetched 12 reviews (43400 fetched in total)\n",
      "2024-03-06 01:14:26,190 [INFO] Base - [id:1158555867] Fetched 12 reviews (43412 fetched in total)\n",
      "2024-03-06 01:14:31,291 [INFO] Base - [id:1158555867] Fetched 12 reviews (43424 fetched in total)\n",
      "2024-03-06 01:14:36,426 [INFO] Base - [id:1158555867] Fetched 12 reviews (43436 fetched in total)\n"
     ]
    },
    {
     "name": "stdout",
     "output_type": "stream",
     "text": [
      "Saved 47300 reviews to 1158555867_reviews_47300.csv\n"
     ]
    },
    {
     "name": "stderr",
     "output_type": "stream",
     "text": [
      "2024-03-06 01:14:41,802 [INFO] Base - [id:1158555867] Fetched 12 reviews (43448 fetched in total)\n",
      "2024-03-06 01:14:46,921 [INFO] Base - [id:1158555867] Fetched 12 reviews (43460 fetched in total)\n",
      "2024-03-06 01:14:52,044 [INFO] Base - [id:1158555867] Fetched 12 reviews (43472 fetched in total)\n",
      "2024-03-06 01:14:57,150 [INFO] Base - [id:1158555867] Fetched 12 reviews (43484 fetched in total)\n",
      "2024-03-06 01:15:02,256 [INFO] Base - [id:1158555867] Fetched 12 reviews (43496 fetched in total)\n"
     ]
    },
    {
     "name": "stdout",
     "output_type": "stream",
     "text": [
      "Saved 47400 reviews to 1158555867_reviews_47400.csv\n"
     ]
    },
    {
     "name": "stderr",
     "output_type": "stream",
     "text": [
      "2024-03-06 01:15:07,656 [INFO] Base - [id:1158555867] Fetched 12 reviews (43508 fetched in total)\n",
      "2024-03-06 01:15:12,775 [INFO] Base - [id:1158555867] Fetched 12 reviews (43520 fetched in total)\n",
      "2024-03-06 01:15:17,883 [INFO] Base - [id:1158555867] Fetched 12 reviews (43532 fetched in total)\n",
      "2024-03-06 01:15:23,005 [INFO] Base - [id:1158555867] Fetched 12 reviews (43544 fetched in total)\n",
      "2024-03-06 01:15:28,105 [INFO] Base - [id:1158555867] Fetched 12 reviews (43556 fetched in total)\n"
     ]
    },
    {
     "name": "stdout",
     "output_type": "stream",
     "text": [
      "Saved 47500 reviews to 1158555867_reviews_47500.csv\n"
     ]
    },
    {
     "name": "stderr",
     "output_type": "stream",
     "text": [
      "2024-03-06 01:15:33,478 [INFO] Base - [id:1158555867] Fetched 12 reviews (43568 fetched in total)\n",
      "2024-03-06 01:15:38,599 [INFO] Base - [id:1158555867] Fetched 12 reviews (43580 fetched in total)\n",
      "2024-03-06 01:15:43,731 [INFO] Base - [id:1158555867] Fetched 12 reviews (43592 fetched in total)\n",
      "2024-03-06 01:15:48,836 [INFO] Base - [id:1158555867] Fetched 12 reviews (43604 fetched in total)\n",
      "2024-03-06 01:15:53,956 [INFO] Base - [id:1158555867] Fetched 12 reviews (43616 fetched in total)\n"
     ]
    },
    {
     "name": "stdout",
     "output_type": "stream",
     "text": [
      "Saved 47600 reviews to 1158555867_reviews_47600.csv\n"
     ]
    },
    {
     "name": "stderr",
     "output_type": "stream",
     "text": [
      "2024-03-06 01:15:59,368 [INFO] Base - [id:1158555867] Fetched 12 reviews (43628 fetched in total)\n",
      "2024-03-06 01:16:04,546 [INFO] Base - [id:1158555867] Fetched 12 reviews (43640 fetched in total)\n",
      "2024-03-06 01:16:09,653 [INFO] Base - [id:1158555867] Fetched 12 reviews (43652 fetched in total)\n",
      "2024-03-06 01:16:14,902 [INFO] Base - [id:1158555867] Fetched 12 reviews (43664 fetched in total)\n",
      "2024-03-06 01:16:20,048 [INFO] Base - [id:1158555867] Fetched 12 reviews (43676 fetched in total)\n"
     ]
    },
    {
     "name": "stdout",
     "output_type": "stream",
     "text": [
      "Saved 47700 reviews to 1158555867_reviews_47700.csv\n"
     ]
    },
    {
     "name": "stderr",
     "output_type": "stream",
     "text": [
      "2024-03-06 01:16:25,431 [INFO] Base - [id:1158555867] Fetched 12 reviews (43688 fetched in total)\n",
      "2024-03-06 01:16:30,591 [INFO] Base - [id:1158555867] Fetched 12 reviews (43700 fetched in total)\n",
      "2024-03-06 01:16:35,717 [INFO] Base - [id:1158555867] Fetched 12 reviews (43712 fetched in total)\n",
      "2024-03-06 01:16:40,840 [INFO] Base - [id:1158555867] Fetched 12 reviews (43724 fetched in total)\n",
      "2024-03-06 01:16:45,945 [INFO] Base - [id:1158555867] Fetched 12 reviews (43736 fetched in total)\n"
     ]
    },
    {
     "name": "stdout",
     "output_type": "stream",
     "text": [
      "Saved 47800 reviews to 1158555867_reviews_47800.csv\n"
     ]
    },
    {
     "name": "stderr",
     "output_type": "stream",
     "text": [
      "2024-03-06 01:16:51,356 [INFO] Base - [id:1158555867] Fetched 12 reviews (43748 fetched in total)\n",
      "2024-03-06 01:16:56,464 [INFO] Base - [id:1158555867] Fetched 12 reviews (43760 fetched in total)\n",
      "2024-03-06 01:34:16,855 [INFO] Base - [id:1158555867] Fetched 12 reviews (43772 fetched in total)\n",
      "2024-03-06 01:34:21,960 [INFO] Base - [id:1158555867] Fetched 12 reviews (43784 fetched in total)\n",
      "2024-03-06 01:34:27,205 [INFO] Base - [id:1158555867] Fetched 12 reviews (43796 fetched in total)\n"
     ]
    },
    {
     "name": "stdout",
     "output_type": "stream",
     "text": [
      "Saved 47900 reviews to 1158555867_reviews_47900.csv\n"
     ]
    },
    {
     "name": "stderr",
     "output_type": "stream",
     "text": [
      "2024-03-06 01:34:32,609 [INFO] Base - [id:1158555867] Fetched 12 reviews (43808 fetched in total)\n",
      "2024-03-06 01:34:37,722 [INFO] Base - [id:1158555867] Fetched 12 reviews (43820 fetched in total)\n",
      "2024-03-06 01:34:43,175 [INFO] Base - [id:1158555867] Fetched 12 reviews (43832 fetched in total)\n",
      "2024-03-06 01:34:48,303 [INFO] Base - [id:1158555867] Fetched 12 reviews (43844 fetched in total)\n",
      "2024-03-06 01:34:53,442 [INFO] Base - [id:1158555867] Fetched 12 reviews (43856 fetched in total)\n"
     ]
    },
    {
     "name": "stdout",
     "output_type": "stream",
     "text": [
      "Saved 48000 reviews to 1158555867_reviews_48000.csv\n"
     ]
    },
    {
     "name": "stderr",
     "output_type": "stream",
     "text": [
      "2024-03-06 01:34:58,971 [INFO] Base - [id:1158555867] Fetched 12 reviews (43868 fetched in total)\n",
      "2024-03-06 01:35:04,076 [INFO] Base - [id:1158555867] Fetched 12 reviews (43880 fetched in total)\n",
      "2024-03-06 01:35:34,193 [INFO] Base - [id:1158555867] Fetched 12 reviews (43892 fetched in total)\n",
      "2024-03-06 01:35:39,315 [INFO] Base - [id:1158555867] Fetched 12 reviews (43904 fetched in total)\n",
      "2024-03-06 01:35:44,437 [INFO] Base - [id:1158555867] Fetched 12 reviews (43916 fetched in total)\n"
     ]
    },
    {
     "name": "stdout",
     "output_type": "stream",
     "text": [
      "Saved 48100 reviews to 1158555867_reviews_48100.csv\n"
     ]
    },
    {
     "name": "stderr",
     "output_type": "stream",
     "text": [
      "2024-03-06 01:35:49,841 [INFO] Base - [id:1158555867] Fetched 12 reviews (43928 fetched in total)\n",
      "2024-03-06 01:35:55,210 [INFO] Base - [id:1158555867] Fetched 12 reviews (43940 fetched in total)\n",
      "2024-03-06 01:36:00,357 [INFO] Base - [id:1158555867] Fetched 12 reviews (43952 fetched in total)\n",
      "2024-03-06 01:36:05,493 [INFO] Base - [id:1158555867] Fetched 12 reviews (43964 fetched in total)\n",
      "2024-03-06 01:36:10,625 [INFO] Base - [id:1158555867] Fetched 12 reviews (43976 fetched in total)\n"
     ]
    },
    {
     "name": "stdout",
     "output_type": "stream",
     "text": [
      "Saved 48200 reviews to 1158555867_reviews_48200.csv\n"
     ]
    },
    {
     "name": "stderr",
     "output_type": "stream",
     "text": [
      "2024-03-06 01:36:16,037 [INFO] Base - [id:1158555867] Fetched 12 reviews (43988 fetched in total)\n",
      "2024-03-06 01:51:20,614 [INFO] Base - [id:1158555867] Fetched 12 reviews (44000 fetched in total)\n",
      "2024-03-06 01:51:25,761 [INFO] Base - [id:1158555867] Fetched 12 reviews (44012 fetched in total)\n",
      "2024-03-06 01:51:30,971 [INFO] Base - [id:1158555867] Fetched 12 reviews (44024 fetched in total)\n",
      "2024-03-06 01:51:36,100 [INFO] Base - [id:1158555867] Fetched 12 reviews (44036 fetched in total)\n"
     ]
    },
    {
     "name": "stdout",
     "output_type": "stream",
     "text": [
      "Saved 48300 reviews to 1158555867_reviews_48300.csv\n"
     ]
    },
    {
     "name": "stderr",
     "output_type": "stream",
     "text": [
      "2024-03-06 01:51:41,854 [INFO] Base - [id:1158555867] Fetched 12 reviews (44048 fetched in total)\n",
      "2024-03-06 01:51:47,243 [INFO] Base - [id:1158555867] Fetched 12 reviews (44060 fetched in total)\n",
      "2024-03-06 01:51:52,333 [INFO] Base - [id:1158555867] Fetched 12 reviews (44072 fetched in total)\n",
      "2024-03-06 01:51:57,560 [INFO] Base - [id:1158555867] Fetched 12 reviews (44084 fetched in total)\n",
      "2024-03-06 01:52:02,682 [INFO] Base - [id:1158555867] Fetched 12 reviews (44096 fetched in total)\n"
     ]
    },
    {
     "name": "stdout",
     "output_type": "stream",
     "text": [
      "Saved 48400 reviews to 1158555867_reviews_48400.csv\n"
     ]
    },
    {
     "name": "stderr",
     "output_type": "stream",
     "text": [
      "2024-03-06 01:52:08,068 [INFO] Base - [id:1158555867] Fetched 12 reviews (44108 fetched in total)\n",
      "2024-03-06 02:08:09,386 [INFO] Base - [id:1158555867] Fetched 12 reviews (44120 fetched in total)\n",
      "2024-03-06 02:08:14,495 [INFO] Base - [id:1158555867] Fetched 12 reviews (44132 fetched in total)\n",
      "2024-03-06 02:08:19,619 [INFO] Base - [id:1158555867] Fetched 12 reviews (44144 fetched in total)\n",
      "2024-03-06 02:08:24,757 [INFO] Base - [id:1158555867] Fetched 12 reviews (44156 fetched in total)\n"
     ]
    },
    {
     "name": "stdout",
     "output_type": "stream",
     "text": [
      "Saved 48500 reviews to 1158555867_reviews_48500.csv\n"
     ]
    },
    {
     "name": "stderr",
     "output_type": "stream",
     "text": [
      "2024-03-06 02:08:30,402 [INFO] Base - [id:1158555867] Fetched 12 reviews (44168 fetched in total)\n",
      "2024-03-06 02:08:35,670 [INFO] Base - [id:1158555867] Fetched 12 reviews (44180 fetched in total)\n",
      "2024-03-06 02:08:40,811 [INFO] Base - [id:1158555867] Fetched 12 reviews (44192 fetched in total)\n",
      "2024-03-06 02:08:45,920 [INFO] Base - [id:1158555867] Fetched 12 reviews (44204 fetched in total)\n",
      "2024-03-06 02:08:51,034 [INFO] Base - [id:1158555867] Fetched 12 reviews (44216 fetched in total)\n"
     ]
    },
    {
     "name": "stdout",
     "output_type": "stream",
     "text": [
      "Saved 48600 reviews to 1158555867_reviews_48600.csv\n"
     ]
    },
    {
     "name": "stderr",
     "output_type": "stream",
     "text": [
      "2024-03-06 02:08:56,396 [INFO] Base - [id:1158555867] Fetched 12 reviews (44228 fetched in total)\n",
      "2024-03-06 02:10:36,084 [INFO] Base - [id:1158555867] Fetched 12 reviews (44240 fetched in total)\n",
      "2024-03-06 02:10:41,216 [INFO] Base - [id:1158555867] Fetched 12 reviews (44252 fetched in total)\n",
      "2024-03-06 02:10:46,344 [INFO] Base - [id:1158555867] Fetched 12 reviews (44264 fetched in total)\n",
      "2024-03-06 02:10:51,466 [INFO] Base - [id:1158555867] Fetched 12 reviews (44276 fetched in total)\n"
     ]
    },
    {
     "name": "stdout",
     "output_type": "stream",
     "text": [
      "Saved 48700 reviews to 1158555867_reviews_48700.csv\n"
     ]
    },
    {
     "name": "stderr",
     "output_type": "stream",
     "text": [
      "2024-03-06 02:10:57,195 [INFO] Base - [id:1158555867] Fetched 12 reviews (44288 fetched in total)\n",
      "2024-03-06 02:11:02,571 [INFO] Base - [id:1158555867] Fetched 12 reviews (44300 fetched in total)\n",
      "2024-03-06 02:11:07,762 [INFO] Base - [id:1158555867] Fetched 12 reviews (44312 fetched in total)\n",
      "2024-03-06 02:11:12,865 [INFO] Base - [id:1158555867] Fetched 12 reviews (44324 fetched in total)\n",
      "2024-03-06 02:11:17,978 [INFO] Base - [id:1158555867] Fetched 12 reviews (44336 fetched in total)\n"
     ]
    },
    {
     "name": "stdout",
     "output_type": "stream",
     "text": [
      "Saved 48800 reviews to 1158555867_reviews_48800.csv\n"
     ]
    },
    {
     "name": "stderr",
     "output_type": "stream",
     "text": [
      "2024-03-06 02:11:23,462 [INFO] Base - [id:1158555867] Fetched 12 reviews (44348 fetched in total)\n",
      "2024-03-06 02:11:28,595 [INFO] Base - [id:1158555867] Fetched 12 reviews (44360 fetched in total)\n",
      "2024-03-06 02:11:33,720 [INFO] Base - [id:1158555867] Fetched 12 reviews (44372 fetched in total)\n",
      "2024-03-06 02:11:38,825 [INFO] Base - [id:1158555867] Fetched 12 reviews (44384 fetched in total)\n",
      "2024-03-06 02:11:43,954 [INFO] Base - [id:1158555867] Fetched 12 reviews (44396 fetched in total)\n"
     ]
    },
    {
     "name": "stdout",
     "output_type": "stream",
     "text": [
      "Saved 48900 reviews to 1158555867_reviews_48900.csv\n"
     ]
    },
    {
     "name": "stderr",
     "output_type": "stream",
     "text": [
      "2024-03-06 02:11:49,346 [INFO] Base - [id:1158555867] Fetched 12 reviews (44408 fetched in total)\n",
      "2024-03-06 02:11:54,460 [INFO] Base - [id:1158555867] Fetched 12 reviews (44420 fetched in total)\n",
      "2024-03-06 02:11:59,576 [INFO] Base - [id:1158555867] Fetched 12 reviews (44432 fetched in total)\n",
      "2024-03-06 02:12:04,729 [INFO] Base - [id:1158555867] Fetched 12 reviews (44444 fetched in total)\n",
      "2024-03-06 02:12:09,837 [INFO] Base - [id:1158555867] Fetched 12 reviews (44456 fetched in total)\n"
     ]
    },
    {
     "name": "stdout",
     "output_type": "stream",
     "text": [
      "Saved 49000 reviews to 1158555867_reviews_49000.csv\n"
     ]
    },
    {
     "name": "stderr",
     "output_type": "stream",
     "text": [
      "2024-03-06 02:12:15,217 [INFO] Base - [id:1158555867] Fetched 12 reviews (44468 fetched in total)\n",
      "2024-03-06 02:12:20,353 [INFO] Base - [id:1158555867] Fetched 12 reviews (44480 fetched in total)\n",
      "2024-03-06 02:12:25,456 [INFO] Base - [id:1158555867] Fetched 12 reviews (44492 fetched in total)\n",
      "2024-03-06 02:12:30,569 [INFO] Base - [id:1158555867] Fetched 12 reviews (44504 fetched in total)\n",
      "2024-03-06 02:12:35,700 [INFO] Base - [id:1158555867] Fetched 12 reviews (44516 fetched in total)\n"
     ]
    },
    {
     "name": "stdout",
     "output_type": "stream",
     "text": [
      "Saved 49100 reviews to 1158555867_reviews_49100.csv\n"
     ]
    },
    {
     "name": "stderr",
     "output_type": "stream",
     "text": [
      "2024-03-06 02:12:41,103 [INFO] Base - [id:1158555867] Fetched 12 reviews (44528 fetched in total)\n",
      "2024-03-06 02:12:46,291 [INFO] Base - [id:1158555867] Fetched 12 reviews (44540 fetched in total)\n",
      "2024-03-06 02:12:51,407 [INFO] Base - [id:1158555867] Fetched 12 reviews (44552 fetched in total)\n",
      "2024-03-06 02:12:56,521 [INFO] Base - [id:1158555867] Fetched 12 reviews (44564 fetched in total)\n",
      "2024-03-06 02:13:01,664 [INFO] Base - [id:1158555867] Fetched 12 reviews (44576 fetched in total)\n"
     ]
    },
    {
     "name": "stdout",
     "output_type": "stream",
     "text": [
      "Saved 49200 reviews to 1158555867_reviews_49200.csv\n"
     ]
    },
    {
     "name": "stderr",
     "output_type": "stream",
     "text": [
      "2024-03-06 02:13:07,064 [INFO] Base - [id:1158555867] Fetched 12 reviews (44588 fetched in total)\n",
      "2024-03-06 02:13:12,186 [INFO] Base - [id:1158555867] Fetched 12 reviews (44600 fetched in total)\n",
      "2024-03-06 02:13:17,315 [INFO] Base - [id:1158555867] Fetched 12 reviews (44612 fetched in total)\n",
      "2024-03-06 02:13:22,459 [INFO] Base - [id:1158555867] Fetched 12 reviews (44624 fetched in total)\n",
      "2024-03-06 02:13:27,549 [INFO] Base - [id:1158555867] Fetched 12 reviews (44636 fetched in total)\n"
     ]
    },
    {
     "name": "stdout",
     "output_type": "stream",
     "text": [
      "Saved 49300 reviews to 1158555867_reviews_49300.csv\n"
     ]
    },
    {
     "name": "stderr",
     "output_type": "stream",
     "text": [
      "2024-03-06 02:13:32,936 [INFO] Base - [id:1158555867] Fetched 12 reviews (44648 fetched in total)\n",
      "2024-03-06 02:13:38,041 [INFO] Base - [id:1158555867] Fetched 12 reviews (44660 fetched in total)\n",
      "2024-03-06 02:13:43,181 [INFO] Base - [id:1158555867] Fetched 12 reviews (44672 fetched in total)\n",
      "2024-03-06 02:13:48,291 [INFO] Base - [id:1158555867] Fetched 12 reviews (44684 fetched in total)\n",
      "2024-03-06 02:13:53,401 [INFO] Base - [id:1158555867] Fetched 12 reviews (44696 fetched in total)\n"
     ]
    },
    {
     "name": "stdout",
     "output_type": "stream",
     "text": [
      "Saved 49400 reviews to 1158555867_reviews_49400.csv\n"
     ]
    },
    {
     "name": "stderr",
     "output_type": "stream",
     "text": [
      "2024-03-06 02:13:58,816 [INFO] Base - [id:1158555867] Fetched 12 reviews (44708 fetched in total)\n",
      "2024-03-06 02:14:03,919 [INFO] Base - [id:1158555867] Fetched 12 reviews (44720 fetched in total)\n",
      "2024-03-06 02:14:09,026 [INFO] Base - [id:1158555867] Fetched 12 reviews (44732 fetched in total)\n",
      "2024-03-06 02:14:14,161 [INFO] Base - [id:1158555867] Fetched 12 reviews (44744 fetched in total)\n",
      "2024-03-06 02:14:19,280 [INFO] Base - [id:1158555867] Fetched 12 reviews (44756 fetched in total)\n"
     ]
    },
    {
     "name": "stdout",
     "output_type": "stream",
     "text": [
      "Saved 49500 reviews to 1158555867_reviews_49500.csv\n"
     ]
    },
    {
     "name": "stderr",
     "output_type": "stream",
     "text": [
      "2024-03-06 02:14:24,668 [INFO] Base - [id:1158555867] Fetched 12 reviews (44768 fetched in total)\n",
      "2024-03-06 02:14:29,809 [INFO] Base - [id:1158555867] Fetched 12 reviews (44780 fetched in total)\n",
      "2024-03-06 02:14:34,925 [INFO] Base - [id:1158555867] Fetched 12 reviews (44792 fetched in total)\n",
      "2024-03-06 02:14:40,020 [INFO] Base - [id:1158555867] Fetched 12 reviews (44804 fetched in total)\n",
      "2024-03-06 02:14:45,139 [INFO] Base - [id:1158555867] Fetched 12 reviews (44816 fetched in total)\n"
     ]
    },
    {
     "name": "stdout",
     "output_type": "stream",
     "text": [
      "Saved 49600 reviews to 1158555867_reviews_49600.csv\n"
     ]
    },
    {
     "name": "stderr",
     "output_type": "stream",
     "text": [
      "2024-03-06 02:14:50,534 [INFO] Base - [id:1158555867] Fetched 12 reviews (44828 fetched in total)\n",
      "2024-03-06 02:14:55,686 [INFO] Base - [id:1158555867] Fetched 12 reviews (44840 fetched in total)\n",
      "2024-03-06 02:15:00,808 [INFO] Base - [id:1158555867] Fetched 12 reviews (44852 fetched in total)\n",
      "2024-03-06 02:15:05,934 [INFO] Base - [id:1158555867] Fetched 12 reviews (44864 fetched in total)\n",
      "2024-03-06 02:15:11,051 [INFO] Base - [id:1158555867] Fetched 12 reviews (44876 fetched in total)\n"
     ]
    },
    {
     "name": "stdout",
     "output_type": "stream",
     "text": [
      "Saved 49700 reviews to 1158555867_reviews_49700.csv\n"
     ]
    },
    {
     "name": "stderr",
     "output_type": "stream",
     "text": [
      "2024-03-06 02:15:16,541 [INFO] Base - [id:1158555867] Fetched 12 reviews (44888 fetched in total)\n",
      "2024-03-06 02:15:21,671 [INFO] Base - [id:1158555867] Fetched 12 reviews (44900 fetched in total)\n",
      "2024-03-06 02:15:26,813 [INFO] Base - [id:1158555867] Fetched 12 reviews (44912 fetched in total)\n",
      "2024-03-06 02:15:31,930 [INFO] Base - [id:1158555867] Fetched 12 reviews (44924 fetched in total)\n",
      "2024-03-06 02:15:37,019 [INFO] Base - [id:1158555867] Fetched 12 reviews (44936 fetched in total)\n"
     ]
    },
    {
     "name": "stdout",
     "output_type": "stream",
     "text": [
      "Saved 49800 reviews to 1158555867_reviews_49800.csv\n"
     ]
    },
    {
     "name": "stderr",
     "output_type": "stream",
     "text": [
      "2024-03-06 02:15:42,449 [INFO] Base - [id:1158555867] Fetched 12 reviews (44948 fetched in total)\n",
      "2024-03-06 02:15:47,552 [INFO] Base - [id:1158555867] Fetched 12 reviews (44960 fetched in total)\n",
      "2024-03-06 02:15:52,666 [INFO] Base - [id:1158555867] Fetched 12 reviews (44972 fetched in total)\n",
      "2024-03-06 02:15:57,797 [INFO] Base - [id:1158555867] Fetched 12 reviews (44984 fetched in total)\n",
      "2024-03-06 02:16:02,894 [INFO] Base - [id:1158555867] Fetched 12 reviews (44996 fetched in total)\n"
     ]
    },
    {
     "name": "stdout",
     "output_type": "stream",
     "text": [
      "Saved 49900 reviews to 1158555867_reviews_49900.csv\n"
     ]
    },
    {
     "name": "stderr",
     "output_type": "stream",
     "text": [
      "2024-03-06 02:16:08,270 [INFO] Base - [id:1158555867] Fetched 12 reviews (45008 fetched in total)\n",
      "2024-03-06 02:16:13,388 [INFO] Base - [id:1158555867] Fetched 12 reviews (45020 fetched in total)\n",
      "2024-03-06 02:16:18,521 [INFO] Base - [id:1158555867] Fetched 12 reviews (45032 fetched in total)\n",
      "2024-03-06 02:16:23,657 [INFO] Base - [id:1158555867] Fetched 12 reviews (45044 fetched in total)\n",
      "2024-03-06 02:16:28,773 [INFO] Base - [id:1158555867] Fetched 12 reviews (45056 fetched in total)\n"
     ]
    },
    {
     "name": "stdout",
     "output_type": "stream",
     "text": [
      "Saved 50000 reviews to 1158555867_reviews_50000.csv\n"
     ]
    },
    {
     "name": "stderr",
     "output_type": "stream",
     "text": [
      "2024-03-06 02:16:34,193 [INFO] Base - [id:1158555867] Fetched 12 reviews (45068 fetched in total)\n",
      "2024-03-06 02:16:39,342 [INFO] Base - [id:1158555867] Fetched 12 reviews (45080 fetched in total)\n",
      "2024-03-06 02:16:44,488 [INFO] Base - [id:1158555867] Fetched 12 reviews (45092 fetched in total)\n",
      "2024-03-06 02:16:49,595 [INFO] Base - [id:1158555867] Fetched 12 reviews (45104 fetched in total)\n",
      "2024-03-06 02:16:54,713 [INFO] Base - [id:1158555867] Fetched 12 reviews (45116 fetched in total)\n"
     ]
    },
    {
     "name": "stdout",
     "output_type": "stream",
     "text": [
      "Saved 50100 reviews to 1158555867_reviews_50100.csv\n"
     ]
    },
    {
     "name": "stderr",
     "output_type": "stream",
     "text": [
      "2024-03-06 02:17:00,125 [INFO] Base - [id:1158555867] Fetched 12 reviews (45128 fetched in total)\n",
      "2024-03-06 02:17:05,249 [INFO] Base - [id:1158555867] Fetched 12 reviews (45140 fetched in total)\n",
      "2024-03-06 02:17:10,371 [INFO] Base - [id:1158555867] Fetched 12 reviews (45152 fetched in total)\n",
      "2024-03-06 02:17:15,491 [INFO] Base - [id:1158555867] Fetched 12 reviews (45164 fetched in total)\n",
      "2024-03-06 02:17:20,611 [INFO] Base - [id:1158555867] Fetched 12 reviews (45176 fetched in total)\n"
     ]
    },
    {
     "name": "stdout",
     "output_type": "stream",
     "text": [
      "Saved 50200 reviews to 1158555867_reviews_50200.csv\n"
     ]
    },
    {
     "name": "stderr",
     "output_type": "stream",
     "text": [
      "2024-03-06 02:17:25,995 [INFO] Base - [id:1158555867] Fetched 12 reviews (45188 fetched in total)\n",
      "2024-03-06 02:17:31,105 [INFO] Base - [id:1158555867] Fetched 12 reviews (45200 fetched in total)\n",
      "2024-03-06 02:17:36,237 [INFO] Base - [id:1158555867] Fetched 12 reviews (45212 fetched in total)\n",
      "2024-03-06 02:17:41,350 [INFO] Base - [id:1158555867] Fetched 12 reviews (45224 fetched in total)\n",
      "2024-03-06 02:17:46,466 [INFO] Base - [id:1158555867] Fetched 12 reviews (45236 fetched in total)\n"
     ]
    },
    {
     "name": "stdout",
     "output_type": "stream",
     "text": [
      "Saved 50300 reviews to 1158555867_reviews_50300.csv\n"
     ]
    },
    {
     "name": "stderr",
     "output_type": "stream",
     "text": [
      "2024-03-06 02:17:51,900 [INFO] Base - [id:1158555867] Fetched 12 reviews (45248 fetched in total)\n",
      "2024-03-06 02:17:57,018 [INFO] Base - [id:1158555867] Fetched 12 reviews (45260 fetched in total)\n",
      "2024-03-06 02:18:02,130 [INFO] Base - [id:1158555867] Fetched 12 reviews (45272 fetched in total)\n",
      "2024-03-06 02:18:07,265 [INFO] Base - [id:1158555867] Fetched 12 reviews (45284 fetched in total)\n",
      "2024-03-06 02:18:12,375 [INFO] Base - [id:1158555867] Fetched 12 reviews (45296 fetched in total)\n"
     ]
    },
    {
     "name": "stdout",
     "output_type": "stream",
     "text": [
      "Saved 50400 reviews to 1158555867_reviews_50400.csv\n"
     ]
    },
    {
     "name": "stderr",
     "output_type": "stream",
     "text": [
      "2024-03-06 02:18:17,810 [INFO] Base - [id:1158555867] Fetched 12 reviews (45308 fetched in total)\n",
      "2024-03-06 02:18:22,959 [INFO] Base - [id:1158555867] Fetched 12 reviews (45320 fetched in total)\n",
      "2024-03-06 02:18:28,079 [INFO] Base - [id:1158555867] Fetched 12 reviews (45332 fetched in total)\n",
      "2024-03-06 02:18:33,196 [INFO] Base - [id:1158555867] Fetched 12 reviews (45344 fetched in total)\n",
      "2024-03-06 02:18:38,388 [INFO] Base - [id:1158555867] Fetched 12 reviews (45356 fetched in total)\n"
     ]
    },
    {
     "name": "stdout",
     "output_type": "stream",
     "text": [
      "Saved 50500 reviews to 1158555867_reviews_50500.csv\n"
     ]
    },
    {
     "name": "stderr",
     "output_type": "stream",
     "text": [
      "2024-03-06 02:18:43,795 [INFO] Base - [id:1158555867] Fetched 12 reviews (45368 fetched in total)\n",
      "2024-03-06 02:18:48,936 [INFO] Base - [id:1158555867] Fetched 12 reviews (45380 fetched in total)\n",
      "2024-03-06 02:18:54,039 [INFO] Base - [id:1158555867] Fetched 12 reviews (45392 fetched in total)\n",
      "2024-03-06 02:18:59,162 [INFO] Base - [id:1158555867] Fetched 12 reviews (45404 fetched in total)\n",
      "2024-03-06 02:19:04,300 [INFO] Base - [id:1158555867] Fetched 12 reviews (45416 fetched in total)\n"
     ]
    },
    {
     "name": "stdout",
     "output_type": "stream",
     "text": [
      "Saved 50600 reviews to 1158555867_reviews_50600.csv\n"
     ]
    },
    {
     "name": "stderr",
     "output_type": "stream",
     "text": [
      "2024-03-06 02:19:09,700 [INFO] Base - [id:1158555867] Fetched 12 reviews (45428 fetched in total)\n",
      "2024-03-06 02:19:14,833 [INFO] Base - [id:1158555867] Fetched 12 reviews (45440 fetched in total)\n",
      "2024-03-06 02:19:19,968 [INFO] Base - [id:1158555867] Fetched 12 reviews (45452 fetched in total)\n",
      "2024-03-06 02:19:25,106 [INFO] Base - [id:1158555867] Fetched 12 reviews (45464 fetched in total)\n",
      "2024-03-06 02:19:30,224 [INFO] Base - [id:1158555867] Fetched 12 reviews (45476 fetched in total)\n"
     ]
    },
    {
     "name": "stdout",
     "output_type": "stream",
     "text": [
      "Saved 50700 reviews to 1158555867_reviews_50700.csv\n"
     ]
    },
    {
     "name": "stderr",
     "output_type": "stream",
     "text": [
      "2024-03-06 02:19:35,623 [INFO] Base - [id:1158555867] Fetched 12 reviews (45488 fetched in total)\n",
      "2024-03-06 02:19:40,874 [INFO] Base - [id:1158555867] Fetched 12 reviews (45500 fetched in total)\n",
      "2024-03-06 02:19:45,989 [INFO] Base - [id:1158555867] Fetched 12 reviews (45512 fetched in total)\n",
      "2024-03-06 02:19:51,100 [INFO] Base - [id:1158555867] Fetched 12 reviews (45524 fetched in total)\n",
      "2024-03-06 02:19:56,278 [INFO] Base - [id:1158555867] Fetched 12 reviews (45536 fetched in total)\n"
     ]
    },
    {
     "name": "stdout",
     "output_type": "stream",
     "text": [
      "Saved 50800 reviews to 1158555867_reviews_50800.csv\n"
     ]
    },
    {
     "name": "stderr",
     "output_type": "stream",
     "text": [
      "2024-03-06 02:20:01,687 [INFO] Base - [id:1158555867] Fetched 12 reviews (45548 fetched in total)\n",
      "2024-03-06 02:20:06,824 [INFO] Base - [id:1158555867] Fetched 12 reviews (45560 fetched in total)\n",
      "2024-03-06 02:20:11,921 [INFO] Base - [id:1158555867] Fetched 12 reviews (45572 fetched in total)\n",
      "2024-03-06 02:20:17,053 [INFO] Base - [id:1158555867] Fetched 12 reviews (45584 fetched in total)\n",
      "2024-03-06 02:20:22,171 [INFO] Base - [id:1158555867] Fetched 12 reviews (45596 fetched in total)\n"
     ]
    },
    {
     "name": "stdout",
     "output_type": "stream",
     "text": [
      "Saved 50900 reviews to 1158555867_reviews_50900.csv\n"
     ]
    },
    {
     "name": "stderr",
     "output_type": "stream",
     "text": [
      "2024-03-06 02:20:27,583 [INFO] Base - [id:1158555867] Fetched 12 reviews (45608 fetched in total)\n",
      "2024-03-06 02:20:32,747 [INFO] Base - [id:1158555867] Fetched 12 reviews (45620 fetched in total)\n",
      "2024-03-06 02:20:37,862 [INFO] Base - [id:1158555867] Fetched 12 reviews (45632 fetched in total)\n",
      "2024-03-06 02:20:42,980 [INFO] Base - [id:1158555867] Fetched 12 reviews (45644 fetched in total)\n",
      "2024-03-06 02:20:48,129 [INFO] Base - [id:1158555867] Fetched 12 reviews (45656 fetched in total)\n"
     ]
    },
    {
     "name": "stdout",
     "output_type": "stream",
     "text": [
      "Saved 51000 reviews to 1158555867_reviews_51000.csv\n"
     ]
    },
    {
     "name": "stderr",
     "output_type": "stream",
     "text": [
      "2024-03-06 02:20:53,544 [INFO] Base - [id:1158555867] Fetched 12 reviews (45668 fetched in total)\n",
      "2024-03-06 02:20:58,677 [INFO] Base - [id:1158555867] Fetched 12 reviews (45680 fetched in total)\n",
      "2024-03-06 02:21:03,809 [INFO] Base - [id:1158555867] Fetched 12 reviews (45692 fetched in total)\n",
      "2024-03-06 02:21:08,918 [INFO] Base - [id:1158555867] Fetched 12 reviews (45704 fetched in total)\n",
      "2024-03-06 02:21:14,018 [INFO] Base - [id:1158555867] Fetched 12 reviews (45716 fetched in total)\n"
     ]
    },
    {
     "name": "stdout",
     "output_type": "stream",
     "text": [
      "Saved 51100 reviews to 1158555867_reviews_51100.csv\n"
     ]
    },
    {
     "name": "stderr",
     "output_type": "stream",
     "text": [
      "2024-03-06 02:21:19,429 [INFO] Base - [id:1158555867] Fetched 12 reviews (45728 fetched in total)\n",
      "2024-03-06 02:21:24,534 [INFO] Base - [id:1158555867] Fetched 12 reviews (45740 fetched in total)\n",
      "2024-03-06 02:21:29,639 [INFO] Base - [id:1158555867] Fetched 12 reviews (45752 fetched in total)\n",
      "2024-03-06 02:21:34,762 [INFO] Base - [id:1158555867] Fetched 12 reviews (45764 fetched in total)\n",
      "2024-03-06 02:21:39,880 [INFO] Base - [id:1158555867] Fetched 12 reviews (45776 fetched in total)\n"
     ]
    },
    {
     "name": "stdout",
     "output_type": "stream",
     "text": [
      "Saved 51200 reviews to 1158555867_reviews_51200.csv\n"
     ]
    },
    {
     "name": "stderr",
     "output_type": "stream",
     "text": [
      "2024-03-06 02:21:45,285 [INFO] Base - [id:1158555867] Fetched 12 reviews (45788 fetched in total)\n",
      "2024-03-06 02:21:50,430 [INFO] Base - [id:1158555867] Fetched 12 reviews (45800 fetched in total)\n",
      "2024-03-06 02:21:55,549 [INFO] Base - [id:1158555867] Fetched 12 reviews (45812 fetched in total)\n",
      "2024-03-06 02:22:00,673 [INFO] Base - [id:1158555867] Fetched 12 reviews (45824 fetched in total)\n",
      "2024-03-06 02:22:05,824 [INFO] Base - [id:1158555867] Fetched 12 reviews (45836 fetched in total)\n"
     ]
    },
    {
     "name": "stdout",
     "output_type": "stream",
     "text": [
      "Saved 51300 reviews to 1158555867_reviews_51300.csv\n"
     ]
    },
    {
     "name": "stderr",
     "output_type": "stream",
     "text": [
      "2024-03-06 02:22:11,252 [INFO] Base - [id:1158555867] Fetched 12 reviews (45848 fetched in total)\n",
      "2024-03-06 02:22:16,368 [INFO] Base - [id:1158555867] Fetched 12 reviews (45860 fetched in total)\n",
      "2024-03-06 02:22:21,495 [INFO] Base - [id:1158555867] Fetched 12 reviews (45872 fetched in total)\n",
      "2024-03-06 02:22:26,621 [INFO] Base - [id:1158555867] Fetched 12 reviews (45884 fetched in total)\n",
      "2024-03-06 02:22:31,758 [INFO] Base - [id:1158555867] Fetched 12 reviews (45896 fetched in total)\n"
     ]
    },
    {
     "name": "stdout",
     "output_type": "stream",
     "text": [
      "Saved 51400 reviews to 1158555867_reviews_51400.csv\n"
     ]
    },
    {
     "name": "stderr",
     "output_type": "stream",
     "text": [
      "2024-03-06 02:22:37,200 [INFO] Base - [id:1158555867] Fetched 12 reviews (45908 fetched in total)\n",
      "2024-03-06 02:22:42,310 [INFO] Base - [id:1158555867] Fetched 12 reviews (45920 fetched in total)\n",
      "2024-03-06 02:22:47,433 [INFO] Base - [id:1158555867] Fetched 12 reviews (45932 fetched in total)\n",
      "2024-03-06 02:22:52,551 [INFO] Base - [id:1158555867] Fetched 12 reviews (45944 fetched in total)\n",
      "2024-03-06 02:22:57,803 [INFO] Base - [id:1158555867] Fetched 12 reviews (45956 fetched in total)\n"
     ]
    },
    {
     "name": "stdout",
     "output_type": "stream",
     "text": [
      "Saved 51500 reviews to 1158555867_reviews_51500.csv\n"
     ]
    },
    {
     "name": "stderr",
     "output_type": "stream",
     "text": [
      "2024-03-06 02:23:03,215 [INFO] Base - [id:1158555867] Fetched 12 reviews (45968 fetched in total)\n",
      "2024-03-06 02:23:08,349 [INFO] Base - [id:1158555867] Fetched 12 reviews (45980 fetched in total)\n",
      "2024-03-06 02:23:13,508 [INFO] Base - [id:1158555867] Fetched 12 reviews (45992 fetched in total)\n",
      "2024-03-06 02:23:18,640 [INFO] Base - [id:1158555867] Fetched 12 reviews (46004 fetched in total)\n",
      "2024-03-06 02:23:23,751 [INFO] Base - [id:1158555867] Fetched 12 reviews (46016 fetched in total)\n"
     ]
    },
    {
     "name": "stdout",
     "output_type": "stream",
     "text": [
      "Saved 51600 reviews to 1158555867_reviews_51600.csv\n"
     ]
    },
    {
     "name": "stderr",
     "output_type": "stream",
     "text": [
      "2024-03-06 02:23:29,135 [INFO] Base - [id:1158555867] Fetched 12 reviews (46028 fetched in total)\n",
      "2024-03-06 02:23:34,277 [INFO] Base - [id:1158555867] Fetched 12 reviews (46040 fetched in total)\n",
      "2024-03-06 02:23:39,394 [INFO] Base - [id:1158555867] Fetched 12 reviews (46052 fetched in total)\n",
      "2024-03-06 02:23:44,528 [INFO] Base - [id:1158555867] Fetched 12 reviews (46064 fetched in total)\n",
      "2024-03-06 02:23:49,663 [INFO] Base - [id:1158555867] Fetched 12 reviews (46076 fetched in total)\n"
     ]
    },
    {
     "name": "stdout",
     "output_type": "stream",
     "text": [
      "Saved 51700 reviews to 1158555867_reviews_51700.csv\n"
     ]
    },
    {
     "name": "stderr",
     "output_type": "stream",
     "text": [
      "2024-03-06 02:23:55,063 [INFO] Base - [id:1158555867] Fetched 12 reviews (46088 fetched in total)\n",
      "2024-03-06 02:24:00,188 [INFO] Base - [id:1158555867] Fetched 12 reviews (46100 fetched in total)\n",
      "2024-03-06 02:24:05,312 [INFO] Base - [id:1158555867] Fetched 12 reviews (46112 fetched in total)\n",
      "2024-03-06 02:24:10,428 [INFO] Base - [id:1158555867] Fetched 12 reviews (46124 fetched in total)\n",
      "2024-03-06 02:24:15,558 [INFO] Base - [id:1158555867] Fetched 12 reviews (46136 fetched in total)\n"
     ]
    },
    {
     "name": "stdout",
     "output_type": "stream",
     "text": [
      "Saved 51800 reviews to 1158555867_reviews_51800.csv\n"
     ]
    },
    {
     "name": "stderr",
     "output_type": "stream",
     "text": [
      "2024-03-06 02:24:20,956 [INFO] Base - [id:1158555867] Fetched 12 reviews (46148 fetched in total)\n",
      "2024-03-06 02:24:26,062 [INFO] Base - [id:1158555867] Fetched 12 reviews (46160 fetched in total)\n",
      "2024-03-06 02:24:31,195 [INFO] Base - [id:1158555867] Fetched 12 reviews (46172 fetched in total)\n",
      "2024-03-06 02:24:36,299 [INFO] Base - [id:1158555867] Fetched 12 reviews (46184 fetched in total)\n",
      "2024-03-06 02:24:41,421 [INFO] Base - [id:1158555867] Fetched 12 reviews (46196 fetched in total)\n"
     ]
    },
    {
     "name": "stdout",
     "output_type": "stream",
     "text": [
      "Saved 51900 reviews to 1158555867_reviews_51900.csv\n"
     ]
    },
    {
     "name": "stderr",
     "output_type": "stream",
     "text": [
      "2024-03-06 02:24:46,851 [INFO] Base - [id:1158555867] Fetched 12 reviews (46208 fetched in total)\n",
      "2024-03-06 02:24:51,995 [INFO] Base - [id:1158555867] Fetched 12 reviews (46220 fetched in total)\n",
      "2024-03-06 02:24:57,109 [INFO] Base - [id:1158555867] Fetched 12 reviews (46232 fetched in total)\n",
      "2024-03-06 02:25:02,223 [INFO] Base - [id:1158555867] Fetched 12 reviews (46244 fetched in total)\n",
      "2024-03-06 02:25:07,332 [INFO] Base - [id:1158555867] Fetched 12 reviews (46256 fetched in total)\n"
     ]
    },
    {
     "name": "stdout",
     "output_type": "stream",
     "text": [
      "Saved 52000 reviews to 1158555867_reviews_52000.csv\n"
     ]
    },
    {
     "name": "stderr",
     "output_type": "stream",
     "text": [
      "2024-03-06 02:25:12,758 [INFO] Base - [id:1158555867] Fetched 12 reviews (46268 fetched in total)\n",
      "2024-03-06 02:25:17,865 [INFO] Base - [id:1158555867] Fetched 12 reviews (46280 fetched in total)\n",
      "2024-03-06 02:25:22,974 [INFO] Base - [id:1158555867] Fetched 12 reviews (46292 fetched in total)\n",
      "2024-03-06 02:25:28,118 [INFO] Base - [id:1158555867] Fetched 12 reviews (46304 fetched in total)\n",
      "2024-03-06 02:25:33,234 [INFO] Base - [id:1158555867] Fetched 12 reviews (46316 fetched in total)\n"
     ]
    },
    {
     "name": "stdout",
     "output_type": "stream",
     "text": [
      "Saved 52100 reviews to 1158555867_reviews_52100.csv\n"
     ]
    },
    {
     "name": "stderr",
     "output_type": "stream",
     "text": [
      "2024-03-06 02:25:38,645 [INFO] Base - [id:1158555867] Fetched 12 reviews (46328 fetched in total)\n",
      "2024-03-06 02:25:43,775 [INFO] Base - [id:1158555867] Fetched 12 reviews (46340 fetched in total)\n",
      "2024-03-06 02:25:48,890 [INFO] Base - [id:1158555867] Fetched 12 reviews (46352 fetched in total)\n",
      "2024-03-06 02:25:54,018 [INFO] Base - [id:1158555867] Fetched 12 reviews (46364 fetched in total)\n",
      "2024-03-06 02:25:59,167 [INFO] Base - [id:1158555867] Fetched 12 reviews (46376 fetched in total)\n"
     ]
    },
    {
     "name": "stdout",
     "output_type": "stream",
     "text": [
      "Saved 52200 reviews to 1158555867_reviews_52200.csv\n"
     ]
    },
    {
     "name": "stderr",
     "output_type": "stream",
     "text": [
      "2024-03-06 02:26:04,588 [INFO] Base - [id:1158555867] Fetched 12 reviews (46388 fetched in total)\n",
      "2024-03-06 02:26:09,695 [INFO] Base - [id:1158555867] Fetched 12 reviews (46400 fetched in total)\n",
      "2024-03-06 02:26:14,817 [INFO] Base - [id:1158555867] Fetched 12 reviews (46412 fetched in total)\n",
      "2024-03-06 02:26:19,916 [INFO] Base - [id:1158555867] Fetched 12 reviews (46424 fetched in total)\n",
      "2024-03-06 02:26:25,013 [INFO] Base - [id:1158555867] Fetched 12 reviews (46436 fetched in total)\n"
     ]
    },
    {
     "name": "stdout",
     "output_type": "stream",
     "text": [
      "Saved 52300 reviews to 1158555867_reviews_52300.csv\n"
     ]
    },
    {
     "name": "stderr",
     "output_type": "stream",
     "text": [
      "2024-03-06 02:26:30,428 [INFO] Base - [id:1158555867] Fetched 12 reviews (46448 fetched in total)\n",
      "2024-03-06 02:26:35,548 [INFO] Base - [id:1158555867] Fetched 12 reviews (46460 fetched in total)\n",
      "2024-03-06 02:26:40,655 [INFO] Base - [id:1158555867] Fetched 12 reviews (46472 fetched in total)\n",
      "2024-03-06 02:26:45,778 [INFO] Base - [id:1158555867] Fetched 12 reviews (46484 fetched in total)\n",
      "2024-03-06 02:26:50,885 [INFO] Base - [id:1158555867] Fetched 12 reviews (46496 fetched in total)\n"
     ]
    },
    {
     "name": "stdout",
     "output_type": "stream",
     "text": [
      "Saved 52400 reviews to 1158555867_reviews_52400.csv\n"
     ]
    },
    {
     "name": "stderr",
     "output_type": "stream",
     "text": [
      "2024-03-06 02:26:56,296 [INFO] Base - [id:1158555867] Fetched 12 reviews (46508 fetched in total)\n",
      "2024-03-06 02:27:01,432 [INFO] Base - [id:1158555867] Fetched 12 reviews (46520 fetched in total)\n",
      "2024-03-06 02:27:06,542 [INFO] Base - [id:1158555867] Fetched 12 reviews (46532 fetched in total)\n",
      "2024-03-06 02:27:11,644 [INFO] Base - [id:1158555867] Fetched 12 reviews (46544 fetched in total)\n",
      "2024-03-06 02:27:16,753 [INFO] Base - [id:1158555867] Fetched 12 reviews (46556 fetched in total)\n"
     ]
    },
    {
     "name": "stdout",
     "output_type": "stream",
     "text": [
      "Saved 52500 reviews to 1158555867_reviews_52500.csv\n"
     ]
    },
    {
     "name": "stderr",
     "output_type": "stream",
     "text": [
      "2024-03-06 02:27:22,163 [INFO] Base - [id:1158555867] Fetched 12 reviews (46568 fetched in total)\n",
      "2024-03-06 02:27:27,289 [INFO] Base - [id:1158555867] Fetched 12 reviews (46580 fetched in total)\n",
      "2024-03-06 02:27:32,393 [INFO] Base - [id:1158555867] Fetched 12 reviews (46592 fetched in total)\n",
      "2024-03-06 02:27:37,481 [INFO] Base - [id:1158555867] Fetched 12 reviews (46604 fetched in total)\n",
      "2024-03-06 02:27:42,614 [INFO] Base - [id:1158555867] Fetched 12 reviews (46616 fetched in total)\n"
     ]
    },
    {
     "name": "stdout",
     "output_type": "stream",
     "text": [
      "Saved 52600 reviews to 1158555867_reviews_52600.csv\n"
     ]
    },
    {
     "name": "stderr",
     "output_type": "stream",
     "text": [
      "2024-03-06 02:27:48,014 [INFO] Base - [id:1158555867] Fetched 12 reviews (46628 fetched in total)\n",
      "2024-03-06 02:27:53,140 [INFO] Base - [id:1158555867] Fetched 12 reviews (46640 fetched in total)\n",
      "2024-03-06 02:27:58,281 [INFO] Base - [id:1158555867] Fetched 12 reviews (46652 fetched in total)\n",
      "2024-03-06 02:28:03,393 [INFO] Base - [id:1158555867] Fetched 12 reviews (46664 fetched in total)\n",
      "2024-03-06 02:28:08,518 [INFO] Base - [id:1158555867] Fetched 12 reviews (46676 fetched in total)\n"
     ]
    },
    {
     "name": "stdout",
     "output_type": "stream",
     "text": [
      "Saved 52700 reviews to 1158555867_reviews_52700.csv\n"
     ]
    },
    {
     "name": "stderr",
     "output_type": "stream",
     "text": [
      "2024-03-06 02:28:13,933 [INFO] Base - [id:1158555867] Fetched 12 reviews (46688 fetched in total)\n",
      "2024-03-06 02:28:19,064 [INFO] Base - [id:1158555867] Fetched 12 reviews (46700 fetched in total)\n",
      "2024-03-06 02:28:24,175 [INFO] Base - [id:1158555867] Fetched 12 reviews (46712 fetched in total)\n",
      "2024-03-06 02:28:29,308 [INFO] Base - [id:1158555867] Fetched 12 reviews (46724 fetched in total)\n",
      "2024-03-06 02:28:34,439 [INFO] Base - [id:1158555867] Fetched 12 reviews (46736 fetched in total)\n"
     ]
    },
    {
     "name": "stdout",
     "output_type": "stream",
     "text": [
      "Saved 52800 reviews to 1158555867_reviews_52800.csv\n"
     ]
    },
    {
     "name": "stderr",
     "output_type": "stream",
     "text": [
      "2024-03-06 02:28:39,854 [INFO] Base - [id:1158555867] Fetched 12 reviews (46748 fetched in total)\n",
      "2024-03-06 02:28:44,981 [INFO] Base - [id:1158555867] Fetched 12 reviews (46760 fetched in total)\n",
      "2024-03-06 02:28:50,121 [INFO] Base - [id:1158555867] Fetched 12 reviews (46772 fetched in total)\n",
      "2024-03-06 02:28:55,331 [INFO] Base - [id:1158555867] Fetched 12 reviews (46784 fetched in total)\n",
      "2024-03-06 02:29:00,446 [INFO] Base - [id:1158555867] Fetched 12 reviews (46796 fetched in total)\n"
     ]
    },
    {
     "name": "stdout",
     "output_type": "stream",
     "text": [
      "Saved 52900 reviews to 1158555867_reviews_52900.csv\n"
     ]
    },
    {
     "name": "stderr",
     "output_type": "stream",
     "text": [
      "2024-03-06 02:29:05,899 [INFO] Base - [id:1158555867] Fetched 12 reviews (46808 fetched in total)\n",
      "2024-03-06 02:29:11,039 [INFO] Base - [id:1158555867] Fetched 12 reviews (46820 fetched in total)\n",
      "2024-03-06 02:29:16,149 [INFO] Base - [id:1158555867] Fetched 12 reviews (46832 fetched in total)\n",
      "2024-03-06 02:29:21,273 [INFO] Base - [id:1158555867] Fetched 12 reviews (46844 fetched in total)\n",
      "2024-03-06 02:29:26,384 [INFO] Base - [id:1158555867] Fetched 12 reviews (46856 fetched in total)\n"
     ]
    },
    {
     "name": "stdout",
     "output_type": "stream",
     "text": [
      "Saved 53000 reviews to 1158555867_reviews_53000.csv\n"
     ]
    },
    {
     "name": "stderr",
     "output_type": "stream",
     "text": [
      "2024-03-06 02:29:31,865 [INFO] Base - [id:1158555867] Fetched 12 reviews (46868 fetched in total)\n",
      "2024-03-06 02:29:36,967 [INFO] Base - [id:1158555867] Fetched 12 reviews (46880 fetched in total)\n",
      "2024-03-06 02:29:42,086 [INFO] Base - [id:1158555867] Fetched 12 reviews (46892 fetched in total)\n",
      "2024-03-06 02:29:47,199 [INFO] Base - [id:1158555867] Fetched 12 reviews (46904 fetched in total)\n",
      "2024-03-06 02:29:52,366 [INFO] Base - [id:1158555867] Fetched 12 reviews (46916 fetched in total)\n"
     ]
    },
    {
     "name": "stdout",
     "output_type": "stream",
     "text": [
      "Saved 53100 reviews to 1158555867_reviews_53100.csv\n"
     ]
    },
    {
     "name": "stderr",
     "output_type": "stream",
     "text": [
      "2024-03-06 02:29:57,745 [INFO] Base - [id:1158555867] Fetched 12 reviews (46928 fetched in total)\n",
      "2024-03-06 02:30:02,886 [INFO] Base - [id:1158555867] Fetched 12 reviews (46940 fetched in total)\n",
      "2024-03-06 02:30:08,012 [INFO] Base - [id:1158555867] Fetched 12 reviews (46952 fetched in total)\n",
      "2024-03-06 02:30:13,129 [INFO] Base - [id:1158555867] Fetched 12 reviews (46964 fetched in total)\n",
      "2024-03-06 02:30:18,255 [INFO] Base - [id:1158555867] Fetched 12 reviews (46976 fetched in total)\n"
     ]
    },
    {
     "name": "stdout",
     "output_type": "stream",
     "text": [
      "Saved 53200 reviews to 1158555867_reviews_53200.csv\n"
     ]
    },
    {
     "name": "stderr",
     "output_type": "stream",
     "text": [
      "2024-03-06 02:30:23,654 [INFO] Base - [id:1158555867] Fetched 12 reviews (46988 fetched in total)\n",
      "2024-03-06 02:30:28,758 [INFO] Base - [id:1158555867] Fetched 12 reviews (47000 fetched in total)\n",
      "2024-03-06 02:30:33,889 [INFO] Base - [id:1158555867] Fetched 12 reviews (47012 fetched in total)\n",
      "2024-03-06 02:30:39,003 [INFO] Base - [id:1158555867] Fetched 12 reviews (47024 fetched in total)\n",
      "2024-03-06 02:30:44,119 [INFO] Base - [id:1158555867] Fetched 12 reviews (47036 fetched in total)\n"
     ]
    },
    {
     "name": "stdout",
     "output_type": "stream",
     "text": [
      "Saved 53300 reviews to 1158555867_reviews_53300.csv\n"
     ]
    },
    {
     "name": "stderr",
     "output_type": "stream",
     "text": [
      "2024-03-06 02:30:49,536 [INFO] Base - [id:1158555867] Fetched 12 reviews (47048 fetched in total)\n",
      "2024-03-06 02:30:54,657 [INFO] Base - [id:1158555867] Fetched 12 reviews (47060 fetched in total)\n",
      "2024-03-06 02:30:59,762 [INFO] Base - [id:1158555867] Fetched 12 reviews (47072 fetched in total)\n",
      "2024-03-06 02:31:04,901 [INFO] Base - [id:1158555867] Fetched 12 reviews (47084 fetched in total)\n",
      "2024-03-06 02:31:10,004 [INFO] Base - [id:1158555867] Fetched 12 reviews (47096 fetched in total)\n"
     ]
    },
    {
     "name": "stdout",
     "output_type": "stream",
     "text": [
      "Saved 53400 reviews to 1158555867_reviews_53400.csv\n"
     ]
    },
    {
     "name": "stderr",
     "output_type": "stream",
     "text": [
      "2024-03-06 02:31:15,413 [INFO] Base - [id:1158555867] Fetched 12 reviews (47108 fetched in total)\n",
      "2024-03-06 02:31:20,522 [INFO] Base - [id:1158555867] Fetched 12 reviews (47120 fetched in total)\n",
      "2024-03-06 02:31:25,669 [INFO] Base - [id:1158555867] Fetched 12 reviews (47132 fetched in total)\n",
      "2024-03-06 02:31:30,829 [INFO] Base - [id:1158555867] Fetched 12 reviews (47144 fetched in total)\n",
      "2024-03-06 02:31:35,952 [INFO] Base - [id:1158555867] Fetched 12 reviews (47156 fetched in total)\n"
     ]
    },
    {
     "name": "stdout",
     "output_type": "stream",
     "text": [
      "Saved 53500 reviews to 1158555867_reviews_53500.csv\n"
     ]
    },
    {
     "name": "stderr",
     "output_type": "stream",
     "text": [
      "2024-03-06 02:31:41,359 [INFO] Base - [id:1158555867] Fetched 12 reviews (47168 fetched in total)\n",
      "2024-03-06 02:31:46,509 [INFO] Base - [id:1158555867] Fetched 12 reviews (47180 fetched in total)\n",
      "2024-03-06 02:31:51,640 [INFO] Base - [id:1158555867] Fetched 12 reviews (47192 fetched in total)\n",
      "2024-03-06 02:31:56,759 [INFO] Base - [id:1158555867] Fetched 12 reviews (47204 fetched in total)\n",
      "2024-03-06 02:32:01,865 [INFO] Base - [id:1158555867] Fetched 12 reviews (47216 fetched in total)\n"
     ]
    },
    {
     "name": "stdout",
     "output_type": "stream",
     "text": [
      "Saved 53600 reviews to 1158555867_reviews_53600.csv\n"
     ]
    },
    {
     "name": "stderr",
     "output_type": "stream",
     "text": [
      "2024-03-06 02:32:07,297 [INFO] Base - [id:1158555867] Fetched 12 reviews (47228 fetched in total)\n",
      "2024-03-06 02:32:12,415 [INFO] Base - [id:1158555867] Fetched 12 reviews (47240 fetched in total)\n",
      "2024-03-06 02:32:17,540 [INFO] Base - [id:1158555867] Fetched 12 reviews (47252 fetched in total)\n",
      "2024-03-06 02:32:22,725 [INFO] Base - [id:1158555867] Fetched 12 reviews (47264 fetched in total)\n",
      "2024-03-06 02:32:27,826 [INFO] Base - [id:1158555867] Fetched 12 reviews (47276 fetched in total)\n"
     ]
    },
    {
     "name": "stdout",
     "output_type": "stream",
     "text": [
      "Saved 53700 reviews to 1158555867_reviews_53700.csv\n"
     ]
    },
    {
     "name": "stderr",
     "output_type": "stream",
     "text": [
      "2024-03-06 02:32:33,243 [INFO] Base - [id:1158555867] Fetched 12 reviews (47288 fetched in total)\n",
      "2024-03-06 02:32:38,372 [INFO] Base - [id:1158555867] Fetched 12 reviews (47300 fetched in total)\n",
      "2024-03-06 02:32:43,498 [INFO] Base - [id:1158555867] Fetched 12 reviews (47312 fetched in total)\n",
      "2024-03-06 02:32:48,626 [INFO] Base - [id:1158555867] Fetched 12 reviews (47324 fetched in total)\n",
      "2024-03-06 02:32:53,749 [INFO] Base - [id:1158555867] Fetched 12 reviews (47336 fetched in total)\n"
     ]
    },
    {
     "name": "stdout",
     "output_type": "stream",
     "text": [
      "Saved 53800 reviews to 1158555867_reviews_53800.csv\n"
     ]
    },
    {
     "name": "stderr",
     "output_type": "stream",
     "text": [
      "2024-03-06 02:32:59,153 [INFO] Base - [id:1158555867] Fetched 12 reviews (47348 fetched in total)\n",
      "2024-03-06 02:33:04,279 [INFO] Base - [id:1158555867] Fetched 12 reviews (47360 fetched in total)\n",
      "2024-03-06 02:33:09,425 [INFO] Base - [id:1158555867] Fetched 12 reviews (47372 fetched in total)\n",
      "2024-03-06 02:33:14,537 [INFO] Base - [id:1158555867] Fetched 12 reviews (47384 fetched in total)\n",
      "2024-03-06 02:33:19,661 [INFO] Base - [id:1158555867] Fetched 12 reviews (47396 fetched in total)\n"
     ]
    },
    {
     "name": "stdout",
     "output_type": "stream",
     "text": [
      "Saved 53900 reviews to 1158555867_reviews_53900.csv\n"
     ]
    },
    {
     "name": "stderr",
     "output_type": "stream",
     "text": [
      "2024-03-06 02:33:25,081 [INFO] Base - [id:1158555867] Fetched 12 reviews (47408 fetched in total)\n",
      "2024-03-06 02:33:30,193 [INFO] Base - [id:1158555867] Fetched 12 reviews (47420 fetched in total)\n",
      "2024-03-06 02:33:35,308 [INFO] Base - [id:1158555867] Fetched 12 reviews (47432 fetched in total)\n",
      "2024-03-06 02:33:40,535 [INFO] Base - [id:1158555867] Fetched 12 reviews (47444 fetched in total)\n",
      "2024-03-06 02:33:45,638 [INFO] Base - [id:1158555867] Fetched 12 reviews (47456 fetched in total)\n"
     ]
    },
    {
     "name": "stdout",
     "output_type": "stream",
     "text": [
      "Saved 54000 reviews to 1158555867_reviews_54000.csv\n"
     ]
    },
    {
     "name": "stderr",
     "output_type": "stream",
     "text": [
      "2024-03-06 02:33:51,053 [INFO] Base - [id:1158555867] Fetched 12 reviews (47468 fetched in total)\n",
      "2024-03-06 02:33:56,164 [INFO] Base - [id:1158555867] Fetched 12 reviews (47480 fetched in total)\n",
      "2024-03-06 02:34:01,286 [INFO] Base - [id:1158555867] Fetched 12 reviews (47492 fetched in total)\n",
      "2024-03-06 02:34:06,428 [INFO] Base - [id:1158555867] Fetched 12 reviews (47504 fetched in total)\n",
      "2024-03-06 02:34:11,542 [INFO] Base - [id:1158555867] Fetched 12 reviews (47516 fetched in total)\n"
     ]
    },
    {
     "name": "stdout",
     "output_type": "stream",
     "text": [
      "Saved 54100 reviews to 1158555867_reviews_54100.csv\n"
     ]
    },
    {
     "name": "stderr",
     "output_type": "stream",
     "text": [
      "2024-03-06 02:34:16,940 [INFO] Base - [id:1158555867] Fetched 12 reviews (47528 fetched in total)\n",
      "2024-03-06 02:34:22,092 [INFO] Base - [id:1158555867] Fetched 12 reviews (47540 fetched in total)\n",
      "2024-03-06 02:34:27,205 [INFO] Base - [id:1158555867] Fetched 12 reviews (47552 fetched in total)\n",
      "2024-03-06 02:34:32,315 [INFO] Base - [id:1158555867] Fetched 12 reviews (47564 fetched in total)\n",
      "2024-03-06 02:34:37,457 [INFO] Base - [id:1158555867] Fetched 12 reviews (47576 fetched in total)\n"
     ]
    },
    {
     "name": "stdout",
     "output_type": "stream",
     "text": [
      "Saved 54200 reviews to 1158555867_reviews_54200.csv\n"
     ]
    },
    {
     "name": "stderr",
     "output_type": "stream",
     "text": [
      "2024-03-06 02:34:42,972 [INFO] Base - [id:1158555867] Fetched 12 reviews (47588 fetched in total)\n",
      "2024-03-06 02:34:48,087 [INFO] Base - [id:1158555867] Fetched 12 reviews (47600 fetched in total)\n",
      "2024-03-06 02:34:53,203 [INFO] Base - [id:1158555867] Fetched 12 reviews (47612 fetched in total)\n",
      "2024-03-06 02:34:58,342 [INFO] Base - [id:1158555867] Fetched 12 reviews (47624 fetched in total)\n",
      "2024-03-06 02:35:03,463 [INFO] Base - [id:1158555867] Fetched 12 reviews (47636 fetched in total)\n"
     ]
    },
    {
     "name": "stdout",
     "output_type": "stream",
     "text": [
      "Saved 54300 reviews to 1158555867_reviews_54300.csv\n"
     ]
    },
    {
     "name": "stderr",
     "output_type": "stream",
     "text": [
      "2024-03-06 02:35:08,889 [INFO] Base - [id:1158555867] Fetched 12 reviews (47648 fetched in total)\n",
      "2024-03-06 02:35:14,024 [INFO] Base - [id:1158555867] Fetched 12 reviews (47660 fetched in total)\n",
      "2024-03-06 02:35:19,139 [INFO] Base - [id:1158555867] Fetched 12 reviews (47672 fetched in total)\n",
      "2024-03-06 02:35:24,245 [INFO] Base - [id:1158555867] Fetched 12 reviews (47684 fetched in total)\n",
      "2024-03-06 02:35:29,388 [INFO] Base - [id:1158555867] Fetched 12 reviews (47696 fetched in total)\n"
     ]
    },
    {
     "name": "stdout",
     "output_type": "stream",
     "text": [
      "Saved 54400 reviews to 1158555867_reviews_54400.csv\n"
     ]
    },
    {
     "name": "stderr",
     "output_type": "stream",
     "text": [
      "2024-03-06 02:35:34,792 [INFO] Base - [id:1158555867] Fetched 12 reviews (47708 fetched in total)\n",
      "2024-03-06 02:35:39,903 [INFO] Base - [id:1158555867] Fetched 12 reviews (47720 fetched in total)\n",
      "2024-03-06 02:35:45,039 [INFO] Base - [id:1158555867] Fetched 12 reviews (47732 fetched in total)\n",
      "2024-03-06 02:35:50,171 [INFO] Base - [id:1158555867] Fetched 12 reviews (47744 fetched in total)\n",
      "2024-03-06 02:35:55,288 [INFO] Base - [id:1158555867] Fetched 12 reviews (47756 fetched in total)\n"
     ]
    },
    {
     "name": "stdout",
     "output_type": "stream",
     "text": [
      "Saved 54500 reviews to 1158555867_reviews_54500.csv\n"
     ]
    },
    {
     "name": "stderr",
     "output_type": "stream",
     "text": [
      "2024-03-06 02:36:00,706 [INFO] Base - [id:1158555867] Fetched 12 reviews (47768 fetched in total)\n",
      "2024-03-06 02:36:05,827 [INFO] Base - [id:1158555867] Fetched 12 reviews (47780 fetched in total)\n",
      "2024-03-06 02:36:10,931 [INFO] Base - [id:1158555867] Fetched 12 reviews (47792 fetched in total)\n",
      "2024-03-06 02:36:16,040 [INFO] Base - [id:1158555867] Fetched 12 reviews (47804 fetched in total)\n",
      "2024-03-06 02:36:21,162 [INFO] Base - [id:1158555867] Fetched 12 reviews (47816 fetched in total)\n"
     ]
    },
    {
     "name": "stdout",
     "output_type": "stream",
     "text": [
      "Saved 54600 reviews to 1158555867_reviews_54600.csv\n"
     ]
    },
    {
     "name": "stderr",
     "output_type": "stream",
     "text": [
      "2024-03-06 02:36:26,566 [INFO] Base - [id:1158555867] Fetched 12 reviews (47828 fetched in total)\n",
      "2024-03-06 02:36:31,677 [INFO] Base - [id:1158555867] Fetched 12 reviews (47840 fetched in total)\n",
      "2024-03-06 02:36:36,806 [INFO] Base - [id:1158555867] Fetched 12 reviews (47852 fetched in total)\n",
      "2024-03-06 02:36:41,924 [INFO] Base - [id:1158555867] Fetched 12 reviews (47864 fetched in total)\n",
      "2024-03-06 02:36:47,032 [INFO] Base - [id:1158555867] Fetched 12 reviews (47876 fetched in total)\n"
     ]
    },
    {
     "name": "stdout",
     "output_type": "stream",
     "text": [
      "Saved 54700 reviews to 1158555867_reviews_54700.csv\n"
     ]
    },
    {
     "name": "stderr",
     "output_type": "stream",
     "text": [
      "2024-03-06 02:36:52,471 [INFO] Base - [id:1158555867] Fetched 12 reviews (47888 fetched in total)\n",
      "2024-03-06 02:36:57,577 [INFO] Base - [id:1158555867] Fetched 12 reviews (47900 fetched in total)\n",
      "2024-03-06 02:37:02,703 [INFO] Base - [id:1158555867] Fetched 12 reviews (47912 fetched in total)\n",
      "2024-03-06 02:37:07,835 [INFO] Base - [id:1158555867] Fetched 12 reviews (47924 fetched in total)\n",
      "2024-03-06 02:37:12,944 [INFO] Base - [id:1158555867] Fetched 12 reviews (47936 fetched in total)\n"
     ]
    },
    {
     "name": "stdout",
     "output_type": "stream",
     "text": [
      "Saved 54800 reviews to 1158555867_reviews_54800.csv\n"
     ]
    },
    {
     "name": "stderr",
     "output_type": "stream",
     "text": [
      "2024-03-06 02:37:18,349 [INFO] Base - [id:1158555867] Fetched 12 reviews (47948 fetched in total)\n",
      "2024-03-06 02:37:23,478 [INFO] Base - [id:1158555867] Fetched 12 reviews (47960 fetched in total)\n",
      "2024-03-06 02:37:28,596 [INFO] Base - [id:1158555867] Fetched 12 reviews (47972 fetched in total)\n",
      "2024-03-06 02:37:33,712 [INFO] Base - [id:1158555867] Fetched 12 reviews (47984 fetched in total)\n",
      "2024-03-06 02:37:38,842 [INFO] Base - [id:1158555867] Fetched 12 reviews (47996 fetched in total)\n"
     ]
    },
    {
     "name": "stdout",
     "output_type": "stream",
     "text": [
      "Saved 54900 reviews to 1158555867_reviews_54900.csv\n"
     ]
    },
    {
     "name": "stderr",
     "output_type": "stream",
     "text": [
      "2024-03-06 02:37:44,257 [INFO] Base - [id:1158555867] Fetched 12 reviews (48008 fetched in total)\n",
      "2024-03-06 02:37:49,410 [INFO] Base - [id:1158555867] Fetched 12 reviews (48020 fetched in total)\n",
      "2024-03-06 02:37:54,542 [INFO] Base - [id:1158555867] Fetched 12 reviews (48032 fetched in total)\n",
      "2024-03-06 02:37:59,657 [INFO] Base - [id:1158555867] Fetched 12 reviews (48044 fetched in total)\n",
      "2024-03-06 02:38:04,856 [INFO] Base - [id:1158555867] Fetched 12 reviews (48056 fetched in total)\n"
     ]
    },
    {
     "name": "stdout",
     "output_type": "stream",
     "text": [
      "Saved 55000 reviews to 1158555867_reviews_55000.csv\n"
     ]
    },
    {
     "name": "stderr",
     "output_type": "stream",
     "text": [
      "2024-03-06 02:38:10,267 [INFO] Base - [id:1158555867] Fetched 12 reviews (48068 fetched in total)\n",
      "2024-03-06 02:38:15,398 [INFO] Base - [id:1158555867] Fetched 12 reviews (48080 fetched in total)\n",
      "2024-03-06 02:38:20,513 [INFO] Base - [id:1158555867] Fetched 12 reviews (48092 fetched in total)\n",
      "2024-03-06 02:38:25,647 [INFO] Base - [id:1158555867] Fetched 12 reviews (48104 fetched in total)\n",
      "2024-03-06 02:38:30,774 [INFO] Base - [id:1158555867] Fetched 12 reviews (48116 fetched in total)\n"
     ]
    },
    {
     "name": "stdout",
     "output_type": "stream",
     "text": [
      "Saved 55100 reviews to 1158555867_reviews_55100.csv\n"
     ]
    },
    {
     "name": "stderr",
     "output_type": "stream",
     "text": [
      "2024-03-06 02:38:36,228 [INFO] Base - [id:1158555867] Fetched 12 reviews (48128 fetched in total)\n",
      "2024-03-06 02:38:41,349 [INFO] Base - [id:1158555867] Fetched 12 reviews (48140 fetched in total)\n",
      "2024-03-06 02:38:46,468 [INFO] Base - [id:1158555867] Fetched 12 reviews (48152 fetched in total)\n",
      "2024-03-06 02:38:51,604 [INFO] Base - [id:1158555867] Fetched 12 reviews (48164 fetched in total)\n",
      "2024-03-06 02:38:56,722 [INFO] Base - [id:1158555867] Fetched 12 reviews (48176 fetched in total)\n"
     ]
    },
    {
     "name": "stdout",
     "output_type": "stream",
     "text": [
      "Saved 55200 reviews to 1158555867_reviews_55200.csv\n"
     ]
    },
    {
     "name": "stderr",
     "output_type": "stream",
     "text": [
      "2024-03-06 02:39:02,176 [INFO] Base - [id:1158555867] Fetched 12 reviews (48188 fetched in total)\n",
      "2024-03-06 02:39:07,332 [INFO] Base - [id:1158555867] Fetched 12 reviews (48200 fetched in total)\n",
      "2024-03-06 02:39:12,458 [INFO] Base - [id:1158555867] Fetched 12 reviews (48212 fetched in total)\n",
      "2024-03-06 02:39:17,564 [INFO] Base - [id:1158555867] Fetched 12 reviews (48224 fetched in total)\n",
      "2024-03-06 02:39:22,693 [INFO] Base - [id:1158555867] Fetched 12 reviews (48236 fetched in total)\n"
     ]
    },
    {
     "name": "stdout",
     "output_type": "stream",
     "text": [
      "Saved 55300 reviews to 1158555867_reviews_55300.csv\n"
     ]
    },
    {
     "name": "stderr",
     "output_type": "stream",
     "text": [
      "2024-03-06 02:39:28,151 [INFO] Base - [id:1158555867] Fetched 12 reviews (48248 fetched in total)\n",
      "2024-03-06 02:39:33,287 [INFO] Base - [id:1158555867] Fetched 12 reviews (48260 fetched in total)\n",
      "2024-03-06 02:39:38,404 [INFO] Base - [id:1158555867] Fetched 12 reviews (48272 fetched in total)\n",
      "2024-03-06 02:39:43,524 [INFO] Base - [id:1158555867] Fetched 12 reviews (48284 fetched in total)\n",
      "2024-03-06 02:39:48,656 [INFO] Base - [id:1158555867] Fetched 12 reviews (48296 fetched in total)\n"
     ]
    },
    {
     "name": "stdout",
     "output_type": "stream",
     "text": [
      "Saved 55400 reviews to 1158555867_reviews_55400.csv\n"
     ]
    },
    {
     "name": "stderr",
     "output_type": "stream",
     "text": [
      "2024-03-06 02:39:54,099 [INFO] Base - [id:1158555867] Fetched 12 reviews (48308 fetched in total)\n",
      "2024-03-06 02:39:59,219 [INFO] Base - [id:1158555867] Fetched 12 reviews (48320 fetched in total)\n",
      "2024-03-06 02:40:04,346 [INFO] Base - [id:1158555867] Fetched 12 reviews (48332 fetched in total)\n",
      "2024-03-06 02:40:09,466 [INFO] Base - [id:1158555867] Fetched 12 reviews (48344 fetched in total)\n",
      "2024-03-06 02:40:14,581 [INFO] Base - [id:1158555867] Fetched 12 reviews (48356 fetched in total)\n"
     ]
    },
    {
     "name": "stdout",
     "output_type": "stream",
     "text": [
      "Saved 55500 reviews to 1158555867_reviews_55500.csv\n"
     ]
    },
    {
     "name": "stderr",
     "output_type": "stream",
     "text": [
      "2024-03-06 02:40:20,010 [INFO] Base - [id:1158555867] Fetched 12 reviews (48368 fetched in total)\n",
      "2024-03-06 02:40:25,130 [INFO] Base - [id:1158555867] Fetched 12 reviews (48380 fetched in total)\n",
      "2024-03-06 02:40:30,240 [INFO] Base - [id:1158555867] Fetched 12 reviews (48392 fetched in total)\n",
      "2024-03-06 02:40:35,384 [INFO] Base - [id:1158555867] Fetched 12 reviews (48404 fetched in total)\n",
      "2024-03-06 02:40:40,502 [INFO] Base - [id:1158555867] Fetched 12 reviews (48416 fetched in total)\n"
     ]
    },
    {
     "name": "stdout",
     "output_type": "stream",
     "text": [
      "Saved 55600 reviews to 1158555867_reviews_55600.csv\n"
     ]
    },
    {
     "name": "stderr",
     "output_type": "stream",
     "text": [
      "2024-03-06 02:40:45,937 [INFO] Base - [id:1158555867] Fetched 12 reviews (48428 fetched in total)\n",
      "2024-03-06 02:40:51,045 [INFO] Base - [id:1158555867] Fetched 12 reviews (48440 fetched in total)\n",
      "2024-03-06 02:40:56,158 [INFO] Base - [id:1158555867] Fetched 12 reviews (48452 fetched in total)\n",
      "2024-03-06 02:41:01,283 [INFO] Base - [id:1158555867] Fetched 12 reviews (48464 fetched in total)\n",
      "2024-03-06 02:41:06,403 [INFO] Base - [id:1158555867] Fetched 12 reviews (48476 fetched in total)\n"
     ]
    },
    {
     "name": "stdout",
     "output_type": "stream",
     "text": [
      "Saved 55700 reviews to 1158555867_reviews_55700.csv\n"
     ]
    },
    {
     "name": "stderr",
     "output_type": "stream",
     "text": [
      "2024-03-06 02:41:11,817 [INFO] Base - [id:1158555867] Fetched 12 reviews (48488 fetched in total)\n",
      "2024-03-06 02:41:16,952 [INFO] Base - [id:1158555867] Fetched 12 reviews (48500 fetched in total)\n",
      "2024-03-06 02:41:22,083 [INFO] Base - [id:1158555867] Fetched 12 reviews (48512 fetched in total)\n",
      "2024-03-06 02:41:27,211 [INFO] Base - [id:1158555867] Fetched 12 reviews (48524 fetched in total)\n",
      "2024-03-06 02:41:32,333 [INFO] Base - [id:1158555867] Fetched 12 reviews (48536 fetched in total)\n"
     ]
    },
    {
     "name": "stdout",
     "output_type": "stream",
     "text": [
      "Saved 55800 reviews to 1158555867_reviews_55800.csv\n"
     ]
    },
    {
     "name": "stderr",
     "output_type": "stream",
     "text": [
      "2024-03-06 02:41:37,751 [INFO] Base - [id:1158555867] Fetched 12 reviews (48548 fetched in total)\n",
      "2024-03-06 02:41:42,873 [INFO] Base - [id:1158555867] Fetched 12 reviews (48560 fetched in total)\n",
      "2024-03-06 02:41:48,003 [INFO] Base - [id:1158555867] Fetched 12 reviews (48572 fetched in total)\n",
      "2024-03-06 02:41:53,150 [INFO] Base - [id:1158555867] Fetched 12 reviews (48584 fetched in total)\n",
      "2024-03-06 02:41:58,266 [INFO] Base - [id:1158555867] Fetched 12 reviews (48596 fetched in total)\n"
     ]
    },
    {
     "name": "stdout",
     "output_type": "stream",
     "text": [
      "Saved 55900 reviews to 1158555867_reviews_55900.csv\n"
     ]
    },
    {
     "name": "stderr",
     "output_type": "stream",
     "text": [
      "2024-03-06 02:42:03,670 [INFO] Base - [id:1158555867] Fetched 12 reviews (48608 fetched in total)\n",
      "2024-03-06 02:42:08,804 [INFO] Base - [id:1158555867] Fetched 12 reviews (48620 fetched in total)\n",
      "2024-03-06 02:42:13,926 [INFO] Base - [id:1158555867] Fetched 12 reviews (48632 fetched in total)\n",
      "2024-03-06 02:42:19,045 [INFO] Base - [id:1158555867] Fetched 12 reviews (48644 fetched in total)\n",
      "2024-03-06 02:42:24,175 [INFO] Base - [id:1158555867] Fetched 12 reviews (48656 fetched in total)\n"
     ]
    },
    {
     "name": "stdout",
     "output_type": "stream",
     "text": [
      "Saved 56000 reviews to 1158555867_reviews_56000.csv\n"
     ]
    },
    {
     "name": "stderr",
     "output_type": "stream",
     "text": [
      "2024-03-06 02:42:29,576 [INFO] Base - [id:1158555867] Fetched 12 reviews (48668 fetched in total)\n",
      "2024-03-06 02:42:34,685 [INFO] Base - [id:1158555867] Fetched 12 reviews (48680 fetched in total)\n",
      "2024-03-06 02:42:39,847 [INFO] Base - [id:1158555867] Fetched 12 reviews (48692 fetched in total)\n",
      "2024-03-06 02:42:44,964 [INFO] Base - [id:1158555867] Fetched 12 reviews (48704 fetched in total)\n",
      "2024-03-06 02:42:50,080 [INFO] Base - [id:1158555867] Fetched 12 reviews (48716 fetched in total)\n"
     ]
    },
    {
     "name": "stdout",
     "output_type": "stream",
     "text": [
      "Saved 56100 reviews to 1158555867_reviews_56100.csv\n"
     ]
    },
    {
     "name": "stderr",
     "output_type": "stream",
     "text": [
      "2024-03-06 02:42:55,489 [INFO] Base - [id:1158555867] Fetched 12 reviews (48728 fetched in total)\n",
      "2024-03-06 02:43:00,594 [INFO] Base - [id:1158555867] Fetched 12 reviews (48740 fetched in total)\n",
      "2024-03-06 02:43:05,704 [INFO] Base - [id:1158555867] Fetched 12 reviews (48752 fetched in total)\n",
      "2024-03-06 02:43:10,820 [INFO] Base - [id:1158555867] Fetched 12 reviews (48764 fetched in total)\n",
      "2024-03-06 02:43:16,003 [INFO] Base - [id:1158555867] Fetched 12 reviews (48776 fetched in total)\n"
     ]
    },
    {
     "name": "stdout",
     "output_type": "stream",
     "text": [
      "Saved 56200 reviews to 1158555867_reviews_56200.csv\n"
     ]
    },
    {
     "name": "stderr",
     "output_type": "stream",
     "text": [
      "2024-03-06 02:43:21,419 [INFO] Base - [id:1158555867] Fetched 12 reviews (48788 fetched in total)\n",
      "2024-03-06 02:43:26,556 [INFO] Base - [id:1158555867] Fetched 12 reviews (48800 fetched in total)\n",
      "2024-03-06 02:43:31,681 [INFO] Base - [id:1158555867] Fetched 12 reviews (48812 fetched in total)\n",
      "2024-03-06 02:43:36,789 [INFO] Base - [id:1158555867] Fetched 12 reviews (48824 fetched in total)\n",
      "2024-03-06 02:43:41,954 [INFO] Base - [id:1158555867] Fetched 12 reviews (48836 fetched in total)\n"
     ]
    },
    {
     "name": "stdout",
     "output_type": "stream",
     "text": [
      "Saved 56300 reviews to 1158555867_reviews_56300.csv\n"
     ]
    },
    {
     "name": "stderr",
     "output_type": "stream",
     "text": [
      "2024-03-06 02:43:47,348 [INFO] Base - [id:1158555867] Fetched 12 reviews (48848 fetched in total)\n",
      "2024-03-06 02:43:52,460 [INFO] Base - [id:1158555867] Fetched 12 reviews (48860 fetched in total)\n",
      "2024-03-06 02:43:57,596 [INFO] Base - [id:1158555867] Fetched 12 reviews (48872 fetched in total)\n",
      "2024-03-06 02:44:02,715 [INFO] Base - [id:1158555867] Fetched 12 reviews (48884 fetched in total)\n",
      "2024-03-06 02:44:07,836 [INFO] Base - [id:1158555867] Fetched 12 reviews (48896 fetched in total)\n"
     ]
    },
    {
     "name": "stdout",
     "output_type": "stream",
     "text": [
      "Saved 56400 reviews to 1158555867_reviews_56400.csv\n"
     ]
    },
    {
     "name": "stderr",
     "output_type": "stream",
     "text": [
      "2024-03-06 02:44:13,285 [INFO] Base - [id:1158555867] Fetched 12 reviews (48908 fetched in total)\n",
      "2024-03-06 02:44:18,400 [INFO] Base - [id:1158555867] Fetched 12 reviews (48920 fetched in total)\n",
      "2024-03-06 02:44:23,509 [INFO] Base - [id:1158555867] Fetched 12 reviews (48932 fetched in total)\n",
      "2024-03-06 02:44:28,629 [INFO] Base - [id:1158555867] Fetched 12 reviews (48944 fetched in total)\n",
      "2024-03-06 02:44:33,755 [INFO] Base - [id:1158555867] Fetched 12 reviews (48956 fetched in total)\n"
     ]
    },
    {
     "name": "stdout",
     "output_type": "stream",
     "text": [
      "Saved 56500 reviews to 1158555867_reviews_56500.csv\n"
     ]
    },
    {
     "name": "stderr",
     "output_type": "stream",
     "text": [
      "2024-03-06 02:44:39,186 [INFO] Base - [id:1158555867] Fetched 12 reviews (48968 fetched in total)\n",
      "2024-03-06 02:44:44,325 [INFO] Base - [id:1158555867] Fetched 12 reviews (48980 fetched in total)\n",
      "2024-03-06 02:44:49,446 [INFO] Base - [id:1158555867] Fetched 12 reviews (48992 fetched in total)\n",
      "2024-03-06 02:44:54,562 [INFO] Base - [id:1158555867] Fetched 12 reviews (49004 fetched in total)\n",
      "2024-03-06 02:44:59,720 [INFO] Base - [id:1158555867] Fetched 12 reviews (49016 fetched in total)\n"
     ]
    },
    {
     "name": "stdout",
     "output_type": "stream",
     "text": [
      "Saved 56600 reviews to 1158555867_reviews_56600.csv\n"
     ]
    },
    {
     "name": "stderr",
     "output_type": "stream",
     "text": [
      "2024-03-06 02:45:05,190 [INFO] Base - [id:1158555867] Fetched 12 reviews (49028 fetched in total)\n",
      "2024-03-06 02:45:10,296 [INFO] Base - [id:1158555867] Fetched 12 reviews (49040 fetched in total)\n",
      "2024-03-06 02:45:15,437 [INFO] Base - [id:1158555867] Fetched 12 reviews (49052 fetched in total)\n",
      "2024-03-06 02:45:20,561 [INFO] Base - [id:1158555867] Fetched 12 reviews (49064 fetched in total)\n",
      "2024-03-06 02:45:25,690 [INFO] Base - [id:1158555867] Fetched 12 reviews (49076 fetched in total)\n"
     ]
    },
    {
     "name": "stdout",
     "output_type": "stream",
     "text": [
      "Saved 56700 reviews to 1158555867_reviews_56700.csv\n"
     ]
    },
    {
     "name": "stderr",
     "output_type": "stream",
     "text": [
      "2024-03-06 02:45:31,111 [INFO] Base - [id:1158555867] Fetched 12 reviews (49088 fetched in total)\n",
      "2024-03-06 02:45:36,233 [INFO] Base - [id:1158555867] Fetched 12 reviews (49100 fetched in total)\n",
      "2024-03-06 02:45:41,344 [INFO] Base - [id:1158555867] Fetched 12 reviews (49112 fetched in total)\n",
      "2024-03-06 02:45:46,495 [INFO] Base - [id:1158555867] Fetched 12 reviews (49124 fetched in total)\n",
      "2024-03-06 02:45:51,603 [INFO] Base - [id:1158555867] Fetched 12 reviews (49136 fetched in total)\n"
     ]
    },
    {
     "name": "stdout",
     "output_type": "stream",
     "text": [
      "Saved 56800 reviews to 1158555867_reviews_56800.csv\n"
     ]
    },
    {
     "name": "stderr",
     "output_type": "stream",
     "text": [
      "2024-03-06 02:45:57,028 [INFO] Base - [id:1158555867] Fetched 12 reviews (49148 fetched in total)\n",
      "2024-03-06 02:46:02,160 [INFO] Base - [id:1158555867] Fetched 12 reviews (49160 fetched in total)\n",
      "2024-03-06 02:46:07,274 [INFO] Base - [id:1158555867] Fetched 12 reviews (49172 fetched in total)\n",
      "2024-03-06 02:46:12,406 [INFO] Base - [id:1158555867] Fetched 12 reviews (49184 fetched in total)\n",
      "2024-03-06 02:46:17,547 [INFO] Base - [id:1158555867] Fetched 12 reviews (49196 fetched in total)\n"
     ]
    },
    {
     "name": "stdout",
     "output_type": "stream",
     "text": [
      "Saved 56900 reviews to 1158555867_reviews_56900.csv\n"
     ]
    },
    {
     "name": "stderr",
     "output_type": "stream",
     "text": [
      "2024-03-06 02:46:22,956 [INFO] Base - [id:1158555867] Fetched 12 reviews (49208 fetched in total)\n",
      "2024-03-06 02:46:28,173 [INFO] Base - [id:1158555867] Fetched 12 reviews (49220 fetched in total)\n",
      "2024-03-06 02:46:33,286 [INFO] Base - [id:1158555867] Fetched 12 reviews (49232 fetched in total)\n",
      "2024-03-06 02:46:38,415 [INFO] Base - [id:1158555867] Fetched 12 reviews (49244 fetched in total)\n",
      "2024-03-06 02:46:43,538 [INFO] Base - [id:1158555867] Fetched 12 reviews (49256 fetched in total)\n"
     ]
    },
    {
     "name": "stdout",
     "output_type": "stream",
     "text": [
      "Saved 57000 reviews to 1158555867_reviews_57000.csv\n"
     ]
    },
    {
     "name": "stderr",
     "output_type": "stream",
     "text": [
      "2024-03-06 02:46:48,960 [INFO] Base - [id:1158555867] Fetched 12 reviews (49268 fetched in total)\n",
      "2024-03-06 02:46:54,088 [INFO] Base - [id:1158555867] Fetched 12 reviews (49280 fetched in total)\n",
      "2024-03-06 02:46:59,214 [INFO] Base - [id:1158555867] Fetched 12 reviews (49292 fetched in total)\n",
      "2024-03-06 02:47:04,335 [INFO] Base - [id:1158555867] Fetched 12 reviews (49304 fetched in total)\n",
      "2024-03-06 02:47:09,470 [INFO] Base - [id:1158555867] Fetched 12 reviews (49316 fetched in total)\n"
     ]
    },
    {
     "name": "stdout",
     "output_type": "stream",
     "text": [
      "Saved 57100 reviews to 1158555867_reviews_57100.csv\n"
     ]
    },
    {
     "name": "stderr",
     "output_type": "stream",
     "text": [
      "2024-03-06 02:47:14,884 [INFO] Base - [id:1158555867] Fetched 12 reviews (49328 fetched in total)\n",
      "2024-03-06 02:47:19,980 [INFO] Base - [id:1158555867] Fetched 12 reviews (49340 fetched in total)\n",
      "2024-03-06 02:47:25,115 [INFO] Base - [id:1158555867] Fetched 12 reviews (49352 fetched in total)\n",
      "2024-03-06 02:47:30,229 [INFO] Base - [id:1158555867] Fetched 12 reviews (49364 fetched in total)\n",
      "2024-03-06 02:47:35,355 [INFO] Base - [id:1158555867] Fetched 12 reviews (49376 fetched in total)\n"
     ]
    },
    {
     "name": "stdout",
     "output_type": "stream",
     "text": [
      "Saved 57200 reviews to 1158555867_reviews_57200.csv\n"
     ]
    },
    {
     "name": "stderr",
     "output_type": "stream",
     "text": [
      "2024-03-06 02:47:40,805 [INFO] Base - [id:1158555867] Fetched 12 reviews (49388 fetched in total)\n",
      "2024-03-06 02:47:45,935 [INFO] Base - [id:1158555867] Fetched 12 reviews (49400 fetched in total)\n",
      "2024-03-06 02:47:51,054 [INFO] Base - [id:1158555867] Fetched 12 reviews (49412 fetched in total)\n",
      "2024-03-06 02:47:56,191 [INFO] Base - [id:1158555867] Fetched 12 reviews (49424 fetched in total)\n",
      "2024-03-06 02:48:01,307 [INFO] Base - [id:1158555867] Fetched 12 reviews (49436 fetched in total)\n"
     ]
    },
    {
     "name": "stdout",
     "output_type": "stream",
     "text": [
      "Saved 57300 reviews to 1158555867_reviews_57300.csv\n"
     ]
    },
    {
     "name": "stderr",
     "output_type": "stream",
     "text": [
      "2024-03-06 02:48:06,730 [INFO] Base - [id:1158555867] Fetched 12 reviews (49448 fetched in total)\n",
      "2024-03-06 02:48:11,832 [INFO] Base - [id:1158555867] Fetched 12 reviews (49460 fetched in total)\n",
      "2024-03-06 02:48:16,964 [INFO] Base - [id:1158555867] Fetched 12 reviews (49472 fetched in total)\n",
      "2024-03-06 02:48:22,070 [INFO] Base - [id:1158555867] Fetched 12 reviews (49484 fetched in total)\n",
      "2024-03-06 02:48:27,190 [INFO] Base - [id:1158555867] Fetched 12 reviews (49496 fetched in total)\n"
     ]
    },
    {
     "name": "stdout",
     "output_type": "stream",
     "text": [
      "Saved 57400 reviews to 1158555867_reviews_57400.csv\n"
     ]
    },
    {
     "name": "stderr",
     "output_type": "stream",
     "text": [
      "2024-03-06 02:48:32,628 [INFO] Base - [id:1158555867] Fetched 12 reviews (49508 fetched in total)\n",
      "2024-03-06 02:48:37,771 [INFO] Base - [id:1158555867] Fetched 12 reviews (49520 fetched in total)\n",
      "2024-03-06 02:48:42,975 [INFO] Base - [id:1158555867] Fetched 12 reviews (49532 fetched in total)\n",
      "2024-03-06 02:48:48,092 [INFO] Base - [id:1158555867] Fetched 12 reviews (49544 fetched in total)\n",
      "2024-03-06 02:48:53,204 [INFO] Base - [id:1158555867] Fetched 12 reviews (49556 fetched in total)\n"
     ]
    },
    {
     "name": "stdout",
     "output_type": "stream",
     "text": [
      "Saved 57500 reviews to 1158555867_reviews_57500.csv\n"
     ]
    },
    {
     "name": "stderr",
     "output_type": "stream",
     "text": [
      "2024-03-06 02:48:58,629 [INFO] Base - [id:1158555867] Fetched 12 reviews (49568 fetched in total)\n",
      "2024-03-06 02:49:03,744 [INFO] Base - [id:1158555867] Fetched 12 reviews (49580 fetched in total)\n",
      "2024-03-06 02:49:08,884 [INFO] Base - [id:1158555867] Fetched 12 reviews (49592 fetched in total)\n",
      "2024-03-06 02:49:13,991 [INFO] Base - [id:1158555867] Fetched 12 reviews (49604 fetched in total)\n",
      "2024-03-06 02:49:19,099 [INFO] Base - [id:1158555867] Fetched 12 reviews (49616 fetched in total)\n"
     ]
    },
    {
     "name": "stdout",
     "output_type": "stream",
     "text": [
      "Saved 57600 reviews to 1158555867_reviews_57600.csv\n"
     ]
    },
    {
     "name": "stderr",
     "output_type": "stream",
     "text": [
      "2024-03-06 02:49:24,634 [INFO] Base - [id:1158555867] Fetched 12 reviews (49628 fetched in total)\n",
      "2024-03-06 02:49:29,748 [INFO] Base - [id:1158555867] Fetched 12 reviews (49640 fetched in total)\n",
      "2024-03-06 02:49:34,857 [INFO] Base - [id:1158555867] Fetched 12 reviews (49652 fetched in total)\n",
      "2024-03-06 02:49:39,979 [INFO] Base - [id:1158555867] Fetched 12 reviews (49664 fetched in total)\n",
      "2024-03-06 02:49:45,145 [INFO] Base - [id:1158555867] Fetched 12 reviews (49676 fetched in total)\n"
     ]
    },
    {
     "name": "stdout",
     "output_type": "stream",
     "text": [
      "Saved 57700 reviews to 1158555867_reviews_57700.csv\n"
     ]
    },
    {
     "name": "stderr",
     "output_type": "stream",
     "text": [
      "2024-03-06 02:49:50,539 [INFO] Base - [id:1158555867] Fetched 12 reviews (49688 fetched in total)\n",
      "2024-03-06 02:49:55,651 [INFO] Base - [id:1158555867] Fetched 12 reviews (49700 fetched in total)\n",
      "2024-03-06 02:50:00,802 [INFO] Base - [id:1158555867] Fetched 12 reviews (49712 fetched in total)\n",
      "2024-03-06 02:50:05,920 [INFO] Base - [id:1158555867] Fetched 12 reviews (49724 fetched in total)\n",
      "2024-03-06 02:50:11,041 [INFO] Base - [id:1158555867] Fetched 12 reviews (49736 fetched in total)\n"
     ]
    },
    {
     "name": "stdout",
     "output_type": "stream",
     "text": [
      "Saved 57800 reviews to 1158555867_reviews_57800.csv\n"
     ]
    },
    {
     "name": "stderr",
     "output_type": "stream",
     "text": [
      "2024-03-06 02:50:16,478 [INFO] Base - [id:1158555867] Fetched 12 reviews (49748 fetched in total)\n",
      "2024-03-06 02:50:21,580 [INFO] Base - [id:1158555867] Fetched 12 reviews (49760 fetched in total)\n",
      "2024-03-06 02:50:26,706 [INFO] Base - [id:1158555867] Fetched 12 reviews (49772 fetched in total)\n",
      "2024-03-06 02:50:31,812 [INFO] Base - [id:1158555867] Fetched 12 reviews (49784 fetched in total)\n",
      "2024-03-06 02:50:36,949 [INFO] Base - [id:1158555867] Fetched 12 reviews (49796 fetched in total)\n"
     ]
    },
    {
     "name": "stdout",
     "output_type": "stream",
     "text": [
      "Saved 57900 reviews to 1158555867_reviews_57900.csv\n"
     ]
    },
    {
     "name": "stderr",
     "output_type": "stream",
     "text": [
      "2024-03-06 02:50:42,382 [INFO] Base - [id:1158555867] Fetched 12 reviews (49808 fetched in total)\n",
      "2024-03-06 02:50:47,481 [INFO] Base - [id:1158555867] Fetched 12 reviews (49820 fetched in total)\n",
      "2024-03-06 02:50:52,612 [INFO] Base - [id:1158555867] Fetched 12 reviews (49832 fetched in total)\n",
      "2024-03-06 02:50:57,740 [INFO] Base - [id:1158555867] Fetched 12 reviews (49844 fetched in total)\n",
      "2024-03-06 02:51:02,858 [INFO] Base - [id:1158555867] Fetched 12 reviews (49856 fetched in total)\n"
     ]
    },
    {
     "name": "stdout",
     "output_type": "stream",
     "text": [
      "Saved 58000 reviews to 1158555867_reviews_58000.csv\n"
     ]
    },
    {
     "name": "stderr",
     "output_type": "stream",
     "text": [
      "2024-03-06 02:51:08,326 [INFO] Base - [id:1158555867] Fetched 12 reviews (49868 fetched in total)\n",
      "2024-03-06 02:51:13,438 [INFO] Base - [id:1158555867] Fetched 12 reviews (49880 fetched in total)\n",
      "2024-03-06 02:51:18,550 [INFO] Base - [id:1158555867] Fetched 12 reviews (49892 fetched in total)\n",
      "2024-03-06 02:51:23,688 [INFO] Base - [id:1158555867] Fetched 12 reviews (49904 fetched in total)\n",
      "2024-03-06 02:51:28,796 [INFO] Base - [id:1158555867] Fetched 12 reviews (49916 fetched in total)\n"
     ]
    },
    {
     "name": "stdout",
     "output_type": "stream",
     "text": [
      "Saved 58100 reviews to 1158555867_reviews_58100.csv\n"
     ]
    },
    {
     "name": "stderr",
     "output_type": "stream",
     "text": [
      "2024-03-06 02:51:34,234 [INFO] Base - [id:1158555867] Fetched 12 reviews (49928 fetched in total)\n",
      "2024-03-06 02:51:39,390 [INFO] Base - [id:1158555867] Fetched 12 reviews (49940 fetched in total)\n",
      "2024-03-06 02:51:44,514 [INFO] Base - [id:1158555867] Fetched 12 reviews (49952 fetched in total)\n",
      "2024-03-06 02:51:49,603 [INFO] Base - [id:1158555867] Fetched 12 reviews (49964 fetched in total)\n",
      "2024-03-06 02:51:54,795 [INFO] Base - [id:1158555867] Fetched 12 reviews (49976 fetched in total)\n"
     ]
    },
    {
     "name": "stdout",
     "output_type": "stream",
     "text": [
      "Saved 58200 reviews to 1158555867_reviews_58200.csv\n"
     ]
    },
    {
     "name": "stderr",
     "output_type": "stream",
     "text": [
      "2024-03-06 02:52:00,207 [INFO] Base - [id:1158555867] Fetched 12 reviews (49988 fetched in total)\n",
      "2024-03-06 02:52:05,316 [INFO] Base - [id:1158555867] Fetched 12 reviews (50000 fetched in total)\n",
      "2024-03-06 02:52:10,426 [INFO] Base - [id:1158555867] Fetched 12 reviews (50012 fetched in total)\n",
      "2024-03-06 02:52:15,663 [INFO] Base - [id:1158555867] Fetched 12 reviews (50024 fetched in total)\n",
      "2024-03-06 02:52:20,780 [INFO] Base - [id:1158555867] Fetched 12 reviews (50036 fetched in total)\n"
     ]
    },
    {
     "name": "stdout",
     "output_type": "stream",
     "text": [
      "Saved 58300 reviews to 1158555867_reviews_58300.csv\n"
     ]
    },
    {
     "name": "stderr",
     "output_type": "stream",
     "text": [
      "2024-03-06 02:52:26,179 [INFO] Base - [id:1158555867] Fetched 12 reviews (50048 fetched in total)\n",
      "2024-03-06 02:52:31,326 [INFO] Base - [id:1158555867] Fetched 12 reviews (50060 fetched in total)\n",
      "2024-03-06 02:52:36,455 [INFO] Base - [id:1158555867] Fetched 12 reviews (50072 fetched in total)\n",
      "2024-03-06 02:52:41,561 [INFO] Base - [id:1158555867] Fetched 12 reviews (50084 fetched in total)\n",
      "2024-03-06 02:52:46,676 [INFO] Base - [id:1158555867] Fetched 12 reviews (50096 fetched in total)\n"
     ]
    },
    {
     "name": "stdout",
     "output_type": "stream",
     "text": [
      "Saved 58400 reviews to 1158555867_reviews_58400.csv\n"
     ]
    },
    {
     "name": "stderr",
     "output_type": "stream",
     "text": [
      "2024-03-06 02:52:52,109 [INFO] Base - [id:1158555867] Fetched 12 reviews (50108 fetched in total)\n",
      "2024-03-06 02:52:57,216 [INFO] Base - [id:1158555867] Fetched 12 reviews (50120 fetched in total)\n",
      "2024-03-06 02:53:02,355 [INFO] Base - [id:1158555867] Fetched 12 reviews (50132 fetched in total)\n",
      "2024-03-06 02:53:07,462 [INFO] Base - [id:1158555867] Fetched 12 reviews (50144 fetched in total)\n",
      "2024-03-06 02:53:12,555 [INFO] Base - [id:1158555867] Fetched 12 reviews (50156 fetched in total)\n"
     ]
    },
    {
     "name": "stdout",
     "output_type": "stream",
     "text": [
      "Saved 58500 reviews to 1158555867_reviews_58500.csv\n"
     ]
    },
    {
     "name": "stderr",
     "output_type": "stream",
     "text": [
      "2024-03-06 02:53:17,991 [INFO] Base - [id:1158555867] Fetched 12 reviews (50168 fetched in total)\n",
      "2024-03-06 02:53:23,118 [INFO] Base - [id:1158555867] Fetched 12 reviews (50180 fetched in total)\n",
      "2024-03-06 02:53:28,226 [INFO] Base - [id:1158555867] Fetched 12 reviews (50192 fetched in total)\n",
      "2024-03-06 02:53:33,359 [INFO] Base - [id:1158555867] Fetched 12 reviews (50204 fetched in total)\n",
      "2024-03-06 02:53:38,471 [INFO] Base - [id:1158555867] Fetched 12 reviews (50216 fetched in total)\n"
     ]
    },
    {
     "name": "stdout",
     "output_type": "stream",
     "text": [
      "Saved 58600 reviews to 1158555867_reviews_58600.csv\n"
     ]
    },
    {
     "name": "stderr",
     "output_type": "stream",
     "text": [
      "2024-03-06 02:53:43,888 [INFO] Base - [id:1158555867] Fetched 12 reviews (50228 fetched in total)\n",
      "2024-03-06 02:53:48,991 [INFO] Base - [id:1158555867] Fetched 12 reviews (50240 fetched in total)\n",
      "2024-03-06 02:53:54,107 [INFO] Base - [id:1158555867] Fetched 12 reviews (50252 fetched in total)\n",
      "2024-03-06 02:53:59,248 [INFO] Base - [id:1158555867] Fetched 12 reviews (50264 fetched in total)\n",
      "2024-03-06 02:54:04,368 [INFO] Base - [id:1158555867] Fetched 12 reviews (50276 fetched in total)\n"
     ]
    },
    {
     "name": "stdout",
     "output_type": "stream",
     "text": [
      "Saved 58700 reviews to 1158555867_reviews_58700.csv\n"
     ]
    },
    {
     "name": "stderr",
     "output_type": "stream",
     "text": [
      "2024-03-06 02:54:09,796 [INFO] Base - [id:1158555867] Fetched 12 reviews (50288 fetched in total)\n",
      "2024-03-06 02:54:14,927 [INFO] Base - [id:1158555867] Fetched 12 reviews (50300 fetched in total)\n",
      "2024-03-06 02:54:20,068 [INFO] Base - [id:1158555867] Fetched 12 reviews (50312 fetched in total)\n",
      "2024-03-06 02:54:25,192 [INFO] Base - [id:1158555867] Fetched 12 reviews (50324 fetched in total)\n",
      "2024-03-06 02:54:30,333 [INFO] Base - [id:1158555867] Fetched 12 reviews (50336 fetched in total)\n"
     ]
    },
    {
     "name": "stdout",
     "output_type": "stream",
     "text": [
      "Saved 58800 reviews to 1158555867_reviews_58800.csv\n"
     ]
    },
    {
     "name": "stderr",
     "output_type": "stream",
     "text": [
      "2024-03-06 02:54:35,770 [INFO] Base - [id:1158555867] Fetched 12 reviews (50348 fetched in total)\n",
      "2024-03-06 02:54:40,881 [INFO] Base - [id:1158555867] Fetched 12 reviews (50360 fetched in total)\n",
      "2024-03-06 02:54:46,018 [INFO] Base - [id:1158555867] Fetched 12 reviews (50372 fetched in total)\n",
      "2024-03-06 02:54:51,129 [INFO] Base - [id:1158555867] Fetched 12 reviews (50384 fetched in total)\n",
      "2024-03-06 02:54:56,252 [INFO] Base - [id:1158555867] Fetched 12 reviews (50396 fetched in total)\n"
     ]
    },
    {
     "name": "stdout",
     "output_type": "stream",
     "text": [
      "Saved 58900 reviews to 1158555867_reviews_58900.csv\n"
     ]
    },
    {
     "name": "stderr",
     "output_type": "stream",
     "text": [
      "2024-03-06 02:55:01,705 [INFO] Base - [id:1158555867] Fetched 12 reviews (50408 fetched in total)\n",
      "2024-03-06 02:55:06,856 [INFO] Base - [id:1158555867] Fetched 12 reviews (50420 fetched in total)\n",
      "2024-03-06 02:55:11,978 [INFO] Base - [id:1158555867] Fetched 12 reviews (50432 fetched in total)\n",
      "2024-03-06 02:55:17,190 [INFO] Base - [id:1158555867] Fetched 12 reviews (50444 fetched in total)\n",
      "2024-03-06 02:55:22,311 [INFO] Base - [id:1158555867] Fetched 12 reviews (50456 fetched in total)\n"
     ]
    },
    {
     "name": "stdout",
     "output_type": "stream",
     "text": [
      "Saved 59000 reviews to 1158555867_reviews_59000.csv\n"
     ]
    },
    {
     "name": "stderr",
     "output_type": "stream",
     "text": [
      "2024-03-06 02:55:27,740 [INFO] Base - [id:1158555867] Fetched 12 reviews (50468 fetched in total)\n",
      "2024-03-06 02:55:32,860 [INFO] Base - [id:1158555867] Fetched 12 reviews (50480 fetched in total)\n",
      "2024-03-06 02:55:37,991 [INFO] Base - [id:1158555867] Fetched 12 reviews (50492 fetched in total)\n",
      "2024-03-06 02:55:43,123 [INFO] Base - [id:1158555867] Fetched 12 reviews (50504 fetched in total)\n",
      "2024-03-06 02:55:48,248 [INFO] Base - [id:1158555867] Fetched 12 reviews (50516 fetched in total)\n"
     ]
    },
    {
     "name": "stdout",
     "output_type": "stream",
     "text": [
      "Saved 59100 reviews to 1158555867_reviews_59100.csv\n"
     ]
    },
    {
     "name": "stderr",
     "output_type": "stream",
     "text": [
      "2024-03-06 02:55:53,732 [INFO] Base - [id:1158555867] Fetched 12 reviews (50528 fetched in total)\n",
      "2024-03-06 02:55:58,866 [INFO] Base - [id:1158555867] Fetched 12 reviews (50540 fetched in total)\n",
      "2024-03-06 02:56:03,997 [INFO] Base - [id:1158555867] Fetched 12 reviews (50552 fetched in total)\n",
      "2024-03-06 02:56:09,114 [INFO] Base - [id:1158555867] Fetched 12 reviews (50564 fetched in total)\n",
      "2024-03-06 02:56:14,252 [INFO] Base - [id:1158555867] Fetched 12 reviews (50576 fetched in total)\n"
     ]
    },
    {
     "name": "stdout",
     "output_type": "stream",
     "text": [
      "Saved 59200 reviews to 1158555867_reviews_59200.csv\n"
     ]
    },
    {
     "name": "stderr",
     "output_type": "stream",
     "text": [
      "2024-03-06 02:56:19,709 [INFO] Base - [id:1158555867] Fetched 12 reviews (50588 fetched in total)\n",
      "2024-03-06 02:56:24,820 [INFO] Base - [id:1158555867] Fetched 12 reviews (50600 fetched in total)\n",
      "2024-03-06 02:56:29,959 [INFO] Base - [id:1158555867] Fetched 12 reviews (50612 fetched in total)\n",
      "2024-03-06 02:56:35,104 [INFO] Base - [id:1158555867] Fetched 12 reviews (50624 fetched in total)\n",
      "2024-03-06 02:56:40,213 [INFO] Base - [id:1158555867] Fetched 12 reviews (50636 fetched in total)\n"
     ]
    },
    {
     "name": "stdout",
     "output_type": "stream",
     "text": [
      "Saved 59300 reviews to 1158555867_reviews_59300.csv\n"
     ]
    },
    {
     "name": "stderr",
     "output_type": "stream",
     "text": [
      "2024-03-06 02:56:45,644 [INFO] Base - [id:1158555867] Fetched 12 reviews (50648 fetched in total)\n",
      "2024-03-06 02:56:50,769 [INFO] Base - [id:1158555867] Fetched 12 reviews (50660 fetched in total)\n",
      "2024-03-06 02:56:55,889 [INFO] Base - [id:1158555867] Fetched 12 reviews (50672 fetched in total)\n",
      "2024-03-06 02:57:01,025 [INFO] Base - [id:1158555867] Fetched 12 reviews (50684 fetched in total)\n",
      "2024-03-06 02:57:06,156 [INFO] Base - [id:1158555867] Fetched 12 reviews (50696 fetched in total)\n"
     ]
    },
    {
     "name": "stdout",
     "output_type": "stream",
     "text": [
      "Saved 59400 reviews to 1158555867_reviews_59400.csv\n"
     ]
    },
    {
     "name": "stderr",
     "output_type": "stream",
     "text": [
      "2024-03-06 02:57:11,584 [INFO] Base - [id:1158555867] Fetched 12 reviews (50708 fetched in total)\n",
      "2024-03-06 02:57:16,689 [INFO] Base - [id:1158555867] Fetched 12 reviews (50720 fetched in total)\n",
      "2024-03-06 02:57:21,798 [INFO] Base - [id:1158555867] Fetched 12 reviews (50732 fetched in total)\n",
      "2024-03-06 02:57:26,922 [INFO] Base - [id:1158555867] Fetched 12 reviews (50744 fetched in total)\n",
      "2024-03-06 02:57:32,035 [INFO] Base - [id:1158555867] Fetched 12 reviews (50756 fetched in total)\n"
     ]
    },
    {
     "name": "stdout",
     "output_type": "stream",
     "text": [
      "Saved 59500 reviews to 1158555867_reviews_59500.csv\n"
     ]
    },
    {
     "name": "stderr",
     "output_type": "stream",
     "text": [
      "2024-03-06 02:57:37,474 [INFO] Base - [id:1158555867] Fetched 12 reviews (50768 fetched in total)\n",
      "2024-03-06 02:57:42,604 [INFO] Base - [id:1158555867] Fetched 12 reviews (50780 fetched in total)\n",
      "2024-03-06 02:57:47,704 [INFO] Base - [id:1158555867] Fetched 12 reviews (50792 fetched in total)\n",
      "2024-03-06 02:57:52,823 [INFO] Base - [id:1158555867] Fetched 12 reviews (50804 fetched in total)\n",
      "2024-03-06 02:57:57,943 [INFO] Base - [id:1158555867] Fetched 12 reviews (50816 fetched in total)\n"
     ]
    },
    {
     "name": "stdout",
     "output_type": "stream",
     "text": [
      "Saved 59600 reviews to 1158555867_reviews_59600.csv\n"
     ]
    },
    {
     "name": "stderr",
     "output_type": "stream",
     "text": [
      "2024-03-06 02:58:03,379 [INFO] Base - [id:1158555867] Fetched 12 reviews (50828 fetched in total)\n",
      "2024-03-06 02:58:08,499 [INFO] Base - [id:1158555867] Fetched 12 reviews (50840 fetched in total)\n",
      "2024-03-06 02:58:13,629 [INFO] Base - [id:1158555867] Fetched 12 reviews (50852 fetched in total)\n",
      "2024-03-06 02:58:18,753 [INFO] Base - [id:1158555867] Fetched 12 reviews (50864 fetched in total)\n",
      "2024-03-06 02:58:23,925 [INFO] Base - [id:1158555867] Fetched 12 reviews (50876 fetched in total)\n"
     ]
    },
    {
     "name": "stdout",
     "output_type": "stream",
     "text": [
      "Saved 59700 reviews to 1158555867_reviews_59700.csv\n"
     ]
    },
    {
     "name": "stderr",
     "output_type": "stream",
     "text": [
      "2024-03-06 02:58:29,349 [INFO] Base - [id:1158555867] Fetched 12 reviews (50888 fetched in total)\n",
      "2024-03-06 02:58:34,463 [INFO] Base - [id:1158555867] Fetched 12 reviews (50900 fetched in total)\n",
      "2024-03-06 02:58:39,638 [INFO] Base - [id:1158555867] Fetched 12 reviews (50912 fetched in total)\n",
      "2024-03-06 02:58:44,744 [INFO] Base - [id:1158555867] Fetched 12 reviews (50924 fetched in total)\n",
      "2024-03-06 02:58:49,929 [INFO] Base - [id:1158555867] Fetched 12 reviews (50936 fetched in total)\n"
     ]
    },
    {
     "name": "stdout",
     "output_type": "stream",
     "text": [
      "Saved 59800 reviews to 1158555867_reviews_59800.csv\n"
     ]
    },
    {
     "name": "stderr",
     "output_type": "stream",
     "text": [
      "2024-03-06 02:58:55,389 [INFO] Base - [id:1158555867] Fetched 12 reviews (50948 fetched in total)\n",
      "2024-03-06 02:59:00,514 [INFO] Base - [id:1158555867] Fetched 12 reviews (50960 fetched in total)\n",
      "2024-03-06 02:59:05,634 [INFO] Base - [id:1158555867] Fetched 12 reviews (50972 fetched in total)\n",
      "2024-03-06 02:59:10,745 [INFO] Base - [id:1158555867] Fetched 12 reviews (50984 fetched in total)\n",
      "2024-03-06 02:59:15,885 [INFO] Base - [id:1158555867] Fetched 12 reviews (50996 fetched in total)\n"
     ]
    },
    {
     "name": "stdout",
     "output_type": "stream",
     "text": [
      "Saved 59900 reviews to 1158555867_reviews_59900.csv\n"
     ]
    },
    {
     "name": "stderr",
     "output_type": "stream",
     "text": [
      "2024-03-06 02:59:21,325 [INFO] Base - [id:1158555867] Fetched 12 reviews (51008 fetched in total)\n",
      "2024-03-06 02:59:26,441 [INFO] Base - [id:1158555867] Fetched 12 reviews (51020 fetched in total)\n",
      "2024-03-06 02:59:31,580 [INFO] Base - [id:1158555867] Fetched 12 reviews (51032 fetched in total)\n",
      "2024-03-06 02:59:36,690 [INFO] Base - [id:1158555867] Fetched 12 reviews (51044 fetched in total)\n",
      "2024-03-06 02:59:41,801 [INFO] Base - [id:1158555867] Fetched 12 reviews (51056 fetched in total)\n"
     ]
    },
    {
     "name": "stdout",
     "output_type": "stream",
     "text": [
      "Saved 60000 reviews to 1158555867_reviews_60000.csv\n"
     ]
    },
    {
     "name": "stderr",
     "output_type": "stream",
     "text": [
      "2024-03-06 02:59:47,253 [INFO] Base - [id:1158555867] Fetched 12 reviews (51068 fetched in total)\n",
      "2024-03-06 02:59:52,359 [INFO] Base - [id:1158555867] Fetched 12 reviews (51080 fetched in total)\n",
      "2024-03-06 02:59:57,469 [INFO] Base - [id:1158555867] Fetched 12 reviews (51092 fetched in total)\n",
      "2024-03-06 03:00:02,604 [INFO] Base - [id:1158555867] Fetched 12 reviews (51104 fetched in total)\n",
      "2024-03-06 03:00:07,722 [INFO] Base - [id:1158555867] Fetched 12 reviews (51116 fetched in total)\n"
     ]
    },
    {
     "name": "stdout",
     "output_type": "stream",
     "text": [
      "Saved 60100 reviews to 1158555867_reviews_60100.csv\n"
     ]
    },
    {
     "name": "stderr",
     "output_type": "stream",
     "text": [
      "2024-03-06 03:00:13,169 [INFO] Base - [id:1158555867] Fetched 12 reviews (51128 fetched in total)\n",
      "2024-03-06 03:00:18,299 [INFO] Base - [id:1158555867] Fetched 12 reviews (51140 fetched in total)\n",
      "2024-03-06 03:00:23,442 [INFO] Base - [id:1158555867] Fetched 12 reviews (51152 fetched in total)\n",
      "2024-03-06 03:00:28,562 [INFO] Base - [id:1158555867] Fetched 12 reviews (51164 fetched in total)\n",
      "2024-03-06 03:00:33,712 [INFO] Base - [id:1158555867] Fetched 12 reviews (51176 fetched in total)\n"
     ]
    },
    {
     "name": "stdout",
     "output_type": "stream",
     "text": [
      "Saved 60200 reviews to 1158555867_reviews_60200.csv\n"
     ]
    },
    {
     "name": "stderr",
     "output_type": "stream",
     "text": [
      "2024-03-06 03:00:39,157 [INFO] Base - [id:1158555867] Fetched 12 reviews (51188 fetched in total)\n",
      "2024-03-06 03:00:44,277 [INFO] Base - [id:1158555867] Fetched 12 reviews (51200 fetched in total)\n",
      "2024-03-06 03:00:49,413 [INFO] Base - [id:1158555867] Fetched 12 reviews (51212 fetched in total)\n",
      "2024-03-06 03:00:54,516 [INFO] Base - [id:1158555867] Fetched 12 reviews (51224 fetched in total)\n",
      "2024-03-06 03:00:59,624 [INFO] Base - [id:1158555867] Fetched 12 reviews (51236 fetched in total)\n"
     ]
    },
    {
     "name": "stdout",
     "output_type": "stream",
     "text": [
      "Saved 60300 reviews to 1158555867_reviews_60300.csv\n"
     ]
    },
    {
     "name": "stderr",
     "output_type": "stream",
     "text": [
      "2024-03-06 03:01:05,083 [INFO] Base - [id:1158555867] Fetched 12 reviews (51248 fetched in total)\n",
      "2024-03-06 03:01:10,199 [INFO] Base - [id:1158555867] Fetched 12 reviews (51260 fetched in total)\n",
      "2024-03-06 03:01:15,333 [INFO] Base - [id:1158555867] Fetched 12 reviews (51272 fetched in total)\n",
      "2024-03-06 03:01:20,473 [INFO] Base - [id:1158555867] Fetched 12 reviews (51284 fetched in total)\n",
      "2024-03-06 03:01:25,583 [INFO] Base - [id:1158555867] Fetched 12 reviews (51296 fetched in total)\n"
     ]
    },
    {
     "name": "stdout",
     "output_type": "stream",
     "text": [
      "Saved 60400 reviews to 1158555867_reviews_60400.csv\n"
     ]
    },
    {
     "name": "stderr",
     "output_type": "stream",
     "text": [
      "2024-03-06 03:01:31,023 [INFO] Base - [id:1158555867] Fetched 12 reviews (51308 fetched in total)\n",
      "2024-03-06 03:01:36,197 [INFO] Base - [id:1158555867] Fetched 12 reviews (51320 fetched in total)\n",
      "2024-03-06 03:01:41,302 [INFO] Base - [id:1158555867] Fetched 12 reviews (51332 fetched in total)\n",
      "2024-03-06 03:01:46,421 [INFO] Base - [id:1158555867] Fetched 12 reviews (51344 fetched in total)\n",
      "2024-03-06 03:01:51,557 [INFO] Base - [id:1158555867] Fetched 12 reviews (51356 fetched in total)\n"
     ]
    },
    {
     "name": "stdout",
     "output_type": "stream",
     "text": [
      "Saved 60500 reviews to 1158555867_reviews_60500.csv\n"
     ]
    },
    {
     "name": "stderr",
     "output_type": "stream",
     "text": [
      "2024-03-06 03:01:57,017 [INFO] Base - [id:1158555867] Fetched 12 reviews (51368 fetched in total)\n",
      "2024-03-06 03:02:02,142 [INFO] Base - [id:1158555867] Fetched 12 reviews (51380 fetched in total)\n",
      "2024-03-06 03:02:07,281 [INFO] Base - [id:1158555867] Fetched 12 reviews (51392 fetched in total)\n",
      "2024-03-06 03:02:12,399 [INFO] Base - [id:1158555867] Fetched 12 reviews (51404 fetched in total)\n",
      "2024-03-06 03:02:17,511 [INFO] Base - [id:1158555867] Fetched 12 reviews (51416 fetched in total)\n"
     ]
    },
    {
     "name": "stdout",
     "output_type": "stream",
     "text": [
      "Saved 60600 reviews to 1158555867_reviews_60600.csv\n"
     ]
    },
    {
     "name": "stderr",
     "output_type": "stream",
     "text": [
      "2024-03-06 03:02:22,941 [INFO] Base - [id:1158555867] Fetched 12 reviews (51428 fetched in total)\n",
      "2024-03-06 03:02:28,045 [INFO] Base - [id:1158555867] Fetched 12 reviews (51440 fetched in total)\n",
      "2024-03-06 03:02:33,143 [INFO] Base - [id:1158555867] Fetched 12 reviews (51452 fetched in total)\n",
      "2024-03-06 03:02:38,283 [INFO] Base - [id:1158555867] Fetched 12 reviews (51464 fetched in total)\n",
      "2024-03-06 03:02:43,388 [INFO] Base - [id:1158555867] Fetched 12 reviews (51476 fetched in total)\n"
     ]
    },
    {
     "name": "stdout",
     "output_type": "stream",
     "text": [
      "Saved 60700 reviews to 1158555867_reviews_60700.csv\n"
     ]
    },
    {
     "name": "stderr",
     "output_type": "stream",
     "text": [
      "2024-03-06 03:02:48,823 [INFO] Base - [id:1158555867] Fetched 12 reviews (51488 fetched in total)\n",
      "2024-03-06 03:02:53,933 [INFO] Base - [id:1158555867] Fetched 12 reviews (51500 fetched in total)\n",
      "2024-03-06 03:02:59,067 [INFO] Base - [id:1158555867] Fetched 12 reviews (51512 fetched in total)\n",
      "2024-03-06 03:03:04,181 [INFO] Base - [id:1158555867] Fetched 12 reviews (51524 fetched in total)\n",
      "2024-03-06 03:03:09,284 [INFO] Base - [id:1158555867] Fetched 12 reviews (51536 fetched in total)\n"
     ]
    },
    {
     "name": "stdout",
     "output_type": "stream",
     "text": [
      "Saved 60800 reviews to 1158555867_reviews_60800.csv\n"
     ]
    },
    {
     "name": "stderr",
     "output_type": "stream",
     "text": [
      "2024-03-06 03:03:14,733 [INFO] Base - [id:1158555867] Fetched 12 reviews (51548 fetched in total)\n",
      "2024-03-06 03:03:19,856 [INFO] Base - [id:1158555867] Fetched 12 reviews (51560 fetched in total)\n",
      "2024-03-06 03:03:25,010 [INFO] Base - [id:1158555867] Fetched 12 reviews (51572 fetched in total)\n",
      "2024-03-06 03:03:30,098 [INFO] Base - [id:1158555867] Fetched 12 reviews (51584 fetched in total)\n",
      "2024-03-06 03:03:35,219 [INFO] Base - [id:1158555867] Fetched 12 reviews (51596 fetched in total)\n"
     ]
    },
    {
     "name": "stdout",
     "output_type": "stream",
     "text": [
      "Saved 60900 reviews to 1158555867_reviews_60900.csv\n"
     ]
    },
    {
     "name": "stderr",
     "output_type": "stream",
     "text": [
      "2024-03-06 03:03:40,665 [INFO] Base - [id:1158555867] Fetched 12 reviews (51608 fetched in total)\n",
      "2024-03-06 03:03:45,841 [INFO] Base - [id:1158555867] Fetched 12 reviews (51620 fetched in total)\n",
      "2024-03-06 03:03:50,951 [INFO] Base - [id:1158555867] Fetched 12 reviews (51632 fetched in total)\n",
      "2024-03-06 03:03:56,074 [INFO] Base - [id:1158555867] Fetched 12 reviews (51644 fetched in total)\n",
      "2024-03-06 03:04:01,185 [INFO] Base - [id:1158555867] Fetched 12 reviews (51656 fetched in total)\n"
     ]
    },
    {
     "name": "stdout",
     "output_type": "stream",
     "text": [
      "Saved 61000 reviews to 1158555867_reviews_61000.csv\n"
     ]
    },
    {
     "name": "stderr",
     "output_type": "stream",
     "text": [
      "2024-03-06 03:04:06,640 [INFO] Base - [id:1158555867] Fetched 12 reviews (51668 fetched in total)\n",
      "2024-03-06 03:04:11,808 [INFO] Base - [id:1158555867] Fetched 12 reviews (51680 fetched in total)\n",
      "2024-03-06 03:04:16,911 [INFO] Base - [id:1158555867] Fetched 12 reviews (51692 fetched in total)\n",
      "2024-03-06 03:04:22,026 [INFO] Base - [id:1158555867] Fetched 12 reviews (51704 fetched in total)\n",
      "2024-03-06 03:04:27,152 [INFO] Base - [id:1158555867] Fetched 12 reviews (51716 fetched in total)\n"
     ]
    },
    {
     "name": "stdout",
     "output_type": "stream",
     "text": [
      "Saved 61100 reviews to 1158555867_reviews_61100.csv\n"
     ]
    },
    {
     "name": "stderr",
     "output_type": "stream",
     "text": [
      "2024-03-06 03:04:32,582 [INFO] Base - [id:1158555867] Fetched 12 reviews (51728 fetched in total)\n",
      "2024-03-06 03:04:37,694 [INFO] Base - [id:1158555867] Fetched 12 reviews (51740 fetched in total)\n",
      "2024-03-06 03:04:42,812 [INFO] Base - [id:1158555867] Fetched 12 reviews (51752 fetched in total)\n",
      "2024-03-06 03:04:47,925 [INFO] Base - [id:1158555867] Fetched 12 reviews (51764 fetched in total)\n",
      "2024-03-06 03:04:53,041 [INFO] Base - [id:1158555867] Fetched 12 reviews (51776 fetched in total)\n"
     ]
    },
    {
     "name": "stdout",
     "output_type": "stream",
     "text": [
      "Saved 61200 reviews to 1158555867_reviews_61200.csv\n"
     ]
    },
    {
     "name": "stderr",
     "output_type": "stream",
     "text": [
      "2024-03-06 03:04:58,475 [INFO] Base - [id:1158555867] Fetched 12 reviews (51788 fetched in total)\n",
      "2024-03-06 03:05:03,601 [INFO] Base - [id:1158555867] Fetched 12 reviews (51800 fetched in total)\n",
      "2024-03-06 03:05:08,759 [INFO] Base - [id:1158555867] Fetched 12 reviews (51812 fetched in total)\n",
      "2024-03-06 03:05:13,872 [INFO] Base - [id:1158555867] Fetched 12 reviews (51824 fetched in total)\n",
      "2024-03-06 03:05:18,990 [INFO] Base - [id:1158555867] Fetched 12 reviews (51836 fetched in total)\n"
     ]
    },
    {
     "name": "stdout",
     "output_type": "stream",
     "text": [
      "Saved 61300 reviews to 1158555867_reviews_61300.csv\n"
     ]
    },
    {
     "name": "stderr",
     "output_type": "stream",
     "text": [
      "2024-03-06 03:05:24,446 [INFO] Base - [id:1158555867] Fetched 12 reviews (51848 fetched in total)\n",
      "2024-03-06 03:05:29,561 [INFO] Base - [id:1158555867] Fetched 12 reviews (51860 fetched in total)\n",
      "2024-03-06 03:05:34,687 [INFO] Base - [id:1158555867] Fetched 12 reviews (51872 fetched in total)\n",
      "2024-03-06 03:05:39,788 [INFO] Base - [id:1158555867] Fetched 12 reviews (51884 fetched in total)\n",
      "2024-03-06 03:05:44,896 [INFO] Base - [id:1158555867] Fetched 12 reviews (51896 fetched in total)\n"
     ]
    },
    {
     "name": "stdout",
     "output_type": "stream",
     "text": [
      "Saved 61400 reviews to 1158555867_reviews_61400.csv\n"
     ]
    },
    {
     "name": "stderr",
     "output_type": "stream",
     "text": [
      "2024-03-06 03:05:50,366 [INFO] Base - [id:1158555867] Fetched 12 reviews (51908 fetched in total)\n",
      "2024-03-06 03:05:55,475 [INFO] Base - [id:1158555867] Fetched 12 reviews (51920 fetched in total)\n",
      "2024-03-06 03:06:00,605 [INFO] Base - [id:1158555867] Fetched 12 reviews (51932 fetched in total)\n",
      "2024-03-06 03:06:05,717 [INFO] Base - [id:1158555867] Fetched 12 reviews (51944 fetched in total)\n",
      "2024-03-06 03:06:10,849 [INFO] Base - [id:1158555867] Fetched 12 reviews (51956 fetched in total)\n"
     ]
    },
    {
     "name": "stdout",
     "output_type": "stream",
     "text": [
      "Saved 61500 reviews to 1158555867_reviews_61500.csv\n"
     ]
    },
    {
     "name": "stderr",
     "output_type": "stream",
     "text": [
      "2024-03-06 03:06:16,303 [INFO] Base - [id:1158555867] Fetched 12 reviews (51968 fetched in total)\n",
      "2024-03-06 03:06:21,415 [INFO] Base - [id:1158555867] Fetched 12 reviews (51980 fetched in total)\n",
      "2024-03-06 03:06:26,570 [INFO] Base - [id:1158555867] Fetched 12 reviews (51992 fetched in total)\n",
      "2024-03-06 03:06:31,689 [INFO] Base - [id:1158555867] Fetched 12 reviews (52004 fetched in total)\n",
      "2024-03-06 03:06:36,798 [INFO] Base - [id:1158555867] Fetched 12 reviews (52016 fetched in total)\n"
     ]
    },
    {
     "name": "stdout",
     "output_type": "stream",
     "text": [
      "Saved 61600 reviews to 1158555867_reviews_61600.csv\n"
     ]
    },
    {
     "name": "stderr",
     "output_type": "stream",
     "text": [
      "2024-03-06 03:06:42,232 [INFO] Base - [id:1158555867] Fetched 12 reviews (52028 fetched in total)\n",
      "2024-03-06 03:06:47,367 [INFO] Base - [id:1158555867] Fetched 12 reviews (52040 fetched in total)\n",
      "2024-03-06 03:06:52,493 [INFO] Base - [id:1158555867] Fetched 12 reviews (52052 fetched in total)\n",
      "2024-03-06 03:06:57,632 [INFO] Base - [id:1158555867] Fetched 12 reviews (52064 fetched in total)\n",
      "2024-03-06 03:07:02,777 [INFO] Base - [id:1158555867] Fetched 12 reviews (52076 fetched in total)\n"
     ]
    },
    {
     "name": "stdout",
     "output_type": "stream",
     "text": [
      "Saved 61700 reviews to 1158555867_reviews_61700.csv\n"
     ]
    },
    {
     "name": "stderr",
     "output_type": "stream",
     "text": [
      "2024-03-06 03:07:08,231 [INFO] Base - [id:1158555867] Fetched 12 reviews (52088 fetched in total)\n",
      "2024-03-06 03:07:13,341 [INFO] Base - [id:1158555867] Fetched 12 reviews (52100 fetched in total)\n",
      "2024-03-06 03:07:18,524 [INFO] Base - [id:1158555867] Fetched 12 reviews (52112 fetched in total)\n",
      "2024-03-06 03:07:23,621 [INFO] Base - [id:1158555867] Fetched 12 reviews (52124 fetched in total)\n",
      "2024-03-06 03:07:28,735 [INFO] Base - [id:1158555867] Fetched 12 reviews (52136 fetched in total)\n"
     ]
    },
    {
     "name": "stdout",
     "output_type": "stream",
     "text": [
      "Saved 61800 reviews to 1158555867_reviews_61800.csv\n"
     ]
    },
    {
     "name": "stderr",
     "output_type": "stream",
     "text": [
      "2024-03-06 03:07:34,180 [INFO] Base - [id:1158555867] Fetched 12 reviews (52148 fetched in total)\n",
      "2024-03-06 03:07:39,293 [INFO] Base - [id:1158555867] Fetched 12 reviews (52160 fetched in total)\n",
      "2024-03-06 03:07:44,412 [INFO] Base - [id:1158555867] Fetched 12 reviews (52172 fetched in total)\n",
      "2024-03-06 03:07:49,541 [INFO] Base - [id:1158555867] Fetched 12 reviews (52184 fetched in total)\n",
      "2024-03-06 03:07:54,643 [INFO] Base - [id:1158555867] Fetched 12 reviews (52196 fetched in total)\n"
     ]
    },
    {
     "name": "stdout",
     "output_type": "stream",
     "text": [
      "Saved 61900 reviews to 1158555867_reviews_61900.csv\n"
     ]
    },
    {
     "name": "stderr",
     "output_type": "stream",
     "text": [
      "2024-03-06 03:08:00,101 [INFO] Base - [id:1158555867] Fetched 12 reviews (52208 fetched in total)\n",
      "2024-03-06 03:08:05,281 [INFO] Base - [id:1158555867] Fetched 12 reviews (52220 fetched in total)\n",
      "2024-03-06 03:08:10,405 [INFO] Base - [id:1158555867] Fetched 12 reviews (52232 fetched in total)\n",
      "2024-03-06 03:08:15,523 [INFO] Base - [id:1158555867] Fetched 12 reviews (52244 fetched in total)\n",
      "2024-03-06 03:08:20,648 [INFO] Base - [id:1158555867] Fetched 12 reviews (52256 fetched in total)\n"
     ]
    },
    {
     "name": "stdout",
     "output_type": "stream",
     "text": [
      "Saved 62000 reviews to 1158555867_reviews_62000.csv\n"
     ]
    },
    {
     "name": "stderr",
     "output_type": "stream",
     "text": [
      "2024-03-06 03:08:26,089 [INFO] Base - [id:1158555867] Fetched 12 reviews (52268 fetched in total)\n",
      "2024-03-06 03:08:31,196 [INFO] Base - [id:1158555867] Fetched 12 reviews (52280 fetched in total)\n",
      "2024-03-06 03:08:36,304 [INFO] Base - [id:1158555867] Fetched 12 reviews (52292 fetched in total)\n",
      "2024-03-06 03:08:41,454 [INFO] Base - [id:1158555867] Fetched 12 reviews (52304 fetched in total)\n",
      "2024-03-06 03:08:46,565 [INFO] Base - [id:1158555867] Fetched 12 reviews (52316 fetched in total)\n"
     ]
    },
    {
     "name": "stdout",
     "output_type": "stream",
     "text": [
      "Saved 62100 reviews to 1158555867_reviews_62100.csv\n"
     ]
    },
    {
     "name": "stderr",
     "output_type": "stream",
     "text": [
      "2024-03-06 03:08:52,032 [INFO] Base - [id:1158555867] Fetched 12 reviews (52328 fetched in total)\n",
      "2024-03-06 03:08:57,150 [INFO] Base - [id:1158555867] Fetched 12 reviews (52340 fetched in total)\n",
      "2024-03-06 03:09:02,269 [INFO] Base - [id:1158555867] Fetched 12 reviews (52352 fetched in total)\n",
      "2024-03-06 03:09:07,388 [INFO] Base - [id:1158555867] Fetched 12 reviews (52364 fetched in total)\n",
      "2024-03-06 03:09:12,557 [INFO] Base - [id:1158555867] Fetched 12 reviews (52376 fetched in total)\n"
     ]
    },
    {
     "name": "stdout",
     "output_type": "stream",
     "text": [
      "Saved 62200 reviews to 1158555867_reviews_62200.csv\n"
     ]
    },
    {
     "name": "stderr",
     "output_type": "stream",
     "text": [
      "2024-03-06 03:09:18,002 [INFO] Base - [id:1158555867] Fetched 12 reviews (52388 fetched in total)\n",
      "2024-03-06 03:09:23,109 [INFO] Base - [id:1158555867] Fetched 12 reviews (52400 fetched in total)\n",
      "2024-03-06 03:09:28,254 [INFO] Base - [id:1158555867] Fetched 12 reviews (52412 fetched in total)\n",
      "2024-03-06 03:09:33,361 [INFO] Base - [id:1158555867] Fetched 12 reviews (52424 fetched in total)\n",
      "2024-03-06 03:09:38,467 [INFO] Base - [id:1158555867] Fetched 12 reviews (52436 fetched in total)\n"
     ]
    },
    {
     "name": "stdout",
     "output_type": "stream",
     "text": [
      "Saved 62300 reviews to 1158555867_reviews_62300.csv\n"
     ]
    },
    {
     "name": "stderr",
     "output_type": "stream",
     "text": [
      "2024-03-06 03:09:43,905 [INFO] Base - [id:1158555867] Fetched 12 reviews (52448 fetched in total)\n",
      "2024-03-06 03:09:49,235 [INFO] Base - [id:1158555867] Fetched 12 reviews (52460 fetched in total)\n",
      "2024-03-06 03:09:54,320 [INFO] Base - [id:1158555867] Fetched 12 reviews (52472 fetched in total)\n",
      "2024-03-06 03:09:59,476 [INFO] Base - [id:1158555867] Fetched 12 reviews (52484 fetched in total)\n",
      "2024-03-06 03:10:04,573 [INFO] Base - [id:1158555867] Fetched 12 reviews (52496 fetched in total)\n"
     ]
    },
    {
     "name": "stdout",
     "output_type": "stream",
     "text": [
      "Saved 62400 reviews to 1158555867_reviews_62400.csv\n"
     ]
    },
    {
     "name": "stderr",
     "output_type": "stream",
     "text": [
      "2024-03-06 03:10:10,016 [INFO] Base - [id:1158555867] Fetched 12 reviews (52508 fetched in total)\n",
      "2024-03-06 03:10:15,149 [INFO] Base - [id:1158555867] Fetched 12 reviews (52520 fetched in total)\n",
      "2024-03-06 03:10:20,245 [INFO] Base - [id:1158555867] Fetched 12 reviews (52532 fetched in total)\n",
      "2024-03-06 03:10:25,359 [INFO] Base - [id:1158555867] Fetched 12 reviews (52544 fetched in total)\n",
      "2024-03-06 03:10:30,520 [INFO] Base - [id:1158555867] Fetched 12 reviews (52556 fetched in total)\n"
     ]
    },
    {
     "name": "stdout",
     "output_type": "stream",
     "text": [
      "Saved 62500 reviews to 1158555867_reviews_62500.csv\n"
     ]
    },
    {
     "name": "stderr",
     "output_type": "stream",
     "text": [
      "2024-03-06 03:10:35,974 [INFO] Base - [id:1158555867] Fetched 12 reviews (52568 fetched in total)\n",
      "2024-03-06 03:26:30,613 [INFO] Base - [id:1158555867] Fetched 12 reviews (52580 fetched in total)\n",
      "2024-03-06 03:26:35,735 [INFO] Base - [id:1158555867] Fetched 12 reviews (52592 fetched in total)\n",
      "2024-03-06 03:26:40,873 [INFO] Base - [id:1158555867] Fetched 12 reviews (52604 fetched in total)\n",
      "2024-03-06 03:26:45,979 [INFO] Base - [id:1158555867] Fetched 12 reviews (52616 fetched in total)\n"
     ]
    },
    {
     "name": "stdout",
     "output_type": "stream",
     "text": [
      "Saved 62600 reviews to 1158555867_reviews_62600.csv\n"
     ]
    },
    {
     "name": "stderr",
     "output_type": "stream",
     "text": [
      "2024-03-06 03:26:51,719 [INFO] Base - [id:1158555867] Fetched 12 reviews (52628 fetched in total)\n",
      "2024-03-06 03:26:56,988 [INFO] Base - [id:1158555867] Fetched 12 reviews (52640 fetched in total)\n",
      "2024-03-06 03:27:02,117 [INFO] Base - [id:1158555867] Fetched 12 reviews (52652 fetched in total)\n",
      "2024-03-06 03:27:07,226 [INFO] Base - [id:1158555867] Fetched 12 reviews (52664 fetched in total)\n",
      "2024-03-06 03:27:12,317 [INFO] Base - [id:1158555867] Fetched 12 reviews (52676 fetched in total)\n"
     ]
    },
    {
     "name": "stdout",
     "output_type": "stream",
     "text": [
      "Saved 62700 reviews to 1158555867_reviews_62700.csv\n"
     ]
    },
    {
     "name": "stderr",
     "output_type": "stream",
     "text": [
      "2024-03-06 03:27:17,746 [INFO] Base - [id:1158555867] Fetched 12 reviews (52688 fetched in total)\n",
      "2024-03-06 03:43:14,840 [INFO] Base - [id:1158555867] Fetched 12 reviews (52700 fetched in total)\n",
      "2024-03-06 03:43:19,956 [INFO] Base - [id:1158555867] Fetched 12 reviews (52712 fetched in total)\n",
      "2024-03-06 03:43:25,069 [INFO] Base - [id:1158555867] Fetched 12 reviews (52724 fetched in total)\n",
      "2024-03-06 03:43:30,179 [INFO] Base - [id:1158555867] Fetched 12 reviews (52736 fetched in total)\n"
     ]
    },
    {
     "name": "stdout",
     "output_type": "stream",
     "text": [
      "Saved 62800 reviews to 1158555867_reviews_62800.csv\n"
     ]
    },
    {
     "name": "stderr",
     "output_type": "stream",
     "text": [
      "2024-03-06 03:43:35,780 [INFO] Base - [id:1158555867] Fetched 12 reviews (52748 fetched in total)\n",
      "2024-03-06 03:43:41,055 [INFO] Base - [id:1158555867] Fetched 12 reviews (52760 fetched in total)\n",
      "2024-03-06 03:43:46,165 [INFO] Base - [id:1158555867] Fetched 12 reviews (52772 fetched in total)\n",
      "2024-03-06 03:43:51,281 [INFO] Base - [id:1158555867] Fetched 12 reviews (52784 fetched in total)\n",
      "2024-03-06 03:43:56,381 [INFO] Base - [id:1158555867] Fetched 12 reviews (52796 fetched in total)\n"
     ]
    },
    {
     "name": "stdout",
     "output_type": "stream",
     "text": [
      "Saved 62900 reviews to 1158555867_reviews_62900.csv\n"
     ]
    },
    {
     "name": "stderr",
     "output_type": "stream",
     "text": [
      "2024-03-06 03:44:01,821 [INFO] Base - [id:1158555867] Fetched 12 reviews (52808 fetched in total)\n",
      "2024-03-06 03:44:06,957 [INFO] Base - [id:1158555867] Fetched 12 reviews (52820 fetched in total)\n",
      "2024-03-06 03:44:12,063 [INFO] Base - [id:1158555867] Fetched 12 reviews (52832 fetched in total)\n",
      "2024-03-06 03:44:17,166 [INFO] Base - [id:1158555867] Fetched 12 reviews (52844 fetched in total)\n",
      "2024-03-06 03:44:22,295 [INFO] Base - [id:1158555867] Fetched 12 reviews (52856 fetched in total)\n"
     ]
    },
    {
     "name": "stdout",
     "output_type": "stream",
     "text": [
      "Saved 63000 reviews to 1158555867_reviews_63000.csv\n"
     ]
    },
    {
     "name": "stderr",
     "output_type": "stream",
     "text": [
      "2024-03-06 03:44:27,724 [INFO] Base - [id:1158555867] Fetched 12 reviews (52868 fetched in total)\n",
      "2024-03-06 03:44:32,868 [INFO] Base - [id:1158555867] Fetched 12 reviews (52880 fetched in total)\n",
      "2024-03-06 03:44:38,004 [INFO] Base - [id:1158555867] Fetched 12 reviews (52892 fetched in total)\n",
      "2024-03-06 03:44:43,111 [INFO] Base - [id:1158555867] Fetched 12 reviews (52904 fetched in total)\n",
      "2024-03-06 03:44:48,214 [INFO] Base - [id:1158555867] Fetched 12 reviews (52916 fetched in total)\n"
     ]
    },
    {
     "name": "stdout",
     "output_type": "stream",
     "text": [
      "Saved 63100 reviews to 1158555867_reviews_63100.csv\n"
     ]
    },
    {
     "name": "stderr",
     "output_type": "stream",
     "text": [
      "2024-03-06 03:44:53,665 [INFO] Base - [id:1158555867] Fetched 12 reviews (52928 fetched in total)\n",
      "2024-03-06 03:44:58,790 [INFO] Base - [id:1158555867] Fetched 12 reviews (52940 fetched in total)\n",
      "2024-03-06 03:45:03,905 [INFO] Base - [id:1158555867] Fetched 12 reviews (52952 fetched in total)\n",
      "2024-03-06 03:45:09,032 [INFO] Base - [id:1158555867] Fetched 12 reviews (52964 fetched in total)\n",
      "2024-03-06 03:45:14,159 [INFO] Base - [id:1158555867] Fetched 12 reviews (52976 fetched in total)\n"
     ]
    },
    {
     "name": "stdout",
     "output_type": "stream",
     "text": [
      "Saved 63200 reviews to 1158555867_reviews_63200.csv\n"
     ]
    },
    {
     "name": "stderr",
     "output_type": "stream",
     "text": [
      "2024-03-06 03:45:19,604 [INFO] Base - [id:1158555867] Fetched 12 reviews (52988 fetched in total)\n",
      "2024-03-06 03:45:24,715 [INFO] Base - [id:1158555867] Fetched 12 reviews (53000 fetched in total)\n",
      "2024-03-06 03:45:29,849 [INFO] Base - [id:1158555867] Fetched 12 reviews (53012 fetched in total)\n",
      "2024-03-06 03:45:34,935 [INFO] Base - [id:1158555867] Fetched 12 reviews (53024 fetched in total)\n",
      "2024-03-06 03:45:40,049 [INFO] Base - [id:1158555867] Fetched 12 reviews (53036 fetched in total)\n"
     ]
    },
    {
     "name": "stdout",
     "output_type": "stream",
     "text": [
      "Saved 63300 reviews to 1158555867_reviews_63300.csv\n"
     ]
    },
    {
     "name": "stderr",
     "output_type": "stream",
     "text": [
      "2024-03-06 03:45:45,515 [INFO] Base - [id:1158555867] Fetched 12 reviews (53048 fetched in total)\n",
      "2024-03-06 03:45:50,630 [INFO] Base - [id:1158555867] Fetched 12 reviews (53060 fetched in total)\n",
      "2024-03-06 03:45:55,803 [INFO] Base - [id:1158555867] Fetched 12 reviews (53072 fetched in total)\n",
      "2024-03-06 04:02:11,676 [INFO] Base - [id:1158555867] Fetched 12 reviews (53084 fetched in total)\n",
      "2024-03-06 04:02:16,795 [INFO] Base - [id:1158555867] Fetched 12 reviews (53096 fetched in total)\n"
     ]
    },
    {
     "name": "stdout",
     "output_type": "stream",
     "text": [
      "Saved 63400 reviews to 1158555867_reviews_63400.csv\n"
     ]
    },
    {
     "name": "stderr",
     "output_type": "stream",
     "text": [
      "2024-03-06 04:02:22,246 [INFO] Base - [id:1158555867] Fetched 12 reviews (53108 fetched in total)\n",
      "2024-03-06 04:02:27,376 [INFO] Base - [id:1158555867] Fetched 12 reviews (53120 fetched in total)\n",
      "2024-03-06 04:02:32,505 [INFO] Base - [id:1158555867] Fetched 12 reviews (53132 fetched in total)\n",
      "2024-03-06 04:02:37,836 [INFO] Base - [id:1158555867] Fetched 12 reviews (53144 fetched in total)\n",
      "2024-03-06 04:02:42,928 [INFO] Base - [id:1158555867] Fetched 12 reviews (53156 fetched in total)\n"
     ]
    },
    {
     "name": "stdout",
     "output_type": "stream",
     "text": [
      "Saved 63500 reviews to 1158555867_reviews_63500.csv\n"
     ]
    },
    {
     "name": "stderr",
     "output_type": "stream",
     "text": [
      "2024-03-06 04:02:48,389 [INFO] Base - [id:1158555867] Fetched 12 reviews (53168 fetched in total)\n",
      "2024-03-06 04:02:53,494 [INFO] Base - [id:1158555867] Fetched 12 reviews (53180 fetched in total)\n",
      "2024-03-06 04:02:58,598 [INFO] Base - [id:1158555867] Fetched 12 reviews (53192 fetched in total)\n",
      "2024-03-06 04:03:03,720 [INFO] Base - [id:1158555867] Fetched 12 reviews (53204 fetched in total)\n",
      "2024-03-06 04:03:08,835 [INFO] Base - [id:1158555867] Fetched 12 reviews (53216 fetched in total)\n"
     ]
    },
    {
     "name": "stdout",
     "output_type": "stream",
     "text": [
      "Saved 63600 reviews to 1158555867_reviews_63600.csv\n"
     ]
    },
    {
     "name": "stderr",
     "output_type": "stream",
     "text": [
      "2024-03-06 04:03:14,284 [INFO] Base - [id:1158555867] Fetched 12 reviews (53228 fetched in total)\n",
      "2024-03-06 04:03:19,448 [INFO] Base - [id:1158555867] Fetched 12 reviews (53240 fetched in total)\n",
      "2024-03-06 04:03:24,564 [INFO] Base - [id:1158555867] Fetched 12 reviews (53252 fetched in total)\n",
      "2024-03-06 04:03:29,693 [INFO] Base - [id:1158555867] Fetched 12 reviews (53264 fetched in total)\n",
      "2024-03-06 04:03:34,794 [INFO] Base - [id:1158555867] Fetched 12 reviews (53276 fetched in total)\n"
     ]
    },
    {
     "name": "stdout",
     "output_type": "stream",
     "text": [
      "Saved 63700 reviews to 1158555867_reviews_63700.csv\n"
     ]
    },
    {
     "name": "stderr",
     "output_type": "stream",
     "text": [
      "2024-03-06 04:03:40,269 [INFO] Base - [id:1158555867] Fetched 12 reviews (53288 fetched in total)\n",
      "2024-03-06 04:03:45,393 [INFO] Base - [id:1158555867] Fetched 12 reviews (53300 fetched in total)\n",
      "2024-03-06 04:03:50,511 [INFO] Base - [id:1158555867] Fetched 12 reviews (53312 fetched in total)\n",
      "2024-03-06 04:03:55,653 [INFO] Base - [id:1158555867] Fetched 12 reviews (53324 fetched in total)\n",
      "2024-03-06 04:04:00,763 [INFO] Base - [id:1158555867] Fetched 12 reviews (53336 fetched in total)\n"
     ]
    },
    {
     "name": "stdout",
     "output_type": "stream",
     "text": [
      "Saved 63800 reviews to 1158555867_reviews_63800.csv\n"
     ]
    },
    {
     "name": "stderr",
     "output_type": "stream",
     "text": [
      "2024-03-06 04:04:06,215 [INFO] Base - [id:1158555867] Fetched 12 reviews (53348 fetched in total)\n",
      "2024-03-06 04:04:11,360 [INFO] Base - [id:1158555867] Fetched 12 reviews (53360 fetched in total)\n",
      "2024-03-06 04:04:16,480 [INFO] Base - [id:1158555867] Fetched 12 reviews (53372 fetched in total)\n",
      "2024-03-06 04:04:21,600 [INFO] Base - [id:1158555867] Fetched 12 reviews (53384 fetched in total)\n",
      "2024-03-06 04:04:26,733 [INFO] Base - [id:1158555867] Fetched 12 reviews (53396 fetched in total)\n"
     ]
    },
    {
     "name": "stdout",
     "output_type": "stream",
     "text": [
      "Saved 63900 reviews to 1158555867_reviews_63900.csv\n"
     ]
    },
    {
     "name": "stderr",
     "output_type": "stream",
     "text": [
      "2024-03-06 04:04:32,188 [INFO] Base - [id:1158555867] Fetched 12 reviews (53408 fetched in total)\n",
      "2024-03-06 04:04:37,348 [INFO] Base - [id:1158555867] Fetched 12 reviews (53420 fetched in total)\n",
      "2024-03-06 04:07:23,305 [INFO] Base - [id:1158555867] Fetched 12 reviews (53432 fetched in total)\n",
      "2024-03-06 04:07:28,415 [INFO] Base - [id:1158555867] Fetched 12 reviews (53444 fetched in total)\n",
      "2024-03-06 04:07:33,530 [INFO] Base - [id:1158555867] Fetched 12 reviews (53456 fetched in total)\n"
     ]
    },
    {
     "name": "stdout",
     "output_type": "stream",
     "text": [
      "Saved 64000 reviews to 1158555867_reviews_64000.csv\n"
     ]
    },
    {
     "name": "stderr",
     "output_type": "stream",
     "text": [
      "2024-03-06 04:07:39,000 [INFO] Base - [id:1158555867] Fetched 12 reviews (53468 fetched in total)\n",
      "2024-03-06 04:07:44,273 [INFO] Base - [id:1158555867] Fetched 12 reviews (53480 fetched in total)\n",
      "2024-03-06 04:07:49,775 [INFO] Base - [id:1158555867] Fetched 12 reviews (53492 fetched in total)\n",
      "2024-03-06 04:07:54,905 [INFO] Base - [id:1158555867] Fetched 12 reviews (53504 fetched in total)\n",
      "2024-03-06 04:08:00,025 [INFO] Base - [id:1158555867] Fetched 12 reviews (53516 fetched in total)\n"
     ]
    },
    {
     "name": "stdout",
     "output_type": "stream",
     "text": [
      "Saved 64100 reviews to 1158555867_reviews_64100.csv\n"
     ]
    },
    {
     "name": "stderr",
     "output_type": "stream",
     "text": [
      "2024-03-06 04:08:05,493 [INFO] Base - [id:1158555867] Fetched 12 reviews (53528 fetched in total)\n",
      "2024-03-06 04:08:10,631 [INFO] Base - [id:1158555867] Fetched 12 reviews (53540 fetched in total)\n",
      "2024-03-06 04:08:15,732 [INFO] Base - [id:1158555867] Fetched 12 reviews (53552 fetched in total)\n",
      "2024-03-06 04:08:20,837 [INFO] Base - [id:1158555867] Fetched 12 reviews (53564 fetched in total)\n",
      "2024-03-06 04:08:25,982 [INFO] Base - [id:1158555867] Fetched 12 reviews (53576 fetched in total)\n"
     ]
    },
    {
     "name": "stdout",
     "output_type": "stream",
     "text": [
      "Saved 64200 reviews to 1158555867_reviews_64200.csv\n"
     ]
    },
    {
     "name": "stderr",
     "output_type": "stream",
     "text": [
      "2024-03-06 04:08:31,456 [INFO] Base - [id:1158555867] Fetched 12 reviews (53588 fetched in total)\n",
      "2024-03-06 04:08:36,582 [INFO] Base - [id:1158555867] Fetched 12 reviews (53600 fetched in total)\n",
      "2024-03-06 04:08:41,698 [INFO] Base - [id:1158555867] Fetched 12 reviews (53612 fetched in total)\n",
      "2024-03-06 04:08:46,822 [INFO] Base - [id:1158555867] Fetched 12 reviews (53624 fetched in total)\n",
      "2024-03-06 04:08:52,011 [INFO] Base - [id:1158555867] Fetched 12 reviews (53636 fetched in total)\n"
     ]
    },
    {
     "name": "stdout",
     "output_type": "stream",
     "text": [
      "Saved 64300 reviews to 1158555867_reviews_64300.csv\n"
     ]
    },
    {
     "name": "stderr",
     "output_type": "stream",
     "text": [
      "2024-03-06 04:08:57,475 [INFO] Base - [id:1158555867] Fetched 12 reviews (53648 fetched in total)\n",
      "2024-03-06 04:09:02,641 [INFO] Base - [id:1158555867] Fetched 12 reviews (53660 fetched in total)\n",
      "2024-03-06 04:09:07,742 [INFO] Base - [id:1158555867] Fetched 12 reviews (53672 fetched in total)\n",
      "2024-03-06 04:09:12,853 [INFO] Base - [id:1158555867] Fetched 12 reviews (53684 fetched in total)\n",
      "2024-03-06 04:09:17,980 [INFO] Base - [id:1158555867] Fetched 12 reviews (53696 fetched in total)\n"
     ]
    },
    {
     "name": "stdout",
     "output_type": "stream",
     "text": [
      "Saved 64400 reviews to 1158555867_reviews_64400.csv\n"
     ]
    },
    {
     "name": "stderr",
     "output_type": "stream",
     "text": [
      "2024-03-06 04:09:23,443 [INFO] Base - [id:1158555867] Fetched 12 reviews (53708 fetched in total)\n",
      "2024-03-06 04:09:28,561 [INFO] Base - [id:1158555867] Fetched 12 reviews (53720 fetched in total)\n",
      "2024-03-06 04:09:33,676 [INFO] Base - [id:1158555867] Fetched 12 reviews (53732 fetched in total)\n",
      "2024-03-06 04:09:38,791 [INFO] Base - [id:1158555867] Fetched 12 reviews (53744 fetched in total)\n",
      "2024-03-06 04:09:43,922 [INFO] Base - [id:1158555867] Fetched 12 reviews (53756 fetched in total)\n"
     ]
    },
    {
     "name": "stdout",
     "output_type": "stream",
     "text": [
      "Saved 64500 reviews to 1158555867_reviews_64500.csv\n"
     ]
    },
    {
     "name": "stderr",
     "output_type": "stream",
     "text": [
      "2024-03-06 04:09:49,371 [INFO] Base - [id:1158555867] Fetched 12 reviews (53768 fetched in total)\n",
      "2024-03-06 04:09:54,481 [INFO] Base - [id:1158555867] Fetched 12 reviews (53780 fetched in total)\n",
      "2024-03-06 04:09:59,594 [INFO] Base - [id:1158555867] Fetched 12 reviews (53792 fetched in total)\n",
      "2024-03-06 04:10:04,724 [INFO] Base - [id:1158555867] Fetched 12 reviews (53804 fetched in total)\n",
      "2024-03-06 04:10:09,836 [INFO] Base - [id:1158555867] Fetched 12 reviews (53816 fetched in total)\n"
     ]
    },
    {
     "name": "stdout",
     "output_type": "stream",
     "text": [
      "Saved 64600 reviews to 1158555867_reviews_64600.csv\n"
     ]
    },
    {
     "name": "stderr",
     "output_type": "stream",
     "text": [
      "2024-03-06 04:10:15,292 [INFO] Base - [id:1158555867] Fetched 12 reviews (53828 fetched in total)\n",
      "2024-03-06 04:10:20,441 [INFO] Base - [id:1158555867] Fetched 12 reviews (53840 fetched in total)\n",
      "2024-03-06 04:10:25,557 [INFO] Base - [id:1158555867] Fetched 12 reviews (53852 fetched in total)\n",
      "2024-03-06 04:10:30,671 [INFO] Base - [id:1158555867] Fetched 12 reviews (53864 fetched in total)\n",
      "2024-03-06 04:10:35,815 [INFO] Base - [id:1158555867] Fetched 12 reviews (53876 fetched in total)\n"
     ]
    },
    {
     "name": "stdout",
     "output_type": "stream",
     "text": [
      "Saved 64700 reviews to 1158555867_reviews_64700.csv\n"
     ]
    },
    {
     "name": "stderr",
     "output_type": "stream",
     "text": [
      "2024-03-06 04:10:41,286 [INFO] Base - [id:1158555867] Fetched 12 reviews (53888 fetched in total)\n",
      "2024-03-06 04:10:46,404 [INFO] Base - [id:1158555867] Fetched 12 reviews (53900 fetched in total)\n",
      "2024-03-06 04:10:51,507 [INFO] Base - [id:1158555867] Fetched 12 reviews (53912 fetched in total)\n",
      "2024-03-06 04:10:56,620 [INFO] Base - [id:1158555867] Fetched 12 reviews (53924 fetched in total)\n",
      "2024-03-06 04:11:01,756 [INFO] Base - [id:1158555867] Fetched 12 reviews (53936 fetched in total)\n"
     ]
    },
    {
     "name": "stdout",
     "output_type": "stream",
     "text": [
      "Saved 64800 reviews to 1158555867_reviews_64800.csv\n"
     ]
    },
    {
     "name": "stderr",
     "output_type": "stream",
     "text": [
      "2024-03-06 04:11:07,221 [INFO] Base - [id:1158555867] Fetched 12 reviews (53948 fetched in total)\n",
      "2024-03-06 04:11:12,386 [INFO] Base - [id:1158555867] Fetched 12 reviews (53960 fetched in total)\n",
      "2024-03-06 04:11:17,525 [INFO] Base - [id:1158555867] Fetched 12 reviews (53972 fetched in total)\n",
      "2024-03-06 04:11:22,640 [INFO] Base - [id:1158555867] Fetched 12 reviews (53984 fetched in total)\n",
      "2024-03-06 04:11:27,756 [INFO] Base - [id:1158555867] Fetched 12 reviews (53996 fetched in total)\n"
     ]
    },
    {
     "name": "stdout",
     "output_type": "stream",
     "text": [
      "Saved 64900 reviews to 1158555867_reviews_64900.csv\n"
     ]
    },
    {
     "name": "stderr",
     "output_type": "stream",
     "text": [
      "2024-03-06 04:11:33,210 [INFO] Base - [id:1158555867] Fetched 12 reviews (54008 fetched in total)\n",
      "2024-03-06 04:11:38,335 [INFO] Base - [id:1158555867] Fetched 12 reviews (54020 fetched in total)\n",
      "2024-03-06 04:11:43,460 [INFO] Base - [id:1158555867] Fetched 12 reviews (54032 fetched in total)\n",
      "2024-03-06 04:11:48,575 [INFO] Base - [id:1158555867] Fetched 12 reviews (54044 fetched in total)\n",
      "2024-03-06 04:11:53,694 [INFO] Base - [id:1158555867] Fetched 12 reviews (54056 fetched in total)\n"
     ]
    },
    {
     "name": "stdout",
     "output_type": "stream",
     "text": [
      "Saved 65000 reviews to 1158555867_reviews_65000.csv\n"
     ]
    },
    {
     "name": "stderr",
     "output_type": "stream",
     "text": [
      "2024-03-06 04:11:59,185 [INFO] Base - [id:1158555867] Fetched 12 reviews (54068 fetched in total)\n",
      "2024-03-06 04:12:04,294 [INFO] Base - [id:1158555867] Fetched 12 reviews (54080 fetched in total)\n",
      "2024-03-06 04:12:09,410 [INFO] Base - [id:1158555867] Fetched 12 reviews (54092 fetched in total)\n",
      "2024-03-06 04:12:14,539 [INFO] Base - [id:1158555867] Fetched 12 reviews (54104 fetched in total)\n",
      "2024-03-06 04:12:19,664 [INFO] Base - [id:1158555867] Fetched 12 reviews (54116 fetched in total)\n"
     ]
    },
    {
     "name": "stdout",
     "output_type": "stream",
     "text": [
      "Saved 65100 reviews to 1158555867_reviews_65100.csv\n"
     ]
    },
    {
     "name": "stderr",
     "output_type": "stream",
     "text": [
      "2024-03-06 04:28:28,088 [INFO] Base - [id:1158555867] Fetched 12 reviews (54128 fetched in total)\n",
      "2024-03-06 04:28:33,202 [INFO] Base - [id:1158555867] Fetched 12 reviews (54140 fetched in total)\n",
      "2024-03-06 04:28:38,312 [INFO] Base - [id:1158555867] Fetched 12 reviews (54152 fetched in total)\n",
      "2024-03-06 04:28:43,429 [INFO] Base - [id:1158555867] Fetched 12 reviews (54164 fetched in total)\n",
      "2024-03-06 04:28:48,927 [INFO] Base - [id:1158555867] Fetched 12 reviews (54176 fetched in total)\n"
     ]
    },
    {
     "name": "stdout",
     "output_type": "stream",
     "text": [
      "Saved 65200 reviews to 1158555867_reviews_65200.csv\n"
     ]
    },
    {
     "name": "stderr",
     "output_type": "stream",
     "text": [
      "2024-03-06 04:28:54,398 [INFO] Base - [id:1158555867] Fetched 12 reviews (54188 fetched in total)\n",
      "2024-03-06 04:28:59,502 [INFO] Base - [id:1158555867] Fetched 12 reviews (54200 fetched in total)\n",
      "2024-03-06 04:29:04,631 [INFO] Base - [id:1158555867] Fetched 12 reviews (54212 fetched in total)\n",
      "2024-03-06 04:29:09,748 [INFO] Base - [id:1158555867] Fetched 12 reviews (54224 fetched in total)\n",
      "2024-03-06 04:29:14,868 [INFO] Base - [id:1158555867] Fetched 12 reviews (54236 fetched in total)\n"
     ]
    },
    {
     "name": "stdout",
     "output_type": "stream",
     "text": [
      "Saved 65300 reviews to 1158555867_reviews_65300.csv\n"
     ]
    },
    {
     "name": "stderr",
     "output_type": "stream",
     "text": [
      "2024-03-06 04:29:20,346 [INFO] Base - [id:1158555867] Fetched 12 reviews (54248 fetched in total)\n",
      "2024-03-06 04:29:25,468 [INFO] Base - [id:1158555867] Fetched 12 reviews (54260 fetched in total)\n",
      "2024-03-06 04:29:30,697 [INFO] Base - [id:1158555867] Fetched 12 reviews (54272 fetched in total)\n",
      "2024-03-06 04:29:35,815 [INFO] Base - [id:1158555867] Fetched 12 reviews (54284 fetched in total)\n",
      "2024-03-06 04:29:40,952 [INFO] Base - [id:1158555867] Fetched 12 reviews (54296 fetched in total)\n"
     ]
    },
    {
     "name": "stdout",
     "output_type": "stream",
     "text": [
      "Saved 65400 reviews to 1158555867_reviews_65400.csv\n"
     ]
    },
    {
     "name": "stderr",
     "output_type": "stream",
     "text": [
      "2024-03-06 04:29:46,422 [INFO] Base - [id:1158555867] Fetched 12 reviews (54308 fetched in total)\n",
      "2024-03-06 04:29:51,528 [INFO] Base - [id:1158555867] Fetched 12 reviews (54320 fetched in total)\n",
      "2024-03-06 04:29:56,657 [INFO] Base - [id:1158555867] Fetched 12 reviews (54332 fetched in total)\n",
      "2024-03-06 04:30:01,768 [INFO] Base - [id:1158555867] Fetched 12 reviews (54344 fetched in total)\n",
      "2024-03-06 04:30:06,884 [INFO] Base - [id:1158555867] Fetched 12 reviews (54356 fetched in total)\n"
     ]
    },
    {
     "name": "stdout",
     "output_type": "stream",
     "text": [
      "Saved 65500 reviews to 1158555867_reviews_65500.csv\n"
     ]
    },
    {
     "name": "stderr",
     "output_type": "stream",
     "text": [
      "2024-03-06 04:30:12,348 [INFO] Base - [id:1158555867] Fetched 12 reviews (54368 fetched in total)\n",
      "2024-03-06 04:30:17,469 [INFO] Base - [id:1158555867] Fetched 12 reviews (54380 fetched in total)\n",
      "2024-03-06 04:30:22,583 [INFO] Base - [id:1158555867] Fetched 12 reviews (54392 fetched in total)\n",
      "2024-03-06 04:30:27,708 [INFO] Base - [id:1158555867] Fetched 12 reviews (54404 fetched in total)\n",
      "2024-03-06 04:30:32,830 [INFO] Base - [id:1158555867] Fetched 12 reviews (54416 fetched in total)\n"
     ]
    },
    {
     "name": "stdout",
     "output_type": "stream",
     "text": [
      "Saved 65600 reviews to 1158555867_reviews_65600.csv\n"
     ]
    },
    {
     "name": "stderr",
     "output_type": "stream",
     "text": [
      "2024-03-06 04:30:38,284 [INFO] Base - [id:1158555867] Fetched 12 reviews (54428 fetched in total)\n",
      "2024-03-06 04:30:43,427 [INFO] Base - [id:1158555867] Fetched 12 reviews (54440 fetched in total)\n",
      "2024-03-06 04:30:48,668 [INFO] Base - [id:1158555867] Fetched 12 reviews (54452 fetched in total)\n",
      "2024-03-06 04:30:53,769 [INFO] Base - [id:1158555867] Fetched 12 reviews (54464 fetched in total)\n",
      "2024-03-06 04:30:58,903 [INFO] Base - [id:1158555867] Fetched 12 reviews (54476 fetched in total)\n"
     ]
    },
    {
     "name": "stdout",
     "output_type": "stream",
     "text": [
      "Saved 65700 reviews to 1158555867_reviews_65700.csv\n"
     ]
    },
    {
     "name": "stderr",
     "output_type": "stream",
     "text": [
      "2024-03-06 04:31:04,357 [INFO] Base - [id:1158555867] Fetched 12 reviews (54488 fetched in total)\n",
      "2024-03-06 04:31:09,477 [INFO] Base - [id:1158555867] Fetched 12 reviews (54500 fetched in total)\n",
      "2024-03-06 04:31:14,592 [INFO] Base - [id:1158555867] Fetched 12 reviews (54512 fetched in total)\n",
      "2024-03-06 04:31:19,717 [INFO] Base - [id:1158555867] Fetched 12 reviews (54524 fetched in total)\n",
      "2024-03-06 04:31:24,852 [INFO] Base - [id:1158555867] Fetched 12 reviews (54536 fetched in total)\n"
     ]
    },
    {
     "name": "stdout",
     "output_type": "stream",
     "text": [
      "Saved 65800 reviews to 1158555867_reviews_65800.csv\n"
     ]
    },
    {
     "name": "stderr",
     "output_type": "stream",
     "text": [
      "2024-03-06 04:31:30,334 [INFO] Base - [id:1158555867] Fetched 12 reviews (54548 fetched in total)\n",
      "2024-03-06 04:31:35,453 [INFO] Base - [id:1158555867] Fetched 12 reviews (54560 fetched in total)\n",
      "2024-03-06 04:31:40,579 [INFO] Base - [id:1158555867] Fetched 12 reviews (54572 fetched in total)\n",
      "2024-03-06 04:31:45,693 [INFO] Base - [id:1158555867] Fetched 12 reviews (54584 fetched in total)\n",
      "2024-03-06 04:31:50,816 [INFO] Base - [id:1158555867] Fetched 12 reviews (54596 fetched in total)\n"
     ]
    },
    {
     "name": "stdout",
     "output_type": "stream",
     "text": [
      "Saved 65900 reviews to 1158555867_reviews_65900.csv\n"
     ]
    },
    {
     "name": "stderr",
     "output_type": "stream",
     "text": [
      "2024-03-06 04:31:56,297 [INFO] Base - [id:1158555867] Fetched 12 reviews (54608 fetched in total)\n",
      "2024-03-06 04:32:01,415 [INFO] Base - [id:1158555867] Fetched 12 reviews (54620 fetched in total)\n",
      "2024-03-06 04:32:06,543 [INFO] Base - [id:1158555867] Fetched 12 reviews (54632 fetched in total)\n",
      "2024-03-06 04:32:11,649 [INFO] Base - [id:1158555867] Fetched 12 reviews (54644 fetched in total)\n",
      "2024-03-06 04:32:16,783 [INFO] Base - [id:1158555867] Fetched 12 reviews (54656 fetched in total)\n"
     ]
    },
    {
     "name": "stdout",
     "output_type": "stream",
     "text": [
      "Saved 66000 reviews to 1158555867_reviews_66000.csv\n"
     ]
    },
    {
     "name": "stderr",
     "output_type": "stream",
     "text": [
      "2024-03-06 04:32:22,258 [INFO] Base - [id:1158555867] Fetched 12 reviews (54668 fetched in total)\n",
      "2024-03-06 04:32:27,382 [INFO] Base - [id:1158555867] Fetched 12 reviews (54680 fetched in total)\n",
      "2024-03-06 04:32:32,519 [INFO] Base - [id:1158555867] Fetched 12 reviews (54692 fetched in total)\n",
      "2024-03-06 04:32:37,619 [INFO] Base - [id:1158555867] Fetched 12 reviews (54704 fetched in total)\n",
      "2024-03-06 04:32:42,807 [INFO] Base - [id:1158555867] Fetched 12 reviews (54716 fetched in total)\n"
     ]
    },
    {
     "name": "stdout",
     "output_type": "stream",
     "text": [
      "Saved 66100 reviews to 1158555867_reviews_66100.csv\n"
     ]
    },
    {
     "name": "stderr",
     "output_type": "stream",
     "text": [
      "2024-03-06 04:32:48,288 [INFO] Base - [id:1158555867] Fetched 12 reviews (54728 fetched in total)\n",
      "2024-03-06 04:32:53,446 [INFO] Base - [id:1158555867] Fetched 12 reviews (54740 fetched in total)\n",
      "2024-03-06 04:32:58,532 [INFO] Base - [id:1158555867] Fetched 12 reviews (54752 fetched in total)\n",
      "2024-03-06 04:33:03,647 [INFO] Base - [id:1158555867] Fetched 12 reviews (54764 fetched in total)\n",
      "2024-03-06 04:33:08,768 [INFO] Base - [id:1158555867] Fetched 12 reviews (54776 fetched in total)\n"
     ]
    },
    {
     "name": "stdout",
     "output_type": "stream",
     "text": [
      "Saved 66200 reviews to 1158555867_reviews_66200.csv\n"
     ]
    },
    {
     "name": "stderr",
     "output_type": "stream",
     "text": [
      "2024-03-06 04:33:14,213 [INFO] Base - [id:1158555867] Fetched 12 reviews (54788 fetched in total)\n",
      "2024-03-06 04:33:19,320 [INFO] Base - [id:1158555867] Fetched 12 reviews (54800 fetched in total)\n",
      "2024-03-06 04:33:24,448 [INFO] Base - [id:1158555867] Fetched 12 reviews (54812 fetched in total)\n",
      "2024-03-06 04:49:38,794 [INFO] Base - [id:1158555867] Fetched 9 reviews (54821 fetched in total)\n",
      "2024-03-06 04:49:43,895 [INFO] Base - [id:1158555867] Fetched 9 reviews (54830 fetched in total)\n"
     ]
    },
    {
     "name": "stdout",
     "output_type": "stream",
     "text": [
      "Saved 66300 reviews to 1158555867_reviews_66300.csv\n"
     ]
    },
    {
     "name": "stderr",
     "output_type": "stream",
     "text": [
      "2024-03-06 04:49:49,351 [INFO] Base - [id:1158555867] Fetched 9 reviews (54839 fetched in total)\n",
      "2024-03-06 04:49:54,443 [INFO] Base - [id:1158555867] Fetched 9 reviews (54848 fetched in total)\n",
      "2024-03-06 04:49:59,953 [INFO] Base - [id:1158555867] Fetched 9 reviews (54857 fetched in total)\n",
      "2024-03-06 04:50:05,318 [INFO] Base - [id:1158555867] Fetched 9 reviews (54866 fetched in total)\n",
      "2024-03-06 04:50:10,429 [INFO] Base - [id:1158555867] Fetched 9 reviews (54875 fetched in total)\n"
     ]
    },
    {
     "name": "stdout",
     "output_type": "stream",
     "text": [
      "Saved 66400 reviews to 1158555867_reviews_66400.csv\n"
     ]
    },
    {
     "name": "stderr",
     "output_type": "stream",
     "text": [
      "2024-03-06 04:50:15,905 [INFO] Base - [id:1158555867] Fetched 9 reviews (54884 fetched in total)\n",
      "2024-03-06 04:50:21,052 [INFO] Base - [id:1158555867] Fetched 9 reviews (54893 fetched in total)\n",
      "2024-03-06 04:50:26,167 [INFO] Base - [id:1158555867] Fetched 9 reviews (54902 fetched in total)\n",
      "2024-03-06 04:50:31,300 [INFO] Base - [id:1158555867] Fetched 9 reviews (54911 fetched in total)\n",
      "2024-03-06 04:50:36,418 [INFO] Base - [id:1158555867] Fetched 9 reviews (54920 fetched in total)\n"
     ]
    },
    {
     "name": "stdout",
     "output_type": "stream",
     "text": [
      "Saved 66500 reviews to 1158555867_reviews_66500.csv\n"
     ]
    },
    {
     "name": "stderr",
     "output_type": "stream",
     "text": [
      "2024-03-06 04:50:41,878 [INFO] Base - [id:1158555867] Fetched 9 reviews (54929 fetched in total)\n",
      "2024-03-06 04:50:47,009 [INFO] Base - [id:1158555867] Fetched 9 reviews (54938 fetched in total)\n",
      "2024-03-06 04:50:52,138 [INFO] Base - [id:1158555867] Fetched 9 reviews (54947 fetched in total)\n",
      "2024-03-06 04:50:57,243 [INFO] Base - [id:1158555867] Fetched 9 reviews (54956 fetched in total)\n",
      "2024-03-06 04:51:02,373 [INFO] Base - [id:1158555867] Fetched 9 reviews (54965 fetched in total)\n"
     ]
    },
    {
     "name": "stdout",
     "output_type": "stream",
     "text": [
      "Saved 66600 reviews to 1158555867_reviews_66600.csv\n"
     ]
    },
    {
     "name": "stderr",
     "output_type": "stream",
     "text": [
      "2024-03-06 04:51:07,823 [INFO] Base - [id:1158555867] Fetched 9 reviews (54974 fetched in total)\n",
      "2024-03-06 04:51:12,928 [INFO] Base - [id:1158555867] Fetched 9 reviews (54983 fetched in total)\n",
      "2024-03-06 04:51:18,048 [INFO] Base - [id:1158555867] Fetched 9 reviews (54992 fetched in total)\n",
      "2024-03-06 04:51:23,171 [INFO] Base - [id:1158555867] Fetched 9 reviews (55001 fetched in total)\n",
      "2024-03-06 04:51:28,293 [INFO] Base - [id:1158555867] Fetched 9 reviews (55010 fetched in total)\n"
     ]
    },
    {
     "name": "stdout",
     "output_type": "stream",
     "text": [
      "Saved 66700 reviews to 1158555867_reviews_66700.csv\n"
     ]
    },
    {
     "name": "stderr",
     "output_type": "stream",
     "text": [
      "2024-03-06 04:51:33,762 [INFO] Base - [id:1158555867] Fetched 9 reviews (55019 fetched in total)\n",
      "2024-03-06 04:51:38,872 [INFO] Base - [id:1158555867] Fetched 9 reviews (55028 fetched in total)\n",
      "2024-03-06 04:51:43,993 [INFO] Base - [id:1158555867] Fetched 9 reviews (55037 fetched in total)\n",
      "2024-03-06 04:51:49,099 [INFO] Base - [id:1158555867] Fetched 9 reviews (55046 fetched in total)\n",
      "2024-03-06 04:51:54,208 [INFO] Base - [id:1158555867] Fetched 9 reviews (55055 fetched in total)\n"
     ]
    },
    {
     "name": "stdout",
     "output_type": "stream",
     "text": [
      "Saved 66800 reviews to 1158555867_reviews_66800.csv\n"
     ]
    },
    {
     "name": "stderr",
     "output_type": "stream",
     "text": [
      "2024-03-06 04:51:59,684 [INFO] Base - [id:1158555867] Fetched 9 reviews (55064 fetched in total)\n",
      "2024-03-06 04:52:04,798 [INFO] Base - [id:1158555867] Fetched 9 reviews (55073 fetched in total)\n",
      "2024-03-06 04:52:09,904 [INFO] Base - [id:1158555867] Fetched 9 reviews (55082 fetched in total)\n",
      "2024-03-06 05:07:15,650 [INFO] Base - [id:1158555867] Fetched 9 reviews (55091 fetched in total)\n",
      "2024-03-06 05:07:20,751 [INFO] Base - [id:1158555867] Fetched 9 reviews (55100 fetched in total)\n"
     ]
    },
    {
     "name": "stdout",
     "output_type": "stream",
     "text": [
      "Saved 66900 reviews to 1158555867_reviews_66900.csv\n"
     ]
    },
    {
     "name": "stderr",
     "output_type": "stream",
     "text": [
      "2024-03-06 05:07:26,224 [INFO] Base - [id:1158555867] Fetched 9 reviews (55109 fetched in total)\n",
      "2024-03-06 05:07:31,350 [INFO] Base - [id:1158555867] Fetched 9 reviews (55118 fetched in total)\n",
      "2024-03-06 05:07:36,783 [INFO] Base - [id:1158555867] Fetched 9 reviews (55127 fetched in total)\n",
      "2024-03-06 05:07:42,130 [INFO] Base - [id:1158555867] Fetched 9 reviews (55136 fetched in total)\n",
      "2024-03-06 05:07:47,253 [INFO] Base - [id:1158555867] Fetched 9 reviews (55145 fetched in total)\n"
     ]
    },
    {
     "name": "stdout",
     "output_type": "stream",
     "text": [
      "Saved 67000 reviews to 1158555867_reviews_67000.csv\n"
     ]
    },
    {
     "name": "stderr",
     "output_type": "stream",
     "text": [
      "2024-03-06 05:07:52,700 [INFO] Base - [id:1158555867] Fetched 9 reviews (55154 fetched in total)\n",
      "2024-03-06 05:07:57,794 [INFO] Base - [id:1158555867] Fetched 9 reviews (55163 fetched in total)\n",
      "2024-03-06 05:08:02,915 [INFO] Base - [id:1158555867] Fetched 9 reviews (55172 fetched in total)\n",
      "2024-03-06 05:08:08,024 [INFO] Base - [id:1158555867] Fetched 9 reviews (55181 fetched in total)\n",
      "2024-03-06 05:08:13,117 [INFO] Base - [id:1158555867] Fetched 9 reviews (55190 fetched in total)\n"
     ]
    },
    {
     "name": "stdout",
     "output_type": "stream",
     "text": [
      "Saved 67100 reviews to 1158555867_reviews_67100.csv\n"
     ]
    },
    {
     "name": "stderr",
     "output_type": "stream",
     "text": [
      "2024-03-06 05:08:18,620 [INFO] Base - [id:1158555867] Fetched 9 reviews (55199 fetched in total)\n",
      "2024-03-06 05:08:23,720 [INFO] Base - [id:1158555867] Fetched 9 reviews (55208 fetched in total)\n",
      "2024-03-06 05:08:28,835 [INFO] Base - [id:1158555867] Fetched 9 reviews (55217 fetched in total)\n",
      "2024-03-06 05:08:33,952 [INFO] Base - [id:1158555867] Fetched 9 reviews (55226 fetched in total)\n",
      "2024-03-06 05:08:39,043 [INFO] Base - [id:1158555867] Fetched 9 reviews (55235 fetched in total)\n"
     ]
    },
    {
     "name": "stdout",
     "output_type": "stream",
     "text": [
      "Saved 67200 reviews to 1158555867_reviews_67200.csv\n"
     ]
    },
    {
     "name": "stderr",
     "output_type": "stream",
     "text": [
      "2024-03-06 05:08:44,488 [INFO] Base - [id:1158555867] Fetched 9 reviews (55244 fetched in total)\n",
      "2024-03-06 05:08:49,655 [INFO] Base - [id:1158555867] Fetched 9 reviews (55253 fetched in total)\n",
      "2024-03-06 05:08:54,763 [INFO] Base - [id:1158555867] Fetched 9 reviews (55262 fetched in total)\n",
      "2024-03-06 05:08:59,877 [INFO] Base - [id:1158555867] Fetched 9 reviews (55271 fetched in total)\n",
      "2024-03-06 05:09:04,999 [INFO] Base - [id:1158555867] Fetched 9 reviews (55280 fetched in total)\n"
     ]
    },
    {
     "name": "stdout",
     "output_type": "stream",
     "text": [
      "Saved 67300 reviews to 1158555867_reviews_67300.csv\n"
     ]
    },
    {
     "name": "stderr",
     "output_type": "stream",
     "text": [
      "2024-03-06 05:09:10,455 [INFO] Base - [id:1158555867] Fetched 9 reviews (55289 fetched in total)\n",
      "2024-03-06 05:09:15,548 [INFO] Base - [id:1158555867] Fetched 9 reviews (55298 fetched in total)\n",
      "2024-03-06 05:09:20,678 [INFO] Base - [id:1158555867] Fetched 9 reviews (55307 fetched in total)\n",
      "2024-03-06 05:09:25,765 [INFO] Base - [id:1158555867] Fetched 9 reviews (55316 fetched in total)\n",
      "2024-03-06 05:09:30,867 [INFO] Base - [id:1158555867] Fetched 9 reviews (55325 fetched in total)\n"
     ]
    },
    {
     "name": "stdout",
     "output_type": "stream",
     "text": [
      "Saved 67400 reviews to 1158555867_reviews_67400.csv\n"
     ]
    },
    {
     "name": "stderr",
     "output_type": "stream",
     "text": [
      "2024-03-06 05:09:36,336 [INFO] Base - [id:1158555867] Fetched 9 reviews (55334 fetched in total)\n",
      "2024-03-06 05:09:41,438 [INFO] Base - [id:1158555867] Fetched 9 reviews (55343 fetched in total)\n",
      "2024-03-06 05:24:55,220 [INFO] Base - [id:1158555867] Fetched 9 reviews (55352 fetched in total)\n",
      "2024-03-06 05:25:00,333 [INFO] Base - [id:1158555867] Fetched 9 reviews (55361 fetched in total)\n",
      "2024-03-06 05:25:05,443 [INFO] Base - [id:1158555867] Fetched 9 reviews (55370 fetched in total)\n"
     ]
    },
    {
     "name": "stdout",
     "output_type": "stream",
     "text": [
      "Saved 67500 reviews to 1158555867_reviews_67500.csv\n"
     ]
    },
    {
     "name": "stderr",
     "output_type": "stream",
     "text": [
      "2024-03-06 05:25:10,910 [INFO] Base - [id:1158555867] Fetched 9 reviews (55379 fetched in total)\n",
      "2024-03-06 05:25:16,387 [INFO] Base - [id:1158555867] Fetched 9 reviews (55388 fetched in total)\n",
      "2024-03-06 05:25:21,747 [INFO] Base - [id:1158555867] Fetched 9 reviews (55397 fetched in total)\n",
      "2024-03-06 05:25:26,861 [INFO] Base - [id:1158555867] Fetched 9 reviews (55406 fetched in total)\n",
      "2024-03-06 05:25:31,997 [INFO] Base - [id:1158555867] Fetched 9 reviews (55415 fetched in total)\n"
     ]
    },
    {
     "name": "stdout",
     "output_type": "stream",
     "text": [
      "Saved 67600 reviews to 1158555867_reviews_67600.csv\n"
     ]
    },
    {
     "name": "stderr",
     "output_type": "stream",
     "text": [
      "2024-03-06 05:25:37,479 [INFO] Base - [id:1158555867] Fetched 9 reviews (55424 fetched in total)\n",
      "2024-03-06 05:25:42,593 [INFO] Base - [id:1158555867] Fetched 9 reviews (55433 fetched in total)\n",
      "2024-03-06 05:25:47,694 [INFO] Base - [id:1158555867] Fetched 9 reviews (55442 fetched in total)\n",
      "2024-03-06 05:25:52,842 [INFO] Base - [id:1158555867] Fetched 9 reviews (55451 fetched in total)\n",
      "2024-03-06 05:25:57,967 [INFO] Base - [id:1158555867] Fetched 9 reviews (55460 fetched in total)\n"
     ]
    },
    {
     "name": "stdout",
     "output_type": "stream",
     "text": [
      "Saved 67700 reviews to 1158555867_reviews_67700.csv\n"
     ]
    },
    {
     "name": "stderr",
     "output_type": "stream",
     "text": [
      "2024-03-06 05:26:03,422 [INFO] Base - [id:1158555867] Fetched 9 reviews (55469 fetched in total)\n",
      "2024-03-06 05:26:08,567 [INFO] Base - [id:1158555867] Fetched 9 reviews (55478 fetched in total)\n",
      "2024-03-06 05:26:13,798 [INFO] Base - [id:1158555867] Fetched 9 reviews (55487 fetched in total)\n",
      "2024-03-06 05:26:18,918 [INFO] Base - [id:1158555867] Fetched 9 reviews (55496 fetched in total)\n",
      "2024-03-06 05:26:24,028 [INFO] Base - [id:1158555867] Fetched 9 reviews (55505 fetched in total)\n"
     ]
    },
    {
     "name": "stdout",
     "output_type": "stream",
     "text": [
      "Saved 67800 reviews to 1158555867_reviews_67800.csv\n"
     ]
    },
    {
     "name": "stderr",
     "output_type": "stream",
     "text": [
      "2024-03-06 05:26:29,503 [INFO] Base - [id:1158555867] Fetched 9 reviews (55514 fetched in total)\n",
      "2024-03-06 05:26:34,623 [INFO] Base - [id:1158555867] Fetched 9 reviews (55523 fetched in total)\n",
      "2024-03-06 05:26:39,763 [INFO] Base - [id:1158555867] Fetched 9 reviews (55532 fetched in total)\n",
      "2024-03-06 05:26:44,880 [INFO] Base - [id:1158555867] Fetched 9 reviews (55541 fetched in total)\n",
      "2024-03-06 05:26:50,028 [INFO] Base - [id:1158555867] Fetched 9 reviews (55550 fetched in total)\n"
     ]
    },
    {
     "name": "stdout",
     "output_type": "stream",
     "text": [
      "Saved 67900 reviews to 1158555867_reviews_67900.csv\n"
     ]
    },
    {
     "name": "stderr",
     "output_type": "stream",
     "text": [
      "2024-03-06 05:26:55,528 [INFO] Base - [id:1158555867] Fetched 9 reviews (55559 fetched in total)\n",
      "2024-03-06 05:27:00,672 [INFO] Base - [id:1158555867] Fetched 9 reviews (55568 fetched in total)\n",
      "2024-03-06 05:27:05,802 [INFO] Base - [id:1158555867] Fetched 9 reviews (55577 fetched in total)\n",
      "2024-03-06 05:27:10,903 [INFO] Base - [id:1158555867] Fetched 9 reviews (55586 fetched in total)\n",
      "2024-03-06 05:27:16,034 [INFO] Base - [id:1158555867] Fetched 9 reviews (55595 fetched in total)\n"
     ]
    },
    {
     "name": "stdout",
     "output_type": "stream",
     "text": [
      "Saved 68000 reviews to 1158555867_reviews_68000.csv\n"
     ]
    },
    {
     "name": "stderr",
     "output_type": "stream",
     "text": [
      "2024-03-06 05:27:21,514 [INFO] Base - [id:1158555867] Fetched 9 reviews (55604 fetched in total)\n",
      "2024-03-06 05:27:26,650 [INFO] Base - [id:1158555867] Fetched 9 reviews (55613 fetched in total)\n",
      "2024-03-06 05:36:24,112 [WARNING] urllib3.connectionpool - Retrying (Retry(total=2, connect=None, read=None, redirect=None, status=None)) after connection broken by 'ProtocolError('Connection aborted.', ConnectionResetError(54, 'Connection reset by peer'))': /v1/catalog/us/apps/1158555867/reviews?l=en-GB&offset=37520&limit=20&platform=web&additionalPlatforms=appletv%2Cipad%2Ciphone%2Cmac\n",
      "2024-03-06 05:36:24,207 [INFO] Base - [id:1158555867] Fetched 9 reviews (55622 fetched in total)\n",
      "2024-03-06 05:36:29,316 [INFO] Base - [id:1158555867] Fetched 9 reviews (55631 fetched in total)\n",
      "2024-03-06 05:36:34,456 [INFO] Base - [id:1158555867] Fetched 9 reviews (55640 fetched in total)\n"
     ]
    },
    {
     "name": "stdout",
     "output_type": "stream",
     "text": [
      "Saved 68100 reviews to 1158555867_reviews_68100.csv\n"
     ]
    },
    {
     "name": "stderr",
     "output_type": "stream",
     "text": [
      "2024-03-06 05:36:39,935 [INFO] Base - [id:1158555867] Fetched 9 reviews (55649 fetched in total)\n",
      "2024-03-06 05:36:45,042 [INFO] Base - [id:1158555867] Fetched 9 reviews (55658 fetched in total)\n",
      "2024-03-06 05:36:50,254 [INFO] Base - [id:1158555867] Fetched 9 reviews (55667 fetched in total)\n",
      "2024-03-06 05:36:55,371 [INFO] Base - [id:1158555867] Fetched 9 reviews (55676 fetched in total)\n",
      "2024-03-06 05:37:00,473 [INFO] Base - [id:1158555867] Fetched 9 reviews (55685 fetched in total)\n"
     ]
    },
    {
     "name": "stdout",
     "output_type": "stream",
     "text": [
      "Saved 68200 reviews to 1158555867_reviews_68200.csv\n"
     ]
    },
    {
     "name": "stderr",
     "output_type": "stream",
     "text": [
      "2024-03-06 05:37:05,922 [INFO] Base - [id:1158555867] Fetched 9 reviews (55694 fetched in total)\n",
      "2024-03-06 05:37:11,059 [INFO] Base - [id:1158555867] Fetched 9 reviews (55703 fetched in total)\n",
      "2024-03-06 05:37:16,163 [INFO] Base - [id:1158555867] Fetched 9 reviews (55712 fetched in total)\n",
      "2024-03-06 05:37:21,282 [INFO] Base - [id:1158555867] Fetched 9 reviews (55721 fetched in total)\n",
      "2024-03-06 05:37:26,503 [INFO] Base - [id:1158555867] Fetched 9 reviews (55730 fetched in total)\n"
     ]
    },
    {
     "name": "stdout",
     "output_type": "stream",
     "text": [
      "Saved 68300 reviews to 1158555867_reviews_68300.csv\n"
     ]
    },
    {
     "name": "stderr",
     "output_type": "stream",
     "text": [
      "2024-03-06 05:37:31,982 [INFO] Base - [id:1158555867] Fetched 9 reviews (55739 fetched in total)\n",
      "2024-03-06 05:37:37,109 [INFO] Base - [id:1158555867] Fetched 9 reviews (55748 fetched in total)\n",
      "2024-03-06 05:37:42,263 [INFO] Base - [id:1158555867] Fetched 9 reviews (55757 fetched in total)\n",
      "2024-03-06 05:37:47,376 [INFO] Base - [id:1158555867] Fetched 9 reviews (55766 fetched in total)\n",
      "2024-03-06 05:37:52,515 [INFO] Base - [id:1158555867] Fetched 9 reviews (55775 fetched in total)\n"
     ]
    },
    {
     "name": "stdout",
     "output_type": "stream",
     "text": [
      "Saved 68400 reviews to 1158555867_reviews_68400.csv\n"
     ]
    },
    {
     "name": "stderr",
     "output_type": "stream",
     "text": [
      "2024-03-06 05:37:57,992 [INFO] Base - [id:1158555867] Fetched 9 reviews (55784 fetched in total)\n",
      "2024-03-06 05:38:03,086 [INFO] Base - [id:1158555867] Fetched 9 reviews (55793 fetched in total)\n",
      "2024-03-06 05:38:08,181 [INFO] Base - [id:1158555867] Fetched 9 reviews (55802 fetched in total)\n",
      "2024-03-06 05:38:13,290 [INFO] Base - [id:1158555867] Fetched 9 reviews (55811 fetched in total)\n",
      "2024-03-06 05:38:18,428 [INFO] Base - [id:1158555867] Fetched 9 reviews (55820 fetched in total)\n"
     ]
    },
    {
     "name": "stdout",
     "output_type": "stream",
     "text": [
      "Saved 68500 reviews to 1158555867_reviews_68500.csv\n"
     ]
    },
    {
     "name": "stderr",
     "output_type": "stream",
     "text": [
      "2024-03-06 05:38:23,922 [INFO] Base - [id:1158555867] Fetched 9 reviews (55829 fetched in total)\n",
      "2024-03-06 05:38:29,027 [INFO] Base - [id:1158555867] Fetched 9 reviews (55838 fetched in total)\n",
      "2024-03-06 05:38:34,158 [INFO] Base - [id:1158555867] Fetched 9 reviews (55847 fetched in total)\n",
      "2024-03-06 05:38:39,287 [INFO] Base - [id:1158555867] Fetched 9 reviews (55856 fetched in total)\n",
      "2024-03-06 05:38:44,437 [INFO] Base - [id:1158555867] Fetched 9 reviews (55865 fetched in total)\n"
     ]
    },
    {
     "name": "stdout",
     "output_type": "stream",
     "text": [
      "Saved 68600 reviews to 1158555867_reviews_68600.csv\n"
     ]
    },
    {
     "name": "stderr",
     "output_type": "stream",
     "text": [
      "2024-03-06 05:38:49,938 [INFO] Base - [id:1158555867] Fetched 9 reviews (55874 fetched in total)\n",
      "2024-03-06 05:38:55,078 [INFO] Base - [id:1158555867] Fetched 9 reviews (55883 fetched in total)\n",
      "2024-03-06 05:39:00,199 [INFO] Base - [id:1158555867] Fetched 9 reviews (55892 fetched in total)\n",
      "2024-03-06 05:39:05,318 [INFO] Base - [id:1158555867] Fetched 9 reviews (55901 fetched in total)\n",
      "2024-03-06 05:39:10,541 [INFO] Base - [id:1158555867] Fetched 9 reviews (55910 fetched in total)\n"
     ]
    },
    {
     "name": "stdout",
     "output_type": "stream",
     "text": [
      "Saved 68700 reviews to 1158555867_reviews_68700.csv\n"
     ]
    },
    {
     "name": "stderr",
     "output_type": "stream",
     "text": [
      "2024-03-06 05:39:16,012 [INFO] Base - [id:1158555867] Fetched 9 reviews (55919 fetched in total)\n",
      "2024-03-06 05:39:21,131 [INFO] Base - [id:1158555867] Fetched 9 reviews (55928 fetched in total)\n",
      "2024-03-06 05:39:26,263 [INFO] Base - [id:1158555867] Fetched 9 reviews (55937 fetched in total)\n",
      "2024-03-06 05:39:31,383 [INFO] Base - [id:1158555867] Fetched 9 reviews (55946 fetched in total)\n",
      "2024-03-06 05:39:36,487 [INFO] Base - [id:1158555867] Fetched 9 reviews (55955 fetched in total)\n"
     ]
    },
    {
     "name": "stdout",
     "output_type": "stream",
     "text": [
      "Saved 68800 reviews to 1158555867_reviews_68800.csv\n"
     ]
    },
    {
     "name": "stderr",
     "output_type": "stream",
     "text": [
      "2024-03-06 05:39:42,003 [INFO] Base - [id:1158555867] Fetched 9 reviews (55964 fetched in total)\n",
      "2024-03-06 05:39:47,126 [INFO] Base - [id:1158555867] Fetched 9 reviews (55973 fetched in total)\n",
      "2024-03-06 05:39:52,244 [INFO] Base - [id:1158555867] Fetched 9 reviews (55982 fetched in total)\n",
      "2024-03-06 05:39:57,356 [INFO] Base - [id:1158555867] Fetched 9 reviews (55991 fetched in total)\n",
      "2024-03-06 05:40:02,481 [INFO] Base - [id:1158555867] Fetched 9 reviews (56000 fetched in total)\n"
     ]
    },
    {
     "name": "stdout",
     "output_type": "stream",
     "text": [
      "Saved 68900 reviews to 1158555867_reviews_68900.csv\n"
     ]
    },
    {
     "name": "stderr",
     "output_type": "stream",
     "text": [
      "2024-03-06 05:40:07,936 [INFO] Base - [id:1158555867] Fetched 9 reviews (56009 fetched in total)\n",
      "2024-03-06 05:40:13,063 [INFO] Base - [id:1158555867] Fetched 9 reviews (56018 fetched in total)\n",
      "2024-03-06 05:40:18,164 [INFO] Base - [id:1158555867] Fetched 9 reviews (56027 fetched in total)\n",
      "2024-03-06 05:40:23,279 [INFO] Base - [id:1158555867] Fetched 9 reviews (56036 fetched in total)\n",
      "2024-03-06 05:40:28,408 [INFO] Base - [id:1158555867] Fetched 9 reviews (56045 fetched in total)\n"
     ]
    },
    {
     "name": "stdout",
     "output_type": "stream",
     "text": [
      "Saved 69000 reviews to 1158555867_reviews_69000.csv\n"
     ]
    },
    {
     "name": "stderr",
     "output_type": "stream",
     "text": [
      "2024-03-06 05:40:33,875 [INFO] Base - [id:1158555867] Fetched 9 reviews (56054 fetched in total)\n",
      "2024-03-06 05:40:38,994 [INFO] Base - [id:1158555867] Fetched 9 reviews (56063 fetched in total)\n",
      "2024-03-06 05:40:44,124 [INFO] Base - [id:1158555867] Fetched 9 reviews (56072 fetched in total)\n",
      "2024-03-06 05:40:49,271 [INFO] Base - [id:1158555867] Fetched 9 reviews (56081 fetched in total)\n",
      "2024-03-06 05:40:54,390 [INFO] Base - [id:1158555867] Fetched 9 reviews (56090 fetched in total)\n"
     ]
    },
    {
     "name": "stdout",
     "output_type": "stream",
     "text": [
      "Saved 69100 reviews to 1158555867_reviews_69100.csv\n"
     ]
    },
    {
     "name": "stderr",
     "output_type": "stream",
     "text": [
      "2024-03-06 05:40:59,873 [INFO] Base - [id:1158555867] Fetched 9 reviews (56099 fetched in total)\n",
      "2024-03-06 05:41:04,999 [INFO] Base - [id:1158555867] Fetched 9 reviews (56108 fetched in total)\n",
      "2024-03-06 05:41:10,108 [INFO] Base - [id:1158555867] Fetched 9 reviews (56117 fetched in total)\n",
      "2024-03-06 05:41:15,240 [INFO] Base - [id:1158555867] Fetched 9 reviews (56126 fetched in total)\n",
      "2024-03-06 05:41:20,345 [INFO] Base - [id:1158555867] Fetched 9 reviews (56135 fetched in total)\n"
     ]
    },
    {
     "name": "stdout",
     "output_type": "stream",
     "text": [
      "Saved 69200 reviews to 1158555867_reviews_69200.csv\n"
     ]
    },
    {
     "name": "stderr",
     "output_type": "stream",
     "text": [
      "2024-03-06 05:56:50,720 [INFO] Base - [id:1158555867] Fetched 9 reviews (56144 fetched in total)\n",
      "2024-03-06 05:56:55,817 [INFO] Base - [id:1158555867] Fetched 9 reviews (56153 fetched in total)\n",
      "2024-03-06 05:57:00,910 [INFO] Base - [id:1158555867] Fetched 9 reviews (56162 fetched in total)\n",
      "2024-03-06 05:57:06,034 [INFO] Base - [id:1158555867] Fetched 9 reviews (56171 fetched in total)\n",
      "2024-03-06 05:57:11,463 [INFO] Base - [id:1158555867] Fetched 9 reviews (56180 fetched in total)\n"
     ]
    },
    {
     "name": "stdout",
     "output_type": "stream",
     "text": [
      "Saved 69300 reviews to 1158555867_reviews_69300.csv\n"
     ]
    },
    {
     "name": "stderr",
     "output_type": "stream",
     "text": [
      "2024-03-06 05:57:17,148 [INFO] Base - [id:1158555867] Fetched 9 reviews (56189 fetched in total)\n",
      "2024-03-06 05:57:22,281 [INFO] Base - [id:1158555867] Fetched 9 reviews (56198 fetched in total)\n",
      "2024-03-06 05:57:27,395 [INFO] Base - [id:1158555867] Fetched 9 reviews (56207 fetched in total)\n",
      "2024-03-06 05:57:32,505 [INFO] Base - [id:1158555867] Fetched 9 reviews (56216 fetched in total)\n",
      "2024-03-06 05:57:37,628 [INFO] Base - [id:1158555867] Fetched 9 reviews (56225 fetched in total)\n"
     ]
    },
    {
     "name": "stdout",
     "output_type": "stream",
     "text": [
      "Saved 69400 reviews to 1158555867_reviews_69400.csv\n"
     ]
    },
    {
     "name": "stderr",
     "output_type": "stream",
     "text": [
      "2024-03-06 05:57:43,089 [INFO] Base - [id:1158555867] Fetched 9 reviews (56234 fetched in total)\n",
      "2024-03-06 05:57:48,205 [INFO] Base - [id:1158555867] Fetched 9 reviews (56243 fetched in total)\n",
      "2024-03-06 05:57:53,353 [INFO] Base - [id:1158555867] Fetched 9 reviews (56252 fetched in total)\n",
      "2024-03-06 05:57:58,469 [INFO] Base - [id:1158555867] Fetched 9 reviews (56261 fetched in total)\n",
      "2024-03-06 05:58:03,573 [INFO] Base - [id:1158555867] Fetched 9 reviews (56270 fetched in total)\n"
     ]
    },
    {
     "name": "stdout",
     "output_type": "stream",
     "text": [
      "Saved 69500 reviews to 1158555867_reviews_69500.csv\n"
     ]
    },
    {
     "name": "stderr",
     "output_type": "stream",
     "text": [
      "2024-03-06 05:58:09,073 [INFO] Base - [id:1158555867] Fetched 9 reviews (56279 fetched in total)\n",
      "2024-03-06 05:58:14,177 [INFO] Base - [id:1158555867] Fetched 9 reviews (56288 fetched in total)\n",
      "2024-03-06 05:58:19,291 [INFO] Base - [id:1158555867] Fetched 9 reviews (56297 fetched in total)\n",
      "2024-03-06 05:58:24,413 [INFO] Base - [id:1158555867] Fetched 9 reviews (56306 fetched in total)\n",
      "2024-03-06 05:58:29,543 [INFO] Base - [id:1158555867] Fetched 9 reviews (56315 fetched in total)\n"
     ]
    },
    {
     "name": "stdout",
     "output_type": "stream",
     "text": [
      "Saved 69600 reviews to 1158555867_reviews_69600.csv\n"
     ]
    },
    {
     "name": "stderr",
     "output_type": "stream",
     "text": [
      "2024-03-06 05:58:35,021 [INFO] Base - [id:1158555867] Fetched 9 reviews (56324 fetched in total)\n",
      "2024-03-06 05:58:40,161 [INFO] Base - [id:1158555867] Fetched 9 reviews (56333 fetched in total)\n",
      "2024-03-06 05:58:45,283 [INFO] Base - [id:1158555867] Fetched 9 reviews (56342 fetched in total)\n",
      "2024-03-06 05:58:50,377 [INFO] Base - [id:1158555867] Fetched 9 reviews (56351 fetched in total)\n",
      "2024-03-06 05:58:55,522 [INFO] Base - [id:1158555867] Fetched 9 reviews (56360 fetched in total)\n"
     ]
    },
    {
     "name": "stdout",
     "output_type": "stream",
     "text": [
      "Saved 69700 reviews to 1158555867_reviews_69700.csv\n"
     ]
    },
    {
     "name": "stderr",
     "output_type": "stream",
     "text": [
      "2024-03-06 05:59:01,006 [INFO] Base - [id:1158555867] Fetched 9 reviews (56369 fetched in total)\n",
      "2024-03-06 05:59:06,122 [INFO] Base - [id:1158555867] Fetched 9 reviews (56378 fetched in total)\n",
      "2024-03-06 05:59:11,272 [INFO] Base - [id:1158555867] Fetched 9 reviews (56387 fetched in total)\n",
      "2024-03-06 05:59:16,391 [INFO] Base - [id:1158555867] Fetched 9 reviews (56396 fetched in total)\n",
      "2024-03-06 06:15:15,903 [INFO] Base - [id:1158555867] Fetched 9 reviews (56405 fetched in total)\n"
     ]
    },
    {
     "name": "stdout",
     "output_type": "stream",
     "text": [
      "Saved 69800 reviews to 1158555867_reviews_69800.csv\n"
     ]
    },
    {
     "name": "stderr",
     "output_type": "stream",
     "text": [
      "2024-03-06 06:15:21,487 [INFO] Base - [id:1158555867] Fetched 9 reviews (56414 fetched in total)\n",
      "2024-03-06 06:15:26,602 [INFO] Base - [id:1158555867] Fetched 9 reviews (56423 fetched in total)\n",
      "2024-03-06 06:15:31,723 [INFO] Base - [id:1158555867] Fetched 9 reviews (56432 fetched in total)\n",
      "2024-03-06 06:15:37,131 [INFO] Base - [id:1158555867] Fetched 9 reviews (56441 fetched in total)\n",
      "2024-03-06 06:15:42,257 [INFO] Base - [id:1158555867] Fetched 9 reviews (56450 fetched in total)\n"
     ]
    },
    {
     "name": "stdout",
     "output_type": "stream",
     "text": [
      "Saved 69900 reviews to 1158555867_reviews_69900.csv\n"
     ]
    },
    {
     "name": "stderr",
     "output_type": "stream",
     "text": [
      "2024-03-06 06:15:47,758 [INFO] Base - [id:1158555867] Fetched 9 reviews (56459 fetched in total)\n",
      "2024-03-06 06:15:52,888 [INFO] Base - [id:1158555867] Fetched 9 reviews (56468 fetched in total)\n",
      "2024-03-06 06:15:58,014 [INFO] Base - [id:1158555867] Fetched 9 reviews (56477 fetched in total)\n",
      "2024-03-06 06:16:03,139 [INFO] Base - [id:1158555867] Fetched 9 reviews (56486 fetched in total)\n",
      "2024-03-06 06:16:08,265 [INFO] Base - [id:1158555867] Fetched 9 reviews (56495 fetched in total)\n"
     ]
    },
    {
     "name": "stdout",
     "output_type": "stream",
     "text": [
      "Saved 70000 reviews to 1158555867_reviews_70000.csv\n"
     ]
    },
    {
     "name": "stderr",
     "output_type": "stream",
     "text": [
      "2024-03-06 06:16:13,745 [INFO] Base - [id:1158555867] Fetched 9 reviews (56504 fetched in total)\n",
      "2024-03-06 06:16:18,847 [INFO] Base - [id:1158555867] Fetched 9 reviews (56513 fetched in total)\n",
      "2024-03-06 06:16:23,957 [INFO] Base - [id:1158555867] Fetched 9 reviews (56522 fetched in total)\n",
      "2024-03-06 06:16:29,115 [INFO] Base - [id:1158555867] Fetched 9 reviews (56531 fetched in total)\n",
      "2024-03-06 06:16:34,240 [INFO] Base - [id:1158555867] Fetched 9 reviews (56540 fetched in total)\n"
     ]
    },
    {
     "name": "stdout",
     "output_type": "stream",
     "text": [
      "Saved 70100 reviews to 1158555867_reviews_70100.csv\n"
     ]
    },
    {
     "name": "stderr",
     "output_type": "stream",
     "text": [
      "2024-03-06 06:16:39,735 [INFO] Base - [id:1158555867] Fetched 9 reviews (56549 fetched in total)\n",
      "2024-03-06 06:16:44,869 [INFO] Base - [id:1158555867] Fetched 9 reviews (56558 fetched in total)\n",
      "2024-03-06 06:16:49,977 [INFO] Base - [id:1158555867] Fetched 9 reviews (56567 fetched in total)\n",
      "2024-03-06 06:16:55,082 [INFO] Base - [id:1158555867] Fetched 9 reviews (56576 fetched in total)\n",
      "2024-03-06 06:17:00,222 [INFO] Base - [id:1158555867] Fetched 9 reviews (56585 fetched in total)\n"
     ]
    },
    {
     "name": "stdout",
     "output_type": "stream",
     "text": [
      "Saved 70200 reviews to 1158555867_reviews_70200.csv\n"
     ]
    },
    {
     "name": "stderr",
     "output_type": "stream",
     "text": [
      "2024-03-06 06:17:05,685 [INFO] Base - [id:1158555867] Fetched 9 reviews (56594 fetched in total)\n",
      "2024-03-06 06:17:10,793 [INFO] Base - [id:1158555867] Fetched 9 reviews (56603 fetched in total)\n",
      "2024-03-06 06:17:15,996 [INFO] Base - [id:1158555867] Fetched 9 reviews (56612 fetched in total)\n",
      "2024-03-06 06:17:21,094 [INFO] Base - [id:1158555867] Fetched 9 reviews (56621 fetched in total)\n",
      "2024-03-06 06:17:26,196 [INFO] Base - [id:1158555867] Fetched 9 reviews (56630 fetched in total)\n"
     ]
    },
    {
     "name": "stdout",
     "output_type": "stream",
     "text": [
      "Saved 70300 reviews to 1158555867_reviews_70300.csv\n"
     ]
    },
    {
     "name": "stderr",
     "output_type": "stream",
     "text": [
      "2024-03-06 06:17:31,809 [INFO] Base - [id:1158555867] Fetched 9 reviews (56639 fetched in total)\n",
      "2024-03-06 06:17:36,938 [INFO] Base - [id:1158555867] Fetched 9 reviews (56648 fetched in total)\n",
      "2024-03-06 06:17:42,060 [INFO] Base - [id:1158555867] Fetched 9 reviews (56657 fetched in total)\n",
      "2024-03-06 06:17:47,169 [INFO] Base - [id:1158555867] Fetched 9 reviews (56666 fetched in total)\n",
      "2024-03-06 06:17:52,279 [INFO] Base - [id:1158555867] Fetched 9 reviews (56675 fetched in total)\n"
     ]
    },
    {
     "name": "stdout",
     "output_type": "stream",
     "text": [
      "Saved 70400 reviews to 1158555867_reviews_70400.csv\n"
     ]
    },
    {
     "name": "stderr",
     "output_type": "stream",
     "text": [
      "2024-03-06 06:33:57,232 [INFO] Base - [id:1158555867] Fetched 9 reviews (56684 fetched in total)\n",
      "2024-03-06 06:34:02,355 [INFO] Base - [id:1158555867] Fetched 9 reviews (56693 fetched in total)\n",
      "2024-03-06 06:34:07,467 [INFO] Base - [id:1158555867] Fetched 9 reviews (56702 fetched in total)\n",
      "2024-03-06 06:34:12,607 [INFO] Base - [id:1158555867] Fetched 9 reviews (56711 fetched in total)\n",
      "2024-03-06 06:34:18,039 [INFO] Base - [id:1158555867] Fetched 9 reviews (56720 fetched in total)\n"
     ]
    },
    {
     "name": "stdout",
     "output_type": "stream",
     "text": [
      "Saved 70500 reviews to 1158555867_reviews_70500.csv\n"
     ]
    },
    {
     "name": "stderr",
     "output_type": "stream",
     "text": [
      "2024-03-06 06:34:23,639 [INFO] Base - [id:1158555867] Fetched 9 reviews (56729 fetched in total)\n",
      "2024-03-06 06:34:28,760 [INFO] Base - [id:1158555867] Fetched 9 reviews (56738 fetched in total)\n",
      "2024-03-06 06:34:33,895 [INFO] Base - [id:1158555867] Fetched 9 reviews (56747 fetched in total)\n",
      "2024-03-06 06:34:38,986 [INFO] Base - [id:1158555867] Fetched 9 reviews (56756 fetched in total)\n",
      "2024-03-06 06:34:44,117 [INFO] Base - [id:1158555867] Fetched 9 reviews (56765 fetched in total)\n"
     ]
    },
    {
     "name": "stdout",
     "output_type": "stream",
     "text": [
      "Saved 70600 reviews to 1158555867_reviews_70600.csv\n"
     ]
    },
    {
     "name": "stderr",
     "output_type": "stream",
     "text": [
      "2024-03-06 06:34:49,589 [INFO] Base - [id:1158555867] Fetched 9 reviews (56774 fetched in total)\n",
      "2024-03-06 06:34:54,691 [INFO] Base - [id:1158555867] Fetched 9 reviews (56783 fetched in total)\n",
      "2024-03-06 06:34:59,803 [INFO] Base - [id:1158555867] Fetched 9 reviews (56792 fetched in total)\n",
      "2024-03-06 06:35:04,918 [INFO] Base - [id:1158555867] Fetched 9 reviews (56801 fetched in total)\n",
      "2024-03-06 06:35:10,152 [INFO] Base - [id:1158555867] Fetched 9 reviews (56810 fetched in total)\n"
     ]
    },
    {
     "name": "stdout",
     "output_type": "stream",
     "text": [
      "Saved 70700 reviews to 1158555867_reviews_70700.csv\n"
     ]
    },
    {
     "name": "stderr",
     "output_type": "stream",
     "text": [
      "2024-03-06 06:35:15,843 [INFO] Base - [id:1158555867] Fetched 9 reviews (56819 fetched in total)\n",
      "2024-03-06 06:35:20,947 [INFO] Base - [id:1158555867] Fetched 9 reviews (56828 fetched in total)\n",
      "2024-03-06 06:35:26,035 [INFO] Base - [id:1158555867] Fetched 9 reviews (56837 fetched in total)\n",
      "2024-03-06 06:35:31,177 [INFO] Base - [id:1158555867] Fetched 9 reviews (56846 fetched in total)\n",
      "2024-03-06 06:35:36,415 [INFO] Base - [id:1158555867] Fetched 9 reviews (56855 fetched in total)\n"
     ]
    },
    {
     "name": "stdout",
     "output_type": "stream",
     "text": [
      "Saved 70800 reviews to 1158555867_reviews_70800.csv\n"
     ]
    },
    {
     "name": "stderr",
     "output_type": "stream",
     "text": [
      "2024-03-06 06:35:42,163 [INFO] Base - [id:1158555867] Fetched 9 reviews (56864 fetched in total)\n",
      "2024-03-06 06:35:47,281 [INFO] Base - [id:1158555867] Fetched 9 reviews (56873 fetched in total)\n",
      "2024-03-06 06:35:52,407 [INFO] Base - [id:1158555867] Fetched 9 reviews (56882 fetched in total)\n",
      "2024-03-06 06:35:57,633 [INFO] Base - [id:1158555867] Fetched 9 reviews (56891 fetched in total)\n",
      "2024-03-06 06:36:02,746 [INFO] Base - [id:1158555867] Fetched 9 reviews (56900 fetched in total)\n"
     ]
    },
    {
     "name": "stdout",
     "output_type": "stream",
     "text": [
      "Saved 70900 reviews to 1158555867_reviews_70900.csv\n"
     ]
    },
    {
     "name": "stderr",
     "output_type": "stream",
     "text": [
      "2024-03-06 06:36:08,232 [INFO] Base - [id:1158555867] Fetched 9 reviews (56909 fetched in total)\n",
      "2024-03-06 06:36:13,375 [INFO] Base - [id:1158555867] Fetched 9 reviews (56918 fetched in total)\n",
      "2024-03-06 06:36:18,485 [INFO] Base - [id:1158555867] Fetched 9 reviews (56927 fetched in total)\n",
      "2024-03-06 06:41:18,783 [INFO] Base - [id:1158555867] Fetched 9 reviews (56936 fetched in total)\n",
      "2024-03-06 06:41:23,905 [INFO] Base - [id:1158555867] Fetched 9 reviews (56945 fetched in total)\n"
     ]
    },
    {
     "name": "stdout",
     "output_type": "stream",
     "text": [
      "Saved 71000 reviews to 1158555867_reviews_71000.csv\n"
     ]
    },
    {
     "name": "stderr",
     "output_type": "stream",
     "text": [
      "2024-03-06 06:41:29,362 [INFO] Base - [id:1158555867] Fetched 9 reviews (56954 fetched in total)\n",
      "2024-03-06 06:41:34,480 [INFO] Base - [id:1158555867] Fetched 9 reviews (56963 fetched in total)\n",
      "2024-03-06 06:41:39,586 [INFO] Base - [id:1158555867] Fetched 9 reviews (56972 fetched in total)\n",
      "2024-03-06 06:41:44,790 [INFO] Base - [id:1158555867] Fetched 9 reviews (56981 fetched in total)\n",
      "2024-03-06 06:41:49,916 [INFO] Base - [id:1158555867] Fetched 9 reviews (56990 fetched in total)\n"
     ]
    },
    {
     "name": "stdout",
     "output_type": "stream",
     "text": [
      "Saved 71100 reviews to 1158555867_reviews_71100.csv\n"
     ]
    },
    {
     "name": "stderr",
     "output_type": "stream",
     "text": [
      "2024-03-06 06:41:55,389 [INFO] Base - [id:1158555867] Fetched 9 reviews (56999 fetched in total)\n",
      "2024-03-06 06:42:00,496 [INFO] Base - [id:1158555867] Fetched 9 reviews (57008 fetched in total)\n",
      "2024-03-06 06:42:05,609 [INFO] Base - [id:1158555867] Fetched 9 reviews (57017 fetched in total)\n",
      "2024-03-06 06:42:10,733 [INFO] Base - [id:1158555867] Fetched 9 reviews (57026 fetched in total)\n",
      "2024-03-06 06:42:15,845 [INFO] Base - [id:1158555867] Fetched 9 reviews (57035 fetched in total)\n"
     ]
    },
    {
     "name": "stdout",
     "output_type": "stream",
     "text": [
      "Saved 71200 reviews to 1158555867_reviews_71200.csv\n"
     ]
    },
    {
     "name": "stderr",
     "output_type": "stream",
     "text": [
      "2024-03-06 06:42:21,330 [INFO] Base - [id:1158555867] Fetched 9 reviews (57044 fetched in total)\n",
      "2024-03-06 06:42:26,449 [INFO] Base - [id:1158555867] Fetched 9 reviews (57053 fetched in total)\n",
      "2024-03-06 06:42:31,569 [INFO] Base - [id:1158555867] Fetched 9 reviews (57062 fetched in total)\n",
      "2024-03-06 06:42:36,680 [INFO] Base - [id:1158555867] Fetched 9 reviews (57071 fetched in total)\n",
      "2024-03-06 06:42:41,809 [INFO] Base - [id:1158555867] Fetched 9 reviews (57080 fetched in total)\n"
     ]
    },
    {
     "name": "stdout",
     "output_type": "stream",
     "text": [
      "Saved 71300 reviews to 1158555867_reviews_71300.csv\n"
     ]
    },
    {
     "name": "stderr",
     "output_type": "stream",
     "text": [
      "2024-03-06 06:42:47,296 [INFO] Base - [id:1158555867] Fetched 9 reviews (57089 fetched in total)\n",
      "2024-03-06 06:42:52,411 [INFO] Base - [id:1158555867] Fetched 9 reviews (57098 fetched in total)\n",
      "2024-03-06 06:42:57,535 [INFO] Base - [id:1158555867] Fetched 9 reviews (57107 fetched in total)\n",
      "2024-03-06 06:43:02,652 [INFO] Base - [id:1158555867] Fetched 9 reviews (57116 fetched in total)\n",
      "2024-03-06 06:43:07,777 [INFO] Base - [id:1158555867] Fetched 9 reviews (57125 fetched in total)\n"
     ]
    },
    {
     "name": "stdout",
     "output_type": "stream",
     "text": [
      "Saved 71400 reviews to 1158555867_reviews_71400.csv\n"
     ]
    },
    {
     "name": "stderr",
     "output_type": "stream",
     "text": [
      "2024-03-06 06:43:13,257 [INFO] Base - [id:1158555867] Fetched 9 reviews (57134 fetched in total)\n",
      "2024-03-06 06:43:18,422 [INFO] Base - [id:1158555867] Fetched 9 reviews (57143 fetched in total)\n",
      "2024-03-06 06:43:23,553 [INFO] Base - [id:1158555867] Fetched 9 reviews (57152 fetched in total)\n",
      "2024-03-06 06:43:28,658 [INFO] Base - [id:1158555867] Fetched 9 reviews (57161 fetched in total)\n",
      "2024-03-06 06:43:33,772 [INFO] Base - [id:1158555867] Fetched 9 reviews (57170 fetched in total)\n"
     ]
    },
    {
     "name": "stdout",
     "output_type": "stream",
     "text": [
      "Saved 71500 reviews to 1158555867_reviews_71500.csv\n"
     ]
    },
    {
     "name": "stderr",
     "output_type": "stream",
     "text": [
      "2024-03-06 06:43:39,270 [INFO] Base - [id:1158555867] Fetched 9 reviews (57179 fetched in total)\n",
      "2024-03-06 06:43:44,385 [INFO] Base - [id:1158555867] Fetched 9 reviews (57188 fetched in total)\n",
      "2024-03-06 06:57:00,286 [INFO] Base - [id:1158555867] Fetched 9 reviews (57197 fetched in total)\n",
      "2024-03-06 06:57:05,392 [INFO] Base - [id:1158555867] Fetched 9 reviews (57206 fetched in total)\n",
      "2024-03-06 06:57:10,508 [INFO] Base - [id:1158555867] Fetched 9 reviews (57215 fetched in total)\n"
     ]
    },
    {
     "name": "stdout",
     "output_type": "stream",
     "text": [
      "Saved 71600 reviews to 1158555867_reviews_71600.csv\n"
     ]
    },
    {
     "name": "stderr",
     "output_type": "stream",
     "text": [
      "2024-03-06 06:57:15,997 [INFO] Base - [id:1158555867] Fetched 9 reviews (57224 fetched in total)\n",
      "2024-03-06 06:57:21,457 [INFO] Base - [id:1158555867] Fetched 9 reviews (57233 fetched in total)\n",
      "2024-03-06 06:57:26,564 [INFO] Base - [id:1158555867] Fetched 9 reviews (57242 fetched in total)\n",
      "2024-03-06 06:57:31,716 [INFO] Base - [id:1158555867] Fetched 9 reviews (57251 fetched in total)\n",
      "2024-03-06 06:57:36,819 [INFO] Base - [id:1158555867] Fetched 9 reviews (57260 fetched in total)\n"
     ]
    },
    {
     "name": "stdout",
     "output_type": "stream",
     "text": [
      "Saved 71700 reviews to 1158555867_reviews_71700.csv\n"
     ]
    },
    {
     "name": "stderr",
     "output_type": "stream",
     "text": [
      "2024-03-06 06:57:42,313 [INFO] Base - [id:1158555867] Fetched 9 reviews (57269 fetched in total)\n",
      "2024-03-06 06:57:47,417 [INFO] Base - [id:1158555867] Fetched 9 reviews (57278 fetched in total)\n",
      "2024-03-06 06:57:52,539 [INFO] Base - [id:1158555867] Fetched 9 reviews (57287 fetched in total)\n",
      "2024-03-06 06:57:57,624 [INFO] Base - [id:1158555867] Fetched 9 reviews (57296 fetched in total)\n",
      "2024-03-06 06:58:02,748 [INFO] Base - [id:1158555867] Fetched 9 reviews (57305 fetched in total)\n"
     ]
    },
    {
     "name": "stdout",
     "output_type": "stream",
     "text": [
      "Saved 71800 reviews to 1158555867_reviews_71800.csv\n"
     ]
    },
    {
     "name": "stderr",
     "output_type": "stream",
     "text": [
      "2024-03-06 06:58:08,262 [INFO] Base - [id:1158555867] Fetched 9 reviews (57314 fetched in total)\n",
      "2024-03-06 06:58:13,373 [INFO] Base - [id:1158555867] Fetched 9 reviews (57323 fetched in total)\n",
      "2024-03-06 06:58:18,490 [INFO] Base - [id:1158555867] Fetched 9 reviews (57332 fetched in total)\n",
      "2024-03-06 06:58:23,614 [INFO] Base - [id:1158555867] Fetched 9 reviews (57341 fetched in total)\n",
      "2024-03-06 06:58:28,725 [INFO] Base - [id:1158555867] Fetched 9 reviews (57350 fetched in total)\n"
     ]
    },
    {
     "name": "stdout",
     "output_type": "stream",
     "text": [
      "Saved 71900 reviews to 1158555867_reviews_71900.csv\n"
     ]
    },
    {
     "name": "stderr",
     "output_type": "stream",
     "text": [
      "2024-03-06 06:58:34,295 [INFO] Base - [id:1158555867] Fetched 9 reviews (57359 fetched in total)\n",
      "2024-03-06 06:58:39,407 [INFO] Base - [id:1158555867] Fetched 9 reviews (57368 fetched in total)\n",
      "2024-03-06 06:58:44,552 [INFO] Base - [id:1158555867] Fetched 9 reviews (57377 fetched in total)\n",
      "2024-03-06 06:58:49,662 [INFO] Base - [id:1158555867] Fetched 9 reviews (57386 fetched in total)\n",
      "2024-03-06 06:58:54,789 [INFO] Base - [id:1158555867] Fetched 9 reviews (57395 fetched in total)\n"
     ]
    },
    {
     "name": "stdout",
     "output_type": "stream",
     "text": [
      "Saved 72000 reviews to 1158555867_reviews_72000.csv\n"
     ]
    },
    {
     "name": "stderr",
     "output_type": "stream",
     "text": [
      "2024-03-06 06:59:00,345 [INFO] Base - [id:1158555867] Fetched 9 reviews (57404 fetched in total)\n",
      "2024-03-06 06:59:05,470 [INFO] Base - [id:1158555867] Fetched 9 reviews (57413 fetched in total)\n",
      "2024-03-06 06:59:10,577 [INFO] Base - [id:1158555867] Fetched 9 reviews (57422 fetched in total)\n",
      "2024-03-06 06:59:15,694 [INFO] Base - [id:1158555867] Fetched 9 reviews (57431 fetched in total)\n",
      "2024-03-06 06:59:20,828 [INFO] Base - [id:1158555867] Fetched 9 reviews (57440 fetched in total)\n"
     ]
    },
    {
     "name": "stdout",
     "output_type": "stream",
     "text": [
      "Saved 72100 reviews to 1158555867_reviews_72100.csv\n"
     ]
    },
    {
     "name": "stderr",
     "output_type": "stream",
     "text": [
      "2024-03-06 06:59:26,330 [INFO] Base - [id:1158555867] Fetched 9 reviews (57449 fetched in total)\n",
      "2024-03-06 06:59:31,465 [INFO] Base - [id:1158555867] Fetched 9 reviews (57458 fetched in total)\n",
      "2024-03-06 06:59:36,694 [INFO] Base - [id:1158555867] Fetched 9 reviews (57467 fetched in total)\n",
      "2024-03-06 06:59:41,797 [INFO] Base - [id:1158555867] Fetched 9 reviews (57476 fetched in total)\n",
      "2024-03-06 06:59:46,921 [INFO] Base - [id:1158555867] Fetched 9 reviews (57485 fetched in total)\n"
     ]
    },
    {
     "name": "stdout",
     "output_type": "stream",
     "text": [
      "Saved 72200 reviews to 1158555867_reviews_72200.csv\n"
     ]
    },
    {
     "name": "stderr",
     "output_type": "stream",
     "text": [
      "2024-03-06 06:59:52,451 [INFO] Base - [id:1158555867] Fetched 9 reviews (57494 fetched in total)\n",
      "2024-03-06 06:59:57,569 [INFO] Base - [id:1158555867] Fetched 9 reviews (57503 fetched in total)\n",
      "2024-03-06 07:00:02,679 [INFO] Base - [id:1158555867] Fetched 9 reviews (57512 fetched in total)\n",
      "2024-03-06 07:00:07,814 [INFO] Base - [id:1158555867] Fetched 9 reviews (57521 fetched in total)\n",
      "2024-03-06 07:00:12,985 [INFO] Base - [id:1158555867] Fetched 9 reviews (57530 fetched in total)\n"
     ]
    },
    {
     "name": "stdout",
     "output_type": "stream",
     "text": [
      "Saved 72300 reviews to 1158555867_reviews_72300.csv\n"
     ]
    },
    {
     "name": "stderr",
     "output_type": "stream",
     "text": [
      "2024-03-06 07:00:18,476 [INFO] Base - [id:1158555867] Fetched 9 reviews (57539 fetched in total)\n",
      "2024-03-06 07:00:23,608 [INFO] Base - [id:1158555867] Fetched 9 reviews (57548 fetched in total)\n",
      "2024-03-06 07:00:28,722 [INFO] Base - [id:1158555867] Fetched 9 reviews (57557 fetched in total)\n",
      "2024-03-06 07:00:33,820 [INFO] Base - [id:1158555867] Fetched 9 reviews (57566 fetched in total)\n",
      "2024-03-06 07:00:38,940 [INFO] Base - [id:1158555867] Fetched 9 reviews (57575 fetched in total)\n"
     ]
    },
    {
     "name": "stdout",
     "output_type": "stream",
     "text": [
      "Saved 72400 reviews to 1158555867_reviews_72400.csv\n"
     ]
    },
    {
     "name": "stderr",
     "output_type": "stream",
     "text": [
      "2024-03-06 07:00:44,447 [INFO] Base - [id:1158555867] Fetched 9 reviews (57584 fetched in total)\n",
      "2024-03-06 07:00:49,553 [INFO] Base - [id:1158555867] Fetched 9 reviews (57593 fetched in total)\n",
      "2024-03-06 07:00:54,675 [INFO] Base - [id:1158555867] Fetched 9 reviews (57602 fetched in total)\n",
      "2024-03-06 07:00:59,786 [INFO] Base - [id:1158555867] Fetched 9 reviews (57611 fetched in total)\n",
      "2024-03-06 07:01:04,898 [INFO] Base - [id:1158555867] Fetched 9 reviews (57620 fetched in total)\n"
     ]
    },
    {
     "name": "stdout",
     "output_type": "stream",
     "text": [
      "Saved 72500 reviews to 1158555867_reviews_72500.csv\n"
     ]
    },
    {
     "name": "stderr",
     "output_type": "stream",
     "text": [
      "2024-03-06 07:01:10,370 [INFO] Base - [id:1158555867] Fetched 9 reviews (57629 fetched in total)\n",
      "2024-03-06 07:01:15,495 [INFO] Base - [id:1158555867] Fetched 9 reviews (57638 fetched in total)\n",
      "2024-03-06 07:01:20,594 [INFO] Base - [id:1158555867] Fetched 9 reviews (57647 fetched in total)\n",
      "2024-03-06 07:01:25,707 [INFO] Base - [id:1158555867] Fetched 9 reviews (57656 fetched in total)\n",
      "2024-03-06 07:01:30,873 [INFO] Base - [id:1158555867] Fetched 9 reviews (57665 fetched in total)\n"
     ]
    },
    {
     "name": "stdout",
     "output_type": "stream",
     "text": [
      "Saved 72600 reviews to 1158555867_reviews_72600.csv\n"
     ]
    },
    {
     "name": "stderr",
     "output_type": "stream",
     "text": [
      "2024-03-06 07:01:36,443 [INFO] Base - [id:1158555867] Fetched 9 reviews (57674 fetched in total)\n",
      "2024-03-06 07:01:41,566 [INFO] Base - [id:1158555867] Fetched 9 reviews (57683 fetched in total)\n",
      "2024-03-06 07:01:46,690 [INFO] Base - [id:1158555867] Fetched 9 reviews (57692 fetched in total)\n",
      "2024-03-06 07:01:51,818 [INFO] Base - [id:1158555867] Fetched 9 reviews (57701 fetched in total)\n",
      "2024-03-06 07:03:02,583 [INFO] Base - [id:1158555867] Fetched 9 reviews (57710 fetched in total)\n"
     ]
    },
    {
     "name": "stdout",
     "output_type": "stream",
     "text": [
      "Saved 72700 reviews to 1158555867_reviews_72700.csv\n"
     ]
    },
    {
     "name": "stderr",
     "output_type": "stream",
     "text": [
      "2024-03-06 07:03:08,110 [INFO] Base - [id:1158555867] Fetched 9 reviews (57719 fetched in total)\n",
      "2024-03-06 07:03:13,224 [INFO] Base - [id:1158555867] Fetched 9 reviews (57728 fetched in total)\n",
      "2024-03-06 07:03:18,379 [INFO] Base - [id:1158555867] Fetched 9 reviews (57737 fetched in total)\n",
      "2024-03-06 07:03:23,482 [INFO] Base - [id:1158555867] Fetched 9 reviews (57746 fetched in total)\n",
      "2024-03-06 07:03:28,865 [INFO] Base - [id:1158555867] Fetched 9 reviews (57755 fetched in total)\n"
     ]
    },
    {
     "name": "stdout",
     "output_type": "stream",
     "text": [
      "Saved 72800 reviews to 1158555867_reviews_72800.csv\n"
     ]
    },
    {
     "name": "stderr",
     "output_type": "stream",
     "text": [
      "2024-03-06 07:03:34,379 [INFO] Base - [id:1158555867] Fetched 9 reviews (57764 fetched in total)\n",
      "2024-03-06 07:03:39,574 [INFO] Base - [id:1158555867] Fetched 9 reviews (57773 fetched in total)\n",
      "2024-03-06 07:03:44,688 [INFO] Base - [id:1158555867] Fetched 9 reviews (57782 fetched in total)\n",
      "2024-03-06 07:03:49,783 [INFO] Base - [id:1158555867] Fetched 9 reviews (57791 fetched in total)\n",
      "2024-03-06 07:03:54,884 [INFO] Base - [id:1158555867] Fetched 9 reviews (57800 fetched in total)\n"
     ]
    },
    {
     "name": "stdout",
     "output_type": "stream",
     "text": [
      "Saved 72900 reviews to 1158555867_reviews_72900.csv\n"
     ]
    },
    {
     "name": "stderr",
     "output_type": "stream",
     "text": [
      "2024-03-06 07:04:00,366 [INFO] Base - [id:1158555867] Fetched 9 reviews (57809 fetched in total)\n",
      "2024-03-06 07:04:05,496 [INFO] Base - [id:1158555867] Fetched 9 reviews (57818 fetched in total)\n",
      "2024-03-06 07:04:10,612 [INFO] Base - [id:1158555867] Fetched 9 reviews (57827 fetched in total)\n",
      "2024-03-06 07:04:15,727 [INFO] Base - [id:1158555867] Fetched 9 reviews (57836 fetched in total)\n",
      "2024-03-06 07:04:20,854 [INFO] Base - [id:1158555867] Fetched 9 reviews (57845 fetched in total)\n"
     ]
    },
    {
     "name": "stdout",
     "output_type": "stream",
     "text": [
      "Saved 73000 reviews to 1158555867_reviews_73000.csv\n"
     ]
    },
    {
     "name": "stderr",
     "output_type": "stream",
     "text": [
      "2024-03-06 07:04:26,363 [INFO] Base - [id:1158555867] Fetched 9 reviews (57854 fetched in total)\n",
      "2024-03-06 07:04:31,489 [INFO] Base - [id:1158555867] Fetched 9 reviews (57863 fetched in total)\n",
      "2024-03-06 07:04:36,699 [INFO] Base - [id:1158555867] Fetched 9 reviews (57872 fetched in total)\n",
      "2024-03-06 07:04:41,808 [INFO] Base - [id:1158555867] Fetched 9 reviews (57881 fetched in total)\n",
      "2024-03-06 07:04:46,944 [INFO] Base - [id:1158555867] Fetched 9 reviews (57890 fetched in total)\n"
     ]
    },
    {
     "name": "stdout",
     "output_type": "stream",
     "text": [
      "Saved 73100 reviews to 1158555867_reviews_73100.csv\n"
     ]
    },
    {
     "name": "stderr",
     "output_type": "stream",
     "text": [
      "2024-03-06 07:04:52,512 [INFO] Base - [id:1158555867] Fetched 9 reviews (57899 fetched in total)\n",
      "2024-03-06 07:04:57,674 [INFO] Base - [id:1158555867] Fetched 9 reviews (57908 fetched in total)\n",
      "2024-03-06 07:05:02,789 [INFO] Base - [id:1158555867] Fetched 9 reviews (57917 fetched in total)\n",
      "2024-03-06 07:05:07,910 [INFO] Base - [id:1158555867] Fetched 9 reviews (57926 fetched in total)\n",
      "2024-03-06 07:05:13,040 [INFO] Base - [id:1158555867] Fetched 9 reviews (57935 fetched in total)\n"
     ]
    },
    {
     "name": "stdout",
     "output_type": "stream",
     "text": [
      "Saved 73200 reviews to 1158555867_reviews_73200.csv\n"
     ]
    },
    {
     "name": "stderr",
     "output_type": "stream",
     "text": [
      "2024-03-06 07:05:18,542 [INFO] Base - [id:1158555867] Fetched 9 reviews (57944 fetched in total)\n",
      "2024-03-06 07:05:23,658 [INFO] Base - [id:1158555867] Fetched 9 reviews (57953 fetched in total)\n",
      "2024-03-06 07:05:28,801 [INFO] Base - [id:1158555867] Fetched 9 reviews (57962 fetched in total)\n",
      "2024-03-06 07:21:39,515 [INFO] Base - [id:1158555867] Fetched 9 reviews (57971 fetched in total)\n",
      "2024-03-06 07:21:44,634 [INFO] Base - [id:1158555867] Fetched 9 reviews (57980 fetched in total)\n"
     ]
    },
    {
     "name": "stdout",
     "output_type": "stream",
     "text": [
      "Saved 73300 reviews to 1158555867_reviews_73300.csv\n"
     ]
    },
    {
     "name": "stderr",
     "output_type": "stream",
     "text": [
      "2024-03-06 07:21:50,122 [INFO] Base - [id:1158555867] Fetched 9 reviews (57989 fetched in total)\n",
      "2024-03-06 07:21:55,225 [INFO] Base - [id:1158555867] Fetched 9 reviews (57998 fetched in total)\n",
      "2024-03-06 07:22:00,465 [INFO] Base - [id:1158555867] Fetched 9 reviews (58007 fetched in total)\n",
      "2024-03-06 07:22:05,935 [INFO] Base - [id:1158555867] Fetched 9 reviews (58016 fetched in total)\n",
      "2024-03-06 07:22:11,049 [INFO] Base - [id:1158555867] Fetched 9 reviews (58025 fetched in total)\n"
     ]
    },
    {
     "name": "stdout",
     "output_type": "stream",
     "text": [
      "Saved 73400 reviews to 1158555867_reviews_73400.csv\n"
     ]
    },
    {
     "name": "stderr",
     "output_type": "stream",
     "text": [
      "2024-03-06 07:22:16,514 [INFO] Base - [id:1158555867] Fetched 9 reviews (58034 fetched in total)\n",
      "2024-03-06 07:22:21,624 [INFO] Base - [id:1158555867] Fetched 9 reviews (58043 fetched in total)\n",
      "2024-03-06 07:22:26,755 [INFO] Base - [id:1158555867] Fetched 9 reviews (58052 fetched in total)\n",
      "2024-03-06 07:22:31,887 [INFO] Base - [id:1158555867] Fetched 9 reviews (58061 fetched in total)\n",
      "2024-03-06 07:22:37,004 [INFO] Base - [id:1158555867] Fetched 9 reviews (58070 fetched in total)\n"
     ]
    },
    {
     "name": "stdout",
     "output_type": "stream",
     "text": [
      "Saved 73500 reviews to 1158555867_reviews_73500.csv\n"
     ]
    },
    {
     "name": "stderr",
     "output_type": "stream",
     "text": [
      "2024-03-06 07:22:42,519 [INFO] Base - [id:1158555867] Fetched 9 reviews (58079 fetched in total)\n",
      "2024-03-06 07:22:47,635 [INFO] Base - [id:1158555867] Fetched 9 reviews (58088 fetched in total)\n",
      "2024-03-06 07:22:52,780 [INFO] Base - [id:1158555867] Fetched 9 reviews (58097 fetched in total)\n",
      "2024-03-06 07:22:57,897 [INFO] Base - [id:1158555867] Fetched 9 reviews (58106 fetched in total)\n",
      "2024-03-06 07:23:03,032 [INFO] Base - [id:1158555867] Fetched 9 reviews (58115 fetched in total)\n"
     ]
    },
    {
     "name": "stdout",
     "output_type": "stream",
     "text": [
      "Saved 73600 reviews to 1158555867_reviews_73600.csv\n"
     ]
    },
    {
     "name": "stderr",
     "output_type": "stream",
     "text": [
      "2024-03-06 07:23:08,562 [INFO] Base - [id:1158555867] Fetched 9 reviews (58124 fetched in total)\n",
      "2024-03-06 07:23:13,669 [INFO] Base - [id:1158555867] Fetched 9 reviews (58133 fetched in total)\n",
      "2024-03-06 07:23:18,784 [INFO] Base - [id:1158555867] Fetched 9 reviews (58142 fetched in total)\n",
      "2024-03-06 07:23:23,910 [INFO] Base - [id:1158555867] Fetched 9 reviews (58151 fetched in total)\n",
      "2024-03-06 07:23:29,022 [INFO] Base - [id:1158555867] Fetched 9 reviews (58160 fetched in total)\n"
     ]
    },
    {
     "name": "stdout",
     "output_type": "stream",
     "text": [
      "Saved 73700 reviews to 1158555867_reviews_73700.csv\n"
     ]
    },
    {
     "name": "stderr",
     "output_type": "stream",
     "text": [
      "2024-03-06 07:23:34,529 [INFO] Base - [id:1158555867] Fetched 9 reviews (58169 fetched in total)\n",
      "2024-03-06 07:23:39,670 [INFO] Base - [id:1158555867] Fetched 9 reviews (58178 fetched in total)\n",
      "2024-03-06 07:23:44,780 [INFO] Base - [id:1158555867] Fetched 9 reviews (58187 fetched in total)\n",
      "2024-03-06 07:23:49,953 [INFO] Base - [id:1158555867] Fetched 9 reviews (58196 fetched in total)\n",
      "2024-03-06 07:23:55,065 [INFO] Base - [id:1158555867] Fetched 9 reviews (58205 fetched in total)\n"
     ]
    },
    {
     "name": "stdout",
     "output_type": "stream",
     "text": [
      "Saved 73800 reviews to 1158555867_reviews_73800.csv\n"
     ]
    },
    {
     "name": "stderr",
     "output_type": "stream",
     "text": [
      "2024-03-06 07:24:00,591 [INFO] Base - [id:1158555867] Fetched 9 reviews (58214 fetched in total)\n",
      "2024-03-06 07:24:05,710 [INFO] Base - [id:1158555867] Fetched 9 reviews (58223 fetched in total)\n",
      "2024-03-06 07:24:10,845 [INFO] Base - [id:1158555867] Fetched 9 reviews (58232 fetched in total)\n",
      "2024-03-06 07:40:02,764 [INFO] Base - [id:1158555867] Fetched 9 reviews (58241 fetched in total)\n",
      "2024-03-06 07:40:07,957 [INFO] Base - [id:1158555867] Fetched 9 reviews (58250 fetched in total)\n"
     ]
    },
    {
     "name": "stdout",
     "output_type": "stream",
     "text": [
      "Saved 73900 reviews to 1158555867_reviews_73900.csv\n"
     ]
    },
    {
     "name": "stderr",
     "output_type": "stream",
     "text": [
      "2024-03-06 07:40:13,463 [INFO] Base - [id:1158555867] Fetched 9 reviews (58259 fetched in total)\n",
      "2024-03-06 07:40:18,587 [INFO] Base - [id:1158555867] Fetched 9 reviews (58268 fetched in total)\n",
      "2024-03-06 07:40:23,693 [INFO] Base - [id:1158555867] Fetched 9 reviews (58277 fetched in total)\n",
      "2024-03-06 07:40:29,184 [INFO] Base - [id:1158555867] Fetched 9 reviews (58286 fetched in total)\n",
      "2024-03-06 07:40:34,318 [INFO] Base - [id:1158555867] Fetched 9 reviews (58295 fetched in total)\n"
     ]
    },
    {
     "name": "stdout",
     "output_type": "stream",
     "text": [
      "Saved 74000 reviews to 1158555867_reviews_74000.csv\n"
     ]
    },
    {
     "name": "stderr",
     "output_type": "stream",
     "text": [
      "2024-03-06 07:40:39,836 [INFO] Base - [id:1158555867] Fetched 9 reviews (58304 fetched in total)\n",
      "2024-03-06 07:40:44,936 [INFO] Base - [id:1158555867] Fetched 9 reviews (58313 fetched in total)\n",
      "2024-03-06 07:40:50,058 [INFO] Base - [id:1158555867] Fetched 9 reviews (58322 fetched in total)\n",
      "2024-03-06 07:40:55,204 [INFO] Base - [id:1158555867] Fetched 9 reviews (58331 fetched in total)\n",
      "2024-03-06 07:41:00,314 [INFO] Base - [id:1158555867] Fetched 9 reviews (58340 fetched in total)\n"
     ]
    },
    {
     "name": "stdout",
     "output_type": "stream",
     "text": [
      "Saved 74100 reviews to 1158555867_reviews_74100.csv\n"
     ]
    },
    {
     "name": "stderr",
     "output_type": "stream",
     "text": [
      "2024-03-06 07:41:05,828 [INFO] Base - [id:1158555867] Fetched 9 reviews (58349 fetched in total)\n",
      "2024-03-06 07:41:10,987 [INFO] Base - [id:1158555867] Fetched 9 reviews (58358 fetched in total)\n",
      "2024-03-06 07:41:16,094 [INFO] Base - [id:1158555867] Fetched 9 reviews (58367 fetched in total)\n",
      "2024-03-06 07:41:21,243 [INFO] Base - [id:1158555867] Fetched 9 reviews (58376 fetched in total)\n",
      "2024-03-06 07:41:26,363 [INFO] Base - [id:1158555867] Fetched 9 reviews (58385 fetched in total)\n"
     ]
    },
    {
     "name": "stdout",
     "output_type": "stream",
     "text": [
      "Saved 74200 reviews to 1158555867_reviews_74200.csv\n"
     ]
    },
    {
     "name": "stderr",
     "output_type": "stream",
     "text": [
      "2024-03-06 07:41:32,059 [INFO] Base - [id:1158555867] Fetched 9 reviews (58394 fetched in total)\n",
      "2024-03-06 07:41:37,187 [INFO] Base - [id:1158555867] Fetched 9 reviews (58403 fetched in total)\n",
      "2024-03-06 07:41:42,321 [INFO] Base - [id:1158555867] Fetched 9 reviews (58412 fetched in total)\n",
      "2024-03-06 07:41:47,420 [INFO] Base - [id:1158555867] Fetched 9 reviews (58421 fetched in total)\n",
      "2024-03-06 07:41:52,622 [INFO] Base - [id:1158555867] Fetched 9 reviews (58430 fetched in total)\n"
     ]
    },
    {
     "name": "stdout",
     "output_type": "stream",
     "text": [
      "Saved 74300 reviews to 1158555867_reviews_74300.csv\n"
     ]
    },
    {
     "name": "stderr",
     "output_type": "stream",
     "text": [
      "2024-03-06 07:41:58,181 [INFO] Base - [id:1158555867] Fetched 9 reviews (58439 fetched in total)\n",
      "2024-03-06 07:42:03,288 [INFO] Base - [id:1158555867] Fetched 9 reviews (58448 fetched in total)\n",
      "2024-03-06 07:42:08,401 [INFO] Base - [id:1158555867] Fetched 9 reviews (58457 fetched in total)\n",
      "2024-03-06 07:42:13,544 [INFO] Base - [id:1158555867] Fetched 9 reviews (58466 fetched in total)\n",
      "2024-03-06 07:42:18,670 [INFO] Base - [id:1158555867] Fetched 9 reviews (58475 fetched in total)\n"
     ]
    },
    {
     "name": "stdout",
     "output_type": "stream",
     "text": [
      "Saved 74400 reviews to 1158555867_reviews_74400.csv\n"
     ]
    },
    {
     "name": "stderr",
     "output_type": "stream",
     "text": [
      "2024-03-06 07:42:24,193 [INFO] Base - [id:1158555867] Fetched 9 reviews (58484 fetched in total)\n",
      "2024-03-06 07:42:29,312 [INFO] Base - [id:1158555867] Fetched 9 reviews (58493 fetched in total)\n",
      "2024-03-06 07:43:50,020 [INFO] Base - [id:1158555867] Fetched 9 reviews (58502 fetched in total)\n",
      "2024-03-06 07:43:55,170 [INFO] Base - [id:1158555867] Fetched 9 reviews (58511 fetched in total)\n",
      "2024-03-06 07:44:00,319 [INFO] Base - [id:1158555867] Fetched 9 reviews (58520 fetched in total)\n"
     ]
    },
    {
     "name": "stdout",
     "output_type": "stream",
     "text": [
      "Saved 74500 reviews to 1158555867_reviews_74500.csv\n"
     ]
    },
    {
     "name": "stderr",
     "output_type": "stream",
     "text": [
      "2024-03-06 07:44:05,918 [INFO] Base - [id:1158555867] Fetched 9 reviews (58529 fetched in total)\n",
      "2024-03-06 07:44:11,265 [INFO] Base - [id:1158555867] Fetched 9 reviews (58538 fetched in total)\n",
      "2024-03-06 07:44:16,600 [INFO] Base - [id:1158555867] Fetched 9 reviews (58547 fetched in total)\n",
      "2024-03-06 07:44:21,715 [INFO] Base - [id:1158555867] Fetched 9 reviews (58556 fetched in total)\n",
      "2024-03-06 07:44:26,827 [INFO] Base - [id:1158555867] Fetched 9 reviews (58565 fetched in total)\n"
     ]
    },
    {
     "name": "stdout",
     "output_type": "stream",
     "text": [
      "Saved 74600 reviews to 1158555867_reviews_74600.csv\n"
     ]
    },
    {
     "name": "stderr",
     "output_type": "stream",
     "text": [
      "2024-03-06 07:44:32,348 [INFO] Base - [id:1158555867] Fetched 9 reviews (58574 fetched in total)\n",
      "2024-03-06 07:44:37,453 [INFO] Base - [id:1158555867] Fetched 9 reviews (58583 fetched in total)\n"
     ]
    },
    {
     "ename": "KeyboardInterrupt",
     "evalue": "",
     "output_type": "error",
     "traceback": [
      "\u001b[0;31m---------------------------------------------------------------------------\u001b[0m",
      "\u001b[0;31mKeyboardInterrupt\u001b[0m                         Traceback (most recent call last)",
      "Cell \u001b[0;32mIn[5], line 44\u001b[0m\n\u001b[1;32m     41\u001b[0m     \u001b[38;5;28;01mif\u001b[39;00m \u001b[38;5;28mlen\u001b[39m(fetched_reviews) \u001b[38;5;241m<\u001b[39m \u001b[38;5;241m20\u001b[39m:  \u001b[38;5;66;03m# Less than 20 reviews fetched, could be the end\u001b[39;00m\n\u001b[1;32m     42\u001b[0m         \u001b[38;5;28;01mbreak\u001b[39;00m\n\u001b[0;32m---> 44\u001b[0m     time\u001b[38;5;241m.\u001b[39msleep(\u001b[38;5;241m5\u001b[39m)  \u001b[38;5;66;03m# 5 second delay between consecutive calls\u001b[39;00m\n\u001b[1;32m     46\u001b[0m \u001b[38;5;66;03m# Final save after loop completion, using the last extracted data\u001b[39;00m\n\u001b[1;32m     47\u001b[0m df_checkpoint\u001b[38;5;241m.\u001b[39mto_csv(\u001b[38;5;124mf\u001b[39m\u001b[38;5;124m'\u001b[39m\u001b[38;5;132;01m{\u001b[39;00mapp_id\u001b[38;5;132;01m}\u001b[39;00m\u001b[38;5;124m_reviews_final.csv\u001b[39m\u001b[38;5;124m'\u001b[39m, index\u001b[38;5;241m=\u001b[39m\u001b[38;5;28;01mFalse\u001b[39;00m)\n",
      "\u001b[0;31mKeyboardInterrupt\u001b[0m: "
     ]
    }
   ],
   "source": [
    "import time\n",
    "import pandas as pd\n",
    "from app_store_scraper import AppStore\n",
    "\n",
    "# Define the iOS app ID, name, and other parameters\n",
    "app_id = \"1158555867\"  # Example app ID\n",
    "app_name = \"Replika\"  # Replace with the actual app name\n",
    "country_code = \"us\"   # Country code, can be changed as needed\n",
    "\n",
    "# Instantiate the AppStore object\n",
    "app = AppStore(country=country_code, app_name=app_name, app_id=app_id)\n",
    "\n",
    "# Scrape reviews\n",
    "reviews = []\n",
    "review_count_since_last_save = 0\n",
    "checkpoint_interval = 100  # Save after every 100 reviews\n",
    "\n",
    "# Fetch reviews 20 at a time. This is the maximum rate allowed by app_store_scraper.\n",
    "while True:\n",
    "    app.review(how_many=20)\n",
    "    fetched_reviews = app.reviews[-20:]  # Get the last 20 fetched reviews\n",
    "    reviews.extend(fetched_reviews)\n",
    "    review_count_since_last_save += len(fetched_reviews)\n",
    "\n",
    "    # Checkpoint: Save all reviews up to this point every 100 reviews\n",
    "    if review_count_since_last_save >= checkpoint_interval:\n",
    "        # Extracting specific fields from the reviews\n",
    "        extracted_data = [{\n",
    "            'date': review['date'].strftime('%Y-%m-%d %H:%M:%S'),\n",
    "            'user': review['userName'],\n",
    "            'stars': review['rating'],\n",
    "            'text': review['review']\n",
    "        } for review in reviews]\n",
    "\n",
    "        # Convert the extracted data to a DataFrame and save\n",
    "        df_checkpoint = pd.DataFrame(extracted_data)\n",
    "        df_checkpoint.to_csv(f'{app_id}_reviews_{len(reviews)}.csv', index=False)\n",
    "        print(f\"Saved {len(reviews)} reviews to {app_id}_reviews_{len(reviews)}.csv\")\n",
    "\n",
    "        review_count_since_last_save = 0  # Reset the counter\n",
    "\n",
    "    if len(fetched_reviews) < 20:  # Less than 20 reviews fetched, could be the end\n",
    "        break\n",
    "\n",
    "    time.sleep(5)  # 5 second delay between consecutive calls\n",
    "\n",
    "# Final save after loop completion, using the last extracted data\n",
    "df_checkpoint.to_csv(f'{app_id}_reviews_final.csv', index=False)\n",
    "print(f\"Saved all {len(reviews)} reviews to {app_id}_reviews_final.csv\")\n"
   ]
  }
 ],
 "metadata": {
  "kernelspec": {
   "display_name": "Python 3",
   "language": "python",
   "name": "python3"
  },
  "language_info": {
   "codemirror_mode": {
    "name": "ipython",
    "version": 3
   },
   "file_extension": ".py",
   "mimetype": "text/x-python",
   "name": "python",
   "nbconvert_exporter": "python",
   "pygments_lexer": "ipython3",
   "version": "3.11.0"
  }
 },
 "nbformat": 4,
 "nbformat_minor": 2
}
