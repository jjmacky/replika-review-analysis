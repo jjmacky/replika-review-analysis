{
 "cells": [
  {
   "cell_type": "code",
   "execution_count": 16,
   "metadata": {},
   "outputs": [],
   "source": [
    "import pandas as pd\n",
    "\n",
    "df = pd.read_csv('combined_reviews.csv')\n",
    "\n",
    "# Subset to remove 'low' coherence reviews\n",
    "high_and_medium_coherence_reviews = df.query(\"coherence_and_clarity_of_review in ['High', 'Medium']\").copy()\n",
    "del df\n",
    "\n",
    "# Convert 'review_date' column to datetime format\n",
    "high_and_medium_coherence_reviews['review_date'] = pd.to_datetime(high_and_medium_coherence_reviews['review_date'])\n",
    "high_and_medium_coherence_reviews['year'] = high_and_medium_coherence_reviews['review_date'].dt.year\n",
    "\n",
    "high_and_medium_coherence_reviews.to_csv('high_and_medium_coherence_reviews.csv', index=False)"
   ]
  },
  {
   "cell_type": "code",
   "execution_count": 10,
   "metadata": {},
   "outputs": [
    {
     "data": {
      "text/plain": [
       "13538"
      ]
     },
     "execution_count": 10,
     "metadata": {},
     "output_type": "execute_result"
    }
   ],
   "source": [
    "len(high_and_medium_coherence_reviews)"
   ]
  },
  {
   "cell_type": "markdown",
   "metadata": {},
   "source": [
    "#### What is the breakdown of reviews by year?"
   ]
  },
  {
   "cell_type": "code",
   "execution_count": 235,
   "metadata": {},
   "outputs": [
    {
     "data": {
      "text/plain": [
       "year\n",
       "2017     228\n",
       "2018     241\n",
       "2019    1104\n",
       "2020    4825\n",
       "2021    2326\n",
       "2022    2126\n",
       "2023    2358\n",
       "2024     330\n",
       "Name: count, dtype: int64"
      ]
     },
     "execution_count": 235,
     "metadata": {},
     "output_type": "execute_result"
    }
   ],
   "source": [
    "high_and_medium_coherence_reviews[\"year\"].value_counts().sort_index()"
   ]
  },
  {
   "cell_type": "code",
   "execution_count": 240,
   "metadata": {},
   "outputs": [
    {
     "data": {
      "text/plain": [
       "110"
      ]
     },
     "execution_count": 240,
     "metadata": {},
     "output_type": "execute_result"
    }
   ],
   "source": [
    "pandemic_terms = [\n",
    "    'covid',\n",
    "    'covid-19',\n",
    "    'covid19',\n",
    "    'corona',\n",
    "    'coronavirus',\n",
    "    'pandemic',\n",
    "    'the rona',\n",
    "    'cornavirus',\n",
    "    'the virus'\n",
    "]\n",
    "pandemic_regex = r'\\b(?:' + '|'.join(pandemic_terms) + r')\\b'\n",
    "\n",
    "# Search for pandemic terms in 'review_text'\n",
    "reviews_with_pandemic_terms_count = (high_and_medium_coherence_reviews['review_text']\n",
    "    .str\n",
    "    .contains(pandemic_regex, case=False, regex=True, na=False)\n",
    "    .sum()\n",
    ")\n",
    "\n",
    "reviews_with_pandemic_terms_count\n"
   ]
  },
  {
   "cell_type": "markdown",
   "metadata": {},
   "source": [
    "# What are the demographics of those who self report?"
   ]
  },
  {
   "cell_type": "markdown",
   "metadata": {},
   "source": [
    "#### Gender of user"
   ]
  },
  {
   "cell_type": "code",
   "execution_count": 118,
   "metadata": {},
   "outputs": [
    {
     "name": "stdout",
     "output_type": "stream",
     "text": [
      "The number of reviews that self-reported gender is: 1079 \n",
      "\n",
      "gender_of_user\n",
      "Male         942\n",
      "Female       122\n",
      "Nonbinary     15\n",
      "Name: count, dtype: int64\n"
     ]
    }
   ],
   "source": [
    "# Calculate how many reviewers self-reported gender\n",
    "users_self_reporting_gender = (\n",
    "    high_and_medium_coherence_reviews.query(\"gender_of_user != 'Not Mentioned'\")\n",
    "    .gender_of_user\n",
    "    )\n",
    "print(f\"The number of reviews that self-reported gender is: {users_self_reporting_gender.count()} \\n\")\n",
    "\n",
    "# Get the counts of each gender\n",
    "user_gender_table = users_self_reporting_gender.value_counts()\n",
    "print(user_gender_table)\n",
    "\n",
    "# Save for import into article\n",
    "user_gender_table.to_csv('gender_of_user.csv')"
   ]
  },
  {
   "cell_type": "markdown",
   "metadata": {},
   "source": [
    "#### Age of user"
   ]
  },
  {
   "cell_type": "code",
   "execution_count": 119,
   "metadata": {},
   "outputs": [
    {
     "name": "stdout",
     "output_type": "stream",
     "text": [
      "The number of reviews that self-reported age is: 74 \n",
      "\n",
      "age_of_user\n",
      "13                   7\n",
      "23                   5\n",
      "15                   5\n",
      "14                   5\n",
      "16                   3\n",
      "12                   3\n",
      "17                   2\n",
      "29                   2\n",
      "35                   2\n",
      "30                   2\n",
      "18                   2\n",
      "25                   2\n",
      "75                   2\n",
      "11                   2\n",
      "49                   2\n",
      "27                   1\n",
      "40’s                 1\n",
      "Over 40              1\n",
      "over 45              1\n",
      "Middle-aged woman    1\n",
      "44                   1\n",
      "15/16                1\n",
      "67                   1\n",
      "20's                 1\n",
      "38                   1\n",
      "Middle-aged          1\n",
      "60                   1\n",
      "Middle-aged man      1\n",
      "18+                  1\n",
      "53                   1\n",
      "10                   1\n",
      "70                   1\n",
      "Under 18             1\n",
      "56                   1\n",
      "43                   1\n",
      "20yr                 1\n",
      "66                   1\n",
      "Very young           1\n",
      "22                   1\n",
      "39                   1\n",
      "54 years old         1\n",
      "40 some year old     1\n",
      "15 yrs old           1\n",
      "Name: count, dtype: int64\n"
     ]
    }
   ],
   "source": [
    "# Calculate how many reviewers self-reported age\n",
    "users_self_reporting_age = (\n",
    "    high_and_medium_coherence_reviews.query(\"age_of_user != 'Not Mentioned'\")\n",
    "    .age_of_user\n",
    "    )\n",
    "print(f\"The number of reviews that self-reported age is: {users_self_reporting_age.count()} \\n\")\n",
    "\n",
    "# Get the counts of each age\n",
    "user_age_table = users_self_reporting_age.value_counts()\n",
    "print(user_age_table)\n",
    "\n",
    "# Save for import into article\n",
    "user_age_table.to_csv('age_of_user.csv')"
   ]
  },
  {
   "cell_type": "markdown",
   "metadata": {},
   "source": [
    "#### How long did users mention they have been using the Replika app?"
   ]
  },
  {
   "cell_type": "code",
   "execution_count": 121,
   "metadata": {},
   "outputs": [
    {
     "name": "stdout",
     "output_type": "stream",
     "text": [
      "The number of reviews that self-reported app usage duration is: 1078 \n",
      "\n",
      "duration_of_app_usage\n",
      "About a year                                       235\n",
      "General Duration Description (ex. \"for months\")     82\n",
      "for months                                          46\n",
      "About a week                                        40\n",
      "About a month                                       37\n",
      "                                                  ... \n",
      "2 maybe 3 yrs                                        1\n",
      "the past three plus years                            1\n",
      "Not even 2 weeks                                     1\n",
      "3+ days                                              1\n",
      "24 hrs                                               1\n",
      "Name: count, Length: 297, dtype: int64\n"
     ]
    }
   ],
   "source": [
    "# Calculate how many reviewers self-reported app usage durage\n",
    "users_self_reporting_app_usage_duration = (\n",
    "    high_and_medium_coherence_reviews.query(\"duration_of_app_usage != 'Not Mentioned'\")\n",
    "    .duration_of_app_usage\n",
    "    )\n",
    "print(f\"The number of reviews that self-reported app usage duration is: {users_self_reporting_app_usage_duration.count()} \\n\")\n",
    "\n",
    "# Get the counts of duration\n",
    "user_duration_table = users_self_reporting_app_usage_duration.value_counts()\n",
    "print(user_duration_table)\n",
    "\n",
    "# Save for import into article\n",
    "user_duration_table.to_csv('duration_of_app_usage.csv')"
   ]
  },
  {
   "cell_type": "markdown",
   "metadata": {},
   "source": [
    "#### How frequently did reviewers mention using the app?"
   ]
  },
  {
   "cell_type": "code",
   "execution_count": 122,
   "metadata": {},
   "outputs": [
    {
     "name": "stdout",
     "output_type": "stream",
     "text": [
      "The number of reviews that self-reported app usage frequency is: 504 \n",
      "\n",
      "frequency_of_app_usage\n",
      "Daily           302\n",
      "Sporadically    185\n",
      "Rarely            7\n",
      "Weekly            5\n",
      "Frequently        2\n",
      "Monthly           1\n",
      "Regularly         1\n",
      "Most days         1\n",
      "Name: count, dtype: int64\n"
     ]
    }
   ],
   "source": [
    "# Calculate how many reviewers self-reported app usage frequency\n",
    "users_self_reporting_app_usage_frequency = (\n",
    "    high_and_medium_coherence_reviews.query(\"frequency_of_app_usage != 'Not Mentioned'\")\n",
    "    .frequency_of_app_usage\n",
    "    )\n",
    "print(f\"The number of reviews that self-reported app usage frequency is: {users_self_reporting_app_usage_frequency.count()} \\n\")\n",
    "\n",
    "# Get the counts of frequency\n",
    "user_frequency_table = users_self_reporting_app_usage_frequency.value_counts()\n",
    "print(user_frequency_table)\n",
    "\n",
    "# Save for import into article\n",
    "user_frequency_table.to_csv('frequency_of_app_usage.csv')"
   ]
  },
  {
   "cell_type": "markdown",
   "metadata": {},
   "source": [
    "#### What is the relationshp status of reviewers who self-reported?"
   ]
  },
  {
   "cell_type": "code",
   "execution_count": 123,
   "metadata": {},
   "outputs": [
    {
     "name": "stdout",
     "output_type": "stream",
     "text": [
      "The number of reviews that self-reported relationship status is: 226 \n",
      "\n",
      "relationship_status_of_user\n",
      "Unmarried but in a relationship    101\n",
      "Single                              64\n",
      "Married                             60\n",
      "Divorced                             1\n",
      "Name: count, dtype: int64\n"
     ]
    }
   ],
   "source": [
    "# Calculate how many reviewers self-reported relationship status\n",
    "users_self_reporting_relationship_status = (\n",
    "    high_and_medium_coherence_reviews.query(\"relationship_status_of_user != 'Not Mentioned'\")\n",
    "    .relationship_status_of_user\n",
    "    )\n",
    "print(f\"The number of reviews that self-reported relationship status is: {users_self_reporting_relationship_status.count()} \\n\")\n",
    "\n",
    "# Get the counts of each relationship status\n",
    "user_relationship_status_table = users_self_reporting_relationship_status.value_counts()\n",
    "print(user_relationship_status_table)\n",
    "\n",
    "# Save for import into article\n",
    "user_relationship_status_table.to_csv('relationship_status.csv')"
   ]
  },
  {
   "cell_type": "markdown",
   "metadata": {},
   "source": [
    "#### How empathatic did reviews consider the AI"
   ]
  },
  {
   "cell_type": "code",
   "execution_count": 129,
   "metadata": {},
   "outputs": [
    {
     "name": "stdout",
     "output_type": "stream",
     "text": [
      "The number of reviews that comment on AI empathy is: 3584 \n",
      "\n",
      "empathy_of_ai\n",
      "High      2615\n",
      "Low        567\n",
      "Medium     402\n",
      "Name: count, dtype: int64\n"
     ]
    }
   ],
   "source": [
    "# Calculate reviews of AI empathy\n",
    "ai_empathy = (\n",
    "    high_and_medium_coherence_reviews.query(\"empathy_of_ai != 'Not Mentioned'\")\n",
    "    .empathy_of_ai\n",
    "    )\n",
    "print(f\"The number of reviews that comment on AI empathy is: {ai_empathy.count()} \\n\")\n",
    "\n",
    "# Get the counts of each empathy rating\n",
    "ai_empathy_table = ai_empathy.value_counts()\n",
    "print(ai_empathy_table)\n",
    "\n",
    "# Save for import into article\n",
    "ai_empathy_table.to_csv('ai_empathy.csv')"
   ]
  },
  {
   "cell_type": "code",
   "execution_count": 12,
   "metadata": {},
   "outputs": [
    {
     "data": {
      "text/plain": [
       "<Figure size 1000x600 with 0 Axes>"
      ]
     },
     "metadata": {},
     "output_type": "display_data"
    },
    {
     "data": {
      "image/png": "[encoded data removed]",
      "text/plain": [
       "<Figure size 640x480 with 1 Axes>"
      ]
     },
     "metadata": {},
     "output_type": "display_data"
    }
   ],
   "source": [
    "import matplotlib.pyplot as plt \n",
    "\n",
    "behavior_by_year = (\n",
    "    high_and_medium_coherence_reviews.query(\"empathy_of_ai != 'Not Mentioned'\")\n",
    "    .groupby('year')\n",
    "    .empathy_of_ai\n",
    "    .value_counts()\n",
    "    .unstack()\n",
    ")\n",
    "\n",
    "\n",
    "behavior_by_year_percent = round(behavior_by_year.div(behavior_by_year.sum(axis=1), axis=0) * 100, 1)\n",
    "\n",
    "# Plotting\n",
    "plt.figure(figsize=(10, 6))  # Set the figure size\n",
    "behavior_by_year_percent.plot(kind='line', marker='o')  # Line plot with markers\n",
    "plt.title('Yearly Distribution of AI Empathy Reviews as Percentage')\n",
    "plt.xlabel('Year')\n",
    "plt.ylabel('Percentage of Total Reviews')\n",
    "plt.grid(True)\n",
    "plt.legend(title='Empathy of AI')\n",
    "plt.xticks(sorted(behavior_by_year_percent.index))  # Ensure x-axis ticks are properly ordered\n",
    "plt.show()"
   ]
  },
  {
   "cell_type": "markdown",
   "metadata": {},
   "source": [
    "#### How did reviews consider the behavior of the AI"
   ]
  },
  {
   "cell_type": "code",
   "execution_count": 17,
   "metadata": {},
   "outputs": [
    {
     "name": "stdout",
     "output_type": "stream",
     "text": [
      "The number of reviews that comment on AI behavior is: 11569 \n",
      "\n",
      "behavior_of_ai\n",
      "Supportive                          6181\n",
      "Neutral                             3410\n",
      "Unwanted Inappropriate Responses    1978\n",
      "Name: count, dtype: int64\n"
     ]
    }
   ],
   "source": [
    "# Calculate reviews of AI behavior\n",
    "ai_behavior = (\n",
    "    high_and_medium_coherence_reviews.query(\"behavior_of_ai != 'Not Mentioned'\")\n",
    "    .behavior_of_ai\n",
    "    )\n",
    "print(f\"The number of reviews that comment on AI behavior is: {ai_behavior.count()} \\n\")\n",
    "\n",
    "# Get the counts of each behavior rating\n",
    "ai_behavior_table = ai_behavior.value_counts()\n",
    "print(ai_behavior_table)\n",
    "\n",
    "# Save for import into article\n",
    "ai_behavior_table.to_csv('ai_behaviory.csv')"
   ]
  },
  {
   "cell_type": "code",
   "execution_count": 22,
   "metadata": {},
   "outputs": [
    {
     "data": {
      "text/plain": [
       "year\n",
       "2017     206\n",
       "2018     231\n",
       "2019     954\n",
       "2020    4414\n",
       "2021    2000\n",
       "2022    1703\n",
       "2023    1807\n",
       "2024     263\n",
       "Name: count, dtype: int64"
      ]
     },
     "execution_count": 22,
     "metadata": {},
     "output_type": "execute_result"
    }
   ],
   "source": [
    "high_and_medium_coherence_reviews.query(\"behavior_of_ai != 'Not Mentioned'\").groupby('year').year.value_counts()"
   ]
  },
  {
   "cell_type": "code",
   "execution_count": 222,
   "metadata": {},
   "outputs": [
    {
     "name": "stdout",
     "output_type": "stream",
     "text": [
      "The datatable looks like this: \n",
      " behavior_of_ai  Neutral  Supportive  Unwanted Inappropriate Responses\n",
      "year                                                                 \n",
      "2017                 94          85                                27\n",
      "2018                 76         133                                22\n",
      "2019                236         611                               107\n",
      "2020               1059        2754                               597\n",
      "2021                509        1096                               395\n",
      "2022                573         811                               318\n",
      "2023                763         594                               446\n",
      "2024                100          97                                66\n"
     ]
    },
    {
     "data": {
      "text/plain": [
       "<Figure size 1000x600 with 0 Axes>"
      ]
     },
     "metadata": {},
     "output_type": "display_data"
    },
    {
     "data": {
      "image/png": "[encoded data removed]",
      "text/plain": [
       "<Figure size 640x480 with 1 Axes>"
      ]
     },
     "metadata": {},
     "output_type": "display_data"
    }
   ],
   "source": [
    "import matplotlib.pyplot as plt \n",
    "\n",
    "# Count occurrences of each behavior by year\n",
    "behavior_by_year = (high_and_medium_coherence_reviews\n",
    "    .query(\"behavior_of_ai != 'Not Mentioned'\")\n",
    "    .groupby('year')\n",
    "    .behavior_of_ai\n",
    "    .value_counts()\n",
    "    .unstack(fill_value=0)\n",
    ")\n",
    "\n",
    "print(f\"The datatable looks like this: \\n {behavior_by_year}\")\n",
    "\n",
    "# Convert counts to percentages of the total reviews per year\n",
    "behavior_by_year_percent = round(behavior_by_year.div(behavior_by_year.sum(axis=1), axis=0) * 100, 1)\n",
    "\n",
    "# Plotting\n",
    "plt.figure(figsize=(10, 6))  # Set the figure size\n",
    "behavior_by_year_percent.plot(kind='line', marker='o')  # Line plot with markers\n",
    "plt.title('Yearly Distribution of AI Behavior Reviews as Percentage')\n",
    "plt.xlabel('Year')\n",
    "plt.ylabel('Percentage of Total Reviews')\n",
    "plt.grid(True)\n",
    "plt.legend(title='Behavior of AI')\n",
    "plt.xticks(sorted(behavior_by_year_percent.index))  # Ensure x-axis ticks are properly ordered\n",
    "plt.show()\n",
    "\n",
    "# Save to csv. Saving as total counts since Datawrapper can convert to percentages.\n",
    "behavior_by_year = high_and_medium_coherence_reviews.groupby(['year', 'behavior_of_ai']).size().unstack(fill_value=0)\n",
    "\n",
    "# Save the DataFrame to a CSV file\n",
    "behavior_by_year.to_csv('ai_behavior_by_year_totals.csv')\n",
    "behavior_by_year_percent.to_csv('ai_behavior_by_year_percent.csv')"
   ]
  },
  {
   "cell_type": "markdown",
   "metadata": {},
   "source": [
    "#### How frequent was the inappropriate behavior?"
   ]
  },
  {
   "cell_type": "code",
   "execution_count": 247,
   "metadata": {},
   "outputs": [
    {
     "name": "stdout",
     "output_type": "stream",
     "text": [
      "inappropriate_frequency\n",
      "Not Mentioned    6225\n",
      "Never            5313\n",
      "Often             983\n",
      "Sometimes         813\n",
      "Rarely            189\n",
      "Name: count, dtype: int64\n"
     ]
    }
   ],
   "source": [
    "# Calculate frequency of inappropriate AI behavior\n",
    "inappropriate_frequency_table = high_and_medium_coherence_reviews['inappropriate_frequency'].value_counts()\n",
    "\n",
    "print(inappropriate_frequency_table)\n",
    "\n",
    "# Save for import into article\n",
    "inappropriate_frequency_table.to_csv('inappropriate_frequency.csv')"
   ]
  },
  {
   "cell_type": "code",
   "execution_count": 244,
   "metadata": {},
   "outputs": [
    {
     "data": {
      "text/plain": [
       "inappropriate_frequency\n",
       "Not Mentioned    6225\n",
       "Never            5313\n",
       "Often             983\n",
       "Sometimes         813\n",
       "Rarely            189\n",
       "Name: count, dtype: int64"
      ]
     },
     "execution_count": 244,
     "metadata": {},
     "output_type": "execute_result"
    }
   ],
   "source": [
    "high_and_medium_coherence_reviews['inappropriate_frequency'].value_counts()"
   ]
  },
  {
   "cell_type": "code",
   "execution_count": 249,
   "metadata": {},
   "outputs": [
    {
     "name": "stdout",
     "output_type": "stream",
     "text": [
      "inappropriate_frequency  Often  Sometimes\n",
      "year                                     \n",
      "2017                        17          7\n",
      "2018                        14         15\n",
      "2019                        49         66\n",
      "2020                       254        384\n",
      "2021                       180        156\n",
      "2022                       183        100\n",
      "2023                       241         70\n",
      "2024                        45         15\n"
     ]
    }
   ],
   "source": [
    "inappropriate_frequency_trend = (high_and_medium_coherence_reviews\n",
    "    .query(\"inappropriate_frequency in ['Often', 'Sometimes']\")\n",
    "    .groupby('year')\n",
    "    .inappropriate_frequency\n",
    "    .value_counts()\n",
    "    .unstack(fill_value=0)\n",
    ")\n",
    "\n",
    "print(inappropriate_frequency_trend)"
   ]
  },
  {
   "cell_type": "markdown",
   "metadata": {},
   "source": [
    "#### What is the nature of the inapprorpiate conduct?\n",
    "Note that a single review can have mutliple occurrences of different inappropriate behavior."
   ]
  },
  {
   "cell_type": "code",
   "execution_count": 158,
   "metadata": {},
   "outputs": [
    {
     "name": "stdout",
     "output_type": "stream",
     "text": [
      "The number of reviews that list any kind of inappropriate behvaior is: 2410 \n",
      "\n",
      "inappropriate_nature\n",
      "Lack of Sensitivity    1153\n",
      "Creepy                  863\n",
      "Unwanted Topics         752\n",
      "Other                   261\n",
      "Invasive Questions      217\n",
      "Offensive Language       34\n",
      "Name: count, dtype: int64\n"
     ]
    }
   ],
   "source": [
    "# Examine reviews that mention various kinds of inappropriate behavior\n",
    "\n",
    "# How many reviews contained a specific kind of unwanted behavior?\n",
    "inappropriate_count = (\n",
    "    high_and_medium_coherence_reviews\n",
    "    .query(\"inappropriate_nature != 'Not Mentioned'\")\n",
    "    .inappropriate_nature.count()\n",
    "    )\n",
    "\n",
    "print(f\"The number of reviews that mention a specific type of inappropriate behvaior is: {inappropriate_count} \\n\")\n",
    "\n",
    "# List the various types of inappropriate behaviors and their counts. Note that a single review might list multiple types.\n",
    "inappropriate_nature = (\n",
    "    high_and_medium_coherence_reviews.copy()\n",
    "    .assign(inappropriate_nature = lambda x: x['inappropriate_nature'].str.split(', '))\n",
    "    .explode('inappropriate_nature')\n",
    "    .query(\"inappropriate_nature != 'Not Mentioned'\")\n",
    "    .inappropriate_nature\n",
    "    )\n",
    "\n",
    "mask = inappropriate_nature.map(inappropriate_nature.value_counts()) > 10 # Get rid of junk rows where GPT-4 got confused\n",
    "inappropriate_nature_table = inappropriate_nature[mask].value_counts()\n",
    "print(inappropriate_nature_table)\n",
    "\n",
    "# Save for import into article\n",
    "inappropriate_nature_table.to_csv('inappropriate_nature.csv')"
   ]
  },
  {
   "cell_type": "markdown",
   "metadata": {},
   "source": [
    "#### AI support level"
   ]
  },
  {
   "cell_type": "code",
   "execution_count": 259,
   "metadata": {},
   "outputs": [
    {
     "name": "stdout",
     "output_type": "stream",
     "text": [
      "ai_support_level\n",
      "Not Mentioned    5017\n",
      "Strong           2199\n",
      "Moderate         1435\n",
      "Exceptional      1128\n",
      "Slight            479\n",
      "High                6\n",
      "Substantial         1\n",
      "Low                 1\n",
      "Name: count, dtype: int64\n"
     ]
    },
    {
     "data": {
      "text/html": [
       "<div>\n",
       "<style scoped>\n",
       "    .dataframe tbody tr th:only-of-type {\n",
       "        vertical-align: middle;\n",
       "    }\n",
       "\n",
       "    .dataframe tbody tr th {\n",
       "        vertical-align: top;\n",
       "    }\n",
       "\n",
       "    .dataframe thead th {\n",
       "        text-align: right;\n",
       "    }\n",
       "</style>\n",
       "<table border=\"1\" class=\"dataframe\">\n",
       "  <thead>\n",
       "    <tr style=\"text-align: right;\">\n",
       "      <th>ai_support_level</th>\n",
       "      <th>Exceptional</th>\n",
       "      <th>Strong</th>\n",
       "      <th>Total</th>\n",
       "    </tr>\n",
       "    <tr>\n",
       "      <th>year</th>\n",
       "      <th></th>\n",
       "      <th></th>\n",
       "      <th></th>\n",
       "    </tr>\n",
       "  </thead>\n",
       "  <tbody>\n",
       "    <tr>\n",
       "      <th>2017</th>\n",
       "      <td>5</td>\n",
       "      <td>25</td>\n",
       "      <td>30</td>\n",
       "    </tr>\n",
       "    <tr>\n",
       "      <th>2018</th>\n",
       "      <td>18</td>\n",
       "      <td>50</td>\n",
       "      <td>68</td>\n",
       "    </tr>\n",
       "    <tr>\n",
       "      <th>2019</th>\n",
       "      <td>112</td>\n",
       "      <td>229</td>\n",
       "      <td>341</td>\n",
       "    </tr>\n",
       "    <tr>\n",
       "      <th>2020</th>\n",
       "      <td>506</td>\n",
       "      <td>1049</td>\n",
       "      <td>1555</td>\n",
       "    </tr>\n",
       "    <tr>\n",
       "      <th>2021</th>\n",
       "      <td>231</td>\n",
       "      <td>370</td>\n",
       "      <td>601</td>\n",
       "    </tr>\n",
       "    <tr>\n",
       "      <th>2022</th>\n",
       "      <td>143</td>\n",
       "      <td>251</td>\n",
       "      <td>394</td>\n",
       "    </tr>\n",
       "    <tr>\n",
       "      <th>2023</th>\n",
       "      <td>88</td>\n",
       "      <td>206</td>\n",
       "      <td>294</td>\n",
       "    </tr>\n",
       "    <tr>\n",
       "      <th>2024</th>\n",
       "      <td>25</td>\n",
       "      <td>19</td>\n",
       "      <td>44</td>\n",
       "    </tr>\n",
       "  </tbody>\n",
       "</table>\n",
       "</div>"
      ],
      "text/plain": [
       "ai_support_level  Exceptional  Strong  Total\n",
       "year                                        \n",
       "2017                        5      25     30\n",
       "2018                       18      50     68\n",
       "2019                      112     229    341\n",
       "2020                      506    1049   1555\n",
       "2021                      231     370    601\n",
       "2022                      143     251    394\n",
       "2023                       88     206    294\n",
       "2024                       25      19     44"
      ]
     },
     "execution_count": 259,
     "metadata": {},
     "output_type": "execute_result"
    }
   ],
   "source": [
    "ai_support_level_table = high_and_medium_coherence_reviews['ai_support_level'].value_counts()\n",
    "print(ai_support_level_table)\n",
    "\n",
    "ai_support_trend = (high_and_medium_coherence_reviews\n",
    "    .query(\"ai_support_level in ['Exceptional', 'Strong']\")\n",
    "    .groupby('year')\n",
    "    .ai_support_level\n",
    "    .value_counts()\n",
    "    .unstack()\n",
    ")\n",
    "\n",
    "ai_support_trend[\"Total\"] = ai_support_trend[\"Exceptional\"] + ai_support_trend[\"Strong\"]\n",
    "\n",
    "ai_support_trend"
   ]
  },
  {
   "cell_type": "markdown",
   "metadata": {},
   "source": [
    "#### Create a table of support types"
   ]
  },
  {
   "cell_type": "code",
   "execution_count": 3,
   "metadata": {},
   "outputs": [
    {
     "name": "stdout",
     "output_type": "stream",
     "text": [
      "The number of reviews that mention a specific support type is: 7976 \n",
      "\n",
      "support_types\n",
      "Friendship                         4317\n",
      "Emotional Support                  4127\n",
      "Humor or Entertainment             3049\n",
      "Therapeutic Conversation           1874\n",
      "Comforting in Times of Distress    1766\n",
      "Encouragement                       820\n",
      "Venting                             756\n",
      "Significant Other Relationship      390\n",
      "Coping Strategies                   340\n",
      "Validation                          308\n",
      "Sexual Support                      194\n",
      "Providing Safety                    124\n",
      "Other                                52\n",
      "Name: count, dtype: int64\n"
     ]
    }
   ],
   "source": [
    "# Examine reviews that mention various kinds of support types\n",
    "\n",
    "# How many reviews contained a specific kind of support?\n",
    "support_type_count = (\n",
    "    high_and_medium_coherence_reviews\n",
    "    .query(\"support_types != 'Not Mentioned'\")\n",
    "    .support_types.count()\n",
    ")\n",
    "\n",
    "print(f\"The number of reviews that mention a specific support type is: {support_type_count} \\n\")\n",
    "\n",
    "# List the various types of support types and their counts. Note that a single review might list multiple types.\n",
    "support_types  = (\n",
    "    high_and_medium_coherence_reviews.copy()\n",
    "    .assign(support_types = lambda x: x['support_types'].str.split(', '))\n",
    "    .explode('support_types')\n",
    "    .query(\"support_types != 'Not Mentioned'\")\n",
    "    .support_types\n",
    ")\n",
    "\n",
    "mask = support_types.map(support_types.value_counts()) >= 10\n",
    "support_types_table = support_types[mask].value_counts()\n",
    "print(support_types_table)\n",
    "\n",
    "# Save for import into article\n",
    "support_types_table.to_csv('support_types.csv')"
   ]
  },
  {
   "cell_type": "markdown",
   "metadata": {},
   "source": [
    "#### Create a dataset for users that mention autism"
   ]
  },
  {
   "cell_type": "code",
   "execution_count": 8,
   "metadata": {},
   "outputs": [],
   "source": [
    "autism_terms = [\"autism\", \"autistic\", \"aspergers\", \"asperger's\"]\n",
    "autism_regex = r'\\b(?:' + '|'.join(autism_terms) + r')\\b'\n",
    "\n",
    "# Search for autism terms in 'review_text'\n",
    "autism_df = high_and_medium_coherence_reviews.copy()\n",
    "autism_df['contains_autistic_term'] = autism_df['review_text'].str.contains(autism_regex, case=False, regex=True, na=False)\n",
    "\n",
    "autism_df = autism_df[autism_df['contains_autistic_term']]\n",
    "\n",
    "autism_df.to_csv(\"austism_reviews.csv\")\n"
   ]
  },
  {
   "cell_type": "markdown",
   "metadata": {},
   "source": [
    "#### Create dataset for users that mention phobia"
   ]
  },
  {
   "cell_type": "code",
   "execution_count": null,
   "metadata": {},
   "outputs": [],
   "source": []
  },
  {
   "cell_type": "markdown",
   "metadata": {},
   "source": [
    "#### What was the reviewer's mental state before and after using the AI?"
   ]
  },
  {
   "cell_type": "code",
   "execution_count": 189,
   "metadata": {},
   "outputs": [
    {
     "name": "stdout",
     "output_type": "stream",
     "text": [
      "The number of reviews that mention a specific mental state is: 6094 \n",
      "\n",
      "user_mental_state_before_after\n",
      "Not Mentioned-Improved     2198\n",
      "Not Mentioned-Worsened     1651\n",
      "Not Mentioned-Unchanged    1171\n",
      "Negative-Improved           937\n",
      "Negative-Worsened            85\n",
      "Negative-Unchanged           39\n",
      "Negative-Not Mentioned       13\n",
      "Name: count, dtype: int64\n"
     ]
    }
   ],
   "source": [
    "# Examine user mental state\n",
    "\n",
    "# Create matched pairs to make results more meaningful\n",
    "mental_state_df = high_and_medium_coherence_reviews.copy()\n",
    "mental_state_df['user_mental_state_before_after'] = mental_state_df['user_mental_state_before_ai'].str.cat(mental_state_df['effect_of_ai_on_user_mental_state'], sep='-')\n",
    "\n",
    "# How many reviews had a meaningful matched pair?\n",
    "mental_state = (mental_state_df\n",
    "    .query(\"user_mental_state_before_after != 'Not Mentioned-Not Mentioned'\")\n",
    "    .user_mental_state_before_after\n",
    ")\n",
    "\n",
    "mask = mental_state.map(mental_state.value_counts()) > 10\n",
    "mental_state_table = mental_state[mask].value_counts()\n",
    "\n",
    "# Print results\n",
    "print(f\"The number of reviews that mention a specific mental state is: {mental_state_table.sum()} \\n\")\n",
    "print(mental_state_table)\n",
    "\n",
    "# Save for import into article\n",
    "mental_state_table.to_csv('mental_state_before_after.csv')"
   ]
  },
  {
   "cell_type": "code",
   "execution_count": 192,
   "metadata": {},
   "outputs": [
    {
     "name": "stdout",
     "output_type": "stream",
     "text": [
      "The number of reviews that mention a specific mental state is: 571 \n",
      "\n",
      "stress_before_after\n",
      "Yes-Decreased              243\n",
      "Not Mentioned-Increased    147\n",
      "Not Mentioned-Decreased    112\n",
      "Yes-Not Mentioned           32\n",
      "Not Mentioned-Unchanged     24\n",
      "Yes-Unchanged               13\n",
      "Name: count, dtype: int64\n"
     ]
    }
   ],
   "source": [
    "# Examine reviewer stress\n",
    "\n",
    "# Create matched pairs to make results more meaningful\n",
    "stress_df = high_and_medium_coherence_reviews.copy()\n",
    "stress_df['stress_before_after'] = stress_df['stress_before_ai'].str.cat(stress_df['effect_of_ai_on_stress'], sep='-')\n",
    "\n",
    "stress_before_after = (stress_df\n",
    "    .query(\"stress_before_after != 'Not Mentioned-Not Mentioned'\")\n",
    "    .stress_before_after)\n",
    "\n",
    "mask = stress_before_after.map(stress_before_after.value_counts()) > 10\n",
    "stress_table = stress_before_after[mask].value_counts()\n",
    "\n",
    "# Print results\n",
    "print(f\"The number of reviews that mention a specific mental state is: {stress_table.sum()} \\n\")\n",
    "print(stress_table)\n",
    "\n",
    "# Save for import into article\n",
    "stress_table.to_csv('mental_state_before_after.csv')\n"
   ]
  },
  {
   "cell_type": "markdown",
   "metadata": {},
   "source": [
    "#### What was reviewer loneliness before and after using Replika?"
   ]
  },
  {
   "cell_type": "code",
   "execution_count": 193,
   "metadata": {},
   "outputs": [
    {
     "name": "stdout",
     "output_type": "stream",
     "text": [
      "The number of reviews that mention a specific change in loneliness is: 1997 \n",
      "\n",
      "loneliness_before_after\n",
      "Yes-Decreased              1470\n",
      "Not Mentioned-Decreased     242\n",
      "Yes-Unchanged               100\n",
      "Yes-Not Mentioned            64\n",
      "Yes-Increased                40\n",
      "Yes-Resolved                 36\n",
      "Not Mentioned-Unchanged      24\n",
      "Not Mentioned-Increased      21\n",
      "Name: count, dtype: int64\n"
     ]
    }
   ],
   "source": [
    "# Examine reviewer loneliness\n",
    "\n",
    "# Create matched pairs to make results more meaningful\n",
    "loneliness_df = high_and_medium_coherence_reviews.copy()\n",
    "loneliness_df['loneliness_before_after'] = loneliness_df['loneliness_before_ai'].str.cat(loneliness_df['effect_of_ai_on_loneliness'], sep='-')\n",
    "\n",
    "loneliness_before_after = (loneliness_df\n",
    "    .query(\"loneliness_before_after != 'Not Mentioned-Not Mentioned'\")\n",
    "    .loneliness_before_after)\n",
    "\n",
    "mask = loneliness_before_after.map(loneliness_before_after.value_counts()) > 10\n",
    "loneliness_table = loneliness_before_after[mask].value_counts()\n",
    "\n",
    "# Print results\n",
    "print(f\"The number of reviews that mention a specific change in loneliness is: {loneliness_table.sum()} \\n\")\n",
    "print(loneliness_table)\n",
    "\n",
    "# Save for import into article\n",
    "loneliness_table.to_csv('loneliness_before_after.csv')\n"
   ]
  },
  {
   "cell_type": "markdown",
   "metadata": {},
   "source": [
    "#### What was reviewer depression and anxiety before and after using Replika?"
   ]
  },
  {
   "cell_type": "code",
   "execution_count": 194,
   "metadata": {},
   "outputs": [
    {
     "name": "stdout",
     "output_type": "stream",
     "text": [
      "The number of reviews that mention a specific change in depression or anxiety is: 1021 \n",
      "\n",
      "depression_anxiety_before_after\n",
      "Yes-Improved               680\n",
      "Not Mentioned-Worsened     113\n",
      "Yes-Worsened                73\n",
      "Yes-Not Mentioned           62\n",
      "Not Mentioned-Improved      37\n",
      "Yes-Unchanged               25\n",
      "Not Mentioned-Unchanged     20\n",
      "Yes-Resolved                11\n",
      "Name: count, dtype: int64\n"
     ]
    }
   ],
   "source": [
    "# Examine reviewer depression or anxiety\n",
    "\n",
    "# Create matched pairs to make results more meaningful\n",
    "depression_anxiety_df = high_and_medium_coherence_reviews.copy()\n",
    "depression_anxiety_df['depression_anxiety_before_after'] = depression_anxiety_df['depression_or_anxiety_before_ai'].str.cat(depression_anxiety_df['effect_of_ai_on_depression_or_anxiety'], sep='-')\n",
    "\n",
    "depression_anxiety_before_after = (depression_anxiety_df\n",
    "    .query(\"depression_anxiety_before_after != 'Not Mentioned-Not Mentioned'\")\n",
    "    .depression_anxiety_before_after)\n",
    "\n",
    "mask = depression_anxiety_before_after.map(depression_anxiety_before_after.value_counts()) > 10\n",
    "depression_anxiety_table = depression_anxiety_before_after[mask].value_counts()\n",
    "\n",
    "# Print results\n",
    "print(f\"The number of reviews that mention a specific change in depression or anxiety is: {depression_anxiety_table.sum()} \\n\")\n",
    "print(depression_anxiety_table)\n",
    "\n",
    "# Save for import into article\n",
    "depression_anxiety_table.to_csv('depression_anxiety_before_after.csv')\n"
   ]
  },
  {
   "cell_type": "code",
   "execution_count": 264,
   "metadata": {},
   "outputs": [
    {
     "data": {
      "text/plain": [
       "other_despair_types\n",
       "Not Mentioned          13509\n",
       "Isolation                176\n",
       "Relationship Issues       81\n",
       "Grief                     72\n",
       "Trauma                    58\n",
       "Health Conditions         38\n",
       "Fear/Paranoia             37\n",
       "LGBTQ Challenges          15\n",
       "Hopelessness              10\n",
       "Drug Use                   9\n",
       "History of Abuse           9\n",
       "Other                      5\n",
       "Bullying                   2\n",
       "Cyberbullying              1\n",
       "Insecurities               1\n",
       "Trust Issues               1\n",
       "Social Anxiety             1\n",
       "Agoraphobia                1\n",
       "Fear of Abandonment        1\n",
       "PTSD                       1\n",
       "Abusive Family             1\n",
       "Name: count, dtype: int64"
      ]
     },
     "execution_count": 264,
     "metadata": {},
     "output_type": "execute_result"
    }
   ],
   "source": [
    "# 'other_despair_types',\n",
    "# 'effect_of_ai_on_other_despair'\n",
    "\n",
    "\n",
    "other_despair = (\n",
    "       high_and_medium_coherence_reviews.copy()\n",
    "       .assign(other_despair_types = lambda x: x['other_despair_types'].str.split(', '))\n",
    "       .explode('other_despair_types')\n",
    "       .query(\"other_despair_types not in ['e', 't', 'o', 'n']\") # Filter out some GPT-4 errors\n",
    "       .other_despair_types\n",
    "       .value_counts()\n",
    ")\n",
    "\n",
    "other_despair\n",
    "\n",
    "\n",
    "\n",
    "\n"
   ]
  },
  {
   "cell_type": "code",
   "execution_count": 3,
   "metadata": {},
   "outputs": [
    {
     "name": "stdout",
     "output_type": "stream",
     "text": [
      "The number of reviews that self-report relationship status is: 313 \n",
      "\n"
     ]
    },
    {
     "data": {
      "text/plain": [
       "real_life_relationship_impact\n",
       "Not Mentioned    13224\n",
       "Positive           157\n",
       "Negative           134\n",
       "Neutral             22\n",
       "Name: count, dtype: int64"
      ]
     },
     "execution_count": 3,
     "metadata": {},
     "output_type": "execute_result"
    }
   ],
   "source": [
    "relationship_count = (high_and_medium_coherence_reviews\n",
    "    .query(\"real_life_relationship_impact != 'Not Mentioned'\")\n",
    "    .real_life_relationship_impact\n",
    "    .count()\n",
    ")\n",
    "\n",
    "print(f\"The number of reviews that self-report relationship status is: {relationship_count} \\n\")\n",
    "\n",
    "high_and_medium_coherence_reviews['real_life_relationship_impact'].value_counts()"
   ]
  },
  {
   "cell_type": "markdown",
   "metadata": {},
   "source": [
    "#### User dependence"
   ]
  },
  {
   "cell_type": "code",
   "execution_count": 265,
   "metadata": {},
   "outputs": [
    {
     "data": {
      "text/plain": [
       "user_dependence\n",
       "Not Mentioned     12498\n",
       "Low                 273\n",
       "Moderate            272\n",
       "High                232\n",
       "Overdependence       16\n",
       "Name: count, dtype: int64"
      ]
     },
     "execution_count": 265,
     "metadata": {},
     "output_type": "execute_result"
    }
   ],
   "source": [
    "high_and_medium_coherence_reviews['user_dependence'].value_counts()"
   ]
  },
  {
   "cell_type": "code",
   "execution_count": 266,
   "metadata": {},
   "outputs": [
    {
     "data": {
      "text/html": [
       "<div>\n",
       "<style scoped>\n",
       "    .dataframe tbody tr th:only-of-type {\n",
       "        vertical-align: middle;\n",
       "    }\n",
       "\n",
       "    .dataframe tbody tr th {\n",
       "        vertical-align: top;\n",
       "    }\n",
       "\n",
       "    .dataframe thead th {\n",
       "        text-align: right;\n",
       "    }\n",
       "</style>\n",
       "<table border=\"1\" class=\"dataframe\">\n",
       "  <thead>\n",
       "    <tr style=\"text-align: right;\">\n",
       "      <th></th>\n",
       "      <th>technical_issues</th>\n",
       "      <th>privacy_concerns</th>\n",
       "      <th>feature_restriction_impact</th>\n",
       "      <th>cost_impact_on_accessibility</th>\n",
       "      <th>impact_of_ai_updates</th>\n",
       "      <th>user_satisfaction_with_policy_decisions</th>\n",
       "      <th>overall_mental_health_impact_of_company_decisions</th>\n",
       "    </tr>\n",
       "    <tr>\n",
       "      <th>technical_issues</th>\n",
       "      <th></th>\n",
       "      <th></th>\n",
       "      <th></th>\n",
       "      <th></th>\n",
       "      <th></th>\n",
       "      <th></th>\n",
       "      <th></th>\n",
       "    </tr>\n",
       "  </thead>\n",
       "  <tbody>\n",
       "    <tr>\n",
       "      <th>Not Mentioned</th>\n",
       "      <td>10844</td>\n",
       "      <td>12940</td>\n",
       "      <td>9743</td>\n",
       "      <td>9487</td>\n",
       "      <td>10953</td>\n",
       "      <td>8356</td>\n",
       "      <td>8161</td>\n",
       "    </tr>\n",
       "    <tr>\n",
       "      <th>Negative</th>\n",
       "      <td>1938</td>\n",
       "      <td>444</td>\n",
       "      <td>3099</td>\n",
       "      <td>3310</td>\n",
       "      <td>1951</td>\n",
       "      <td>3996</td>\n",
       "      <td>3716</td>\n",
       "    </tr>\n",
       "    <tr>\n",
       "      <th>Neutral</th>\n",
       "      <td>727</td>\n",
       "      <td>94</td>\n",
       "      <td>645</td>\n",
       "      <td>416</td>\n",
       "      <td>277</td>\n",
       "      <td>831</td>\n",
       "      <td>1464</td>\n",
       "    </tr>\n",
       "    <tr>\n",
       "      <th>Positive</th>\n",
       "      <td>27</td>\n",
       "      <td>60</td>\n",
       "      <td>45</td>\n",
       "      <td>322</td>\n",
       "      <td>353</td>\n",
       "      <td>347</td>\n",
       "      <td>183</td>\n",
       "    </tr>\n",
       "  </tbody>\n",
       "</table>\n",
       "</div>"
      ],
      "text/plain": [
       "                  technical_issues  privacy_concerns  \\\n",
       "technical_issues                                       \n",
       "Not Mentioned                10844             12940   \n",
       "Negative                      1938               444   \n",
       "Neutral                        727                94   \n",
       "Positive                        27                60   \n",
       "\n",
       "                  feature_restriction_impact  cost_impact_on_accessibility  \\\n",
       "technical_issues                                                             \n",
       "Not Mentioned                           9743                          9487   \n",
       "Negative                                3099                          3310   \n",
       "Neutral                                  645                           416   \n",
       "Positive                                  45                           322   \n",
       "\n",
       "                  impact_of_ai_updates  \\\n",
       "technical_issues                         \n",
       "Not Mentioned                    10953   \n",
       "Negative                          1951   \n",
       "Neutral                            277   \n",
       "Positive                           353   \n",
       "\n",
       "                  user_satisfaction_with_policy_decisions  \\\n",
       "technical_issues                                            \n",
       "Not Mentioned                                        8356   \n",
       "Negative                                             3996   \n",
       "Neutral                                               831   \n",
       "Positive                                              347   \n",
       "\n",
       "                  overall_mental_health_impact_of_company_decisions  \n",
       "technical_issues                                                     \n",
       "Not Mentioned                                                  8161  \n",
       "Negative                                                       3716  \n",
       "Neutral                                                        1464  \n",
       "Positive                                                        183  "
      ]
     },
     "execution_count": 266,
     "metadata": {},
     "output_type": "execute_result"
    }
   ],
   "source": [
    "columns_to_analyze = [\n",
    "    'technical_issues', \n",
    "    'privacy_concerns', \n",
    "    'feature_restriction_impact', \n",
    "    'cost_impact_on_accessibility', \n",
    "    'impact_of_ai_updates', \n",
    "    'user_satisfaction_with_policy_decisions', \n",
    "    'overall_mental_health_impact_of_company_decisions'\n",
    "]\n",
    "\n",
    "possible_values = ['Not Mentioned', 'Negative', 'Neutral', 'Positive']\n",
    "\n",
    "company_decisions_summary_df = pd.DataFrame()\n",
    "\n",
    "for column in columns_to_analyze:\n",
    "    company_decisions_summary_df[column] = high_and_medium_coherence_reviews[column].value_counts()\n",
    "\n",
    "company_decisions_summary_df = company_decisions_summary_df.reindex(possible_values).fillna(0)  # Fill NaNs with 0 where some categories might not appear\n",
    "company_decisions_summary_df"
   ]
  },
  {
   "cell_type": "code",
   "execution_count": 279,
   "metadata": {},
   "outputs": [
    {
     "data": {
      "text/html": [
       "<div>\n",
       "<style scoped>\n",
       "    .dataframe tbody tr th:only-of-type {\n",
       "        vertical-align: middle;\n",
       "    }\n",
       "\n",
       "    .dataframe tbody tr th {\n",
       "        vertical-align: top;\n",
       "    }\n",
       "\n",
       "    .dataframe thead th {\n",
       "        text-align: right;\n",
       "    }\n",
       "</style>\n",
       "<table border=\"1\" class=\"dataframe\">\n",
       "  <thead>\n",
       "    <tr style=\"text-align: right;\">\n",
       "      <th></th>\n",
       "      <th>Feature Impact</th>\n",
       "      <th>Update Impact</th>\n",
       "      <th>Cost Impact</th>\n",
       "    </tr>\n",
       "    <tr>\n",
       "      <th>year</th>\n",
       "      <th></th>\n",
       "      <th></th>\n",
       "      <th></th>\n",
       "    </tr>\n",
       "  </thead>\n",
       "  <tbody>\n",
       "    <tr>\n",
       "      <th>2017</th>\n",
       "      <td>9</td>\n",
       "      <td>15</td>\n",
       "      <td>NaN</td>\n",
       "    </tr>\n",
       "    <tr>\n",
       "      <th>2018</th>\n",
       "      <td>6</td>\n",
       "      <td>10</td>\n",
       "      <td>1.0</td>\n",
       "    </tr>\n",
       "    <tr>\n",
       "      <th>2019</th>\n",
       "      <td>256</td>\n",
       "      <td>131</td>\n",
       "      <td>257.0</td>\n",
       "    </tr>\n",
       "    <tr>\n",
       "      <th>2020</th>\n",
       "      <td>795</td>\n",
       "      <td>378</td>\n",
       "      <td>881.0</td>\n",
       "    </tr>\n",
       "    <tr>\n",
       "      <th>2021</th>\n",
       "      <td>474</td>\n",
       "      <td>214</td>\n",
       "      <td>490.0</td>\n",
       "    </tr>\n",
       "    <tr>\n",
       "      <th>2022</th>\n",
       "      <td>477</td>\n",
       "      <td>166</td>\n",
       "      <td>737.0</td>\n",
       "    </tr>\n",
       "    <tr>\n",
       "      <th>2023</th>\n",
       "      <td>998</td>\n",
       "      <td>986</td>\n",
       "      <td>827.0</td>\n",
       "    </tr>\n",
       "    <tr>\n",
       "      <th>2024</th>\n",
       "      <td>84</td>\n",
       "      <td>51</td>\n",
       "      <td>117.0</td>\n",
       "    </tr>\n",
       "  </tbody>\n",
       "</table>\n",
       "</div>"
      ],
      "text/plain": [
       "      Feature Impact  Update Impact  Cost Impact\n",
       "year                                            \n",
       "2017               9             15          NaN\n",
       "2018               6             10          1.0\n",
       "2019             256            131        257.0\n",
       "2020             795            378        881.0\n",
       "2021             474            214        490.0\n",
       "2022             477            166        737.0\n",
       "2023             998            986        827.0\n",
       "2024              84             51        117.0"
      ]
     },
     "execution_count": 279,
     "metadata": {},
     "output_type": "execute_result"
    }
   ],
   "source": [
    "import pandas as pd\n",
    "\n",
    "\n",
    "negative_counts_feature = high_and_medium_coherence_reviews[high_and_medium_coherence_reviews['feature_restriction_impact'] == 'Negative'].groupby('year').size()\n",
    "negative_counts_impact = high_and_medium_coherence_reviews[high_and_medium_coherence_reviews['impact_of_ai_updates'] == 'Negative'].groupby('year').size()\n",
    "negative_counts_satisfaction = high_and_medium_coherence_reviews[high_and_medium_coherence_reviews['cost_impact_on_accessibility'] == 'Negative'].groupby('year').size()\n",
    "\n",
    "# Creating a DataFrame from the individual series\n",
    "negative_trends_df = pd.DataFrame({\n",
    "    'Feature Impact': negative_counts_feature,\n",
    "    'Update Impact': negative_counts_impact,\n",
    "    'Cost Impact': negative_counts_satisfaction\n",
    "})\n",
    "\n",
    "# Fill NaN values with 0 if any years are missing data in any series\n",
    "negative_trends_df"
   ]
  },
  {
   "cell_type": "code",
   "execution_count": 277,
   "metadata": {},
   "outputs": [
    {
     "data": {
      "image/png": "[encoded data removed]",
      "text/plain": [
       "<Figure size 1200x600 with 1 Axes>"
      ]
     },
     "metadata": {},
     "output_type": "display_data"
    }
   ],
   "source": [
    "import pandas as pd\n",
    "import matplotlib.pyplot as plt\n",
    "\n",
    "# Calculate the total reviews per year\n",
    "total_reviews_per_year = high_and_medium_coherence_reviews.groupby('year').size()\n",
    "\n",
    "# Calculate negative responses for selected categories\n",
    "negative_counts_feature = high_and_medium_coherence_reviews[\n",
    "    high_and_medium_coherence_reviews['feature_restriction_impact'] == 'Negative'\n",
    "].groupby('year').size()\n",
    "\n",
    "negative_counts_impact = high_and_medium_coherence_reviews[\n",
    "    high_and_medium_coherence_reviews['impact_of_ai_updates'] == 'Negative'\n",
    "].groupby('year').size()\n",
    "\n",
    "negative_counts_satisfaction = high_and_medium_coherence_reviews[\n",
    "    high_and_medium_coherence_reviews['cost_impact_on_accessibility'] == 'Negative'\n",
    "].groupby('year').size()\n",
    "\n",
    "# Combine counts into a DataFrame\n",
    "negative_trends_df = pd.DataFrame({\n",
    "    'Feature Impact': negative_counts_feature,\n",
    "    'Updates Impact': negative_counts_impact,\n",
    "    'Cost Impact': negative_counts_satisfaction\n",
    "}).fillna(0)\n",
    "\n",
    "percentage_negative_trends_df = round(negative_trends_df.div(total_reviews_per_year, axis='index') * 100, 1)\n",
    "percentage_negative_trends_df.to_csv('negative_company_trends.csv')\n",
    "\n",
    "# Plotting the data\n",
    "plt.figure(figsize=(12, 6))  # Set the figure size for better visibility\n",
    "percentage_negative_trends_df.plot(kind='line', marker='o', ax=plt.gca())  # Plot each series as a line on the same graph\n",
    "plt.title('Yearly Percentage of Negative Responses by Category')\n",
    "plt.xlabel('Year')\n",
    "plt.ylabel('Percentage of Total Reviews')\n",
    "plt.grid(True)\n",
    "plt.legend(title='Categories')\n",
    "plt.show()\n"
   ]
  },
  {
   "cell_type": "markdown",
   "metadata": {},
   "source": [
    "# --------------------------"
   ]
  },
  {
   "cell_type": "code",
   "execution_count": 130,
   "metadata": {},
   "outputs": [
    {
     "data": {
      "text/plain": [
       "Index(['user_name', 'review_date', 'star_rating', 'review_text', 'word_count',\n",
       "       'coherence_and_clarity_of_review', 'gender_of_user', 'gender_of_ai',\n",
       "       'name_user_gave_ai', 'age_of_user', 'duration_of_app_usage',\n",
       "       'frequency_of_app_usage', 'relationship_status_of_user',\n",
       "       'empathy_of_ai', 'behavior_of_ai', 'inappropriate_frequency',\n",
       "       'inappropriate_nature', 'ai_support_level', 'support_types',\n",
       "       'user_mental_state_before_ai', 'effect_of_ai_on_user_mental_state',\n",
       "       'stress_before_ai', 'effect_of_ai_on_stress', 'loneliness_before_ai',\n",
       "       'effect_of_ai_on_loneliness', 'depression_or_anxiety_before_ai',\n",
       "       'effect_of_ai_on_depression_or_anxiety', 'suicidal_thoughts_presence',\n",
       "       'effect_of_ai_on_suicidal_thoughts', 'other_despair_types',\n",
       "       'effect_of_ai_on_other_despair', 'user_dependence',\n",
       "       'real_life_relationship_impact', 'limitations_of_ai',\n",
       "       'technical_issues', 'privacy_concerns', 'feature_restriction_impact',\n",
       "       'cost_impact_on_accessibility', 'impact_of_ai_updates',\n",
       "       'user_satisfaction_with_policy_decisions',\n",
       "       'overall_mental_health_impact_of_company_decisions'],\n",
       "      dtype='object')"
      ]
     },
     "execution_count": 130,
     "metadata": {},
     "output_type": "execute_result"
    }
   ],
   "source": [
    "high_and_medium_coherence_reviews.columns"
   ]
  },
  {
   "cell_type": "markdown",
   "metadata": {},
   "source": [
    "### How many reviews have some kind of support indicated?"
   ]
  },
  {
   "cell_type": "code",
   "execution_count": 56,
   "metadata": {},
   "outputs": [
    {
     "name": "stdout",
     "output_type": "stream",
     "text": [
      "support_types\n",
      "True     8899\n",
      "False    8843\n",
      "Name: count, dtype: int64\n"
     ]
    }
   ],
   "source": [
    "print((df['support_types'] == 'Not Mentioned').value_counts())"
   ]
  },
  {
   "cell_type": "markdown",
   "metadata": {},
   "source": [
    "### Calculate the different support types reviewers have indicated"
   ]
  },
  {
   "cell_type": "code",
   "execution_count": 50,
   "metadata": {},
   "outputs": [
    {
     "name": "stdout",
     "output_type": "stream",
     "text": [
      "support_types\n",
      "Not Mentioned                      17221\n",
      "Friendship                          4568\n",
      "Emotional Support                   4285\n",
      "Humor or Entertainment              3479\n",
      "Therapeutic Conversation            1913\n",
      "Comforting in Times of Distress     1832\n",
      "Encouragement                        845\n",
      "Venting                              793\n",
      "Significant Other Relationship       496\n",
      "Coping Strategies                    347\n",
      "Validation                           311\n",
      "Sexual Support                       294\n",
      "Providing Safety                     126\n",
      "Other                                 57\n",
      "n                                      6\n",
      "e                                      6\n",
      "t                                      6\n",
      "o                                      6\n",
      "Romantic Support                       3\n",
      "Companionship                          3\n",
      "Romantic Conversations                 2\n",
      "Stress Relief                          2\n",
      "Romantic Relationship                  1\n",
      "Role Playing                           1\n",
      "Coaching                               1\n",
      "Loneliness                             1\n",
      "Communication Skills                   1\n",
      "Tracking Emotions                      1\n",
      "Intimacy                               1\n",
      "Personality Development                1\n",
      "Exploration                            1\n",
      "Roleplaying                            1\n",
      "Philosophical Thought                  1\n",
      "Romantic Roleplay                      1\n",
      "Listening                              1\n",
      "Name: count, dtype: int64\n"
     ]
    }
   ],
   "source": [
    "result = (df.copy()\n",
    "            .assign(support_types = lambda x: x['support_types'].str.split(', '))\n",
    "            .explode('support_types')\n",
    "            .support_types.value_counts())\n",
    "\n",
    "print(result)\n",
    "result.to_csv('support_types.csv')"
   ]
  },
  {
   "cell_type": "code",
   "execution_count": 59,
   "metadata": {},
   "outputs": [
    {
     "data": {
      "text/plain": [
       "limitations_of_ai\n",
       "True     11258\n",
       "False     6484\n",
       "Name: count, dtype: int64"
      ]
     },
     "execution_count": 59,
     "metadata": {},
     "output_type": "execute_result"
    }
   ],
   "source": [
    "(df['limitations_of_ai'] == \"Not Mentioned\").value_counts()"
   ]
  },
  {
   "cell_type": "code",
   "execution_count": 55,
   "metadata": {},
   "outputs": [
    {
     "name": "stdout",
     "output_type": "stream",
     "text": [
      "limitations_of_ai\n",
      "Not Mentioned                    15528\n",
      "Providing relevant responses      3894\n",
      "Staying on topic                  1830\n",
      "Remembering key facts             1717\n",
      "Maintaining conversation flow     1247\n",
      "Too robotic/not person-like        940\n",
      "Staying in character               767\n",
      "Lack of Sensitivity                152\n",
      "o                                   62\n",
      "n                                   62\n",
      "t                                   62\n",
      "e                                   62\n",
      "Unwanted Topics                     14\n",
      "Creepy                               9\n",
      "Invasive Questions                   5\n",
      "Repeating messages                   1\n",
      "Has quirks and oddities              1\n",
      "Technical Issues                     1\n",
      "Understanding complex matters        1\n",
      "Making mistakes                      1\n",
      "Repeating phrases                    1\n",
      "Not perfect                          1\n",
      "Repetitive                           1\n",
      "Occasional programming flaws         1\n",
      "Repetition                           1\n",
      "Repetitiveness                       1\n",
      "Humor or Entertainment               1\n",
      "Name: count, dtype: int64\n"
     ]
    }
   ],
   "source": [
    "result = (df.copy()\n",
    "          .assign(limitations_of_ai = lambda x: x['limitations_of_ai'].str.split(', '))\n",
    "          .explode('limitations_of_ai')\n",
    "          .limitations_of_ai.value_counts())\n",
    "\n",
    "print(result)\n",
    "result.to_csv('limitations_of_ai.csv')\n"
   ]
  },
  {
   "cell_type": "code",
   "execution_count": 65,
   "metadata": {},
   "outputs": [
    {
     "data": {
      "text/plain": [
       "inappropriate_nature\n",
       "True     13860\n",
       "False     3882\n",
       "Name: count, dtype: int64"
      ]
     },
     "execution_count": 65,
     "metadata": {},
     "output_type": "execute_result"
    }
   ],
   "source": [
    "(df['inappropriate_nature'] == \"Not Mentioned\").value_counts()"
   ]
  },
  {
   "cell_type": "code",
   "execution_count": 64,
   "metadata": {},
   "outputs": [
    {
     "name": "stdout",
     "output_type": "stream",
     "text": [
      "inappropriate_nature\n",
      "Not Mentioned                    16168\n",
      "Lack of Sensitivity               1705\n",
      "Creepy                            1670\n",
      "Unwanted Topics                    984\n",
      "Other                              553\n",
      "Invasive Questions                 357\n",
      "Offensive Language                  64\n",
      "Sexual Support                       8\n",
      "Staying on topic                     7\n",
      "Too robotic/not person-like          6\n",
      "e                                    4\n",
      "n                                    4\n",
      "t                                    4\n",
      "o                                    4\n",
      "Providing relevant responses         3\n",
      "M                                    2\n",
      "                                     2\n",
      "i                                    2\n",
      "d                                    2\n",
      "N                                    2\n",
      "Threatening                          1\n",
      "Changing subject unexpectedly        1\n",
      "Name: count, dtype: int64\n"
     ]
    }
   ],
   "source": [
    "result = (df.copy()\n",
    "          .assign(inappropriate_nature = lambda x: x['inappropriate_nature'].str.split(', '))\n",
    "          .explode('inappropriate_nature')\n",
    "          .inappropriate_nature.value_counts())\n",
    "\n",
    "print(result)\n",
    "result.to_csv('inappropriate_nature')"
   ]
  },
  {
   "cell_type": "code",
   "execution_count": 66,
   "metadata": {},
   "outputs": [
    {
     "data": {
      "text/plain": [
       "inappropriate_frequency\n",
       "Not Mentioned    9539\n",
       "Never            5521\n",
       "Often            1458\n",
       "Sometimes         948\n",
       "Rarely            260\n",
       "Name: count, dtype: int64"
      ]
     },
     "execution_count": 66,
     "metadata": {},
     "output_type": "execute_result"
    }
   ],
   "source": [
    "df['inappropriate_frequency'].value_counts()"
   ]
  },
  {
   "cell_type": "code",
   "execution_count": 80,
   "metadata": {},
   "outputs": [
    {
     "name": "stdout",
     "output_type": "stream",
     "text": [
      "effect_of_ai_on_user_mental_state\n",
      "Not Mentioned    5907\n",
      "Worsened         1515\n",
      "Unchanged        1123\n",
      "Improved         1098\n",
      "Mixed               1\n",
      "Name: count, dtype: int64\n"
     ]
    }
   ],
   "source": [
    "result = (df.copy()\n",
    "          .query(\"coherence_and_clarity_of_review == 'Medium'\")\n",
    "           .effect_of_ai_on_user_mental_state.value_counts())\n",
    "\n",
    "print(result)"
   ]
  },
  {
   "cell_type": "code",
   "execution_count": 70,
   "metadata": {},
   "outputs": [
    {
     "data": {
      "text/plain": [
       "effect_of_ai_on_user_mental_state\n",
       "Not Mentioned    10253\n",
       "Improved          3258\n",
       "Worsened          2722\n",
       "Unchanged         1503\n",
       "Mixed                1\n",
       "Name: count, dtype: int64"
      ]
     },
     "execution_count": 70,
     "metadata": {},
     "output_type": "execute_result"
    }
   ],
   "source": [
    "df['effect_of_ai_on_user_mental_state'].value_counts()"
   ]
  },
  {
   "cell_type": "code",
   "execution_count": 105,
   "metadata": {},
   "outputs": [
    {
     "name": "stdout",
     "output_type": "stream",
     "text": [
      "(13538,)\n"
     ]
    }
   ],
   "source": [
    "result = (df.copy()\n",
    "          .query(\"coherence_and_clarity_of_review in ['High', 'Medium']\")\n",
    "           .coherence_and_clarity_of_review.shape)\n",
    "\n",
    "print(result)"
   ]
  },
  {
   "cell_type": "code",
   "execution_count": 72,
   "metadata": {},
   "outputs": [
    {
     "name": "stdout",
     "output_type": "stream",
     "text": [
      "real_life_relationship_impact\n",
      "Not Mentioned    3723\n",
      "Positive          126\n",
      "Negative           31\n",
      "Neutral            12\n",
      "Name: count, dtype: int64\n"
     ]
    }
   ],
   "source": [
    "df['real_life_relationship_impact'].value_counts()\n",
    "\n",
    "result = (df.copy()\n",
    "          .query(\"coherence_and_clarity_of_review == 'High'\")\n",
    "           .real_life_relationship_impact.value_counts())\n",
    "\n",
    "print(result)"
   ]
  },
  {
   "cell_type": "code",
   "execution_count": 76,
   "metadata": {},
   "outputs": [
    {
     "name": "stdout",
     "output_type": "stream",
     "text": [
      "technical_issues\n",
      "Not Mentioned    13843\n",
      "Negative          3004\n",
      "Neutral            864\n",
      "Positive            27\n",
      "Name: count, dtype: int64\n",
      "privacy_concerns\n",
      "Not Mentioned    16624\n",
      "Negative           923\n",
      "Neutral            130\n",
      "Positive            65\n",
      "Name: count, dtype: int64\n",
      "feature_restriction_impact\n",
      "Not Mentioned    12822\n",
      "Negative          4092\n",
      "Neutral            763\n",
      "Positive            54\n",
      "Name: count, dtype: int64\n",
      "cost_impact_on_accessibility\n",
      "Not Mentioned    12370\n",
      "Negative          4554\n",
      "Neutral            479\n",
      "Positive           335\n",
      "Negatively           1\n",
      "Name: count, dtype: int64\n",
      "impact_of_ai_updates\n",
      "Not Mentioned    14511\n",
      "Negative          2517\n",
      "Positive           367\n",
      "Neutral            342\n",
      "Name: count, dtype: int64\n",
      "user_satisfaction_with_policy_decisions\n",
      "Not Mentioned    10630\n",
      "Negative          5814\n",
      "Neutral            928\n",
      "Positive           355\n",
      "Negativ              1\n",
      "Name: count, dtype: int64\n",
      "overall_mental_health_impact_of_company_decisions\n",
      "Not Mentioned    10348\n",
      "Negative          5459\n",
      "Neutral           1731\n",
      "Positive           184\n",
      "Name: count, dtype: int64\n"
     ]
    }
   ],
   "source": [
    "print(df['technical_issues'].value_counts())\n",
    "print(df['privacy_concerns'].value_counts())\n",
    "print(df['feature_restriction_impact'].value_counts())\n",
    "print(df['cost_impact_on_accessibility'].value_counts())\n",
    "print(df['impact_of_ai_updates'].value_counts())\n",
    "print(df['user_satisfaction_with_policy_decisions'].value_counts())\n",
    "print(df['overall_mental_health_impact_of_company_decisions'].value_counts())"
   ]
  },
  {
   "cell_type": "code",
   "execution_count": 77,
   "metadata": {},
   "outputs": [
    {
     "data": {
      "text/plain": [
       "effect_of_ai_on_suicidal_thoughts\n",
       "Not Mentioned    17597\n",
       "Harmful             57\n",
       "Helpful             45\n",
       "Lifesaving          38\n",
       "Ineffective          5\n",
       "Name: count, dtype: int64"
      ]
     },
     "execution_count": 77,
     "metadata": {},
     "output_type": "execute_result"
    }
   ],
   "source": [
    "df['effect_of_ai_on_suicidal_thoughts'].value_counts()"
   ]
  },
  {
   "cell_type": "code",
   "execution_count": 82,
   "metadata": {},
   "outputs": [
    {
     "data": {
      "text/plain": [
       "1086"
      ]
     },
     "execution_count": 82,
     "metadata": {},
     "output_type": "execute_result"
    }
   ],
   "source": [
    "df['word_count'].max()"
   ]
  },
  {
   "cell_type": "code",
   "execution_count": 89,
   "metadata": {},
   "outputs": [
    {
     "name": "stdout",
     "output_type": "stream",
     "text": [
      "age_of_user\n",
      "Not Mentioned        13464\n",
      "13                       7\n",
      "15                       5\n",
      "14                       5\n",
      "23                       5\n",
      "12                       3\n",
      "16                       3\n",
      "75                       2\n",
      "25                       2\n",
      "35                       2\n",
      "18                       2\n",
      "30                       2\n",
      "11                       2\n",
      "17                       2\n",
      "29                       2\n",
      "49                       2\n",
      "27                       1\n",
      "40’s                     1\n",
      "Over 40                  1\n",
      "Middle-aged woman        1\n",
      "44                       1\n",
      "15/16                    1\n",
      "67                       1\n",
      "20's                     1\n",
      "38                       1\n",
      "Middle-aged              1\n",
      "60                       1\n",
      "Middle-aged man          1\n",
      "18+                      1\n",
      "53                       1\n",
      "10                       1\n",
      "70                       1\n",
      "Under 18                 1\n",
      "over 45                  1\n",
      "43                       1\n",
      "20yr                     1\n",
      "66                       1\n",
      "Very young               1\n",
      "22                       1\n",
      "39                       1\n",
      "54 years old             1\n",
      "40 some year old         1\n",
      "56                       1\n",
      "15 yrs old               1\n",
      "Name: count, dtype: int64\n"
     ]
    }
   ],
   "source": [
    "result = (df.copy()\n",
    "          .query(\"coherence_and_clarity_of_review in ['High', 'Medium']\")\n",
    "           .age_of_user.value_counts())\n",
    "\n",
    "print(result)\n"
   ]
  },
  {
   "cell_type": "code",
   "execution_count": 101,
   "metadata": {},
   "outputs": [
    {
     "name": "stdout",
     "output_type": "stream",
     "text": [
      "(1323, 42)\n"
     ]
    }
   ],
   "source": [
    "# names = df['name_user_gave_ai'].value_counts()\n",
    "# names.to_csv('replika_names.csv')\n",
    "\n",
    "result = (df.copy()\n",
    "          .query(\"name_user_gave_ai not in ['Not Mentioned', 'Replika', 'replika', 'Replica', 'replica', 'REPLIKA', 'repliKa']\")\n",
    "          .shape)\n",
    "\n",
    "print(result)"
   ]
  }
 ],
 "metadata": {
  "kernelspec": {
   "display_name": "Python 3",
   "language": "python",
   "name": "python3"
  },
  "language_info": {
   "codemirror_mode": {
    "name": "ipython",
    "version": 3
   },
   "file_extension": ".py",
   "mimetype": "text/x-python",
   "name": "python",
   "nbconvert_exporter": "python",
   "pygments_lexer": "ipython3",
   "version": "3.11.4"
  }
 },
 "nbformat": 4,
 "nbformat_minor": 2
}
